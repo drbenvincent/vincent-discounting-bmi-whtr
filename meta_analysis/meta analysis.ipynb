{
  "cells": [
    {
      "cell_type": "markdown",
      "source": [
        "# Meta analysis"
      ],
      "metadata": {}
    },
    {
      "cell_type": "code",
      "source": [
        "# Install Black autoformatter with: pip install nb-black\n",
        "%load_ext lab_black"
      ],
      "outputs": [],
      "execution_count": 1,
      "metadata": {}
    },
    {
      "cell_type": "code",
      "source": [
        "%load_ext autoreload\n",
        "%autoreload 2"
      ],
      "outputs": [],
      "execution_count": 2,
      "metadata": {}
    },
    {
      "cell_type": "code",
      "source": [
        "import pandas as pd\n",
        "import numpy as np\n",
        "import pymc3 as pm\n",
        "import arviz as az\n",
        "import matplotlib.pyplot as plt\n",
        "\n",
        "%config InlineBackend.figure_format = 'retina'"
      ],
      "outputs": [],
      "execution_count": 3,
      "metadata": {}
    },
    {
      "cell_type": "markdown",
      "source": [
        "# Build meta analysis datasets"
      ],
      "metadata": {}
    },
    {
      "cell_type": "markdown",
      "source": [
        "## Create `bmi ~ age + logk_money` dataset"
      ],
      "metadata": {}
    },
    {
      "cell_type": "code",
      "source": [
        "vv = pd.read_csv(\"../veillard_vincent_2020_reanalysis/veillard_vincent_2020_data.csv\")\n",
        "\n",
        "# rename columns to be consistent with Study 1 and Study 2\n",
        "vv.rename({\"bmi\": \"BMI\", \"logk_money\": \"logk_mcq\"}, axis=\"columns\", inplace=True)\n",
        "# select the columns we really want\n",
        "vv = vv[[\"age\", \"sex\", \"BMI\", \"logk_mcq\"]]\n",
        "\n",
        "# truncate outside bounds of sensitivity\n",
        "truncate = (vv.logk_mcq < -8.5) | (vv.logk_mcq > -1.5)\n",
        "vv.logk_mcq[truncate] = np.nan\n",
        "\n",
        "# drop participants with missing logk_mcq values\n",
        "vv = vv[vv[\"logk_mcq\"].notna()]\n",
        "# drop participants with missing BMI values\n",
        "vv = vv[vv[\"BMI\"].notna()]"
      ],
      "outputs": [],
      "execution_count": null,
      "metadata": {}
    },
    {
      "cell_type": "code",
      "source": [
        "study1 = pd.read_csv(\"../data/04 final data/study1_final_data.csv\")\n",
        "study1.head()\n",
        "\n",
        "# select the columns we really want\n",
        "study1 = study1[[\"age\", \"sex\", \"BMI\", \"logk_mcq\"]]\n",
        "# drop participants with missing logk_mcq values\n",
        "study1 = study1[study1[\"logk_mcq\"].notna()]\n",
        "# drop participants with missing BMI values\n",
        "study1 = study1[study1[\"BMI\"].notna()]"
      ],
      "outputs": [],
      "execution_count": null,
      "metadata": {}
    },
    {
      "cell_type": "code",
      "source": [
        "# concatenate datasets\n",
        "final = pd.concat([vv, study1], ignore_index=True)\n",
        "final"
      ],
      "outputs": [],
      "execution_count": null,
      "metadata": {}
    },
    {
      "cell_type": "code",
      "source": [
        "final.to_csv(\"meta_analysis_logk_mcq.csv\", index=False)"
      ],
      "outputs": [],
      "execution_count": null,
      "metadata": {}
    },
    {
      "cell_type": "markdown",
      "source": [
        "## Create `bmi ~ age + logk_food` dataset"
      ],
      "metadata": {}
    },
    {
      "cell_type": "code",
      "source": [
        "study1 = pd.read_csv(\"../data/04 final data/study1_final_data.csv\")\n",
        "study1.head()\n",
        "\n",
        "# select the columns we really want\n",
        "study1 = study1[[\"age\", \"sex\", \"BMI\", \"logk_fcq\"]]\n",
        "\n",
        "# truncate\n",
        "# DO TRUNCATION HERE !!!!!!!!!!!!!!!!!!!!!!!!!!!!!!!!!!!!!!!!!!!!!!!!!!!!!!!!!!!\n",
        "\n",
        "# drop participants with missing logk_mcq values\n",
        "study1 = study1[study1[\"logk_fcq\"].notna()]\n",
        "# drop participants with missing BMI values\n",
        "study1 = study1[study1[\"BMI\"].notna()]"
      ],
      "outputs": [],
      "execution_count": null,
      "metadata": {}
    },
    {
      "cell_type": "code",
      "source": [
        "fig, ax = plt.subplots(1, 1, figsize=(12, 4))\n",
        "\n",
        "ax.hist(study1.logk_fcq.values, 50)\n",
        "ax.set(xlabel=\"MCQ\")"
      ],
      "outputs": [],
      "execution_count": null,
      "metadata": {}
    },
    {
      "cell_type": "code",
      "source": [
        "study2 = pd.read_csv(\"../data/04 final data/study2_final_data.csv\")\n",
        "study2.head()\n",
        "\n",
        "# select the columns we really want\n",
        "study2 = study2[[\"age\", \"sex\", \"BMI\", \"logk_fcq\"]]\n",
        "# drop participants with missing logk_mcq values\n",
        "study2 = study2[study2[\"logk_fcq\"].notna()]\n",
        "# drop participants with missing BMI values\n",
        "study2 = study2[study2[\"BMI\"].notna()]"
      ],
      "outputs": [],
      "execution_count": null,
      "metadata": {}
    },
    {
      "cell_type": "code",
      "source": [
        "# concatenate datasets\n",
        "final = pd.concat([study1, study2], ignore_index=True)\n",
        "final"
      ],
      "outputs": [],
      "execution_count": null,
      "metadata": {}
    },
    {
      "cell_type": "code",
      "source": [
        "final.to_csv(\"meta_analysis_logk_fcq.csv\", index=False)"
      ],
      "outputs": [],
      "execution_count": null,
      "metadata": {}
    },
    {
      "cell_type": "markdown",
      "source": [
        "## Create `bmi ~ age + logk_weight` dataset"
      ],
      "metadata": {}
    },
    {
      "cell_type": "code",
      "source": [
        "vv = pd.read_csv(\"../veillard_vincent_2020_reanalysis/veillard_vincent_2020_data.csv\")\n",
        "\n",
        "# rename columns to be consistent with Study 1 and Study 2\n",
        "vv.rename({\"bmi\": \"BMI\", \"logk_weight\": \"logk_wcq\"}, axis=\"columns\", inplace=True)\n",
        "# select the columns we really want\n",
        "vv = vv[[\"age\", \"sex\", \"BMI\", \"logk_wcq\"]]"
      ],
      "outputs": [],
      "execution_count": 4,
      "metadata": {}
    },
    {
      "cell_type": "code",
      "source": [
        "plt.hist(vv.logk_wcq, 50)"
      ],
      "outputs": [
        {
          "output_type": "execute_result",
          "execution_count": 6,
          "data": {
            "text/plain": "(array([15.,  1.,  1.,  2.,  0.,  2.,  1.,  1.,  1.,  1.,  0.,  4.,  0.,\n         1.,  1.,  5., 13.,  3.,  2.,  6., 13., 10., 12., 16., 14., 12.,\n        15., 17.,  9., 10.,  6., 19.,  4.,  8.,  4.,  5.,  9.,  1.,  3.,\n         0.,  0.,  3.,  0.,  0.,  0.,  0.,  0.,  0.,  1.,  6.]),\n array([-7.71294769, -7.57316231, -7.43337693, -7.29359154, -7.15380616,\n        -7.01402078, -6.8742354 , -6.73445002, -6.59466464, -6.45487925,\n        -6.31509387, -6.17530849, -6.03552311, -5.89573773, -5.75595235,\n        -5.61616696, -5.47638158, -5.3365962 , -5.19681082, -5.05702544,\n        -4.91724006, -4.77745467, -4.63766929, -4.49788391, -4.35809853,\n        -4.21831315, -4.07852777, -3.93874239, -3.798957  , -3.65917162,\n        -3.51938624, -3.37960086, -3.23981548, -3.1000301 , -2.96024471,\n        -2.82045933, -2.68067395, -2.54088857, -2.40110319, -2.26131781,\n        -2.12153242, -1.98174704, -1.84196166, -1.70217628, -1.5623909 ,\n        -1.42260552, -1.28282013, -1.14303475, -1.00324937, -0.86346399,\n        -0.72367861]),\n <a list of 50 Patch objects>)"
          },
          "metadata": {}
        },
        {
          "output_type": "display_data",
          "data": {
            "image/png": "[encoded data removed]",
            "text/plain": "<Figure size 432x288 with 1 Axes>"
          },
          "metadata": {
            "image/png": {
              "height": 248,
              "width": 378
            },
            "needs_background": "light"
          }
        }
      ],
      "execution_count": 6,
      "metadata": {}
    },
    {
      "cell_type": "code",
      "source": [
        "vv = pd.read_csv(\"../veillard_vincent_2020_reanalysis/veillard_vincent_2020_data.csv\")\n",
        "\n",
        "# rename columns to be consistent with Study 1 and Study 2\n",
        "vv.rename({\"bmi\": \"BMI\", \"logk_weight\": \"logk_wcq\"}, axis=\"columns\", inplace=True)\n",
        "# select the columns we really want\n",
        "vv = vv[[\"age\", \"sex\", \"BMI\", \"logk_wcq\"]]\n",
        "\n",
        "# truncate\n",
        "truncate = (vv.logk_wcq < -7) | (vv.logk_wcq > -1.5)\n",
        "vv.logk_wcq[truncate] = np.nan\n",
        "\n",
        "# drop participants with missing logk_wcq values\n",
        "vv = vv[vv[\"logk_wcq\"].notna()]\n",
        "# drop participants with missing BMI values\n",
        "vv = vv[vv[\"BMI\"].notna()]"
      ],
      "outputs": [],
      "execution_count": 7,
      "metadata": {}
    },
    {
      "cell_type": "code",
      "source": [
        "plt.hist(vv.logk_wcq, 50)"
      ],
      "outputs": [
        {
          "output_type": "execute_result",
          "execution_count": 8,
          "data": {
            "text/plain": "(array([ 2.,  1.,  1.,  0.,  0.,  2.,  0.,  0.,  3.,  1.,  0.,  1.,  0.,\n         2.,  4., 13.,  1.,  2.,  4.,  4.,  4., 11.,  9., 10.,  9.,  8.,\n        14., 10.,  9., 17.,  8.,  9.,  4.,  7.,  4., 12.,  8.,  4.,  8.,\n         1.,  3.,  6.,  8.,  0.,  2.,  2.,  0.,  0.,  2.,  1.]),\n array([-6.99748955, -6.89457412, -6.79165868, -6.68874324, -6.58582781,\n        -6.48291237, -6.37999694, -6.2770815 , -6.17416606, -6.07125063,\n        -5.96833519, -5.86541976, -5.76250432, -5.65958888, -5.55667345,\n        -5.45375801, -5.35084257, -5.24792714, -5.1450117 , -5.04209627,\n        -4.93918083, -4.83626539, -4.73334996, -4.63043452, -4.52751909,\n        -4.42460365, -4.32168821, -4.21877278, -4.11585734, -4.01294191,\n        -3.91002647, -3.80711103, -3.7041956 , -3.60128016, -3.49836473,\n        -3.39544929, -3.29253385, -3.18961842, -3.08670298, -2.98378755,\n        -2.88087211, -2.77795667, -2.67504124, -2.5721258 , -2.46921037,\n        -2.36629493, -2.26337949, -2.16046406, -2.05754862, -1.95463318,\n        -1.85171775]),\n <a list of 50 Patch objects>)"
          },
          "metadata": {}
        },
        {
          "output_type": "display_data",
          "data": {
            "image/png": "[encoded data removed]",
            "text/plain": "<Figure size 432x288 with 1 Axes>"
          },
          "metadata": {
            "image/png": {
              "height": 248,
              "width": 369
            },
            "needs_background": "light"
          }
        }
      ],
      "execution_count": 8,
      "metadata": {}
    },
    {
      "cell_type": "code",
      "source": [
        "vv"
      ],
      "outputs": [
        {
          "output_type": "execute_result",
          "execution_count": 11,
          "data": {
            "text/html": "<div>\n<style scoped>\n    .dataframe tbody tr th:only-of-type {\n        vertical-align: middle;\n    }\n\n    .dataframe tbody tr th {\n        vertical-align: top;\n    }\n\n    .dataframe thead th {\n        text-align: right;\n    }\n</style>\n<table border=\"1\" class=\"dataframe\">\n  <thead>\n    <tr style=\"text-align: right;\">\n      <th></th>\n      <th>age</th>\n      <th>sex</th>\n      <th>BMI</th>\n      <th>logk_wcq</th>\n    </tr>\n  </thead>\n  <tbody>\n    <tr>\n      <th>0</th>\n      <td>24</td>\n      <td>male</td>\n      <td>14.06</td>\n      <td>-2.754500</td>\n    </tr>\n    <tr>\n      <th>1</th>\n      <td>20</td>\n      <td>female</td>\n      <td>16.19</td>\n      <td>-2.760381</td>\n    </tr>\n    <tr>\n      <th>3</th>\n      <td>20</td>\n      <td>female</td>\n      <td>16.65</td>\n      <td>-5.402992</td>\n    </tr>\n    <tr>\n      <th>4</th>\n      <td>20</td>\n      <td>female</td>\n      <td>17.57</td>\n      <td>-5.130899</td>\n    </tr>\n    <tr>\n      <th>5</th>\n      <td>19</td>\n      <td>female</td>\n      <td>17.63</td>\n      <td>-3.936232</td>\n    </tr>\n    <tr>\n      <th>...</th>\n      <td>...</td>\n      <td>...</td>\n      <td>...</td>\n      <td>...</td>\n    </tr>\n    <tr>\n      <th>252</th>\n      <td>37</td>\n      <td>female</td>\n      <td>50.67</td>\n      <td>-3.648771</td>\n    </tr>\n    <tr>\n      <th>253</th>\n      <td>51</td>\n      <td>female</td>\n      <td>50.79</td>\n      <td>-3.404230</td>\n    </tr>\n    <tr>\n      <th>254</th>\n      <td>21</td>\n      <td>female</td>\n      <td>52.80</td>\n      <td>-4.607212</td>\n    </tr>\n    <tr>\n      <th>255</th>\n      <td>36</td>\n      <td>female</td>\n      <td>56.68</td>\n      <td>-4.749219</td>\n    </tr>\n    <tr>\n      <th>256</th>\n      <td>55</td>\n      <td>male</td>\n      <td>63.98</td>\n      <td>-3.564913</td>\n    </tr>\n  </tbody>\n</table>\n<p>231 rows × 4 columns</p>\n</div>",
            "text/plain": "     age     sex    BMI  logk_wcq\n0     24    male  14.06 -2.754500\n1     20  female  16.19 -2.760381\n3     20  female  16.65 -5.402992\n4     20  female  17.57 -5.130899\n5     19  female  17.63 -3.936232\n..   ...     ...    ...       ...\n252   37  female  50.67 -3.648771\n253   51  female  50.79 -3.404230\n254   21  female  52.80 -4.607212\n255   36  female  56.68 -4.749219\n256   55    male  63.98 -3.564913\n\n[231 rows x 4 columns]"
          },
          "metadata": {}
        }
      ],
      "execution_count": 11,
      "metadata": {}
    },
    {
      "cell_type": "code",
      "source": [
        "study2 = pd.read_csv(\"../data/04 final data/study2_final_data.csv\")\n",
        "study2.head()\n",
        "\n",
        "# select the columns we really want\n",
        "study2 = study2[[\"age\", \"sex\", \"BMI\", \"logk_wcq\"]]\n",
        "# drop participants with missing logk_mcq values\n",
        "study2 = study2[study2[\"logk_wcq\"].notna()]\n",
        "# drop participants with missing BMI values\n",
        "study2 = study2[study2[\"BMI\"].notna()]"
      ],
      "outputs": [],
      "execution_count": 12,
      "metadata": {}
    },
    {
      "cell_type": "code",
      "source": [
        "# concatenate datasets\n",
        "final = pd.concat([vv, study2], ignore_index=True)\n",
        "final"
      ],
      "outputs": [
        {
          "output_type": "execute_result",
          "execution_count": 13,
          "data": {
            "text/html": "<div>\n<style scoped>\n    .dataframe tbody tr th:only-of-type {\n        vertical-align: middle;\n    }\n\n    .dataframe tbody tr th {\n        vertical-align: top;\n    }\n\n    .dataframe thead th {\n        text-align: right;\n    }\n</style>\n<table border=\"1\" class=\"dataframe\">\n  <thead>\n    <tr style=\"text-align: right;\">\n      <th></th>\n      <th>age</th>\n      <th>sex</th>\n      <th>BMI</th>\n      <th>logk_wcq</th>\n    </tr>\n  </thead>\n  <tbody>\n    <tr>\n      <th>0</th>\n      <td>24</td>\n      <td>male</td>\n      <td>14.060</td>\n      <td>-2.754500</td>\n    </tr>\n    <tr>\n      <th>1</th>\n      <td>20</td>\n      <td>female</td>\n      <td>16.190</td>\n      <td>-2.760381</td>\n    </tr>\n    <tr>\n      <th>2</th>\n      <td>20</td>\n      <td>female</td>\n      <td>16.650</td>\n      <td>-5.402992</td>\n    </tr>\n    <tr>\n      <th>3</th>\n      <td>20</td>\n      <td>female</td>\n      <td>17.570</td>\n      <td>-5.130899</td>\n    </tr>\n    <tr>\n      <th>4</th>\n      <td>19</td>\n      <td>female</td>\n      <td>17.630</td>\n      <td>-3.936232</td>\n    </tr>\n    <tr>\n      <th>...</th>\n      <td>...</td>\n      <td>...</td>\n      <td>...</td>\n      <td>...</td>\n    </tr>\n    <tr>\n      <th>472</th>\n      <td>27</td>\n      <td>female</td>\n      <td>21.094</td>\n      <td>-4.104936</td>\n    </tr>\n    <tr>\n      <th>473</th>\n      <td>18</td>\n      <td>female</td>\n      <td>19.133</td>\n      <td>-4.853330</td>\n    </tr>\n    <tr>\n      <th>474</th>\n      <td>23</td>\n      <td>female</td>\n      <td>23.052</td>\n      <td>-1.888877</td>\n    </tr>\n    <tr>\n      <th>475</th>\n      <td>24</td>\n      <td>female</td>\n      <td>33.673</td>\n      <td>-2.695028</td>\n    </tr>\n    <tr>\n      <th>476</th>\n      <td>20</td>\n      <td>female</td>\n      <td>19.253</td>\n      <td>-1.541766</td>\n    </tr>\n  </tbody>\n</table>\n<p>477 rows × 4 columns</p>\n</div>",
            "text/plain": "     age     sex     BMI  logk_wcq\n0     24    male  14.060 -2.754500\n1     20  female  16.190 -2.760381\n2     20  female  16.650 -5.402992\n3     20  female  17.570 -5.130899\n4     19  female  17.630 -3.936232\n..   ...     ...     ...       ...\n472   27  female  21.094 -4.104936\n473   18  female  19.133 -4.853330\n474   23  female  23.052 -1.888877\n475   24  female  33.673 -2.695028\n476   20  female  19.253 -1.541766\n\n[477 rows x 4 columns]"
          },
          "metadata": {}
        }
      ],
      "execution_count": 13,
      "metadata": {}
    },
    {
      "cell_type": "code",
      "source": [
        "final.to_csv(\"meta_analysis_logk_wcq.csv\", index=False)"
      ],
      "outputs": [],
      "execution_count": null,
      "metadata": {}
    }
  ],
  "metadata": {
    "kernelspec": {
      "display_name": "Python 3",
      "language": "python",
      "name": "python3"
    },
    "language_info": {
      "codemirror_mode": {
        "name": "ipython",
        "version": 3
      },
      "file_extension": ".py",
      "mimetype": "text/x-python",
      "name": "python",
      "nbconvert_exporter": "python",
      "pygments_lexer": "ipython3",
      "version": "3.7.4"
    },
    "nteract": {
      "version": "0.27.0"
    }
  },
  "nbformat": 4,
  "nbformat_minor": 4
}