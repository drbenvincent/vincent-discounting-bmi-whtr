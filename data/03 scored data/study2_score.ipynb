{
 "cells": [
  {
   "cell_type": "markdown",
   "metadata": {},
   "source": [
    "# Scoring of MCQ and FCQ from Amy's data\n",
    "We will read in raw response data, combine with the WCQ and FCQ questions, and score each. This will result in a $\\log(k)$ score for each participant for the WCQ and the FCQ.\n",
    "\n",
    "WCQ = Lim & Bruce.\n",
    "\n",
    "FCQ = Hendrickson et al (2015)\n",
    "\n",
    "Information about use of `pm.Data` containers can be found here https://docs.pymc.io/notebooks/data_container.html. "
   ]
  },
  {
   "cell_type": "code",
   "execution_count": 1,
   "metadata": {},
   "outputs": [],
   "source": [
    "# Install Black autoformatter with: pip install nb-black\n",
    "%load_ext lab_black\n",
    "\n",
    "import pymc3 as pm\n",
    "\n",
    "import numpy as np\n",
    "import pandas as pd\n",
    "\n",
    "# plotting\n",
    "%config InlineBackend.figure_format = 'retina'\n",
    "import matplotlib.pyplot as plt\n",
    "\n",
    "plt.rcParams.update({\"font.size\": 14})"
   ]
  },
  {
   "cell_type": "markdown",
   "metadata": {},
   "source": [
    "# Define options"
   ]
  },
  {
   "cell_type": "code",
   "execution_count": 2,
   "metadata": {},
   "outputs": [],
   "source": [
    "SEED = 12345\n",
    "\n",
    "# Define sampler options\n",
    "sample_options = {\n",
    "    \"tune\": 2000,\n",
    "    \"draws\": 2000,\n",
    "    \"chains\": 2,\n",
    "    \"cores\": 2,\n",
    "    \"nuts_kwargs\": {\"target_accept\": 0.95},\n",
    "    \"random_seed\": SEED,\n",
    "}"
   ]
  },
  {
   "cell_type": "markdown",
   "metadata": {},
   "source": [
    "# Define plotting functions"
   ]
  },
  {
   "cell_type": "code",
   "execution_count": 3,
   "metadata": {},
   "outputs": [],
   "source": [
    "def plot_discount_func(ax, data, trace):\n",
    "    delays = np.linspace(0, np.max(data.DB.values), 1000)\n",
    "\n",
    "    # plot posterior mean\n",
    "    k = np.exp(np.mean(trace[\"logk\"]))\n",
    "    ax.plot(delays, discount_function(delays, k), lw=4)\n",
    "\n",
    "    # plot 95% region\n",
    "    p = np.percentile(np.exp(trace[\"logk\"]), [5 / 2, 100 - (5 / 2)])\n",
    "    ax.fill_between(\n",
    "        delays,\n",
    "        discount_function(delays, p[0]),\n",
    "        discount_function(delays, p[1]),\n",
    "        alpha=0.2,\n",
    "    )"
   ]
  },
  {
   "cell_type": "code",
   "execution_count": 4,
   "metadata": {},
   "outputs": [],
   "source": [
    "def plot_data(data, ax=None):\n",
    "\n",
    "    if ax is None:\n",
    "        ax = plt.gca()\n",
    "\n",
    "    D = data[\"R\"] == 1\n",
    "    I = data[\"R\"] == 0\n",
    "\n",
    "    if np.sum(D) > 0:\n",
    "        ax.scatter(\n",
    "            x=data[\"DB\"][D],\n",
    "            y=data[\"RA\"][D] / data[\"RB\"][D],\n",
    "            c=\"k\",\n",
    "            edgecolors=\"k\",\n",
    "            label=\"chose delayed prospect\",\n",
    "        )\n",
    "    if np.sum(I) > 0:\n",
    "        ax.scatter(\n",
    "            x=data[\"DB\"][I],\n",
    "            y=data[\"RA\"][I] / data[\"RB\"][I],\n",
    "            c=\"w\",\n",
    "            edgecolors=\"k\",\n",
    "            label=\"chose immediate prospect\",\n",
    "        )\n",
    "\n",
    "    ax.set(\n",
    "        xlabel=\"DB\", ylabel=\"RA/RB\", ylim=[0, 1], xlim=[0, 1.05 * np.max(data[\"DB\"])]\n",
    "    )"
   ]
  },
  {
   "cell_type": "code",
   "execution_count": 5,
   "metadata": {},
   "outputs": [],
   "source": [
    "def plot_questions(data, ax=None):\n",
    "\n",
    "    if ax is None:\n",
    "        ax = plt.gca()\n",
    "\n",
    "    ax.scatter(x=data[\"DB\"], y=data[\"RA\"] / data[\"RB\"])\n",
    "    ax.set(\n",
    "        xlabel=\"DB\", ylabel=\"RA/RB\", ylim=[0, 1], xlim=[0, 1.05 * np.max(data[\"DB\"])]\n",
    "    )"
   ]
  },
  {
   "cell_type": "markdown",
   "metadata": {},
   "source": [
    "# Load raw data"
   ]
  },
  {
   "cell_type": "code",
   "execution_count": 6,
   "metadata": {},
   "outputs": [],
   "source": [
    "data = pd.read_csv(\"../02 processed data/study2_processed.csv\")"
   ]
  },
  {
   "cell_type": "markdown",
   "metadata": {},
   "source": [
    "# Read in question values from WCQ and FCQ\n",
    "We need the delay and reward values for the WCQ and the FCQ. We will read these in from `.csv` files."
   ]
  },
  {
   "cell_type": "code",
   "execution_count": 7,
   "metadata": {},
   "outputs": [
    {
     "data": {
      "image/png": "[encoded data removed]",
      "text/plain": [
       "<Figure size 432x288 with 1 Axes>"
      ]
     },
     "metadata": {
      "image/png": {
       "height": 276,
       "width": 396
      },
      "needs_background": "light"
     },
     "output_type": "display_data"
    }
   ],
   "source": [
    "wcq = pd.read_csv(\"../discounting questions/robyn_wcq.csv\")\n",
    "\n",
    "# IMPORTANT: Ensure rows are sorted by `order`\n",
    "wcq = wcq.sort_values(by=\"order\")\n",
    "\n",
    "plot_questions(wcq)"
   ]
  },
  {
   "cell_type": "code",
   "execution_count": 8,
   "metadata": {},
   "outputs": [
    {
     "data": {
      "text/html": [
       "<div>\n",
       "<style scoped>\n",
       "    .dataframe tbody tr th:only-of-type {\n",
       "        vertical-align: middle;\n",
       "    }\n",
       "\n",
       "    .dataframe tbody tr th {\n",
       "        vertical-align: top;\n",
       "    }\n",
       "\n",
       "    .dataframe thead th {\n",
       "        text-align: right;\n",
       "    }\n",
       "</style>\n",
       "<table border=\"1\" class=\"dataframe\">\n",
       "  <thead>\n",
       "    <tr style=\"text-align: right;\">\n",
       "      <th></th>\n",
       "      <th>i</th>\n",
       "      <th>order</th>\n",
       "      <th>RA</th>\n",
       "      <th>DA</th>\n",
       "      <th>RB</th>\n",
       "      <th>DB</th>\n",
       "      <th>mag</th>\n",
       "      <th>RA/RB</th>\n",
       "      <th>indifference k</th>\n",
       "    </tr>\n",
       "  </thead>\n",
       "  <tbody>\n",
       "    <tr>\n",
       "      <th>0</th>\n",
       "      <td>NaN</td>\n",
       "      <td>1</td>\n",
       "      <td>7</td>\n",
       "      <td>NaN</td>\n",
       "      <td>8</td>\n",
       "      <td>13</td>\n",
       "      <td>NaN</td>\n",
       "      <td>0.875</td>\n",
       "      <td>0.0110</td>\n",
       "    </tr>\n",
       "    <tr>\n",
       "      <th>1</th>\n",
       "      <td>NaN</td>\n",
       "      <td>2</td>\n",
       "      <td>3</td>\n",
       "      <td>NaN</td>\n",
       "      <td>5</td>\n",
       "      <td>2</td>\n",
       "      <td>NaN</td>\n",
       "      <td>0.600</td>\n",
       "      <td>0.3333</td>\n",
       "    </tr>\n",
       "    <tr>\n",
       "      <th>2</th>\n",
       "      <td>NaN</td>\n",
       "      <td>3</td>\n",
       "      <td>7</td>\n",
       "      <td>NaN</td>\n",
       "      <td>9</td>\n",
       "      <td>10</td>\n",
       "      <td>NaN</td>\n",
       "      <td>0.778</td>\n",
       "      <td>0.0286</td>\n",
       "    </tr>\n",
       "    <tr>\n",
       "      <th>3</th>\n",
       "      <td>NaN</td>\n",
       "      <td>4</td>\n",
       "      <td>6</td>\n",
       "      <td>NaN</td>\n",
       "      <td>8</td>\n",
       "      <td>7</td>\n",
       "      <td>NaN</td>\n",
       "      <td>0.750</td>\n",
       "      <td>0.0476</td>\n",
       "    </tr>\n",
       "    <tr>\n",
       "      <th>4</th>\n",
       "      <td>NaN</td>\n",
       "      <td>5</td>\n",
       "      <td>5</td>\n",
       "      <td>NaN</td>\n",
       "      <td>6</td>\n",
       "      <td>13</td>\n",
       "      <td>NaN</td>\n",
       "      <td>0.833</td>\n",
       "      <td>0.0154</td>\n",
       "    </tr>\n",
       "    <tr>\n",
       "      <th>5</th>\n",
       "      <td>NaN</td>\n",
       "      <td>6</td>\n",
       "      <td>2</td>\n",
       "      <td>NaN</td>\n",
       "      <td>4</td>\n",
       "      <td>3</td>\n",
       "      <td>NaN</td>\n",
       "      <td>0.500</td>\n",
       "      <td>0.3333</td>\n",
       "    </tr>\n",
       "    <tr>\n",
       "      <th>6</th>\n",
       "      <td>NaN</td>\n",
       "      <td>7</td>\n",
       "      <td>3</td>\n",
       "      <td>NaN</td>\n",
       "      <td>4</td>\n",
       "      <td>20</td>\n",
       "      <td>NaN</td>\n",
       "      <td>0.750</td>\n",
       "      <td>0.0167</td>\n",
       "    </tr>\n",
       "    <tr>\n",
       "      <th>7</th>\n",
       "      <td>NaN</td>\n",
       "      <td>8</td>\n",
       "      <td>2</td>\n",
       "      <td>NaN</td>\n",
       "      <td>6</td>\n",
       "      <td>1</td>\n",
       "      <td>NaN</td>\n",
       "      <td>0.333</td>\n",
       "      <td>2.0000</td>\n",
       "    </tr>\n",
       "    <tr>\n",
       "      <th>8</th>\n",
       "      <td>NaN</td>\n",
       "      <td>9</td>\n",
       "      <td>2</td>\n",
       "      <td>NaN</td>\n",
       "      <td>3</td>\n",
       "      <td>14</td>\n",
       "      <td>NaN</td>\n",
       "      <td>0.667</td>\n",
       "      <td>0.0357</td>\n",
       "    </tr>\n",
       "    <tr>\n",
       "      <th>9</th>\n",
       "      <td>NaN</td>\n",
       "      <td>10</td>\n",
       "      <td>1</td>\n",
       "      <td>NaN</td>\n",
       "      <td>3</td>\n",
       "      <td>2</td>\n",
       "      <td>NaN</td>\n",
       "      <td>0.333</td>\n",
       "      <td>1.0000</td>\n",
       "    </tr>\n",
       "    <tr>\n",
       "      <th>10</th>\n",
       "      <td>NaN</td>\n",
       "      <td>11</td>\n",
       "      <td>5</td>\n",
       "      <td>NaN</td>\n",
       "      <td>8</td>\n",
       "      <td>3</td>\n",
       "      <td>NaN</td>\n",
       "      <td>0.625</td>\n",
       "      <td>0.2000</td>\n",
       "    </tr>\n",
       "    <tr>\n",
       "      <th>11</th>\n",
       "      <td>NaN</td>\n",
       "      <td>12</td>\n",
       "      <td>2</td>\n",
       "      <td>NaN</td>\n",
       "      <td>3</td>\n",
       "      <td>1</td>\n",
       "      <td>NaN</td>\n",
       "      <td>0.667</td>\n",
       "      <td>0.5000</td>\n",
       "    </tr>\n",
       "    <tr>\n",
       "      <th>12</th>\n",
       "      <td>NaN</td>\n",
       "      <td>13</td>\n",
       "      <td>4</td>\n",
       "      <td>NaN</td>\n",
       "      <td>8</td>\n",
       "      <td>2</td>\n",
       "      <td>NaN</td>\n",
       "      <td>0.500</td>\n",
       "      <td>0.5000</td>\n",
       "    </tr>\n",
       "    <tr>\n",
       "      <th>13</th>\n",
       "      <td>NaN</td>\n",
       "      <td>14</td>\n",
       "      <td>3</td>\n",
       "      <td>NaN</td>\n",
       "      <td>6</td>\n",
       "      <td>2</td>\n",
       "      <td>NaN</td>\n",
       "      <td>0.500</td>\n",
       "      <td>0.5000</td>\n",
       "    </tr>\n",
       "    <tr>\n",
       "      <th>14</th>\n",
       "      <td>NaN</td>\n",
       "      <td>15</td>\n",
       "      <td>5</td>\n",
       "      <td>NaN</td>\n",
       "      <td>6</td>\n",
       "      <td>12</td>\n",
       "      <td>NaN</td>\n",
       "      <td>0.833</td>\n",
       "      <td>0.0167</td>\n",
       "    </tr>\n",
       "    <tr>\n",
       "      <th>15</th>\n",
       "      <td>NaN</td>\n",
       "      <td>16</td>\n",
       "      <td>1</td>\n",
       "      <td>NaN</td>\n",
       "      <td>3</td>\n",
       "      <td>1</td>\n",
       "      <td>NaN</td>\n",
       "      <td>0.333</td>\n",
       "      <td>2.0000</td>\n",
       "    </tr>\n",
       "    <tr>\n",
       "      <th>16</th>\n",
       "      <td>NaN</td>\n",
       "      <td>17</td>\n",
       "      <td>5</td>\n",
       "      <td>NaN</td>\n",
       "      <td>6</td>\n",
       "      <td>10</td>\n",
       "      <td>NaN</td>\n",
       "      <td>0.833</td>\n",
       "      <td>0.0200</td>\n",
       "    </tr>\n",
       "    <tr>\n",
       "      <th>17</th>\n",
       "      <td>NaN</td>\n",
       "      <td>18</td>\n",
       "      <td>3</td>\n",
       "      <td>NaN</td>\n",
       "      <td>9</td>\n",
       "      <td>1</td>\n",
       "      <td>NaN</td>\n",
       "      <td>0.333</td>\n",
       "      <td>2.0000</td>\n",
       "    </tr>\n",
       "    <tr>\n",
       "      <th>18</th>\n",
       "      <td>NaN</td>\n",
       "      <td>19</td>\n",
       "      <td>2</td>\n",
       "      <td>NaN</td>\n",
       "      <td>3</td>\n",
       "      <td>6</td>\n",
       "      <td>NaN</td>\n",
       "      <td>0.667</td>\n",
       "      <td>0.0833</td>\n",
       "    </tr>\n",
       "    <tr>\n",
       "      <th>19</th>\n",
       "      <td>NaN</td>\n",
       "      <td>20</td>\n",
       "      <td>4</td>\n",
       "      <td>NaN</td>\n",
       "      <td>6</td>\n",
       "      <td>7</td>\n",
       "      <td>NaN</td>\n",
       "      <td>0.667</td>\n",
       "      <td>0.0714</td>\n",
       "    </tr>\n",
       "    <tr>\n",
       "      <th>20</th>\n",
       "      <td>NaN</td>\n",
       "      <td>21</td>\n",
       "      <td>3</td>\n",
       "      <td>NaN</td>\n",
       "      <td>8</td>\n",
       "      <td>2</td>\n",
       "      <td>NaN</td>\n",
       "      <td>0.375</td>\n",
       "      <td>0.8333</td>\n",
       "    </tr>\n",
       "    <tr>\n",
       "      <th>21</th>\n",
       "      <td>NaN</td>\n",
       "      <td>22</td>\n",
       "      <td>3</td>\n",
       "      <td>NaN</td>\n",
       "      <td>5</td>\n",
       "      <td>3</td>\n",
       "      <td>NaN</td>\n",
       "      <td>0.600</td>\n",
       "      <td>0.2222</td>\n",
       "    </tr>\n",
       "    <tr>\n",
       "      <th>22</th>\n",
       "      <td>NaN</td>\n",
       "      <td>23</td>\n",
       "      <td>8</td>\n",
       "      <td>NaN</td>\n",
       "      <td>9</td>\n",
       "      <td>17</td>\n",
       "      <td>NaN</td>\n",
       "      <td>0.889</td>\n",
       "      <td>0.0074</td>\n",
       "    </tr>\n",
       "  </tbody>\n",
       "</table>\n",
       "</div>"
      ],
      "text/plain": [
       "     i  order  RA  DA  RB  DB  mag  RA/RB  indifference k\n",
       "0  NaN      1   7 NaN   8  13  NaN  0.875          0.0110\n",
       "1  NaN      2   3 NaN   5   2  NaN  0.600          0.3333\n",
       "2  NaN      3   7 NaN   9  10  NaN  0.778          0.0286\n",
       "3  NaN      4   6 NaN   8   7  NaN  0.750          0.0476\n",
       "4  NaN      5   5 NaN   6  13  NaN  0.833          0.0154\n",
       "5  NaN      6   2 NaN   4   3  NaN  0.500          0.3333\n",
       "6  NaN      7   3 NaN   4  20  NaN  0.750          0.0167\n",
       "7  NaN      8   2 NaN   6   1  NaN  0.333          2.0000\n",
       "8  NaN      9   2 NaN   3  14  NaN  0.667          0.0357\n",
       "9  NaN     10   1 NaN   3   2  NaN  0.333          1.0000\n",
       "10 NaN     11   5 NaN   8   3  NaN  0.625          0.2000\n",
       "11 NaN     12   2 NaN   3   1  NaN  0.667          0.5000\n",
       "12 NaN     13   4 NaN   8   2  NaN  0.500          0.5000\n",
       "13 NaN     14   3 NaN   6   2  NaN  0.500          0.5000\n",
       "14 NaN     15   5 NaN   6  12  NaN  0.833          0.0167\n",
       "15 NaN     16   1 NaN   3   1  NaN  0.333          2.0000\n",
       "16 NaN     17   5 NaN   6  10  NaN  0.833          0.0200\n",
       "17 NaN     18   3 NaN   9   1  NaN  0.333          2.0000\n",
       "18 NaN     19   2 NaN   3   6  NaN  0.667          0.0833\n",
       "19 NaN     20   4 NaN   6   7  NaN  0.667          0.0714\n",
       "20 NaN     21   3 NaN   8   2  NaN  0.375          0.8333\n",
       "21 NaN     22   3 NaN   5   3  NaN  0.600          0.2222\n",
       "22 NaN     23   8 NaN   9  17  NaN  0.889          0.0074"
      ]
     },
     "execution_count": 8,
     "metadata": {},
     "output_type": "execute_result"
    }
   ],
   "source": [
    "wcq"
   ]
  },
  {
   "cell_type": "code",
   "execution_count": 9,
   "metadata": {},
   "outputs": [
    {
     "data": {
      "image/png": "[encoded data removed]",
      "text/plain": [
       "<Figure size 432x288 with 1 Axes>"
      ]
     },
     "metadata": {
      "image/png": {
       "height": 276,
       "width": 402
      },
      "needs_background": "light"
     },
     "output_type": "display_data"
    }
   ],
   "source": [
    "fcq = pd.read_csv(\"../discounting questions/robyn_fcq.csv\")\n",
    "\n",
    "# IMPORTANT: Ensure rows are sorted by `order`\n",
    "fcq = fcq.sort_values(by=\"order\")\n",
    "\n",
    "plot_questions(fcq)"
   ]
  },
  {
   "cell_type": "markdown",
   "metadata": {},
   "source": [
    "## Data extraction functions\n",
    "These functions will get the responses from the raw data file, and combine them together with the MCQ or WCQ questions we imported."
   ]
  },
  {
   "cell_type": "code",
   "execution_count": 10,
   "metadata": {},
   "outputs": [],
   "source": [
    "def extract_WCQ_data(data, row):\n",
    "    id = data.iloc[row, :].URN\n",
    "    df = wcq\n",
    "    df[\"R\"] = (data.iloc[row, data.columns.str.contains(\"WCQ\")] - 1).values\n",
    "    # force to be numeric\n",
    "    df = df.astype(float)\n",
    "    return (id, df)"
   ]
  },
  {
   "cell_type": "code",
   "execution_count": 11,
   "metadata": {},
   "outputs": [],
   "source": [
    "def extract_FCQ_data(data, row):\n",
    "    id = data.iloc[row, :].URN\n",
    "    df = fcq\n",
    "    df[\"R\"] = (data.iloc[row, data.columns.str.contains(\"FCQ\")] - 1).values\n",
    "    # force to be numeric\n",
    "    df = df.astype(float)\n",
    "    return (id, df)"
   ]
  },
  {
   "cell_type": "code",
   "execution_count": 12,
   "metadata": {},
   "outputs": [],
   "source": [
    "# # in order to build the model we need some example data\n",
    "# participant = 0\n",
    "# temp_trial_data = extract_FCQ_data(data, participant)[1]\n",
    "# temp_trial_data"
   ]
  },
  {
   "cell_type": "markdown",
   "metadata": {},
   "source": [
    "# Build our Bayesian model\n",
    "We will use the `pm.Data` class so that we can build one model only, then use it multiple times to fit data from each participant seperately. This should make things more efficient, avoiding building the same model hundreds of times."
   ]
  },
  {
   "cell_type": "code",
   "execution_count": 13,
   "metadata": {},
   "outputs": [],
   "source": [
    "def V(reward, delay, logk):\n",
    "    \"\"\"Calculate the present subjective value of a given prospect\"\"\"\n",
    "    k = pm.math.exp(logk)\n",
    "    return reward * discount_function(delay, k)\n",
    "\n",
    "\n",
    "def discount_function(delay, k):\n",
    "    \"\"\" Hyperbolic discount function \"\"\"\n",
    "    return 1 / (1.0 + (k * delay))\n",
    "\n",
    "\n",
    "def Φ(VA, VB, ϵ=0.01):\n",
    "    \"\"\"Psychometric function which converts the decision variable (VB-VA)\n",
    "    into a reponse probability. Output corresponds to probability of choosing\n",
    "    the delayed reward (option B).\"\"\"\n",
    "    return ϵ + (1.0 - 2.0 * ϵ) * (1 / (1 + pm.math.exp(-1.7 * (VB - VA))))"
   ]
  },
  {
   "cell_type": "code",
   "execution_count": 14,
   "metadata": {},
   "outputs": [],
   "source": [
    "def build_model(data):\n",
    "    with pm.Model() as model:\n",
    "\n",
    "        # data nodes\n",
    "        RA = pm.Data(\"RA\", data.RA.values)\n",
    "        RB = pm.Data(\"RB\", data.RB.values)\n",
    "        DB = pm.Data(\"DB\", data.DB.values)\n",
    "        R = pm.Data(\"R\", data.R.values)\n",
    "\n",
    "        # prior\n",
    "        logk = pm.Normal(\"logk\", mu=-3, sd=2)\n",
    "\n",
    "        # response probability\n",
    "        P = pm.Deterministic(\"P\", Φ(RA, V(RB, DB, logk)))\n",
    "\n",
    "        # likelihood\n",
    "        response = pm.Bernoulli(\"response\", p=P, observed=R)\n",
    "\n",
    "    return model"
   ]
  },
  {
   "cell_type": "code",
   "execution_count": 15,
   "metadata": {},
   "outputs": [],
   "source": [
    "def score_participant(data, plot=False):\n",
    "    \"\"\"Our core function to score a participant\"\"\"\n",
    "\n",
    "    with model:\n",
    "        # set the data\n",
    "        pm.set_data({\"RA\": data.RA, \"RB\": data.RB, \"DB\": data.DB, \"R\": data.R})\n",
    "\n",
    "        # do the sampling\n",
    "        trace = pm.sample(**sample_options)\n",
    "\n",
    "    logk_mean = np.mean(trace[\"logk\"])\n",
    "\n",
    "    if plot:\n",
    "        fig, ax = plt.subplots(figsize=(6, 4))\n",
    "        plot_data(data, ax=ax)\n",
    "        plot_discount_func(ax, data, trace)\n",
    "        plt.show()\n",
    "\n",
    "    return logk_mean"
   ]
  },
  {
   "cell_type": "markdown",
   "metadata": {},
   "source": [
    "# Score FCQ"
   ]
  },
  {
   "cell_type": "code",
   "execution_count": 16,
   "metadata": {},
   "outputs": [],
   "source": [
    "# in order to build the model we need some example data\n",
    "participant = 0\n",
    "temp_trial_data = extract_FCQ_data(data, participant)[1]\n",
    "temp_trial_data\n",
    "\n",
    "# Now build the model at last\n",
    "model = build_model(temp_trial_data)"
   ]
  },
  {
   "cell_type": "code",
   "execution_count": 17,
   "metadata": {},
   "outputs": [
    {
     "data": {
      "image/svg+xml": [
       "<?xml version=\"1.0\" encoding=\"UTF-8\" standalone=\"no\"?>\n",
       "<!DOCTYPE svg PUBLIC \"-//W3C//DTD SVG 1.1//EN\"\n",
       " \"http://www.w3.org/Graphics/SVG/1.1/DTD/svg11.dtd\">\n",
       "<!-- Generated by graphviz version 2.40.1 (20161225.0304)\n",
       " -->\n",
       "<!-- Title: %3 Pages: 1 -->\n",
       "<svg width=\"587pt\" height=\"243pt\"\n",
       " viewBox=\"0.00 0.00 587.34 243.00\" xmlns=\"http://www.w3.org/2000/svg\" xmlns:xlink=\"http://www.w3.org/1999/xlink\">\n",
       "<g id=\"graph0\" class=\"graph\" transform=\"scale(1 1) rotate(0) translate(4 239)\">\n",
       "<title>%3</title>\n",
       "<polygon fill=\"#ffffff\" stroke=\"transparent\" points=\"-4,4 -4,-239 583.3443,-239 583.3443,4 -4,4\"/>\n",
       "<g id=\"clust1\" class=\"cluster\">\n",
       "<title>cluster27</title>\n",
       "<path fill=\"none\" stroke=\"#000000\" d=\"M20,-8C20,-8 429,-8 429,-8 435,-8 441,-14 441,-20 441,-20 441,-215 441,-215 441,-221 435,-227 429,-227 429,-227 20,-227 20,-227 14,-227 8,-221 8,-215 8,-215 8,-20 8,-20 8,-14 14,-8 20,-8\"/>\n",
       "<text text-anchor=\"middle\" x=\"425.5\" y=\"-15.8\" font-family=\"Times,serif\" font-size=\"14.00\" fill=\"#000000\">27</text>\n",
       "</g>\n",
       "<!-- R -->\n",
       "<g id=\"node1\" class=\"node\">\n",
       "<title>R</title>\n",
       "<polygon fill=\"#d3d3d3\" stroke=\"#000000\" points=\"424.5,-147 307.5,-147 307.5,-111 424.5,-111 424.5,-147\"/>\n",
       "<text text-anchor=\"middle\" x=\"366\" y=\"-125.3\" font-family=\"Times,serif\" font-size=\"14.00\" fill=\"#000000\">R ~ Deterministic</text>\n",
       "</g>\n",
       "<!-- response -->\n",
       "<g id=\"node4\" class=\"node\">\n",
       "<title>response</title>\n",
       "<ellipse fill=\"#d3d3d3\" stroke=\"#000000\" cx=\"289\" cy=\"-57\" rx=\"86.3847\" ry=\"18\"/>\n",
       "<text text-anchor=\"middle\" x=\"289\" y=\"-53.3\" font-family=\"Times,serif\" font-size=\"14.00\" fill=\"#000000\">response ~ Bernoulli</text>\n",
       "</g>\n",
       "<!-- R&#45;&gt;response -->\n",
       "<g id=\"edge5\" class=\"edge\">\n",
       "<title>R&#45;&gt;response</title>\n",
       "<path fill=\"none\" stroke=\"#000000\" d=\"M346.5696,-110.8314C337.126,-102.001 325.6345,-91.2556 315.4093,-81.6944\"/>\n",
       "<polygon fill=\"#000000\" stroke=\"#000000\" points=\"317.5865,-78.9385 307.8918,-74.665 312.8056,-84.0515 317.5865,-78.9385\"/>\n",
       "</g>\n",
       "<!-- RB -->\n",
       "<g id=\"node2\" class=\"node\">\n",
       "<title>RB</title>\n",
       "<polygon fill=\"#d3d3d3\" stroke=\"#000000\" points=\"433,-219 307,-219 307,-183 433,-183 433,-219\"/>\n",
       "<text text-anchor=\"middle\" x=\"370\" y=\"-197.3\" font-family=\"Times,serif\" font-size=\"14.00\" fill=\"#000000\">RB ~ Deterministic</text>\n",
       "</g>\n",
       "<!-- P -->\n",
       "<g id=\"node6\" class=\"node\">\n",
       "<title>P</title>\n",
       "<polygon fill=\"none\" stroke=\"#000000\" points=\"289.5,-147 174.5,-147 174.5,-111 289.5,-111 289.5,-147\"/>\n",
       "<text text-anchor=\"middle\" x=\"232\" y=\"-125.3\" font-family=\"Times,serif\" font-size=\"14.00\" fill=\"#000000\">P ~ Deterministic</text>\n",
       "</g>\n",
       "<!-- RB&#45;&gt;P -->\n",
       "<g id=\"edge1\" class=\"edge\">\n",
       "<title>RB&#45;&gt;P</title>\n",
       "<path fill=\"none\" stroke=\"#000000\" d=\"M335.1768,-182.8314C317.1989,-173.4516 295.0797,-161.9112 275.9384,-151.9244\"/>\n",
       "<polygon fill=\"#000000\" stroke=\"#000000\" points=\"277.2969,-148.6855 266.8121,-147.1628 274.0589,-154.8916 277.2969,-148.6855\"/>\n",
       "</g>\n",
       "<!-- RA -->\n",
       "<g id=\"node3\" class=\"node\">\n",
       "<title>RA</title>\n",
       "<polygon fill=\"#d3d3d3\" stroke=\"#000000\" points=\"288.5,-219 161.5,-219 161.5,-183 288.5,-183 288.5,-219\"/>\n",
       "<text text-anchor=\"middle\" x=\"225\" y=\"-197.3\" font-family=\"Times,serif\" font-size=\"14.00\" fill=\"#000000\">RA ~ Deterministic</text>\n",
       "</g>\n",
       "<!-- RA&#45;&gt;P -->\n",
       "<g id=\"edge2\" class=\"edge\">\n",
       "<title>RA&#45;&gt;P</title>\n",
       "<path fill=\"none\" stroke=\"#000000\" d=\"M226.7664,-182.8314C227.515,-175.131 228.4053,-165.9743 229.2373,-157.4166\"/>\n",
       "<polygon fill=\"#000000\" stroke=\"#000000\" points=\"232.7256,-157.7051 230.2098,-147.4133 225.7585,-157.0276 232.7256,-157.7051\"/>\n",
       "</g>\n",
       "<!-- DB -->\n",
       "<g id=\"node5\" class=\"node\">\n",
       "<title>DB</title>\n",
       "<polygon fill=\"#d3d3d3\" stroke=\"#000000\" points=\"143.5,-219 16.5,-219 16.5,-183 143.5,-183 143.5,-219\"/>\n",
       "<text text-anchor=\"middle\" x=\"80\" y=\"-197.3\" font-family=\"Times,serif\" font-size=\"14.00\" fill=\"#000000\">DB ~ Deterministic</text>\n",
       "</g>\n",
       "<!-- DB&#45;&gt;P -->\n",
       "<g id=\"edge3\" class=\"edge\">\n",
       "<title>DB&#45;&gt;P</title>\n",
       "<path fill=\"none\" stroke=\"#000000\" d=\"M118.356,-182.8314C138.5044,-173.2874 163.3752,-161.5065 184.7083,-151.4013\"/>\n",
       "<polygon fill=\"#000000\" stroke=\"#000000\" points=\"186.3807,-154.482 193.9198,-147.038 183.3841,-148.1558 186.3807,-154.482\"/>\n",
       "</g>\n",
       "<!-- P&#45;&gt;response -->\n",
       "<g id=\"edge6\" class=\"edge\">\n",
       "<title>P&#45;&gt;response</title>\n",
       "<path fill=\"none\" stroke=\"#000000\" d=\"M246.3835,-110.8314C253.0496,-102.411 261.0941,-92.2495 268.3899,-83.0338\"/>\n",
       "<polygon fill=\"#000000\" stroke=\"#000000\" points=\"271.3557,-84.9264 274.8185,-74.9134 265.8673,-80.5814 271.3557,-84.9264\"/>\n",
       "</g>\n",
       "<!-- logk -->\n",
       "<g id=\"node7\" class=\"node\">\n",
       "<title>logk</title>\n",
       "<ellipse fill=\"none\" stroke=\"#000000\" cx=\"515\" cy=\"-201\" rx=\"64.189\" ry=\"18\"/>\n",
       "<text text-anchor=\"middle\" x=\"515\" y=\"-197.3\" font-family=\"Times,serif\" font-size=\"14.00\" fill=\"#000000\">logk ~ Normal</text>\n",
       "</g>\n",
       "<!-- logk&#45;&gt;P -->\n",
       "<g id=\"edge4\" class=\"edge\">\n",
       "<title>logk&#45;&gt;P</title>\n",
       "<path fill=\"none\" stroke=\"#000000\" d=\"M467.5721,-188.7363C460.0247,-186.8044 452.3009,-184.8387 445,-183 383.2293,-167.4429 365.3702,-163.9821 299.761,-147.1696\"/>\n",
       "<polygon fill=\"#000000\" stroke=\"#000000\" points=\"300.2801,-143.6893 289.7235,-144.5891 298.5371,-150.4688 300.2801,-143.6893\"/>\n",
       "</g>\n",
       "</g>\n",
       "</svg>\n"
      ],
      "text/plain": [
       "<graphviz.dot.Digraph at 0x1c48087fd0>"
      ]
     },
     "execution_count": 17,
     "metadata": {},
     "output_type": "execute_result"
    }
   ],
   "source": [
    "pm.model_to_graphviz(model)"
   ]
  },
  {
   "cell_type": "code",
   "execution_count": 18,
   "metadata": {},
   "outputs": [
    {
     "name": "stderr",
     "output_type": "stream",
     "text": [
      "Auto-assigning NUTS sampler...\n",
      "Initializing NUTS using jitter+adapt_diag...\n",
      "Multiprocess sampling (2 chains in 2 jobs)\n",
      "NUTS: [logk]\n",
      "Sampling 2 chains: 100%|██████████| 8000/8000 [00:02<00:00, 2863.85draws/s]\n",
      "Auto-assigning NUTS sampler...\n",
      "Initializing NUTS using jitter+adapt_diag...\n",
      "Multiprocess sampling (2 chains in 2 jobs)\n",
      "NUTS: [logk]\n",
      "Sampling 2 chains: 100%|██████████| 8000/8000 [00:04<00:00, 1727.17draws/s]\n",
      "The number of effective samples is smaller than 25% for some parameters.\n",
      "Auto-assigning NUTS sampler...\n",
      "Initializing NUTS using jitter+adapt_diag...\n",
      "Multiprocess sampling (2 chains in 2 jobs)\n",
      "NUTS: [logk]\n",
      "Sampling 2 chains: 100%|██████████| 8000/8000 [00:04<00:00, 1674.98draws/s]\n",
      "The number of effective samples is smaller than 25% for some parameters.\n",
      "Auto-assigning NUTS sampler...\n",
      "Initializing NUTS using jitter+adapt_diag...\n",
      "Multiprocess sampling (2 chains in 2 jobs)\n",
      "NUTS: [logk]\n",
      "Sampling 2 chains: 100%|██████████| 8000/8000 [00:03<00:00, 2197.98draws/s]\n",
      "The acceptance probability does not match the target. It is 0.5707697797289273, but should be close to 0.95. Try to increase the number of tuning steps.\n",
      "The acceptance probability does not match the target. It is 0.9947551686790316, but should be close to 0.95. Try to increase the number of tuning steps.\n",
      "The estimated number of effective samples is smaller than 200 for some parameters.\n",
      "Auto-assigning NUTS sampler...\n",
      "Initializing NUTS using jitter+adapt_diag...\n",
      "Multiprocess sampling (2 chains in 2 jobs)\n",
      "NUTS: [logk]\n",
      "Sampling 2 chains: 100%|██████████| 8000/8000 [00:03<00:00, 2547.71draws/s]\n",
      "Auto-assigning NUTS sampler...\n",
      "Initializing NUTS using jitter+adapt_diag...\n",
      "Multiprocess sampling (2 chains in 2 jobs)\n",
      "NUTS: [logk]\n",
      "Sampling 2 chains: 100%|██████████| 8000/8000 [00:03<00:00, 2436.44draws/s]\n",
      "The number of effective samples is smaller than 10% for some parameters.\n",
      "Auto-assigning NUTS sampler...\n",
      "Initializing NUTS using jitter+adapt_diag...\n",
      "Multiprocess sampling (2 chains in 2 jobs)\n",
      "NUTS: [logk]\n",
      "Sampling 2 chains: 100%|██████████| 8000/8000 [00:04<00:00, 1726.99draws/s]\n",
      "The acceptance probability does not match the target. It is 0.631736455659746, but should be close to 0.95. Try to increase the number of tuning steps.\n",
      "The acceptance probability does not match the target. It is 0.9934011966044426, but should be close to 0.95. Try to increase the number of tuning steps.\n",
      "The estimated number of effective samples is smaller than 200 for some parameters.\n",
      "Auto-assigning NUTS sampler...\n",
      "Initializing NUTS using jitter+adapt_diag...\n",
      "Multiprocess sampling (2 chains in 2 jobs)\n",
      "NUTS: [logk]\n",
      "Sampling 2 chains: 100%|██████████| 8000/8000 [00:05<00:00, 1495.26draws/s]\n",
      "The number of effective samples is smaller than 25% for some parameters.\n",
      "Auto-assigning NUTS sampler...\n",
      "Initializing NUTS using jitter+adapt_diag...\n",
      "Multiprocess sampling (2 chains in 2 jobs)\n",
      "NUTS: [logk]\n",
      "Sampling 2 chains: 100%|██████████| 8000/8000 [00:05<00:00, 1574.53draws/s]\n",
      "The number of effective samples is smaller than 25% for some parameters.\n",
      "Auto-assigning NUTS sampler...\n",
      "Initializing NUTS using jitter+adapt_diag...\n",
      "Multiprocess sampling (2 chains in 2 jobs)\n",
      "NUTS: [logk]\n",
      "Sampling 2 chains: 100%|██████████| 8000/8000 [00:02<00:00, 2683.44draws/s]\n",
      "Auto-assigning NUTS sampler...\n",
      "Initializing NUTS using jitter+adapt_diag...\n",
      "Multiprocess sampling (2 chains in 2 jobs)\n",
      "NUTS: [logk]\n",
      "Sampling 2 chains: 100%|██████████| 8000/8000 [00:03<00:00, 2635.05draws/s]\n",
      "Auto-assigning NUTS sampler...\n",
      "Initializing NUTS using jitter+adapt_diag...\n",
      "Multiprocess sampling (2 chains in 2 jobs)\n",
      "NUTS: [logk]\n",
      "Sampling 2 chains: 100%|██████████| 8000/8000 [00:03<00:00, 2367.75draws/s]\n",
      "The estimated number of effective samples is smaller than 200 for some parameters.\n",
      "Auto-assigning NUTS sampler...\n",
      "Initializing NUTS using jitter+adapt_diag...\n",
      "Multiprocess sampling (2 chains in 2 jobs)\n",
      "NUTS: [logk]\n",
      "Sampling 2 chains: 100%|██████████| 8000/8000 [00:03<00:00, 2616.58draws/s]\n",
      "Auto-assigning NUTS sampler...\n",
      "Initializing NUTS using jitter+adapt_diag...\n",
      "Multiprocess sampling (2 chains in 2 jobs)\n",
      "NUTS: [logk]\n",
      "Sampling 2 chains: 100%|██████████| 8000/8000 [00:04<00:00, 1877.77draws/s]\n",
      "The number of effective samples is smaller than 10% for some parameters.\n",
      "Auto-assigning NUTS sampler...\n",
      "Initializing NUTS using jitter+adapt_diag...\n",
      "Multiprocess sampling (2 chains in 2 jobs)\n",
      "NUTS: [logk]\n",
      "Sampling 2 chains: 100%|██████████| 8000/8000 [00:02<00:00, 2711.23draws/s]\n",
      "Auto-assigning NUTS sampler...\n",
      "Initializing NUTS using jitter+adapt_diag...\n",
      "Multiprocess sampling (2 chains in 2 jobs)\n",
      "NUTS: [logk]\n",
      "Sampling 2 chains: 100%|██████████| 8000/8000 [00:03<00:00, 2359.87draws/s]\n",
      "Auto-assigning NUTS sampler...\n",
      "Initializing NUTS using jitter+adapt_diag...\n",
      "Multiprocess sampling (2 chains in 2 jobs)\n",
      "NUTS: [logk]\n",
      "Sampling 2 chains: 100%|██████████| 8000/8000 [00:03<00:00, 2389.27draws/s]\n",
      "Auto-assigning NUTS sampler...\n",
      "Initializing NUTS using jitter+adapt_diag...\n",
      "Multiprocess sampling (2 chains in 2 jobs)\n",
      "NUTS: [logk]\n",
      "Sampling 2 chains: 100%|██████████| 8000/8000 [00:02<00:00, 2755.11draws/s]\n",
      "Auto-assigning NUTS sampler...\n",
      "Initializing NUTS using jitter+adapt_diag...\n",
      "Multiprocess sampling (2 chains in 2 jobs)\n",
      "NUTS: [logk]\n",
      "Sampling 2 chains: 100%|██████████| 8000/8000 [00:03<00:00, 2534.28draws/s]\n",
      "Auto-assigning NUTS sampler...\n",
      "Initializing NUTS using jitter+adapt_diag...\n",
      "Multiprocess sampling (2 chains in 2 jobs)\n",
      "NUTS: [logk]\n",
      "Sampling 2 chains: 100%|██████████| 8000/8000 [00:02<00:00, 2777.94draws/s]\n",
      "Auto-assigning NUTS sampler...\n",
      "Initializing NUTS using jitter+adapt_diag...\n",
      "Multiprocess sampling (2 chains in 2 jobs)\n",
      "NUTS: [logk]\n",
      "Sampling 2 chains: 100%|██████████| 8000/8000 [00:02<00:00, 2746.94draws/s]\n",
      "The acceptance probability does not match the target. It is 0.8954587895913848, but should be close to 0.95. Try to increase the number of tuning steps.\n",
      "Auto-assigning NUTS sampler...\n",
      "Initializing NUTS using jitter+adapt_diag...\n",
      "Multiprocess sampling (2 chains in 2 jobs)\n",
      "NUTS: [logk]\n",
      "Sampling 2 chains: 100%|██████████| 8000/8000 [00:03<00:00, 2427.52draws/s]\n",
      "The estimated number of effective samples is smaller than 200 for some parameters.\n",
      "Auto-assigning NUTS sampler...\n",
      "Initializing NUTS using jitter+adapt_diag...\n",
      "Multiprocess sampling (2 chains in 2 jobs)\n",
      "NUTS: [logk]\n",
      "Sampling 2 chains: 100%|██████████| 8000/8000 [00:04<00:00, 1652.51draws/s]\n",
      "The number of effective samples is smaller than 25% for some parameters.\n",
      "Auto-assigning NUTS sampler...\n",
      "Initializing NUTS using jitter+adapt_diag...\n",
      "Multiprocess sampling (2 chains in 2 jobs)\n",
      "NUTS: [logk]\n",
      "Sampling 2 chains: 100%|██████████| 8000/8000 [00:04<00:00, 1754.28draws/s]\n",
      "The number of effective samples is smaller than 25% for some parameters.\n",
      "Auto-assigning NUTS sampler...\n",
      "Initializing NUTS using jitter+adapt_diag...\n",
      "Multiprocess sampling (2 chains in 2 jobs)\n",
      "NUTS: [logk]\n",
      "Sampling 2 chains: 100%|██████████| 8000/8000 [00:05<00:00, 1583.16draws/s]\n",
      "The number of effective samples is smaller than 25% for some parameters.\n",
      "Auto-assigning NUTS sampler...\n",
      "Initializing NUTS using jitter+adapt_diag...\n",
      "Multiprocess sampling (2 chains in 2 jobs)\n",
      "NUTS: [logk]\n",
      "Sampling 2 chains: 100%|██████████| 8000/8000 [00:03<00:00, 2344.56draws/s]\n",
      "The acceptance probability does not match the target. It is 0.8191263977969849, but should be close to 0.95. Try to increase the number of tuning steps.\n",
      "The gelman-rubin statistic is larger than 1.2 for some parameters.\n",
      "The estimated number of effective samples is smaller than 200 for some parameters.\n",
      "Auto-assigning NUTS sampler...\n",
      "Initializing NUTS using jitter+adapt_diag...\n",
      "Multiprocess sampling (2 chains in 2 jobs)\n",
      "NUTS: [logk]\n",
      "Sampling 2 chains: 100%|██████████| 8000/8000 [00:03<00:00, 2331.12draws/s]\n",
      "The number of effective samples is smaller than 25% for some parameters.\n",
      "Auto-assigning NUTS sampler...\n",
      "Initializing NUTS using jitter+adapt_diag...\n",
      "Multiprocess sampling (2 chains in 2 jobs)\n",
      "NUTS: [logk]\n",
      "Sampling 2 chains: 100%|██████████| 8000/8000 [00:02<00:00, 2734.39draws/s]\n",
      "Auto-assigning NUTS sampler...\n",
      "Initializing NUTS using jitter+adapt_diag...\n",
      "Multiprocess sampling (2 chains in 2 jobs)\n",
      "NUTS: [logk]\n",
      "Sampling 2 chains: 100%|██████████| 8000/8000 [00:04<00:00, 1621.64draws/s]\n",
      "The gelman-rubin statistic is larger than 1.4 for some parameters. The sampler did not converge.\n",
      "The estimated number of effective samples is smaller than 200 for some parameters.\n",
      "Auto-assigning NUTS sampler...\n",
      "Initializing NUTS using jitter+adapt_diag...\n",
      "Multiprocess sampling (2 chains in 2 jobs)\n",
      "NUTS: [logk]\n",
      "Sampling 2 chains: 100%|██████████| 8000/8000 [00:03<00:00, 2126.71draws/s]\n",
      "The acceptance probability does not match the target. It is 0.8052787454809619, but should be close to 0.95. Try to increase the number of tuning steps.\n",
      "The number of effective samples is smaller than 10% for some parameters.\n",
      "Auto-assigning NUTS sampler...\n",
      "Initializing NUTS using jitter+adapt_diag...\n",
      "Multiprocess sampling (2 chains in 2 jobs)\n",
      "NUTS: [logk]\n",
      "Sampling 2 chains: 100%|██████████| 8000/8000 [00:05<00:00, 1579.22draws/s]\n",
      "The acceptance probability does not match the target. It is 0.8958679380405871, but should be close to 0.95. Try to increase the number of tuning steps.\n",
      "The number of effective samples is smaller than 10% for some parameters.\n",
      "Auto-assigning NUTS sampler...\n",
      "Initializing NUTS using jitter+adapt_diag...\n",
      "Multiprocess sampling (2 chains in 2 jobs)\n",
      "NUTS: [logk]\n",
      "Sampling 2 chains: 100%|██████████| 8000/8000 [00:03<00:00, 2654.17draws/s]\n",
      "The acceptance probability does not match the target. It is 0.8988412755210927, but should be close to 0.95. Try to increase the number of tuning steps.\n",
      "Auto-assigning NUTS sampler...\n",
      "Initializing NUTS using jitter+adapt_diag...\n",
      "Multiprocess sampling (2 chains in 2 jobs)\n",
      "NUTS: [logk]\n",
      "Sampling 2 chains: 100%|██████████| 8000/8000 [00:03<00:00, 2255.14draws/s]\n",
      "The acceptance probability does not match the target. It is 0.8342529078884163, but should be close to 0.95. Try to increase the number of tuning steps.\n",
      "The number of effective samples is smaller than 10% for some parameters.\n",
      "Auto-assigning NUTS sampler...\n",
      "Initializing NUTS using jitter+adapt_diag...\n",
      "Multiprocess sampling (2 chains in 2 jobs)\n",
      "NUTS: [logk]\n",
      "Sampling 2 chains: 100%|██████████| 8000/8000 [00:03<00:00, 2393.68draws/s]\n",
      "The acceptance probability does not match the target. It is 0.9008220788836618, but should be close to 0.95. Try to increase the number of tuning steps.\n",
      "The estimated number of effective samples is smaller than 200 for some parameters.\n",
      "Auto-assigning NUTS sampler...\n",
      "Initializing NUTS using jitter+adapt_diag...\n",
      "Multiprocess sampling (2 chains in 2 jobs)\n",
      "NUTS: [logk]\n",
      "Sampling 2 chains: 100%|██████████| 8000/8000 [00:03<00:00, 2411.06draws/s]\n",
      "Auto-assigning NUTS sampler...\n",
      "Initializing NUTS using jitter+adapt_diag...\n",
      "Multiprocess sampling (2 chains in 2 jobs)\n",
      "NUTS: [logk]\n",
      "Sampling 2 chains: 100%|██████████| 8000/8000 [00:02<00:00, 2724.34draws/s]\n",
      "Auto-assigning NUTS sampler...\n",
      "Initializing NUTS using jitter+adapt_diag...\n",
      "Multiprocess sampling (2 chains in 2 jobs)\n",
      "NUTS: [logk]\n",
      "Sampling 2 chains: 100%|██████████| 8000/8000 [00:03<00:00, 2463.31draws/s]\n",
      "Auto-assigning NUTS sampler...\n",
      "Initializing NUTS using jitter+adapt_diag...\n",
      "Multiprocess sampling (2 chains in 2 jobs)\n",
      "NUTS: [logk]\n",
      "Sampling 2 chains: 100%|██████████| 8000/8000 [00:03<00:00, 2419.36draws/s]\n",
      "Auto-assigning NUTS sampler...\n",
      "Initializing NUTS using jitter+adapt_diag...\n",
      "Multiprocess sampling (2 chains in 2 jobs)\n",
      "NUTS: [logk]\n",
      "Sampling 2 chains: 100%|██████████| 8000/8000 [00:03<00:00, 2497.84draws/s]\n",
      "Auto-assigning NUTS sampler...\n",
      "Initializing NUTS using jitter+adapt_diag...\n",
      "Multiprocess sampling (2 chains in 2 jobs)\n",
      "NUTS: [logk]\n",
      "Sampling 2 chains: 100%|██████████| 8000/8000 [00:05<00:00, 1468.75draws/s]\n",
      "The number of effective samples is smaller than 25% for some parameters.\n",
      "Auto-assigning NUTS sampler...\n",
      "Initializing NUTS using jitter+adapt_diag...\n",
      "Multiprocess sampling (2 chains in 2 jobs)\n",
      "NUTS: [logk]\n",
      "Sampling 2 chains: 100%|██████████| 8000/8000 [00:05<00:00, 1529.55draws/s]\n",
      "The number of effective samples is smaller than 25% for some parameters.\n",
      "Auto-assigning NUTS sampler...\n",
      "Initializing NUTS using jitter+adapt_diag...\n",
      "Multiprocess sampling (2 chains in 2 jobs)\n",
      "NUTS: [logk]\n",
      "Sampling 2 chains: 100%|██████████| 8000/8000 [00:04<00:00, 1729.25draws/s]\n",
      "The number of effective samples is smaller than 25% for some parameters.\n",
      "Auto-assigning NUTS sampler...\n",
      "Initializing NUTS using jitter+adapt_diag...\n",
      "Multiprocess sampling (2 chains in 2 jobs)\n",
      "NUTS: [logk]\n",
      "Sampling 2 chains: 100%|██████████| 8000/8000 [00:05<00:00, 1500.15draws/s]\n",
      "The number of effective samples is smaller than 25% for some parameters.\n",
      "Auto-assigning NUTS sampler...\n",
      "Initializing NUTS using jitter+adapt_diag...\n",
      "Multiprocess sampling (2 chains in 2 jobs)\n",
      "NUTS: [logk]\n",
      "Sampling 2 chains: 100%|██████████| 8000/8000 [00:05<00:00, 1445.70draws/s]\n",
      "The number of effective samples is smaller than 10% for some parameters.\n",
      "Auto-assigning NUTS sampler...\n",
      "Initializing NUTS using jitter+adapt_diag...\n",
      "Multiprocess sampling (2 chains in 2 jobs)\n",
      "NUTS: [logk]\n",
      "Sampling 2 chains: 100%|██████████| 8000/8000 [00:04<00:00, 1685.48draws/s]\n",
      "The number of effective samples is smaller than 25% for some parameters.\n",
      "Auto-assigning NUTS sampler...\n",
      "Initializing NUTS using jitter+adapt_diag...\n",
      "Multiprocess sampling (2 chains in 2 jobs)\n",
      "NUTS: [logk]\n",
      "Sampling 2 chains: 100%|██████████| 8000/8000 [00:05<00:00, 1440.39draws/s]\n",
      "The number of effective samples is smaller than 25% for some parameters.\n",
      "Auto-assigning NUTS sampler...\n",
      "Initializing NUTS using jitter+adapt_diag...\n",
      "Multiprocess sampling (2 chains in 2 jobs)\n",
      "NUTS: [logk]\n",
      "Sampling 2 chains: 100%|██████████| 8000/8000 [00:04<00:00, 1692.32draws/s]\n",
      "The number of effective samples is smaller than 25% for some parameters.\n",
      "Auto-assigning NUTS sampler...\n",
      "Initializing NUTS using jitter+adapt_diag...\n",
      "Multiprocess sampling (2 chains in 2 jobs)\n",
      "NUTS: [logk]\n",
      "Sampling 2 chains: 100%|██████████| 8000/8000 [00:03<00:00, 2167.18draws/s]\n",
      "The acceptance probability does not match the target. It is 0.7699490727232979, but should be close to 0.95. Try to increase the number of tuning steps.\n",
      "The estimated number of effective samples is smaller than 200 for some parameters.\n",
      "Auto-assigning NUTS sampler...\n",
      "Initializing NUTS using jitter+adapt_diag...\n",
      "Multiprocess sampling (2 chains in 2 jobs)\n",
      "NUTS: [logk]\n",
      "Sampling 2 chains: 100%|██████████| 8000/8000 [00:03<00:00, 2539.71draws/s]\n",
      "Auto-assigning NUTS sampler...\n",
      "Initializing NUTS using jitter+adapt_diag...\n",
      "Multiprocess sampling (2 chains in 2 jobs)\n",
      "NUTS: [logk]\n",
      "Sampling 2 chains: 100%|██████████| 8000/8000 [00:03<00:00, 2630.12draws/s]\n",
      "Auto-assigning NUTS sampler...\n",
      "Initializing NUTS using jitter+adapt_diag...\n",
      "Multiprocess sampling (2 chains in 2 jobs)\n",
      "NUTS: [logk]\n",
      "Sampling 2 chains: 100%|██████████| 8000/8000 [00:05<00:00, 1580.52draws/s]\n",
      "The number of effective samples is smaller than 25% for some parameters.\n",
      "Auto-assigning NUTS sampler...\n",
      "Initializing NUTS using jitter+adapt_diag...\n",
      "Multiprocess sampling (2 chains in 2 jobs)\n",
      "NUTS: [logk]\n",
      "Sampling 2 chains: 100%|██████████| 8000/8000 [00:04<00:00, 1816.57draws/s]\n",
      "The number of effective samples is smaller than 25% for some parameters.\n",
      "Auto-assigning NUTS sampler...\n",
      "Initializing NUTS using jitter+adapt_diag...\n",
      "Multiprocess sampling (2 chains in 2 jobs)\n",
      "NUTS: [logk]\n",
      "Sampling 2 chains: 100%|██████████| 8000/8000 [00:03<00:00, 2311.41draws/s]\n",
      "The number of effective samples is smaller than 25% for some parameters.\n",
      "Auto-assigning NUTS sampler...\n",
      "Initializing NUTS using jitter+adapt_diag...\n",
      "Multiprocess sampling (2 chains in 2 jobs)\n",
      "NUTS: [logk]\n",
      "Sampling 2 chains: 100%|██████████| 8000/8000 [00:03<00:00, 2450.05draws/s]\n",
      "The number of effective samples is smaller than 25% for some parameters.\n",
      "Auto-assigning NUTS sampler...\n",
      "Initializing NUTS using jitter+adapt_diag...\n",
      "Multiprocess sampling (2 chains in 2 jobs)\n",
      "NUTS: [logk]\n",
      "Sampling 2 chains: 100%|██████████| 8000/8000 [00:05<00:00, 1578.61draws/s]\n",
      "The number of effective samples is smaller than 25% for some parameters.\n",
      "Auto-assigning NUTS sampler...\n",
      "Initializing NUTS using jitter+adapt_diag...\n",
      "Multiprocess sampling (2 chains in 2 jobs)\n",
      "NUTS: [logk]\n",
      "Sampling 2 chains: 100%|██████████| 8000/8000 [00:03<00:00, 2187.35draws/s]\n",
      "The number of effective samples is smaller than 25% for some parameters.\n",
      "Auto-assigning NUTS sampler...\n",
      "Initializing NUTS using jitter+adapt_diag...\n",
      "Multiprocess sampling (2 chains in 2 jobs)\n",
      "NUTS: [logk]\n",
      "Sampling 2 chains: 100%|██████████| 8000/8000 [00:03<00:00, 2285.08draws/s]\n",
      "Auto-assigning NUTS sampler...\n",
      "Initializing NUTS using jitter+adapt_diag...\n",
      "Multiprocess sampling (2 chains in 2 jobs)\n",
      "NUTS: [logk]\n",
      "Sampling 2 chains: 100%|██████████| 8000/8000 [00:05<00:00, 1512.19draws/s]\n",
      "The number of effective samples is smaller than 25% for some parameters.\n",
      "Auto-assigning NUTS sampler...\n",
      "Initializing NUTS using jitter+adapt_diag...\n",
      "Multiprocess sampling (2 chains in 2 jobs)\n",
      "NUTS: [logk]\n",
      "Sampling 2 chains: 100%|██████████| 8000/8000 [00:03<00:00, 2316.35draws/s]\n",
      "The acceptance probability does not match the target. It is 0.8832815661212005, but should be close to 0.95. Try to increase the number of tuning steps.\n",
      "The estimated number of effective samples is smaller than 200 for some parameters.\n",
      "Auto-assigning NUTS sampler...\n",
      "Initializing NUTS using jitter+adapt_diag...\n",
      "Multiprocess sampling (2 chains in 2 jobs)\n",
      "NUTS: [logk]\n",
      "Sampling 2 chains: 100%|██████████| 8000/8000 [00:03<00:00, 2447.78draws/s]\n",
      "Auto-assigning NUTS sampler...\n",
      "Initializing NUTS using jitter+adapt_diag...\n",
      "Multiprocess sampling (2 chains in 2 jobs)\n",
      "NUTS: [logk]\n",
      "Sampling 2 chains: 100%|██████████| 8000/8000 [00:05<00:00, 1564.71draws/s]\n",
      "The number of effective samples is smaller than 25% for some parameters.\n",
      "Auto-assigning NUTS sampler...\n",
      "Initializing NUTS using jitter+adapt_diag...\n",
      "Multiprocess sampling (2 chains in 2 jobs)\n",
      "NUTS: [logk]\n",
      "Sampling 2 chains: 100%|██████████| 8000/8000 [00:04<00:00, 1829.66draws/s]\n",
      "The acceptance probability does not match the target. It is 0.9926296431175498, but should be close to 0.95. Try to increase the number of tuning steps.\n",
      "The gelman-rubin statistic is larger than 1.4 for some parameters. The sampler did not converge.\n",
      "The estimated number of effective samples is smaller than 200 for some parameters.\n",
      "Auto-assigning NUTS sampler...\n",
      "Initializing NUTS using jitter+adapt_diag...\n",
      "Multiprocess sampling (2 chains in 2 jobs)\n",
      "NUTS: [logk]\n",
      "Sampling 2 chains: 100%|██████████| 8000/8000 [00:04<00:00, 1731.43draws/s]\n",
      "The number of effective samples is smaller than 25% for some parameters.\n",
      "Auto-assigning NUTS sampler...\n",
      "Initializing NUTS using jitter+adapt_diag...\n",
      "Multiprocess sampling (2 chains in 2 jobs)\n",
      "NUTS: [logk]\n",
      "Sampling 2 chains: 100%|██████████| 8000/8000 [00:03<00:00, 2415.93draws/s]\n",
      "Auto-assigning NUTS sampler...\n",
      "Initializing NUTS using jitter+adapt_diag...\n",
      "Multiprocess sampling (2 chains in 2 jobs)\n",
      "NUTS: [logk]\n",
      "Sampling 2 chains: 100%|██████████| 8000/8000 [00:03<00:00, 2267.84draws/s]\n",
      "Auto-assigning NUTS sampler...\n",
      "Initializing NUTS using jitter+adapt_diag...\n",
      "Multiprocess sampling (2 chains in 2 jobs)\n",
      "NUTS: [logk]\n",
      "Sampling 2 chains: 100%|██████████| 8000/8000 [00:03<00:00, 2060.88draws/s]\n",
      "The acceptance probability does not match the target. It is 0.3428955649156401, but should be close to 0.95. Try to increase the number of tuning steps.\n",
      "The estimated number of effective samples is smaller than 200 for some parameters.\n",
      "Auto-assigning NUTS sampler...\n",
      "Initializing NUTS using jitter+adapt_diag...\n",
      "Multiprocess sampling (2 chains in 2 jobs)\n",
      "NUTS: [logk]\n",
      "Sampling 2 chains: 100%|██████████| 8000/8000 [00:03<00:00, 2086.72draws/s]\n",
      "The acceptance probability does not match the target. It is 0.8052787454809619, but should be close to 0.95. Try to increase the number of tuning steps.\n",
      "The number of effective samples is smaller than 10% for some parameters.\n",
      "Auto-assigning NUTS sampler...\n",
      "Initializing NUTS using jitter+adapt_diag...\n",
      "Multiprocess sampling (2 chains in 2 jobs)\n",
      "NUTS: [logk]\n",
      "Sampling 2 chains: 100%|██████████| 8000/8000 [00:03<00:00, 2314.87draws/s]\n",
      "The number of effective samples is smaller than 10% for some parameters.\n",
      "Auto-assigning NUTS sampler...\n",
      "Initializing NUTS using jitter+adapt_diag...\n",
      "Multiprocess sampling (2 chains in 2 jobs)\n",
      "NUTS: [logk]\n",
      "Sampling 2 chains: 100%|██████████| 8000/8000 [00:03<00:00, 2491.80draws/s]\n",
      "Auto-assigning NUTS sampler...\n",
      "Initializing NUTS using jitter+adapt_diag...\n",
      "Multiprocess sampling (2 chains in 2 jobs)\n",
      "NUTS: [logk]\n",
      "Sampling 2 chains: 100%|██████████| 8000/8000 [00:04<00:00, 1773.32draws/s]\n",
      "The number of effective samples is smaller than 10% for some parameters.\n",
      "Auto-assigning NUTS sampler...\n",
      "Initializing NUTS using jitter+adapt_diag...\n",
      "Multiprocess sampling (2 chains in 2 jobs)\n",
      "NUTS: [logk]\n",
      "Sampling 2 chains: 100%|██████████| 8000/8000 [00:04<00:00, 1619.61draws/s]\n",
      "The number of effective samples is smaller than 25% for some parameters.\n",
      "Auto-assigning NUTS sampler...\n",
      "Initializing NUTS using jitter+adapt_diag...\n",
      "Multiprocess sampling (2 chains in 2 jobs)\n",
      "NUTS: [logk]\n",
      "Sampling 2 chains: 100%|██████████| 8000/8000 [00:03<00:00, 2231.67draws/s]\n",
      "Auto-assigning NUTS sampler...\n",
      "Initializing NUTS using jitter+adapt_diag...\n",
      "Multiprocess sampling (2 chains in 2 jobs)\n",
      "NUTS: [logk]\n",
      "Sampling 2 chains: 100%|██████████| 8000/8000 [00:03<00:00, 2112.64draws/s]\n",
      "The number of effective samples is smaller than 25% for some parameters.\n",
      "Auto-assigning NUTS sampler...\n",
      "Initializing NUTS using jitter+adapt_diag...\n",
      "Multiprocess sampling (2 chains in 2 jobs)\n",
      "NUTS: [logk]\n",
      "Sampling 2 chains: 100%|██████████| 8000/8000 [00:03<00:00, 2010.80draws/s]\n",
      "Auto-assigning NUTS sampler...\n",
      "Initializing NUTS using jitter+adapt_diag...\n",
      "Multiprocess sampling (2 chains in 2 jobs)\n",
      "NUTS: [logk]\n",
      "Sampling 2 chains: 100%|██████████| 8000/8000 [00:03<00:00, 2206.67draws/s]\n",
      "Auto-assigning NUTS sampler...\n",
      "Initializing NUTS using jitter+adapt_diag...\n",
      "Multiprocess sampling (2 chains in 2 jobs)\n",
      "NUTS: [logk]\n",
      "Sampling 2 chains: 100%|██████████| 8000/8000 [00:03<00:00, 2427.15draws/s]\n",
      "Auto-assigning NUTS sampler...\n",
      "Initializing NUTS using jitter+adapt_diag...\n",
      "Multiprocess sampling (2 chains in 2 jobs)\n",
      "NUTS: [logk]\n",
      "Sampling 2 chains: 100%|██████████| 8000/8000 [00:03<00:00, 2313.35draws/s]\n",
      "Auto-assigning NUTS sampler...\n",
      "Initializing NUTS using jitter+adapt_diag...\n",
      "Multiprocess sampling (2 chains in 2 jobs)\n",
      "NUTS: [logk]\n",
      "Sampling 2 chains: 100%|██████████| 8000/8000 [00:05<00:00, 1574.05draws/s]\n",
      "The acceptance probability does not match the target. It is 0.631736455659746, but should be close to 0.95. Try to increase the number of tuning steps.\n",
      "The acceptance probability does not match the target. It is 0.9934011966044426, but should be close to 0.95. Try to increase the number of tuning steps.\n",
      "The estimated number of effective samples is smaller than 200 for some parameters.\n",
      "Auto-assigning NUTS sampler...\n",
      "Initializing NUTS using jitter+adapt_diag...\n",
      "Multiprocess sampling (2 chains in 2 jobs)\n",
      "NUTS: [logk]\n",
      "Sampling 2 chains: 100%|██████████| 8000/8000 [00:04<00:00, 1908.71draws/s]\n",
      "The acceptance probability does not match the target. It is 0.8899770689215548, but should be close to 0.95. Try to increase the number of tuning steps.\n",
      "The number of effective samples is smaller than 10% for some parameters.\n",
      "Auto-assigning NUTS sampler...\n",
      "Initializing NUTS using jitter+adapt_diag...\n",
      "Multiprocess sampling (2 chains in 2 jobs)\n",
      "NUTS: [logk]\n",
      "Sampling 2 chains: 100%|██████████| 8000/8000 [00:03<00:00, 2314.27draws/s]\n",
      "The number of effective samples is smaller than 10% for some parameters.\n",
      "Auto-assigning NUTS sampler...\n",
      "Initializing NUTS using jitter+adapt_diag...\n",
      "Multiprocess sampling (2 chains in 2 jobs)\n",
      "NUTS: [logk]\n",
      "Sampling 2 chains: 100%|██████████| 8000/8000 [00:03<00:00, 2641.82draws/s]\n",
      "Auto-assigning NUTS sampler...\n",
      "Initializing NUTS using jitter+adapt_diag...\n",
      "Multiprocess sampling (2 chains in 2 jobs)\n",
      "NUTS: [logk]\n",
      "Sampling 2 chains: 100%|██████████| 8000/8000 [00:03<00:00, 2530.89draws/s]\n",
      "Auto-assigning NUTS sampler...\n",
      "Initializing NUTS using jitter+adapt_diag...\n",
      "Multiprocess sampling (2 chains in 2 jobs)\n",
      "NUTS: [logk]\n",
      "Sampling 2 chains: 100%|██████████| 8000/8000 [00:04<00:00, 1693.09draws/s]\n",
      "The number of effective samples is smaller than 25% for some parameters.\n",
      "Auto-assigning NUTS sampler...\n",
      "Initializing NUTS using jitter+adapt_diag...\n",
      "Multiprocess sampling (2 chains in 2 jobs)\n",
      "NUTS: [logk]\n",
      "Sampling 2 chains: 100%|██████████| 8000/8000 [00:03<00:00, 2527.10draws/s]\n",
      "Auto-assigning NUTS sampler...\n",
      "Initializing NUTS using jitter+adapt_diag...\n",
      "Multiprocess sampling (2 chains in 2 jobs)\n",
      "NUTS: [logk]\n",
      "Sampling 2 chains: 100%|██████████| 8000/8000 [00:05<00:00, 1462.40draws/s]\n",
      "The number of effective samples is smaller than 25% for some parameters.\n",
      "Auto-assigning NUTS sampler...\n",
      "Initializing NUTS using jitter+adapt_diag...\n",
      "Multiprocess sampling (2 chains in 2 jobs)\n",
      "NUTS: [logk]\n",
      "Sampling 2 chains: 100%|██████████| 8000/8000 [00:04<00:00, 1621.51draws/s]\n",
      "The number of effective samples is smaller than 25% for some parameters.\n",
      "Auto-assigning NUTS sampler...\n",
      "Initializing NUTS using jitter+adapt_diag...\n",
      "Multiprocess sampling (2 chains in 2 jobs)\n",
      "NUTS: [logk]\n",
      "Sampling 2 chains: 100%|██████████| 8000/8000 [00:03<00:00, 2358.34draws/s]\n",
      "The number of effective samples is smaller than 10% for some parameters.\n",
      "Auto-assigning NUTS sampler...\n",
      "Initializing NUTS using jitter+adapt_diag...\n",
      "Multiprocess sampling (2 chains in 2 jobs)\n",
      "NUTS: [logk]\n",
      "Sampling 2 chains: 100%|██████████| 8000/8000 [00:03<00:00, 2353.22draws/s]\n",
      "Auto-assigning NUTS sampler...\n",
      "Initializing NUTS using jitter+adapt_diag...\n",
      "Multiprocess sampling (2 chains in 2 jobs)\n",
      "NUTS: [logk]\n",
      "Sampling 2 chains: 100%|██████████| 8000/8000 [00:05<00:00, 1483.07draws/s]\n",
      "The number of effective samples is smaller than 25% for some parameters.\n",
      "Auto-assigning NUTS sampler...\n",
      "Initializing NUTS using jitter+adapt_diag...\n",
      "Multiprocess sampling (2 chains in 2 jobs)\n",
      "NUTS: [logk]\n",
      "Sampling 2 chains: 100%|██████████| 8000/8000 [00:03<00:00, 2387.21draws/s]\n",
      "Auto-assigning NUTS sampler...\n",
      "Initializing NUTS using jitter+adapt_diag...\n",
      "Multiprocess sampling (2 chains in 2 jobs)\n",
      "NUTS: [logk]\n",
      "Sampling 2 chains: 100%|██████████| 8000/8000 [00:03<00:00, 2200.58draws/s]\n",
      "The number of effective samples is smaller than 25% for some parameters.\n",
      "Auto-assigning NUTS sampler...\n",
      "Initializing NUTS using jitter+adapt_diag...\n",
      "Multiprocess sampling (2 chains in 2 jobs)\n",
      "NUTS: [logk]\n",
      "Sampling 2 chains: 100%|██████████| 8000/8000 [00:04<00:00, 1604.86draws/s]\n",
      "The number of effective samples is smaller than 25% for some parameters.\n",
      "Auto-assigning NUTS sampler...\n",
      "Initializing NUTS using jitter+adapt_diag...\n",
      "Multiprocess sampling (2 chains in 2 jobs)\n",
      "NUTS: [logk]\n",
      "Sampling 2 chains: 100%|██████████| 8000/8000 [00:02<00:00, 2668.02draws/s]\n",
      "Auto-assigning NUTS sampler...\n",
      "Initializing NUTS using jitter+adapt_diag...\n",
      "Multiprocess sampling (2 chains in 2 jobs)\n",
      "NUTS: [logk]\n",
      "Sampling 2 chains: 100%|██████████| 8000/8000 [00:05<00:00, 1382.96draws/s]\n",
      "The number of effective samples is smaller than 25% for some parameters.\n",
      "Auto-assigning NUTS sampler...\n",
      "Initializing NUTS using jitter+adapt_diag...\n",
      "Multiprocess sampling (2 chains in 2 jobs)\n",
      "NUTS: [logk]\n",
      "Sampling 2 chains: 100%|██████████| 8000/8000 [00:03<00:00, 2586.57draws/s]\n",
      "The acceptance probability does not match the target. It is 0.8086491023367082, but should be close to 0.95. Try to increase the number of tuning steps.\n",
      "The estimated number of effective samples is smaller than 200 for some parameters.\n",
      "Auto-assigning NUTS sampler...\n",
      "Initializing NUTS using jitter+adapt_diag...\n",
      "Multiprocess sampling (2 chains in 2 jobs)\n",
      "NUTS: [logk]\n",
      "Sampling 2 chains: 100%|██████████| 8000/8000 [00:03<00:00, 2606.16draws/s]\n",
      "Auto-assigning NUTS sampler...\n",
      "Initializing NUTS using jitter+adapt_diag...\n",
      "Multiprocess sampling (2 chains in 2 jobs)\n",
      "NUTS: [logk]\n",
      "Sampling 2 chains: 100%|██████████| 8000/8000 [00:03<00:00, 2322.57draws/s]\n",
      "The number of effective samples is smaller than 25% for some parameters.\n",
      "Auto-assigning NUTS sampler...\n",
      "Initializing NUTS using jitter+adapt_diag...\n",
      "Multiprocess sampling (2 chains in 2 jobs)\n",
      "NUTS: [logk]\n",
      "Sampling 2 chains: 100%|██████████| 8000/8000 [00:03<00:00, 2480.69draws/s]\n",
      "Auto-assigning NUTS sampler...\n",
      "Initializing NUTS using jitter+adapt_diag...\n",
      "Multiprocess sampling (2 chains in 2 jobs)\n",
      "NUTS: [logk]\n",
      "Sampling 2 chains: 100%|██████████| 8000/8000 [00:03<00:00, 2549.49draws/s]\n",
      "The acceptance probability does not match the target. It is 0.7159560761302646, but should be close to 0.95. Try to increase the number of tuning steps.\n",
      "The acceptance probability does not match the target. It is 0.7386508880691963, but should be close to 0.95. Try to increase the number of tuning steps.\n",
      "The estimated number of effective samples is smaller than 200 for some parameters.\n",
      "Auto-assigning NUTS sampler...\n",
      "Initializing NUTS using jitter+adapt_diag...\n",
      "Multiprocess sampling (2 chains in 2 jobs)\n",
      "NUTS: [logk]\n",
      "Sampling 2 chains: 100%|██████████| 8000/8000 [00:05<00:00, 1520.79draws/s]\n",
      "The number of effective samples is smaller than 25% for some parameters.\n",
      "Auto-assigning NUTS sampler...\n",
      "Initializing NUTS using jitter+adapt_diag...\n",
      "Multiprocess sampling (2 chains in 2 jobs)\n",
      "NUTS: [logk]\n",
      "Sampling 2 chains: 100%|██████████| 8000/8000 [00:05<00:00, 1531.56draws/s]\n",
      "The acceptance probability does not match the target. It is 0.8052787454809619, but should be close to 0.95. Try to increase the number of tuning steps.\n",
      "The number of effective samples is smaller than 10% for some parameters.\n",
      "Auto-assigning NUTS sampler...\n",
      "Initializing NUTS using jitter+adapt_diag...\n",
      "Multiprocess sampling (2 chains in 2 jobs)\n",
      "NUTS: [logk]\n",
      "Sampling 2 chains: 100%|██████████| 8000/8000 [00:03<00:00, 2075.38draws/s]\n",
      "Auto-assigning NUTS sampler...\n",
      "Initializing NUTS using jitter+adapt_diag...\n",
      "Multiprocess sampling (2 chains in 2 jobs)\n",
      "NUTS: [logk]\n",
      "Sampling 2 chains: 100%|██████████| 8000/8000 [00:05<00:00, 1460.50draws/s]\n",
      "The number of effective samples is smaller than 25% for some parameters.\n",
      "Auto-assigning NUTS sampler...\n",
      "Initializing NUTS using jitter+adapt_diag...\n",
      "Multiprocess sampling (2 chains in 2 jobs)\n",
      "NUTS: [logk]\n",
      "Sampling 2 chains: 100%|██████████| 8000/8000 [00:03<00:00, 2299.36draws/s]\n",
      "Auto-assigning NUTS sampler...\n",
      "Initializing NUTS using jitter+adapt_diag...\n",
      "Multiprocess sampling (2 chains in 2 jobs)\n",
      "NUTS: [logk]\n",
      "Sampling 2 chains: 100%|██████████| 8000/8000 [00:04<00:00, 1664.56draws/s]\n",
      "The acceptance probability does not match the target. It is 0.9955929017448297, but should be close to 0.95. Try to increase the number of tuning steps.\n",
      "The estimated number of effective samples is smaller than 200 for some parameters.\n",
      "Auto-assigning NUTS sampler...\n",
      "Initializing NUTS using jitter+adapt_diag...\n",
      "Multiprocess sampling (2 chains in 2 jobs)\n",
      "NUTS: [logk]\n",
      "Sampling 2 chains: 100%|██████████| 8000/8000 [00:04<00:00, 1637.43draws/s]\n",
      "The number of effective samples is smaller than 25% for some parameters.\n",
      "Auto-assigning NUTS sampler...\n",
      "Initializing NUTS using jitter+adapt_diag...\n",
      "Multiprocess sampling (2 chains in 2 jobs)\n",
      "NUTS: [logk]\n",
      "Sampling 2 chains: 100%|██████████| 8000/8000 [00:03<00:00, 2298.43draws/s]\n",
      "Auto-assigning NUTS sampler...\n",
      "Initializing NUTS using jitter+adapt_diag...\n",
      "Multiprocess sampling (2 chains in 2 jobs)\n",
      "NUTS: [logk]\n",
      "Sampling 2 chains: 100%|██████████| 8000/8000 [00:05<00:00, 1413.09draws/s]\n",
      "The number of effective samples is smaller than 25% for some parameters.\n",
      "Auto-assigning NUTS sampler...\n",
      "Initializing NUTS using jitter+adapt_diag...\n",
      "Multiprocess sampling (2 chains in 2 jobs)\n",
      "NUTS: [logk]\n",
      "Sampling 2 chains: 100%|██████████| 8000/8000 [00:03<00:00, 2554.45draws/s]\n",
      "Auto-assigning NUTS sampler...\n",
      "Initializing NUTS using jitter+adapt_diag...\n",
      "Multiprocess sampling (2 chains in 2 jobs)\n",
      "NUTS: [logk]\n",
      "Sampling 2 chains: 100%|██████████| 8000/8000 [00:04<00:00, 1617.72draws/s]\n",
      "The number of effective samples is smaller than 25% for some parameters.\n",
      "Auto-assigning NUTS sampler...\n",
      "Initializing NUTS using jitter+adapt_diag...\n",
      "Multiprocess sampling (2 chains in 2 jobs)\n",
      "NUTS: [logk]\n",
      "Sampling 2 chains: 100%|██████████| 8000/8000 [00:03<00:00, 2280.80draws/s]\n",
      "Auto-assigning NUTS sampler...\n",
      "Initializing NUTS using jitter+adapt_diag...\n",
      "Multiprocess sampling (2 chains in 2 jobs)\n",
      "NUTS: [logk]\n",
      "Sampling 2 chains: 100%|██████████| 8000/8000 [00:04<00:00, 1971.50draws/s]\n",
      "The number of effective samples is smaller than 10% for some parameters.\n",
      "Auto-assigning NUTS sampler...\n",
      "Initializing NUTS using jitter+adapt_diag...\n",
      "Multiprocess sampling (2 chains in 2 jobs)\n",
      "NUTS: [logk]\n",
      "Sampling 2 chains: 100%|██████████| 8000/8000 [00:03<00:00, 2505.89draws/s]\n",
      "The acceptance probability does not match the target. It is 0.8241790272818981, but should be close to 0.95. Try to increase the number of tuning steps.\n",
      "The number of effective samples is smaller than 25% for some parameters.\n",
      "Auto-assigning NUTS sampler...\n",
      "Initializing NUTS using jitter+adapt_diag...\n",
      "Multiprocess sampling (2 chains in 2 jobs)\n",
      "NUTS: [logk]\n",
      "Sampling 2 chains: 100%|██████████| 8000/8000 [00:03<00:00, 2301.20draws/s]\n",
      "Auto-assigning NUTS sampler...\n",
      "Initializing NUTS using jitter+adapt_diag...\n",
      "Multiprocess sampling (2 chains in 2 jobs)\n",
      "NUTS: [logk]\n",
      "Sampling 2 chains: 100%|██████████| 8000/8000 [00:05<00:00, 1441.91draws/s]\n",
      "The number of effective samples is smaller than 25% for some parameters.\n",
      "Auto-assigning NUTS sampler...\n",
      "Initializing NUTS using jitter+adapt_diag...\n",
      "Multiprocess sampling (2 chains in 2 jobs)\n",
      "NUTS: [logk]\n",
      "Sampling 2 chains: 100%|██████████| 8000/8000 [00:05<00:00, 1450.03draws/s]\n",
      "The number of effective samples is smaller than 25% for some parameters.\n",
      "Auto-assigning NUTS sampler...\n",
      "Initializing NUTS using jitter+adapt_diag...\n",
      "Multiprocess sampling (2 chains in 2 jobs)\n",
      "NUTS: [logk]\n",
      "Sampling 2 chains: 100%|██████████| 8000/8000 [00:03<00:00, 2430.35draws/s]\n",
      "Auto-assigning NUTS sampler...\n",
      "Initializing NUTS using jitter+adapt_diag...\n",
      "Multiprocess sampling (2 chains in 2 jobs)\n",
      "NUTS: [logk]\n",
      "Sampling 2 chains: 100%|██████████| 8000/8000 [00:03<00:00, 2399.42draws/s]\n",
      "Auto-assigning NUTS sampler...\n",
      "Initializing NUTS using jitter+adapt_diag...\n",
      "Multiprocess sampling (2 chains in 2 jobs)\n",
      "NUTS: [logk]\n",
      "Sampling 2 chains: 100%|██████████| 8000/8000 [00:05<00:00, 1579.98draws/s]\n",
      "The number of effective samples is smaller than 25% for some parameters.\n",
      "Auto-assigning NUTS sampler...\n",
      "Initializing NUTS using jitter+adapt_diag...\n",
      "Multiprocess sampling (2 chains in 2 jobs)\n",
      "NUTS: [logk]\n",
      "Sampling 2 chains: 100%|██████████| 8000/8000 [00:03<00:00, 2022.55draws/s]\n",
      "The gelman-rubin statistic is larger than 1.05 for some parameters. This indicates slight problems during sampling.\n",
      "The estimated number of effective samples is smaller than 200 for some parameters.\n",
      "Auto-assigning NUTS sampler...\n",
      "Initializing NUTS using jitter+adapt_diag...\n",
      "Multiprocess sampling (2 chains in 2 jobs)\n",
      "NUTS: [logk]\n",
      "Sampling 2 chains: 100%|██████████| 8000/8000 [00:06<00:00, 1218.85draws/s]\n",
      "The number of effective samples is smaller than 25% for some parameters.\n",
      "Auto-assigning NUTS sampler...\n",
      "Initializing NUTS using jitter+adapt_diag...\n",
      "Multiprocess sampling (2 chains in 2 jobs)\n",
      "NUTS: [logk]\n",
      "Sampling 2 chains: 100%|██████████| 8000/8000 [00:05<00:00, 1454.17draws/s]\n",
      "The number of effective samples is smaller than 25% for some parameters.\n",
      "Auto-assigning NUTS sampler...\n",
      "Initializing NUTS using jitter+adapt_diag...\n",
      "Multiprocess sampling (2 chains in 2 jobs)\n",
      "NUTS: [logk]\n",
      "Sampling 2 chains: 100%|██████████| 8000/8000 [00:03<00:00, 2030.90draws/s]\n",
      "Auto-assigning NUTS sampler...\n",
      "Initializing NUTS using jitter+adapt_diag...\n",
      "Multiprocess sampling (2 chains in 2 jobs)\n",
      "NUTS: [logk]\n",
      "Sampling 2 chains: 100%|██████████| 8000/8000 [00:03<00:00, 2284.02draws/s]\n",
      "The number of effective samples is smaller than 25% for some parameters.\n",
      "Auto-assigning NUTS sampler...\n",
      "Initializing NUTS using jitter+adapt_diag...\n",
      "Multiprocess sampling (2 chains in 2 jobs)\n",
      "NUTS: [logk]\n",
      "Sampling 2 chains: 100%|██████████| 8000/8000 [00:03<00:00, 2320.97draws/s]\n",
      "Auto-assigning NUTS sampler...\n",
      "Initializing NUTS using jitter+adapt_diag...\n",
      "Multiprocess sampling (2 chains in 2 jobs)\n",
      "NUTS: [logk]\n",
      "Sampling 2 chains: 100%|██████████| 8000/8000 [00:04<00:00, 1966.34draws/s]\n",
      "The acceptance probability does not match the target. It is 0.8430477945877254, but should be close to 0.95. Try to increase the number of tuning steps.\n",
      "The number of effective samples is smaller than 10% for some parameters.\n",
      "Auto-assigning NUTS sampler...\n",
      "Initializing NUTS using jitter+adapt_diag...\n",
      "Multiprocess sampling (2 chains in 2 jobs)\n",
      "NUTS: [logk]\n",
      "Sampling 2 chains: 100%|██████████| 8000/8000 [00:03<00:00, 2027.65draws/s]\n",
      "The number of effective samples is smaller than 25% for some parameters.\n",
      "Auto-assigning NUTS sampler...\n",
      "Initializing NUTS using jitter+adapt_diag...\n",
      "Multiprocess sampling (2 chains in 2 jobs)\n",
      "NUTS: [logk]\n",
      "Sampling 2 chains: 100%|██████████| 8000/8000 [00:05<00:00, 1407.53draws/s]\n",
      "The number of effective samples is smaller than 25% for some parameters.\n",
      "Auto-assigning NUTS sampler...\n",
      "Initializing NUTS using jitter+adapt_diag...\n",
      "Multiprocess sampling (2 chains in 2 jobs)\n",
      "NUTS: [logk]\n",
      "Sampling 2 chains: 100%|██████████| 8000/8000 [00:04<00:00, 1938.43draws/s]\n",
      "Auto-assigning NUTS sampler...\n",
      "Initializing NUTS using jitter+adapt_diag...\n",
      "Multiprocess sampling (2 chains in 2 jobs)\n",
      "NUTS: [logk]\n",
      "Sampling 2 chains: 100%|██████████| 8000/8000 [00:03<00:00, 2056.99draws/s]\n",
      "Auto-assigning NUTS sampler...\n",
      "Initializing NUTS using jitter+adapt_diag...\n",
      "Multiprocess sampling (2 chains in 2 jobs)\n",
      "NUTS: [logk]\n",
      "Sampling 2 chains: 100%|██████████| 8000/8000 [00:07<00:00, 1005.83draws/s]\n",
      "The number of effective samples is smaller than 25% for some parameters.\n",
      "Auto-assigning NUTS sampler...\n",
      "Initializing NUTS using jitter+adapt_diag...\n",
      "Multiprocess sampling (2 chains in 2 jobs)\n",
      "NUTS: [logk]\n",
      "Sampling 2 chains: 100%|██████████| 8000/8000 [00:05<00:00, 1563.92draws/s]\n",
      "The number of effective samples is smaller than 10% for some parameters.\n",
      "Auto-assigning NUTS sampler...\n",
      "Initializing NUTS using jitter+adapt_diag...\n",
      "Multiprocess sampling (2 chains in 2 jobs)\n",
      "NUTS: [logk]\n",
      "Sampling 2 chains: 100%|██████████| 8000/8000 [00:03<00:00, 2098.49draws/s]\n",
      "Auto-assigning NUTS sampler...\n",
      "Initializing NUTS using jitter+adapt_diag...\n",
      "Multiprocess sampling (2 chains in 2 jobs)\n",
      "NUTS: [logk]\n",
      "Sampling 2 chains: 100%|██████████| 8000/8000 [00:04<00:00, 1717.12draws/s]\n",
      "The acceptance probability does not match the target. It is 0.9073433358105824, but should be close to 0.95. Try to increase the number of tuning steps.\n",
      "The acceptance probability does not match the target. It is 0.8670363877047563, but should be close to 0.95. Try to increase the number of tuning steps.\n",
      "The estimated number of effective samples is smaller than 200 for some parameters.\n",
      "Auto-assigning NUTS sampler...\n",
      "Initializing NUTS using jitter+adapt_diag...\n",
      "Multiprocess sampling (2 chains in 2 jobs)\n",
      "NUTS: [logk]\n",
      "Sampling 2 chains: 100%|██████████| 8000/8000 [00:03<00:00, 2434.85draws/s]\n",
      "Auto-assigning NUTS sampler...\n",
      "Initializing NUTS using jitter+adapt_diag...\n",
      "Multiprocess sampling (2 chains in 2 jobs)\n",
      "NUTS: [logk]\n",
      "Sampling 2 chains: 100%|██████████| 8000/8000 [00:03<00:00, 2474.63draws/s]\n",
      "The acceptance probability does not match the target. It is 0.8788386172975149, but should be close to 0.95. Try to increase the number of tuning steps.\n",
      "The acceptance probability does not match the target. It is 0.9019431659551231, but should be close to 0.95. Try to increase the number of tuning steps.\n",
      "The estimated number of effective samples is smaller than 200 for some parameters.\n",
      "Auto-assigning NUTS sampler...\n",
      "Initializing NUTS using jitter+adapt_diag...\n",
      "Multiprocess sampling (2 chains in 2 jobs)\n",
      "NUTS: [logk]\n",
      "Sampling 2 chains: 100%|██████████| 8000/8000 [00:03<00:00, 2279.76draws/s]\n",
      "Auto-assigning NUTS sampler...\n",
      "Initializing NUTS using jitter+adapt_diag...\n",
      "Multiprocess sampling (2 chains in 2 jobs)\n",
      "NUTS: [logk]\n",
      "Sampling 2 chains: 100%|██████████| 8000/8000 [00:05<00:00, 1599.56draws/s]\n",
      "Auto-assigning NUTS sampler...\n",
      "Initializing NUTS using jitter+adapt_diag...\n",
      "Multiprocess sampling (2 chains in 2 jobs)\n",
      "NUTS: [logk]\n",
      "Sampling 2 chains: 100%|██████████| 8000/8000 [00:03<00:00, 2122.03draws/s]\n",
      "The number of effective samples is smaller than 25% for some parameters.\n",
      "Auto-assigning NUTS sampler...\n",
      "Initializing NUTS using jitter+adapt_diag...\n",
      "Multiprocess sampling (2 chains in 2 jobs)\n",
      "NUTS: [logk]\n",
      "Sampling 2 chains: 100%|██████████| 8000/8000 [00:03<00:00, 2549.09draws/s]\n",
      "Auto-assigning NUTS sampler...\n",
      "Initializing NUTS using jitter+adapt_diag...\n",
      "Multiprocess sampling (2 chains in 2 jobs)\n",
      "NUTS: [logk]\n",
      "Sampling 2 chains: 100%|██████████| 8000/8000 [00:03<00:00, 2596.94draws/s]\n",
      "Auto-assigning NUTS sampler...\n",
      "Initializing NUTS using jitter+adapt_diag...\n",
      "Multiprocess sampling (2 chains in 2 jobs)\n",
      "NUTS: [logk]\n",
      "Sampling 2 chains: 100%|██████████| 8000/8000 [00:05<00:00, 1503.97draws/s]\n",
      "Auto-assigning NUTS sampler...\n",
      "Initializing NUTS using jitter+adapt_diag...\n",
      "Multiprocess sampling (2 chains in 2 jobs)\n",
      "NUTS: [logk]\n",
      "Sampling 2 chains: 100%|██████████| 8000/8000 [00:07<00:00, 1117.69draws/s]\n",
      "The number of effective samples is smaller than 25% for some parameters.\n",
      "Auto-assigning NUTS sampler...\n",
      "Initializing NUTS using jitter+adapt_diag...\n",
      "Multiprocess sampling (2 chains in 2 jobs)\n",
      "NUTS: [logk]\n",
      "Sampling 2 chains: 100%|██████████| 8000/8000 [00:04<00:00, 1944.14draws/s]\n",
      "The number of effective samples is smaller than 25% for some parameters.\n",
      "Auto-assigning NUTS sampler...\n",
      "Initializing NUTS using jitter+adapt_diag...\n",
      "Multiprocess sampling (2 chains in 2 jobs)\n",
      "NUTS: [logk]\n",
      "Sampling 2 chains: 100%|██████████| 8000/8000 [00:06<00:00, 1156.06draws/s]\n",
      "The number of effective samples is smaller than 25% for some parameters.\n",
      "Auto-assigning NUTS sampler...\n",
      "Initializing NUTS using jitter+adapt_diag...\n",
      "Multiprocess sampling (2 chains in 2 jobs)\n",
      "NUTS: [logk]\n",
      "Sampling 2 chains: 100%|██████████| 8000/8000 [00:05<00:00, 1596.75draws/s]\n",
      "The estimated number of effective samples is smaller than 200 for some parameters.\n",
      "Auto-assigning NUTS sampler...\n",
      "Initializing NUTS using jitter+adapt_diag...\n",
      "Multiprocess sampling (2 chains in 2 jobs)\n",
      "NUTS: [logk]\n",
      "Sampling 2 chains: 100%|██████████| 8000/8000 [00:06<00:00, 1325.36draws/s]\n",
      "The number of effective samples is smaller than 25% for some parameters.\n",
      "Auto-assigning NUTS sampler...\n",
      "Initializing NUTS using jitter+adapt_diag...\n",
      "Multiprocess sampling (2 chains in 2 jobs)\n",
      "NUTS: [logk]\n",
      "Sampling 2 chains: 100%|██████████| 8000/8000 [00:03<00:00, 2095.19draws/s]\n",
      "The number of effective samples is smaller than 25% for some parameters.\n",
      "Auto-assigning NUTS sampler...\n",
      "Initializing NUTS using jitter+adapt_diag...\n",
      "Multiprocess sampling (2 chains in 2 jobs)\n",
      "NUTS: [logk]\n",
      "Sampling 2 chains: 100%|██████████| 8000/8000 [00:03<00:00, 2019.75draws/s]\n",
      "The number of effective samples is smaller than 25% for some parameters.\n",
      "Auto-assigning NUTS sampler...\n",
      "Initializing NUTS using jitter+adapt_diag...\n",
      "Multiprocess sampling (2 chains in 2 jobs)\n",
      "NUTS: [logk]\n",
      "Sampling 2 chains: 100%|██████████| 8000/8000 [00:04<00:00, 1602.97draws/s]\n",
      "The number of effective samples is smaller than 25% for some parameters.\n",
      "Auto-assigning NUTS sampler...\n",
      "Initializing NUTS using jitter+adapt_diag...\n",
      "Multiprocess sampling (2 chains in 2 jobs)\n",
      "NUTS: [logk]\n",
      "Sampling 2 chains: 100%|██████████| 8000/8000 [00:03<00:00, 2418.59draws/s]\n",
      "Auto-assigning NUTS sampler...\n",
      "Initializing NUTS using jitter+adapt_diag...\n",
      "Multiprocess sampling (2 chains in 2 jobs)\n",
      "NUTS: [logk]\n",
      "Sampling 2 chains: 100%|██████████| 8000/8000 [00:06<00:00, 1246.51draws/s]\n",
      "The number of effective samples is smaller than 25% for some parameters.\n",
      "Auto-assigning NUTS sampler...\n",
      "Initializing NUTS using jitter+adapt_diag...\n",
      "Multiprocess sampling (2 chains in 2 jobs)\n",
      "NUTS: [logk]\n",
      "Sampling 2 chains: 100%|██████████| 8000/8000 [00:03<00:00, 2402.80draws/s]\n",
      "The number of effective samples is smaller than 25% for some parameters.\n",
      "Auto-assigning NUTS sampler...\n",
      "Initializing NUTS using jitter+adapt_diag...\n",
      "Multiprocess sampling (2 chains in 2 jobs)\n",
      "NUTS: [logk]\n",
      "Sampling 2 chains: 100%|██████████| 8000/8000 [00:05<00:00, 1434.37draws/s]\n",
      "The number of effective samples is smaller than 25% for some parameters.\n",
      "Auto-assigning NUTS sampler...\n",
      "Initializing NUTS using jitter+adapt_diag...\n",
      "Multiprocess sampling (2 chains in 2 jobs)\n",
      "NUTS: [logk]\n",
      "Sampling 2 chains: 100%|██████████| 8000/8000 [00:04<00:00, 1877.62draws/s]\n",
      "Auto-assigning NUTS sampler...\n",
      "Initializing NUTS using jitter+adapt_diag...\n",
      "Multiprocess sampling (2 chains in 2 jobs)\n",
      "NUTS: [logk]\n",
      "Sampling 2 chains: 100%|██████████| 8000/8000 [00:04<00:00, 1687.70draws/s]\n",
      "The number of effective samples is smaller than 10% for some parameters.\n",
      "Auto-assigning NUTS sampler...\n",
      "Initializing NUTS using jitter+adapt_diag...\n",
      "Multiprocess sampling (2 chains in 2 jobs)\n",
      "NUTS: [logk]\n",
      "Sampling 2 chains: 100%|██████████| 8000/8000 [00:03<00:00, 2058.86draws/s]\n",
      "The number of effective samples is smaller than 25% for some parameters.\n",
      "Auto-assigning NUTS sampler...\n",
      "Initializing NUTS using jitter+adapt_diag...\n",
      "Multiprocess sampling (2 chains in 2 jobs)\n",
      "NUTS: [logk]\n",
      "Sampling 2 chains: 100%|██████████| 8000/8000 [00:04<00:00, 1977.00draws/s]\n",
      "Auto-assigning NUTS sampler...\n",
      "Initializing NUTS using jitter+adapt_diag...\n",
      "Multiprocess sampling (2 chains in 2 jobs)\n",
      "NUTS: [logk]\n",
      "Sampling 2 chains: 100%|██████████| 8000/8000 [00:03<00:00, 2053.89draws/s]\n",
      "The number of effective samples is smaller than 25% for some parameters.\n",
      "Auto-assigning NUTS sampler...\n",
      "Initializing NUTS using jitter+adapt_diag...\n",
      "Multiprocess sampling (2 chains in 2 jobs)\n",
      "NUTS: [logk]\n",
      "Sampling 2 chains: 100%|██████████| 8000/8000 [00:05<00:00, 1389.55draws/s]\n",
      "The number of effective samples is smaller than 25% for some parameters.\n",
      "Auto-assigning NUTS sampler...\n",
      "Initializing NUTS using jitter+adapt_diag...\n",
      "Multiprocess sampling (2 chains in 2 jobs)\n",
      "NUTS: [logk]\n",
      "Sampling 2 chains: 100%|██████████| 8000/8000 [00:03<00:00, 2150.89draws/s]\n",
      "The number of effective samples is smaller than 25% for some parameters.\n",
      "Auto-assigning NUTS sampler...\n",
      "Initializing NUTS using jitter+adapt_diag...\n",
      "Multiprocess sampling (2 chains in 2 jobs)\n",
      "NUTS: [logk]\n",
      "Sampling 2 chains: 100%|██████████| 8000/8000 [00:03<00:00, 2180.76draws/s]\n",
      "The number of effective samples is smaller than 10% for some parameters.\n",
      "Auto-assigning NUTS sampler...\n",
      "Initializing NUTS using jitter+adapt_diag...\n",
      "Multiprocess sampling (2 chains in 2 jobs)\n",
      "NUTS: [logk]\n",
      "Sampling 2 chains: 100%|██████████| 8000/8000 [00:05<00:00, 1458.87draws/s]\n",
      "The number of effective samples is smaller than 25% for some parameters.\n",
      "Auto-assigning NUTS sampler...\n",
      "Initializing NUTS using jitter+adapt_diag...\n",
      "Multiprocess sampling (2 chains in 2 jobs)\n",
      "NUTS: [logk]\n",
      "Sampling 2 chains: 100%|██████████| 8000/8000 [00:03<00:00, 2170.52draws/s]\n",
      "The acceptance probability does not match the target. It is 0.899871135038219, but should be close to 0.95. Try to increase the number of tuning steps.\n",
      "The number of effective samples is smaller than 25% for some parameters.\n",
      "Auto-assigning NUTS sampler...\n",
      "Initializing NUTS using jitter+adapt_diag...\n",
      "Multiprocess sampling (2 chains in 2 jobs)\n",
      "NUTS: [logk]\n",
      "Sampling 2 chains: 100%|██████████| 8000/8000 [00:05<00:00, 1482.09draws/s]\n",
      "The number of effective samples is smaller than 25% for some parameters.\n",
      "Auto-assigning NUTS sampler...\n",
      "Initializing NUTS using jitter+adapt_diag...\n",
      "Multiprocess sampling (2 chains in 2 jobs)\n",
      "NUTS: [logk]\n",
      "Sampling 2 chains: 100%|██████████| 8000/8000 [00:05<00:00, 1472.65draws/s]\n",
      "The number of effective samples is smaller than 10% for some parameters.\n",
      "Auto-assigning NUTS sampler...\n",
      "Initializing NUTS using jitter+adapt_diag...\n",
      "Multiprocess sampling (2 chains in 2 jobs)\n",
      "NUTS: [logk]\n",
      "Sampling 2 chains: 100%|██████████| 8000/8000 [00:05<00:00, 1488.62draws/s]\n",
      "The number of effective samples is smaller than 25% for some parameters.\n",
      "Auto-assigning NUTS sampler...\n",
      "Initializing NUTS using jitter+adapt_diag...\n",
      "Multiprocess sampling (2 chains in 2 jobs)\n",
      "NUTS: [logk]\n",
      "Sampling 2 chains: 100%|██████████| 8000/8000 [00:03<00:00, 2321.08draws/s]\n",
      "Auto-assigning NUTS sampler...\n",
      "Initializing NUTS using jitter+adapt_diag...\n",
      "Multiprocess sampling (2 chains in 2 jobs)\n",
      "NUTS: [logk]\n",
      "Sampling 2 chains: 100%|██████████| 8000/8000 [00:05<00:00, 1471.81draws/s]\n",
      "The number of effective samples is smaller than 25% for some parameters.\n",
      "Auto-assigning NUTS sampler...\n",
      "Initializing NUTS using jitter+adapt_diag...\n",
      "Multiprocess sampling (2 chains in 2 jobs)\n",
      "NUTS: [logk]\n",
      "Sampling 2 chains: 100%|██████████| 8000/8000 [00:05<00:00, 1370.07draws/s]\n",
      "The number of effective samples is smaller than 25% for some parameters.\n",
      "Auto-assigning NUTS sampler...\n",
      "Initializing NUTS using jitter+adapt_diag...\n",
      "Multiprocess sampling (2 chains in 2 jobs)\n",
      "NUTS: [logk]\n",
      "Sampling 2 chains: 100%|██████████| 8000/8000 [00:04<00:00, 1764.70draws/s]\n",
      "The estimated number of effective samples is smaller than 200 for some parameters.\n",
      "Auto-assigning NUTS sampler...\n",
      "Initializing NUTS using jitter+adapt_diag...\n",
      "Multiprocess sampling (2 chains in 2 jobs)\n",
      "NUTS: [logk]\n",
      "Sampling 2 chains: 100%|██████████| 8000/8000 [00:03<00:00, 2147.12draws/s]\n",
      "Auto-assigning NUTS sampler...\n",
      "Initializing NUTS using jitter+adapt_diag...\n",
      "Multiprocess sampling (2 chains in 2 jobs)\n",
      "NUTS: [logk]\n",
      "Sampling 2 chains: 100%|██████████| 8000/8000 [00:03<00:00, 2274.54draws/s]\n",
      "Auto-assigning NUTS sampler...\n",
      "Initializing NUTS using jitter+adapt_diag...\n",
      "Multiprocess sampling (2 chains in 2 jobs)\n",
      "NUTS: [logk]\n",
      "Sampling 2 chains: 100%|██████████| 8000/8000 [00:05<00:00, 1405.56draws/s]\n",
      "The number of effective samples is smaller than 25% for some parameters.\n",
      "Auto-assigning NUTS sampler...\n",
      "Initializing NUTS using jitter+adapt_diag...\n",
      "Multiprocess sampling (2 chains in 2 jobs)\n",
      "NUTS: [logk]\n",
      "Sampling 2 chains: 100%|██████████| 8000/8000 [00:03<00:00, 2118.36draws/s]\n",
      "Auto-assigning NUTS sampler...\n",
      "Initializing NUTS using jitter+adapt_diag...\n",
      "Multiprocess sampling (2 chains in 2 jobs)\n",
      "NUTS: [logk]\n",
      "Sampling 2 chains: 100%|██████████| 8000/8000 [00:04<00:00, 1977.31draws/s]\n",
      "The acceptance probability does not match the target. It is 0.7468083628088434, but should be close to 0.95. Try to increase the number of tuning steps.\n",
      "The estimated number of effective samples is smaller than 200 for some parameters.\n",
      "Auto-assigning NUTS sampler...\n",
      "Initializing NUTS using jitter+adapt_diag...\n",
      "Multiprocess sampling (2 chains in 2 jobs)\n",
      "NUTS: [logk]\n",
      "Sampling 2 chains: 100%|██████████| 8000/8000 [00:05<00:00, 1381.23draws/s]\n",
      "The number of effective samples is smaller than 25% for some parameters.\n",
      "Auto-assigning NUTS sampler...\n",
      "Initializing NUTS using jitter+adapt_diag...\n",
      "Multiprocess sampling (2 chains in 2 jobs)\n",
      "NUTS: [logk]\n",
      "Sampling 2 chains: 100%|██████████| 8000/8000 [00:03<00:00, 2348.56draws/s]\n",
      "Auto-assigning NUTS sampler...\n",
      "Initializing NUTS using jitter+adapt_diag...\n",
      "Multiprocess sampling (2 chains in 2 jobs)\n",
      "NUTS: [logk]\n",
      "Sampling 2 chains: 100%|██████████| 8000/8000 [00:03<00:00, 2127.65draws/s]\n",
      "The acceptance probability does not match the target. It is 0.4199596302937517, but should be close to 0.95. Try to increase the number of tuning steps.\n",
      "The estimated number of effective samples is smaller than 200 for some parameters.\n",
      "Auto-assigning NUTS sampler...\n",
      "Initializing NUTS using jitter+adapt_diag...\n",
      "Multiprocess sampling (2 chains in 2 jobs)\n",
      "NUTS: [logk]\n",
      "Sampling 2 chains: 100%|██████████| 8000/8000 [00:05<00:00, 1375.05draws/s]\n",
      "The number of effective samples is smaller than 25% for some parameters.\n",
      "Auto-assigning NUTS sampler...\n",
      "Initializing NUTS using jitter+adapt_diag...\n",
      "Multiprocess sampling (2 chains in 2 jobs)\n",
      "NUTS: [logk]\n",
      "Sampling 2 chains: 100%|██████████| 8000/8000 [00:03<00:00, 2145.88draws/s]\n",
      "Auto-assigning NUTS sampler...\n",
      "Initializing NUTS using jitter+adapt_diag...\n",
      "Multiprocess sampling (2 chains in 2 jobs)\n",
      "NUTS: [logk]\n",
      "Sampling 2 chains: 100%|██████████| 8000/8000 [00:03<00:00, 2242.55draws/s]\n",
      "Auto-assigning NUTS sampler...\n",
      "Initializing NUTS using jitter+adapt_diag...\n",
      "Multiprocess sampling (2 chains in 2 jobs)\n",
      "NUTS: [logk]\n",
      "Sampling 2 chains: 100%|██████████| 8000/8000 [00:06<00:00, 1271.71draws/s]\n",
      "The number of effective samples is smaller than 25% for some parameters.\n",
      "Auto-assigning NUTS sampler...\n",
      "Initializing NUTS using jitter+adapt_diag...\n",
      "Multiprocess sampling (2 chains in 2 jobs)\n",
      "NUTS: [logk]\n",
      "Sampling 2 chains: 100%|██████████| 8000/8000 [00:03<00:00, 2199.02draws/s]\n",
      "Auto-assigning NUTS sampler...\n",
      "Initializing NUTS using jitter+adapt_diag...\n",
      "Multiprocess sampling (2 chains in 2 jobs)\n",
      "NUTS: [logk]\n",
      "Sampling 2 chains: 100%|██████████| 8000/8000 [00:05<00:00, 1345.02draws/s]\n",
      "The number of effective samples is smaller than 25% for some parameters.\n",
      "Auto-assigning NUTS sampler...\n",
      "Initializing NUTS using jitter+adapt_diag...\n",
      "Multiprocess sampling (2 chains in 2 jobs)\n",
      "NUTS: [logk]\n",
      "Sampling 2 chains: 100%|██████████| 8000/8000 [00:03<00:00, 2166.18draws/s]\n",
      "Auto-assigning NUTS sampler...\n",
      "Initializing NUTS using jitter+adapt_diag...\n",
      "Multiprocess sampling (2 chains in 2 jobs)\n",
      "NUTS: [logk]\n",
      "Sampling 2 chains: 100%|██████████| 8000/8000 [00:03<00:00, 2229.46draws/s]\n",
      "Auto-assigning NUTS sampler...\n",
      "Initializing NUTS using jitter+adapt_diag...\n",
      "Multiprocess sampling (2 chains in 2 jobs)\n",
      "NUTS: [logk]\n",
      "Sampling 2 chains: 100%|██████████| 8000/8000 [00:03<00:00, 2409.29draws/s]\n",
      "The acceptance probability does not match the target. It is 0.8993848383650122, but should be close to 0.95. Try to increase the number of tuning steps.\n",
      "The number of effective samples is smaller than 10% for some parameters.\n",
      "Auto-assigning NUTS sampler...\n",
      "Initializing NUTS using jitter+adapt_diag...\n",
      "Multiprocess sampling (2 chains in 2 jobs)\n",
      "NUTS: [logk]\n",
      "Sampling 2 chains: 100%|██████████| 8000/8000 [00:04<00:00, 1958.58draws/s]\n",
      "The number of effective samples is smaller than 25% for some parameters.\n",
      "Auto-assigning NUTS sampler...\n",
      "Initializing NUTS using jitter+adapt_diag...\n",
      "Multiprocess sampling (2 chains in 2 jobs)\n",
      "NUTS: [logk]\n",
      "Sampling 2 chains: 100%|██████████| 8000/8000 [00:03<00:00, 2293.86draws/s]\n",
      "The acceptance probability does not match the target. It is 0.9033345230893005, but should be close to 0.95. Try to increase the number of tuning steps.\n",
      "Auto-assigning NUTS sampler...\n",
      "Initializing NUTS using jitter+adapt_diag...\n",
      "Multiprocess sampling (2 chains in 2 jobs)\n",
      "NUTS: [logk]\n",
      "Sampling 2 chains: 100%|██████████| 8000/8000 [00:06<00:00, 1269.73draws/s]\n",
      "The number of effective samples is smaller than 25% for some parameters.\n",
      "Auto-assigning NUTS sampler...\n",
      "Initializing NUTS using jitter+adapt_diag...\n",
      "Multiprocess sampling (2 chains in 2 jobs)\n",
      "NUTS: [logk]\n",
      "Sampling 2 chains: 100%|██████████| 8000/8000 [00:03<00:00, 2365.13draws/s]\n",
      "The acceptance probability does not match the target. It is 0.7987550188543481, but should be close to 0.95. Try to increase the number of tuning steps.\n",
      "Auto-assigning NUTS sampler...\n",
      "Initializing NUTS using jitter+adapt_diag...\n",
      "Multiprocess sampling (2 chains in 2 jobs)\n",
      "NUTS: [logk]\n",
      "Sampling 2 chains: 100%|██████████| 8000/8000 [00:05<00:00, 1580.37draws/s]\n",
      "The number of effective samples is smaller than 25% for some parameters.\n",
      "Auto-assigning NUTS sampler...\n",
      "Initializing NUTS using jitter+adapt_diag...\n",
      "Multiprocess sampling (2 chains in 2 jobs)\n",
      "NUTS: [logk]\n",
      "Sampling 2 chains: 100%|██████████| 8000/8000 [00:03<00:00, 2318.54draws/s]\n",
      "Auto-assigning NUTS sampler...\n",
      "Initializing NUTS using jitter+adapt_diag...\n",
      "Multiprocess sampling (2 chains in 2 jobs)\n",
      "NUTS: [logk]\n",
      "Sampling 2 chains: 100%|██████████| 8000/8000 [00:03<00:00, 2187.26draws/s]\n",
      "The number of effective samples is smaller than 25% for some parameters.\n",
      "Auto-assigning NUTS sampler...\n",
      "Initializing NUTS using jitter+adapt_diag...\n",
      "Multiprocess sampling (2 chains in 2 jobs)\n",
      "NUTS: [logk]\n",
      "Sampling 2 chains: 100%|██████████| 8000/8000 [00:03<00:00, 2384.49draws/s]\n",
      "Auto-assigning NUTS sampler...\n",
      "Initializing NUTS using jitter+adapt_diag...\n",
      "Multiprocess sampling (2 chains in 2 jobs)\n",
      "NUTS: [logk]\n",
      "Sampling 2 chains: 100%|██████████| 8000/8000 [00:03<00:00, 2168.02draws/s]\n",
      "The number of effective samples is smaller than 25% for some parameters.\n",
      "Auto-assigning NUTS sampler...\n",
      "Initializing NUTS using jitter+adapt_diag...\n",
      "Multiprocess sampling (2 chains in 2 jobs)\n",
      "NUTS: [logk]\n",
      "Sampling 2 chains: 100%|██████████| 8000/8000 [00:03<00:00, 2186.55draws/s]\n",
      "The number of effective samples is smaller than 25% for some parameters.\n",
      "Auto-assigning NUTS sampler...\n",
      "Initializing NUTS using jitter+adapt_diag...\n",
      "Multiprocess sampling (2 chains in 2 jobs)\n",
      "NUTS: [logk]\n",
      "Sampling 2 chains: 100%|██████████| 8000/8000 [00:05<00:00, 1474.43draws/s]\n",
      "The number of effective samples is smaller than 25% for some parameters.\n",
      "Auto-assigning NUTS sampler...\n",
      "Initializing NUTS using jitter+adapt_diag...\n",
      "Multiprocess sampling (2 chains in 2 jobs)\n",
      "NUTS: [logk]\n",
      "Sampling 2 chains: 100%|██████████| 8000/8000 [00:04<00:00, 1767.15draws/s]\n",
      "The acceptance probability does not match the target. It is 0.8205195783490988, but should be close to 0.95. Try to increase the number of tuning steps.\n",
      "The number of effective samples is smaller than 10% for some parameters.\n",
      "Auto-assigning NUTS sampler...\n",
      "Initializing NUTS using jitter+adapt_diag...\n",
      "Multiprocess sampling (2 chains in 2 jobs)\n",
      "NUTS: [logk]\n",
      "Sampling 2 chains: 100%|██████████| 8000/8000 [00:04<00:00, 1831.60draws/s]\n",
      "Auto-assigning NUTS sampler...\n",
      "Initializing NUTS using jitter+adapt_diag...\n",
      "Multiprocess sampling (2 chains in 2 jobs)\n",
      "NUTS: [logk]\n",
      "Sampling 2 chains: 100%|██████████| 8000/8000 [00:03<00:00, 2152.63draws/s]\n",
      "The number of effective samples is smaller than 25% for some parameters.\n",
      "Auto-assigning NUTS sampler...\n",
      "Initializing NUTS using jitter+adapt_diag...\n",
      "Multiprocess sampling (2 chains in 2 jobs)\n",
      "NUTS: [logk]\n",
      "Sampling 2 chains: 100%|██████████| 8000/8000 [00:05<00:00, 1347.34draws/s]\n",
      "The number of effective samples is smaller than 25% for some parameters.\n",
      "Auto-assigning NUTS sampler...\n",
      "Initializing NUTS using jitter+adapt_diag...\n",
      "Multiprocess sampling (2 chains in 2 jobs)\n",
      "NUTS: [logk]\n",
      "Sampling 2 chains: 100%|██████████| 8000/8000 [00:03<00:00, 2237.65draws/s]\n",
      "Auto-assigning NUTS sampler...\n",
      "Initializing NUTS using jitter+adapt_diag...\n",
      "Multiprocess sampling (2 chains in 2 jobs)\n",
      "NUTS: [logk]\n",
      "Sampling 2 chains: 100%|██████████| 8000/8000 [00:04<00:00, 1940.54draws/s]\n",
      "The acceptance probability does not match the target. It is 0.8830609649042455, but should be close to 0.95. Try to increase the number of tuning steps.\n",
      "The gelman-rubin statistic is larger than 1.4 for some parameters. The sampler did not converge.\n",
      "The estimated number of effective samples is smaller than 200 for some parameters.\n",
      "Auto-assigning NUTS sampler...\n",
      "Initializing NUTS using jitter+adapt_diag...\n",
      "Multiprocess sampling (2 chains in 2 jobs)\n",
      "NUTS: [logk]\n",
      "Sampling 2 chains: 100%|██████████| 8000/8000 [00:05<00:00, 1450.09draws/s]\n",
      "The number of effective samples is smaller than 25% for some parameters.\n",
      "Auto-assigning NUTS sampler...\n",
      "Initializing NUTS using jitter+adapt_diag...\n",
      "Multiprocess sampling (2 chains in 2 jobs)\n",
      "NUTS: [logk]\n",
      "Sampling 2 chains: 100%|██████████| 8000/8000 [00:03<00:00, 2139.83draws/s]\n",
      "The number of effective samples is smaller than 25% for some parameters.\n",
      "Auto-assigning NUTS sampler...\n",
      "Initializing NUTS using jitter+adapt_diag...\n",
      "Multiprocess sampling (2 chains in 2 jobs)\n",
      "NUTS: [logk]\n",
      "Sampling 2 chains: 100%|██████████| 8000/8000 [00:04<00:00, 1639.54draws/s]\n",
      "The number of effective samples is smaller than 25% for some parameters.\n",
      "Auto-assigning NUTS sampler...\n",
      "Initializing NUTS using jitter+adapt_diag...\n",
      "Multiprocess sampling (2 chains in 2 jobs)\n",
      "NUTS: [logk]\n",
      "Sampling 2 chains: 100%|██████████| 8000/8000 [00:03<00:00, 2263.58draws/s]\n",
      "Auto-assigning NUTS sampler...\n",
      "Initializing NUTS using jitter+adapt_diag...\n",
      "Multiprocess sampling (2 chains in 2 jobs)\n",
      "NUTS: [logk]\n",
      "Sampling 2 chains: 100%|██████████| 8000/8000 [00:03<00:00, 2091.58draws/s]\n",
      "Auto-assigning NUTS sampler...\n",
      "Initializing NUTS using jitter+adapt_diag...\n",
      "Multiprocess sampling (2 chains in 2 jobs)\n",
      "NUTS: [logk]\n",
      "Sampling 2 chains: 100%|██████████| 8000/8000 [00:04<00:00, 1992.58draws/s]\n",
      "Auto-assigning NUTS sampler...\n",
      "Initializing NUTS using jitter+adapt_diag...\n",
      "Multiprocess sampling (2 chains in 2 jobs)\n",
      "NUTS: [logk]\n",
      "Sampling 2 chains: 100%|██████████| 8000/8000 [00:03<00:00, 2150.70draws/s]\n",
      "Auto-assigning NUTS sampler...\n",
      "Initializing NUTS using jitter+adapt_diag...\n",
      "Multiprocess sampling (2 chains in 2 jobs)\n",
      "NUTS: [logk]\n",
      "Sampling 2 chains: 100%|██████████| 8000/8000 [00:04<00:00, 1985.41draws/s]\n",
      "The number of effective samples is smaller than 25% for some parameters.\n",
      "Auto-assigning NUTS sampler...\n",
      "Initializing NUTS using jitter+adapt_diag...\n",
      "Multiprocess sampling (2 chains in 2 jobs)\n",
      "NUTS: [logk]\n",
      "Sampling 2 chains: 100%|██████████| 8000/8000 [00:03<00:00, 2329.74draws/s]\n",
      "Auto-assigning NUTS sampler...\n",
      "Initializing NUTS using jitter+adapt_diag...\n",
      "Multiprocess sampling (2 chains in 2 jobs)\n",
      "NUTS: [logk]\n",
      "Sampling 2 chains: 100%|██████████| 8000/8000 [00:04<00:00, 1866.48draws/s]\n",
      "The acceptance probability does not match the target. It is 0.8205195783490988, but should be close to 0.95. Try to increase the number of tuning steps.\n",
      "The number of effective samples is smaller than 10% for some parameters.\n",
      "Auto-assigning NUTS sampler...\n",
      "Initializing NUTS using jitter+adapt_diag...\n",
      "Multiprocess sampling (2 chains in 2 jobs)\n",
      "NUTS: [logk]\n",
      "Sampling 2 chains: 100%|██████████| 8000/8000 [00:03<00:00, 2310.55draws/s]\n",
      "Auto-assigning NUTS sampler...\n",
      "Initializing NUTS using jitter+adapt_diag...\n",
      "Multiprocess sampling (2 chains in 2 jobs)\n",
      "NUTS: [logk]\n",
      "Sampling 2 chains: 100%|██████████| 8000/8000 [00:03<00:00, 2351.10draws/s]\n",
      "Auto-assigning NUTS sampler...\n",
      "Initializing NUTS using jitter+adapt_diag...\n",
      "Multiprocess sampling (2 chains in 2 jobs)\n",
      "NUTS: [logk]\n",
      "Sampling 2 chains: 100%|██████████| 8000/8000 [00:03<00:00, 2111.36draws/s]\n",
      "The number of effective samples is smaller than 10% for some parameters.\n",
      "Auto-assigning NUTS sampler...\n",
      "Initializing NUTS using jitter+adapt_diag...\n",
      "Multiprocess sampling (2 chains in 2 jobs)\n",
      "NUTS: [logk]\n",
      "Sampling 2 chains: 100%|██████████| 8000/8000 [00:06<00:00, 1310.64draws/s]\n",
      "The number of effective samples is smaller than 25% for some parameters.\n",
      "Auto-assigning NUTS sampler...\n",
      "Initializing NUTS using jitter+adapt_diag...\n",
      "Multiprocess sampling (2 chains in 2 jobs)\n",
      "NUTS: [logk]\n",
      "Sampling 2 chains: 100%|██████████| 8000/8000 [00:03<00:00, 2258.84draws/s]\n",
      "Auto-assigning NUTS sampler...\n",
      "Initializing NUTS using jitter+adapt_diag...\n",
      "Multiprocess sampling (2 chains in 2 jobs)\n",
      "NUTS: [logk]\n",
      "Sampling 2 chains: 100%|██████████| 8000/8000 [00:05<00:00, 1434.52draws/s]\n",
      "The number of effective samples is smaller than 25% for some parameters.\n",
      "Auto-assigning NUTS sampler...\n",
      "Initializing NUTS using jitter+adapt_diag...\n",
      "Multiprocess sampling (2 chains in 2 jobs)\n",
      "NUTS: [logk]\n",
      "Sampling 2 chains: 100%|██████████| 8000/8000 [00:03<00:00, 2274.60draws/s]\n",
      "Auto-assigning NUTS sampler...\n",
      "Initializing NUTS using jitter+adapt_diag...\n",
      "Multiprocess sampling (2 chains in 2 jobs)\n",
      "NUTS: [logk]\n",
      "Sampling 2 chains: 100%|██████████| 8000/8000 [00:03<00:00, 2020.31draws/s]\n",
      "The number of effective samples is smaller than 25% for some parameters.\n",
      "Auto-assigning NUTS sampler...\n",
      "Initializing NUTS using jitter+adapt_diag...\n",
      "Multiprocess sampling (2 chains in 2 jobs)\n",
      "NUTS: [logk]\n",
      "Sampling 2 chains: 100%|██████████| 8000/8000 [00:03<00:00, 2088.85draws/s]\n",
      "Auto-assigning NUTS sampler...\n",
      "Initializing NUTS using jitter+adapt_diag...\n",
      "Multiprocess sampling (2 chains in 2 jobs)\n",
      "NUTS: [logk]\n",
      "Sampling 2 chains: 100%|██████████| 8000/8000 [00:04<00:00, 1971.91draws/s]\n",
      "Auto-assigning NUTS sampler...\n",
      "Initializing NUTS using jitter+adapt_diag...\n",
      "Multiprocess sampling (2 chains in 2 jobs)\n",
      "NUTS: [logk]\n",
      "Sampling 2 chains: 100%|██████████| 8000/8000 [00:06<00:00, 1243.35draws/s]\n",
      "The number of effective samples is smaller than 25% for some parameters.\n",
      "Auto-assigning NUTS sampler...\n",
      "Initializing NUTS using jitter+adapt_diag...\n",
      "Multiprocess sampling (2 chains in 2 jobs)\n",
      "NUTS: [logk]\n",
      "Sampling 2 chains: 100%|██████████| 8000/8000 [00:05<00:00, 1392.33draws/s]\n",
      "The number of effective samples is smaller than 25% for some parameters.\n",
      "Auto-assigning NUTS sampler...\n",
      "Initializing NUTS using jitter+adapt_diag...\n",
      "Multiprocess sampling (2 chains in 2 jobs)\n",
      "NUTS: [logk]\n",
      "Sampling 2 chains: 100%|██████████| 8000/8000 [00:05<00:00, 1346.59draws/s]\n",
      "The number of effective samples is smaller than 25% for some parameters.\n",
      "Auto-assigning NUTS sampler...\n",
      "Initializing NUTS using jitter+adapt_diag...\n",
      "Multiprocess sampling (2 chains in 2 jobs)\n",
      "NUTS: [logk]\n",
      "Sampling 2 chains: 100%|██████████| 8000/8000 [00:05<00:00, 1357.20draws/s]\n",
      "The number of effective samples is smaller than 25% for some parameters.\n",
      "Auto-assigning NUTS sampler...\n",
      "Initializing NUTS using jitter+adapt_diag...\n",
      "Multiprocess sampling (2 chains in 2 jobs)\n",
      "NUTS: [logk]\n",
      "Sampling 2 chains: 100%|██████████| 8000/8000 [00:03<00:00, 2212.67draws/s]\n",
      "Auto-assigning NUTS sampler...\n",
      "Initializing NUTS using jitter+adapt_diag...\n",
      "Multiprocess sampling (2 chains in 2 jobs)\n",
      "NUTS: [logk]\n",
      "Sampling 2 chains: 100%|██████████| 8000/8000 [00:04<00:00, 1845.33draws/s]\n",
      "The acceptance probability does not match the target. It is 0.8205195783490988, but should be close to 0.95. Try to increase the number of tuning steps.\n",
      "The number of effective samples is smaller than 10% for some parameters.\n",
      "Auto-assigning NUTS sampler...\n",
      "Initializing NUTS using jitter+adapt_diag...\n",
      "Multiprocess sampling (2 chains in 2 jobs)\n",
      "NUTS: [logk]\n",
      "Sampling 2 chains: 100%|██████████| 8000/8000 [00:03<00:00, 2087.85draws/s]\n",
      "The number of effective samples is smaller than 25% for some parameters.\n",
      "Auto-assigning NUTS sampler...\n",
      "Initializing NUTS using jitter+adapt_diag...\n",
      "Multiprocess sampling (2 chains in 2 jobs)\n",
      "NUTS: [logk]\n",
      "Sampling 2 chains: 100%|██████████| 8000/8000 [00:06<00:00, 1313.96draws/s]\n",
      "The number of effective samples is smaller than 25% for some parameters.\n",
      "Auto-assigning NUTS sampler...\n",
      "Initializing NUTS using jitter+adapt_diag...\n",
      "Multiprocess sampling (2 chains in 2 jobs)\n",
      "NUTS: [logk]\n",
      "Sampling 2 chains: 100%|██████████| 8000/8000 [00:04<00:00, 1777.05draws/s]\n",
      "Auto-assigning NUTS sampler...\n",
      "Initializing NUTS using jitter+adapt_diag...\n",
      "Multiprocess sampling (2 chains in 2 jobs)\n",
      "NUTS: [logk]\n",
      "Sampling 2 chains: 100%|██████████| 8000/8000 [00:03<00:00, 2241.49draws/s]\n",
      "Auto-assigning NUTS sampler...\n",
      "Initializing NUTS using jitter+adapt_diag...\n",
      "Multiprocess sampling (2 chains in 2 jobs)\n",
      "NUTS: [logk]\n",
      "Sampling 2 chains: 100%|██████████| 8000/8000 [00:04<00:00, 1686.89draws/s]\n",
      "The number of effective samples is smaller than 10% for some parameters.\n",
      "Auto-assigning NUTS sampler...\n",
      "Initializing NUTS using jitter+adapt_diag...\n",
      "Multiprocess sampling (2 chains in 2 jobs)\n",
      "NUTS: [logk]\n",
      "Sampling 2 chains: 100%|██████████| 8000/8000 [00:03<00:00, 2035.72draws/s]\n",
      "The number of effective samples is smaller than 25% for some parameters.\n",
      "Auto-assigning NUTS sampler...\n",
      "Initializing NUTS using jitter+adapt_diag...\n",
      "Multiprocess sampling (2 chains in 2 jobs)\n",
      "NUTS: [logk]\n",
      "Sampling 2 chains: 100%|██████████| 8000/8000 [00:06<00:00, 1289.67draws/s]\n",
      "The number of effective samples is smaller than 25% for some parameters.\n",
      "Auto-assigning NUTS sampler...\n",
      "Initializing NUTS using jitter+adapt_diag...\n",
      "Multiprocess sampling (2 chains in 2 jobs)\n",
      "NUTS: [logk]\n",
      "Sampling 2 chains: 100%|██████████| 8000/8000 [00:03<00:00, 2032.26draws/s]\n",
      "Auto-assigning NUTS sampler...\n",
      "Initializing NUTS using jitter+adapt_diag...\n",
      "Multiprocess sampling (2 chains in 2 jobs)\n",
      "NUTS: [logk]\n",
      "Sampling 2 chains: 100%|██████████| 8000/8000 [00:06<00:00, 1211.28draws/s]\n",
      "The number of effective samples is smaller than 25% for some parameters.\n",
      "Auto-assigning NUTS sampler...\n",
      "Initializing NUTS using jitter+adapt_diag...\n",
      "Multiprocess sampling (2 chains in 2 jobs)\n",
      "NUTS: [logk]\n",
      "Sampling 2 chains: 100%|██████████| 8000/8000 [00:04<00:00, 1983.60draws/s]\n",
      "The number of effective samples is smaller than 10% for some parameters.\n",
      "Auto-assigning NUTS sampler...\n",
      "Initializing NUTS using jitter+adapt_diag...\n",
      "Multiprocess sampling (2 chains in 2 jobs)\n",
      "NUTS: [logk]\n",
      "Sampling 2 chains: 100%|██████████| 8000/8000 [00:03<00:00, 2250.48draws/s]\n",
      "Auto-assigning NUTS sampler...\n",
      "Initializing NUTS using jitter+adapt_diag...\n",
      "Multiprocess sampling (2 chains in 2 jobs)\n",
      "NUTS: [logk]\n",
      "Sampling 2 chains: 100%|██████████| 8000/8000 [00:06<00:00, 1193.83draws/s]\n",
      "The number of effective samples is smaller than 10% for some parameters.\n",
      "Auto-assigning NUTS sampler...\n",
      "Initializing NUTS using jitter+adapt_diag...\n",
      "Multiprocess sampling (2 chains in 2 jobs)\n",
      "NUTS: [logk]\n",
      "Sampling 2 chains: 100%|██████████| 8000/8000 [00:03<00:00, 2084.11draws/s]\n",
      "Auto-assigning NUTS sampler...\n",
      "Initializing NUTS using jitter+adapt_diag...\n",
      "Multiprocess sampling (2 chains in 2 jobs)\n",
      "NUTS: [logk]\n",
      "Sampling 2 chains: 100%|██████████| 8000/8000 [00:04<00:00, 1978.78draws/s]\n",
      "Auto-assigning NUTS sampler...\n",
      "Initializing NUTS using jitter+adapt_diag...\n",
      "Multiprocess sampling (2 chains in 2 jobs)\n",
      "NUTS: [logk]\n",
      "Sampling 2 chains: 100%|██████████| 8000/8000 [00:05<00:00, 1419.94draws/s]\n",
      "The number of effective samples is smaller than 25% for some parameters.\n",
      "Auto-assigning NUTS sampler...\n",
      "Initializing NUTS using jitter+adapt_diag...\n",
      "Multiprocess sampling (2 chains in 2 jobs)\n",
      "NUTS: [logk]\n",
      "Sampling 2 chains: 100%|██████████| 8000/8000 [00:03<00:00, 2142.83draws/s]\n",
      "The number of effective samples is smaller than 25% for some parameters.\n",
      "Auto-assigning NUTS sampler...\n",
      "Initializing NUTS using jitter+adapt_diag...\n",
      "Multiprocess sampling (2 chains in 2 jobs)\n",
      "NUTS: [logk]\n",
      "Sampling 2 chains: 100%|██████████| 8000/8000 [00:04<00:00, 1669.39draws/s]\n",
      "The acceptance probability does not match the target. It is 0.6562080196957892, but should be close to 0.95. Try to increase the number of tuning steps.\n",
      "The gelman-rubin statistic is larger than 1.05 for some parameters. This indicates slight problems during sampling.\n",
      "The estimated number of effective samples is smaller than 200 for some parameters.\n",
      "Auto-assigning NUTS sampler...\n",
      "Initializing NUTS using jitter+adapt_diag...\n",
      "Multiprocess sampling (2 chains in 2 jobs)\n",
      "NUTS: [logk]\n",
      "Sampling 2 chains: 100%|██████████| 8000/8000 [00:04<00:00, 1689.24draws/s]\n",
      "The estimated number of effective samples is smaller than 200 for some parameters.\n",
      "Auto-assigning NUTS sampler...\n",
      "Initializing NUTS using jitter+adapt_diag...\n",
      "Multiprocess sampling (2 chains in 2 jobs)\n",
      "NUTS: [logk]\n",
      "Sampling 2 chains: 100%|██████████| 8000/8000 [00:06<00:00, 1277.24draws/s]\n",
      "The number of effective samples is smaller than 25% for some parameters.\n",
      "Auto-assigning NUTS sampler...\n",
      "Initializing NUTS using jitter+adapt_diag...\n",
      "Multiprocess sampling (2 chains in 2 jobs)\n",
      "NUTS: [logk]\n",
      "Sampling 2 chains: 100%|██████████| 8000/8000 [00:03<00:00, 2008.31draws/s]\n",
      "Auto-assigning NUTS sampler...\n",
      "Initializing NUTS using jitter+adapt_diag...\n",
      "Multiprocess sampling (2 chains in 2 jobs)\n",
      "NUTS: [logk]\n",
      "Sampling 2 chains: 100%|██████████| 8000/8000 [00:03<00:00, 2094.03draws/s]\n",
      "Auto-assigning NUTS sampler...\n",
      "Initializing NUTS using jitter+adapt_diag...\n",
      "Multiprocess sampling (2 chains in 2 jobs)\n",
      "NUTS: [logk]\n",
      "Sampling 2 chains: 100%|██████████| 8000/8000 [00:05<00:00, 1428.49draws/s]\n",
      "The number of effective samples is smaller than 25% for some parameters.\n",
      "Auto-assigning NUTS sampler...\n",
      "Initializing NUTS using jitter+adapt_diag...\n",
      "Multiprocess sampling (2 chains in 2 jobs)\n",
      "NUTS: [logk]\n",
      "Sampling 2 chains: 100%|██████████| 8000/8000 [00:06<00:00, 1324.07draws/s]\n",
      "The number of effective samples is smaller than 25% for some parameters.\n",
      "Auto-assigning NUTS sampler...\n",
      "Initializing NUTS using jitter+adapt_diag...\n",
      "Multiprocess sampling (2 chains in 2 jobs)\n",
      "NUTS: [logk]\n",
      "Sampling 2 chains: 100%|██████████| 8000/8000 [00:03<00:00, 2092.33draws/s]\n",
      "Auto-assigning NUTS sampler...\n",
      "Initializing NUTS using jitter+adapt_diag...\n",
      "Multiprocess sampling (2 chains in 2 jobs)\n",
      "NUTS: [logk]\n",
      "Sampling 2 chains: 100%|██████████| 8000/8000 [00:03<00:00, 2094.78draws/s]\n",
      "The number of effective samples is smaller than 10% for some parameters.\n",
      "Auto-assigning NUTS sampler...\n",
      "Initializing NUTS using jitter+adapt_diag...\n",
      "Multiprocess sampling (2 chains in 2 jobs)\n",
      "NUTS: [logk]\n",
      "Sampling 2 chains: 100%|██████████| 8000/8000 [00:05<00:00, 1393.42draws/s]\n",
      "The number of effective samples is smaller than 25% for some parameters.\n",
      "Auto-assigning NUTS sampler...\n",
      "Initializing NUTS using jitter+adapt_diag...\n",
      "Multiprocess sampling (2 chains in 2 jobs)\n",
      "NUTS: [logk]\n",
      "Sampling 2 chains: 100%|██████████| 8000/8000 [00:03<00:00, 2186.76draws/s]\n",
      "Auto-assigning NUTS sampler...\n",
      "Initializing NUTS using jitter+adapt_diag...\n",
      "Multiprocess sampling (2 chains in 2 jobs)\n",
      "NUTS: [logk]\n",
      "Sampling 2 chains: 100%|██████████| 8000/8000 [00:04<00:00, 1986.70draws/s]\n",
      "The number of effective samples is smaller than 25% for some parameters.\n",
      "Auto-assigning NUTS sampler...\n",
      "Initializing NUTS using jitter+adapt_diag...\n",
      "Multiprocess sampling (2 chains in 2 jobs)\n",
      "NUTS: [logk]\n",
      "Sampling 2 chains: 100%|██████████| 8000/8000 [00:05<00:00, 1444.01draws/s]\n",
      "The number of effective samples is smaller than 25% for some parameters.\n",
      "Auto-assigning NUTS sampler...\n",
      "Initializing NUTS using jitter+adapt_diag...\n",
      "Multiprocess sampling (2 chains in 2 jobs)\n",
      "NUTS: [logk]\n",
      "Sampling 2 chains: 100%|██████████| 8000/8000 [00:03<00:00, 2053.48draws/s]\n",
      "The acceptance probability does not match the target. It is 0.8050805046664911, but should be close to 0.95. Try to increase the number of tuning steps.\n",
      "The acceptance probability does not match the target. It is 0.8737217615265889, but should be close to 0.95. Try to increase the number of tuning steps.\n",
      "The number of effective samples is smaller than 25% for some parameters.\n",
      "Auto-assigning NUTS sampler...\n",
      "Initializing NUTS using jitter+adapt_diag...\n",
      "Multiprocess sampling (2 chains in 2 jobs)\n",
      "NUTS: [logk]\n",
      "Sampling 2 chains: 100%|██████████| 8000/8000 [00:04<00:00, 1961.11draws/s]\n",
      "The number of effective samples is smaller than 10% for some parameters.\n",
      "Auto-assigning NUTS sampler...\n",
      "Initializing NUTS using jitter+adapt_diag...\n",
      "Multiprocess sampling (2 chains in 2 jobs)\n",
      "NUTS: [logk]\n",
      "Sampling 2 chains: 100%|██████████| 8000/8000 [00:03<00:00, 2183.20draws/s]\n",
      "Auto-assigning NUTS sampler...\n",
      "Initializing NUTS using jitter+adapt_diag...\n",
      "Multiprocess sampling (2 chains in 2 jobs)\n",
      "NUTS: [logk]\n",
      "Sampling 2 chains: 100%|██████████| 8000/8000 [00:04<00:00, 1963.27draws/s]\n",
      "The number of effective samples is smaller than 25% for some parameters.\n",
      "Auto-assigning NUTS sampler...\n",
      "Initializing NUTS using jitter+adapt_diag...\n",
      "Multiprocess sampling (2 chains in 2 jobs)\n",
      "NUTS: [logk]\n",
      "Sampling 2 chains: 100%|██████████| 8000/8000 [00:04<00:00, 1988.42draws/s]\n",
      "The number of effective samples is smaller than 25% for some parameters.\n",
      "Auto-assigning NUTS sampler...\n",
      "Initializing NUTS using jitter+adapt_diag...\n",
      "Multiprocess sampling (2 chains in 2 jobs)\n",
      "NUTS: [logk]\n",
      "Sampling 2 chains: 100%|██████████| 8000/8000 [00:03<00:00, 2308.22draws/s]\n",
      "Auto-assigning NUTS sampler...\n",
      "Initializing NUTS using jitter+adapt_diag...\n",
      "Multiprocess sampling (2 chains in 2 jobs)\n",
      "NUTS: [logk]\n",
      "Sampling 2 chains: 100%|██████████| 8000/8000 [00:06<00:00, 1292.03draws/s]\n",
      "The number of effective samples is smaller than 25% for some parameters.\n",
      "Auto-assigning NUTS sampler...\n",
      "Initializing NUTS using jitter+adapt_diag...\n",
      "Multiprocess sampling (2 chains in 2 jobs)\n",
      "NUTS: [logk]\n",
      "Sampling 2 chains: 100%|██████████| 8000/8000 [00:04<00:00, 1811.47draws/s]\n",
      "The number of effective samples is smaller than 25% for some parameters.\n",
      "Auto-assigning NUTS sampler...\n",
      "Initializing NUTS using jitter+adapt_diag...\n",
      "Multiprocess sampling (2 chains in 2 jobs)\n",
      "NUTS: [logk]\n",
      "Sampling 2 chains: 100%|██████████| 8000/8000 [00:04<00:00, 1967.72draws/s]\n",
      "Auto-assigning NUTS sampler...\n",
      "Initializing NUTS using jitter+adapt_diag...\n",
      "Multiprocess sampling (2 chains in 2 jobs)\n",
      "NUTS: [logk]\n",
      "Sampling 2 chains: 100%|██████████| 8000/8000 [00:06<00:00, 1194.17draws/s]\n",
      "The number of effective samples is smaller than 10% for some parameters.\n",
      "Auto-assigning NUTS sampler...\n",
      "Initializing NUTS using jitter+adapt_diag...\n",
      "Multiprocess sampling (2 chains in 2 jobs)\n",
      "NUTS: [logk]\n",
      "Sampling 2 chains: 100%|██████████| 8000/8000 [00:05<00:00, 1391.86draws/s]\n",
      "The number of effective samples is smaller than 25% for some parameters.\n",
      "Auto-assigning NUTS sampler...\n",
      "Initializing NUTS using jitter+adapt_diag...\n",
      "Multiprocess sampling (2 chains in 2 jobs)\n",
      "NUTS: [logk]\n",
      "Sampling 2 chains: 100%|██████████| 8000/8000 [00:05<00:00, 1404.84draws/s]\n",
      "The number of effective samples is smaller than 25% for some parameters.\n",
      "Auto-assigning NUTS sampler...\n",
      "Initializing NUTS using jitter+adapt_diag...\n",
      "Multiprocess sampling (2 chains in 2 jobs)\n",
      "NUTS: [logk]\n",
      "Sampling 2 chains: 100%|██████████| 8000/8000 [00:03<00:00, 2211.78draws/s]\n",
      "Auto-assigning NUTS sampler...\n",
      "Initializing NUTS using jitter+adapt_diag...\n",
      "Multiprocess sampling (2 chains in 2 jobs)\n",
      "NUTS: [logk]\n",
      "Sampling 2 chains: 100%|██████████| 8000/8000 [00:03<00:00, 2015.40draws/s]\n",
      "The number of effective samples is smaller than 25% for some parameters.\n",
      "Auto-assigning NUTS sampler...\n",
      "Initializing NUTS using jitter+adapt_diag...\n",
      "Multiprocess sampling (2 chains in 2 jobs)\n",
      "NUTS: [logk]\n",
      "Sampling 2 chains: 100%|██████████| 8000/8000 [00:04<00:00, 1936.37draws/s]\n",
      "The acceptance probability does not match the target. It is 0.4465804891498852, but should be close to 0.95. Try to increase the number of tuning steps.\n",
      "The estimated number of effective samples is smaller than 200 for some parameters.\n",
      "Auto-assigning NUTS sampler...\n",
      "Initializing NUTS using jitter+adapt_diag...\n",
      "Multiprocess sampling (2 chains in 2 jobs)\n",
      "NUTS: [logk]\n",
      "Sampling 2 chains: 100%|██████████| 8000/8000 [00:03<00:00, 2173.70draws/s]\n",
      "Auto-assigning NUTS sampler...\n",
      "Initializing NUTS using jitter+adapt_diag...\n",
      "Multiprocess sampling (2 chains in 2 jobs)\n",
      "NUTS: [logk]\n",
      "Sampling 2 chains: 100%|██████████| 8000/8000 [00:03<00:00, 2084.30draws/s]\n",
      "The number of effective samples is smaller than 25% for some parameters.\n",
      "Auto-assigning NUTS sampler...\n",
      "Initializing NUTS using jitter+adapt_diag...\n",
      "Multiprocess sampling (2 chains in 2 jobs)\n",
      "NUTS: [logk]\n",
      "Sampling 2 chains: 100%|██████████| 8000/8000 [00:05<00:00, 1520.30draws/s]\n",
      "The gelman-rubin statistic is larger than 1.4 for some parameters. The sampler did not converge.\n",
      "The estimated number of effective samples is smaller than 200 for some parameters.\n",
      "Auto-assigning NUTS sampler...\n",
      "Initializing NUTS using jitter+adapt_diag...\n",
      "Multiprocess sampling (2 chains in 2 jobs)\n",
      "NUTS: [logk]\n",
      "Sampling 2 chains: 100%|██████████| 8000/8000 [00:03<00:00, 2058.44draws/s]\n",
      "Auto-assigning NUTS sampler...\n",
      "Initializing NUTS using jitter+adapt_diag...\n",
      "Multiprocess sampling (2 chains in 2 jobs)\n",
      "NUTS: [logk]\n",
      "Sampling 2 chains: 100%|██████████| 8000/8000 [00:03<00:00, 2139.95draws/s]\n",
      "Auto-assigning NUTS sampler...\n",
      "Initializing NUTS using jitter+adapt_diag...\n",
      "Multiprocess sampling (2 chains in 2 jobs)\n",
      "NUTS: [logk]\n",
      "Sampling 2 chains: 100%|██████████| 8000/8000 [00:03<00:00, 2208.52draws/s]\n",
      "Auto-assigning NUTS sampler...\n",
      "Initializing NUTS using jitter+adapt_diag...\n",
      "Multiprocess sampling (2 chains in 2 jobs)\n",
      "NUTS: [logk]\n",
      "Sampling 2 chains: 100%|██████████| 8000/8000 [00:04<00:00, 1811.55draws/s]\n",
      "The number of effective samples is smaller than 25% for some parameters.\n",
      "Auto-assigning NUTS sampler...\n",
      "Initializing NUTS using jitter+adapt_diag...\n",
      "Multiprocess sampling (2 chains in 2 jobs)\n",
      "NUTS: [logk]\n",
      "Sampling 2 chains: 100%|██████████| 8000/8000 [00:04<00:00, 1602.08draws/s]\n",
      "The number of effective samples is smaller than 10% for some parameters.\n",
      "Auto-assigning NUTS sampler...\n",
      "Initializing NUTS using jitter+adapt_diag...\n",
      "Multiprocess sampling (2 chains in 2 jobs)\n",
      "NUTS: [logk]\n",
      "Sampling 2 chains: 100%|██████████| 8000/8000 [00:03<00:00, 2169.76draws/s]\n",
      "Auto-assigning NUTS sampler...\n",
      "Initializing NUTS using jitter+adapt_diag...\n",
      "Multiprocess sampling (2 chains in 2 jobs)\n",
      "NUTS: [logk]\n",
      "Sampling 2 chains: 100%|██████████| 8000/8000 [00:05<00:00, 1406.36draws/s]\n",
      "The number of effective samples is smaller than 25% for some parameters.\n",
      "Auto-assigning NUTS sampler...\n",
      "Initializing NUTS using jitter+adapt_diag...\n",
      "Multiprocess sampling (2 chains in 2 jobs)\n",
      "NUTS: [logk]\n",
      "Sampling 2 chains: 100%|██████████| 8000/8000 [00:03<00:00, 2099.95draws/s]\n",
      "The acceptance probability does not match the target. It is 0.15729792316151023, but should be close to 0.95. Try to increase the number of tuning steps.\n",
      "The estimated number of effective samples is smaller than 200 for some parameters.\n",
      "Auto-assigning NUTS sampler...\n",
      "Initializing NUTS using jitter+adapt_diag...\n",
      "Multiprocess sampling (2 chains in 2 jobs)\n",
      "NUTS: [logk]\n",
      "Sampling 2 chains: 100%|██████████| 8000/8000 [00:06<00:00, 1282.32draws/s]\n",
      "The number of effective samples is smaller than 25% for some parameters.\n",
      "Auto-assigning NUTS sampler...\n",
      "Initializing NUTS using jitter+adapt_diag...\n",
      "Multiprocess sampling (2 chains in 2 jobs)\n",
      "NUTS: [logk]\n",
      "Sampling 2 chains: 100%|██████████| 8000/8000 [00:06<00:00, 1283.30draws/s]\n",
      "The number of effective samples is smaller than 25% for some parameters.\n",
      "Auto-assigning NUTS sampler...\n",
      "Initializing NUTS using jitter+adapt_diag...\n",
      "Multiprocess sampling (2 chains in 2 jobs)\n",
      "NUTS: [logk]\n",
      "Sampling 2 chains: 100%|██████████| 8000/8000 [00:05<00:00, 1377.90draws/s]\n",
      "The number of effective samples is smaller than 25% for some parameters.\n",
      "Auto-assigning NUTS sampler...\n",
      "Initializing NUTS using jitter+adapt_diag...\n",
      "Multiprocess sampling (2 chains in 2 jobs)\n",
      "NUTS: [logk]\n",
      "Sampling 2 chains: 100%|██████████| 8000/8000 [00:04<00:00, 1970.16draws/s]\n",
      "Auto-assigning NUTS sampler...\n",
      "Initializing NUTS using jitter+adapt_diag...\n",
      "Multiprocess sampling (2 chains in 2 jobs)\n",
      "NUTS: [logk]\n",
      "Sampling 2 chains: 100%|██████████| 8000/8000 [00:03<00:00, 2140.93draws/s]\n",
      "Auto-assigning NUTS sampler...\n",
      "Initializing NUTS using jitter+adapt_diag...\n",
      "Multiprocess sampling (2 chains in 2 jobs)\n",
      "NUTS: [logk]\n",
      "Sampling 2 chains: 100%|██████████| 8000/8000 [00:06<00:00, 1252.06draws/s]\n",
      "The number of effective samples is smaller than 25% for some parameters.\n",
      "Auto-assigning NUTS sampler...\n",
      "Initializing NUTS using jitter+adapt_diag...\n",
      "Multiprocess sampling (2 chains in 2 jobs)\n",
      "NUTS: [logk]\n",
      "Sampling 2 chains: 100%|██████████| 8000/8000 [00:06<00:00, 1273.30draws/s]\n",
      "The number of effective samples is smaller than 25% for some parameters.\n",
      "Auto-assigning NUTS sampler...\n",
      "Initializing NUTS using jitter+adapt_diag...\n",
      "Multiprocess sampling (2 chains in 2 jobs)\n",
      "NUTS: [logk]\n",
      "Sampling 2 chains: 100%|██████████| 8000/8000 [00:03<00:00, 2001.87draws/s]\n",
      "Auto-assigning NUTS sampler...\n",
      "Initializing NUTS using jitter+adapt_diag...\n",
      "Multiprocess sampling (2 chains in 2 jobs)\n",
      "NUTS: [logk]\n",
      "Sampling 2 chains: 100%|██████████| 8000/8000 [00:05<00:00, 1351.56draws/s]\n",
      "The number of effective samples is smaller than 25% for some parameters.\n",
      "Auto-assigning NUTS sampler...\n",
      "Initializing NUTS using jitter+adapt_diag...\n",
      "Multiprocess sampling (2 chains in 2 jobs)\n",
      "NUTS: [logk]\n",
      "Sampling 2 chains: 100%|██████████| 8000/8000 [00:05<00:00, 1538.74draws/s]\n",
      "The number of effective samples is smaller than 25% for some parameters.\n",
      "Auto-assigning NUTS sampler...\n",
      "Initializing NUTS using jitter+adapt_diag...\n",
      "Multiprocess sampling (2 chains in 2 jobs)\n",
      "NUTS: [logk]\n",
      "Sampling 2 chains: 100%|██████████| 8000/8000 [00:04<00:00, 1954.94draws/s]\n",
      "Auto-assigning NUTS sampler...\n",
      "Initializing NUTS using jitter+adapt_diag...\n",
      "Multiprocess sampling (2 chains in 2 jobs)\n",
      "NUTS: [logk]\n",
      "Sampling 2 chains: 100%|██████████| 8000/8000 [00:03<00:00, 2033.64draws/s]\n",
      "Auto-assigning NUTS sampler...\n",
      "Initializing NUTS using jitter+adapt_diag...\n",
      "Multiprocess sampling (2 chains in 2 jobs)\n",
      "NUTS: [logk]\n",
      "Sampling 2 chains: 100%|██████████| 8000/8000 [00:04<00:00, 1902.02draws/s]\n",
      "The number of effective samples is smaller than 10% for some parameters.\n",
      "Auto-assigning NUTS sampler...\n",
      "Initializing NUTS using jitter+adapt_diag...\n",
      "Multiprocess sampling (2 chains in 2 jobs)\n",
      "NUTS: [logk]\n",
      "Sampling 2 chains: 100%|██████████| 8000/8000 [00:03<00:00, 2057.52draws/s]\n",
      "Auto-assigning NUTS sampler...\n",
      "Initializing NUTS using jitter+adapt_diag...\n",
      "Multiprocess sampling (2 chains in 2 jobs)\n",
      "NUTS: [logk]\n",
      "Sampling 2 chains: 100%|██████████| 8000/8000 [00:05<00:00, 1367.60draws/s]\n",
      "The number of effective samples is smaller than 25% for some parameters.\n",
      "Auto-assigning NUTS sampler...\n",
      "Initializing NUTS using jitter+adapt_diag...\n",
      "Multiprocess sampling (2 chains in 2 jobs)\n",
      "NUTS: [logk]\n",
      "Sampling 2 chains: 100%|██████████| 8000/8000 [00:06<00:00, 1251.75draws/s]\n",
      "The number of effective samples is smaller than 25% for some parameters.\n",
      "Auto-assigning NUTS sampler...\n",
      "Initializing NUTS using jitter+adapt_diag...\n",
      "Multiprocess sampling (2 chains in 2 jobs)\n",
      "NUTS: [logk]\n",
      "Sampling 2 chains: 100%|██████████| 8000/8000 [00:04<00:00, 1916.05draws/s]\n",
      "The estimated number of effective samples is smaller than 200 for some parameters.\n",
      "Auto-assigning NUTS sampler...\n",
      "Initializing NUTS using jitter+adapt_diag...\n",
      "Multiprocess sampling (2 chains in 2 jobs)\n",
      "NUTS: [logk]\n",
      "Sampling 2 chains: 100%|██████████| 8000/8000 [00:06<00:00, 1252.82draws/s]\n",
      "The number of effective samples is smaller than 25% for some parameters.\n",
      "Auto-assigning NUTS sampler...\n",
      "Initializing NUTS using jitter+adapt_diag...\n",
      "Multiprocess sampling (2 chains in 2 jobs)\n",
      "NUTS: [logk]\n",
      "Sampling 2 chains: 100%|██████████| 8000/8000 [00:04<00:00, 1899.05draws/s]\n",
      "Auto-assigning NUTS sampler...\n",
      "Initializing NUTS using jitter+adapt_diag...\n",
      "Multiprocess sampling (2 chains in 2 jobs)\n",
      "NUTS: [logk]\n",
      "Sampling 2 chains: 100%|██████████| 8000/8000 [00:03<00:00, 2101.43draws/s]\n",
      "Auto-assigning NUTS sampler...\n",
      "Initializing NUTS using jitter+adapt_diag...\n",
      "Multiprocess sampling (2 chains in 2 jobs)\n",
      "NUTS: [logk]\n",
      "Sampling 2 chains: 100%|██████████| 8000/8000 [00:04<00:00, 1960.20draws/s]\n",
      "Auto-assigning NUTS sampler...\n",
      "Initializing NUTS using jitter+adapt_diag...\n",
      "Multiprocess sampling (2 chains in 2 jobs)\n",
      "NUTS: [logk]\n",
      "Sampling 2 chains: 100%|██████████| 8000/8000 [00:05<00:00, 1356.60draws/s]\n",
      "The number of effective samples is smaller than 25% for some parameters.\n",
      "Auto-assigning NUTS sampler...\n",
      "Initializing NUTS using jitter+adapt_diag...\n",
      "Multiprocess sampling (2 chains in 2 jobs)\n",
      "NUTS: [logk]\n",
      "Sampling 2 chains: 100%|██████████| 8000/8000 [00:03<00:00, 2121.05draws/s]\n",
      "Auto-assigning NUTS sampler...\n",
      "Initializing NUTS using jitter+adapt_diag...\n",
      "Multiprocess sampling (2 chains in 2 jobs)\n",
      "NUTS: [logk]\n",
      "Sampling 2 chains: 100%|██████████| 8000/8000 [00:04<00:00, 1710.96draws/s]\n",
      "The estimated number of effective samples is smaller than 200 for some parameters.\n",
      "Auto-assigning NUTS sampler...\n",
      "Initializing NUTS using jitter+adapt_diag...\n",
      "Multiprocess sampling (2 chains in 2 jobs)\n",
      "NUTS: [logk]\n",
      "Sampling 2 chains: 100%|██████████| 8000/8000 [00:04<00:00, 1661.20draws/s]\n",
      "The number of effective samples is smaller than 10% for some parameters.\n",
      "Auto-assigning NUTS sampler...\n",
      "Initializing NUTS using jitter+adapt_diag...\n",
      "Multiprocess sampling (2 chains in 2 jobs)\n",
      "NUTS: [logk]\n",
      "Sampling 2 chains: 100%|██████████| 8000/8000 [00:05<00:00, 1494.22draws/s]\n",
      "Auto-assigning NUTS sampler...\n",
      "Initializing NUTS using jitter+adapt_diag...\n",
      "Multiprocess sampling (2 chains in 2 jobs)\n",
      "NUTS: [logk]\n",
      "Sampling 2 chains: 100%|██████████| 8000/8000 [00:04<00:00, 1958.42draws/s]\n",
      "Auto-assigning NUTS sampler...\n",
      "Initializing NUTS using jitter+adapt_diag...\n",
      "Multiprocess sampling (2 chains in 2 jobs)\n",
      "NUTS: [logk]\n",
      "Sampling 2 chains: 100%|██████████| 8000/8000 [00:05<00:00, 1409.06draws/s]\n",
      "The number of effective samples is smaller than 25% for some parameters.\n",
      "Auto-assigning NUTS sampler...\n",
      "Initializing NUTS using jitter+adapt_diag...\n",
      "Multiprocess sampling (2 chains in 2 jobs)\n",
      "NUTS: [logk]\n",
      "Sampling 2 chains: 100%|██████████| 8000/8000 [00:06<00:00, 1290.89draws/s]\n",
      "The acceptance probability does not match the target. It is 0.8760201214635362, but should be close to 0.95. Try to increase the number of tuning steps.\n",
      "The number of effective samples is smaller than 25% for some parameters.\n",
      "Auto-assigning NUTS sampler...\n",
      "Initializing NUTS using jitter+adapt_diag...\n",
      "Multiprocess sampling (2 chains in 2 jobs)\n",
      "NUTS: [logk]\n",
      "Sampling 2 chains: 100%|██████████| 8000/8000 [00:04<00:00, 1686.33draws/s]\n",
      "The number of effective samples is smaller than 25% for some parameters.\n",
      "Auto-assigning NUTS sampler...\n",
      "Initializing NUTS using jitter+adapt_diag...\n",
      "Multiprocess sampling (2 chains in 2 jobs)\n",
      "NUTS: [logk]\n",
      "Sampling 2 chains: 100%|██████████| 8000/8000 [00:04<00:00, 1889.09draws/s]\n",
      "Auto-assigning NUTS sampler...\n",
      "Initializing NUTS using jitter+adapt_diag...\n",
      "Multiprocess sampling (2 chains in 2 jobs)\n",
      "NUTS: [logk]\n",
      "Sampling 2 chains: 100%|██████████| 8000/8000 [00:04<00:00, 1959.55draws/s]\n",
      "Auto-assigning NUTS sampler...\n",
      "Initializing NUTS using jitter+adapt_diag...\n",
      "Multiprocess sampling (2 chains in 2 jobs)\n",
      "NUTS: [logk]\n",
      "Sampling 2 chains: 100%|██████████| 8000/8000 [00:06<00:00, 1235.34draws/s]\n",
      "The number of effective samples is smaller than 25% for some parameters.\n",
      "Auto-assigning NUTS sampler...\n",
      "Initializing NUTS using jitter+adapt_diag...\n",
      "Multiprocess sampling (2 chains in 2 jobs)\n",
      "NUTS: [logk]\n",
      "Sampling 2 chains: 100%|██████████| 8000/8000 [00:03<00:00, 2066.17draws/s]\n",
      "Auto-assigning NUTS sampler...\n",
      "Initializing NUTS using jitter+adapt_diag...\n",
      "Multiprocess sampling (2 chains in 2 jobs)\n",
      "NUTS: [logk]\n",
      "Sampling 2 chains: 100%|██████████| 8000/8000 [00:04<00:00, 1708.48draws/s]\n",
      "The acceptance probability does not match the target. It is 0.8836299006508808, but should be close to 0.95. Try to increase the number of tuning steps.\n",
      "The acceptance probability does not match the target. It is 0.9074226564561622, but should be close to 0.95. Try to increase the number of tuning steps.\n",
      "The estimated number of effective samples is smaller than 200 for some parameters.\n",
      "Auto-assigning NUTS sampler...\n",
      "Initializing NUTS using jitter+adapt_diag...\n",
      "Multiprocess sampling (2 chains in 2 jobs)\n",
      "NUTS: [logk]\n",
      "Sampling 2 chains: 100%|██████████| 8000/8000 [00:03<00:00, 2043.61draws/s]\n",
      "Auto-assigning NUTS sampler...\n",
      "Initializing NUTS using jitter+adapt_diag...\n",
      "Multiprocess sampling (2 chains in 2 jobs)\n",
      "NUTS: [logk]\n",
      "Sampling 2 chains: 100%|██████████| 8000/8000 [00:04<00:00, 1982.57draws/s]\n",
      "Auto-assigning NUTS sampler...\n",
      "Initializing NUTS using jitter+adapt_diag...\n",
      "Multiprocess sampling (2 chains in 2 jobs)\n",
      "NUTS: [logk]\n",
      "Sampling 2 chains: 100%|██████████| 8000/8000 [00:04<00:00, 1993.85draws/s]\n",
      "Auto-assigning NUTS sampler...\n",
      "Initializing NUTS using jitter+adapt_diag...\n",
      "Multiprocess sampling (2 chains in 2 jobs)\n",
      "NUTS: [logk]\n",
      "Sampling 2 chains: 100%|██████████| 8000/8000 [00:04<00:00, 1714.49draws/s]\n",
      "The acceptance probability does not match the target. It is 0.8052787454809619, but should be close to 0.95. Try to increase the number of tuning steps.\n",
      "The number of effective samples is smaller than 10% for some parameters.\n",
      "Auto-assigning NUTS sampler...\n",
      "Initializing NUTS using jitter+adapt_diag...\n",
      "Multiprocess sampling (2 chains in 2 jobs)\n",
      "NUTS: [logk]\n",
      "Sampling 2 chains: 100%|██████████| 8000/8000 [00:06<00:00, 1240.16draws/s]\n",
      "The number of effective samples is smaller than 25% for some parameters.\n",
      "Auto-assigning NUTS sampler...\n",
      "Initializing NUTS using jitter+adapt_diag...\n",
      "Multiprocess sampling (2 chains in 2 jobs)\n",
      "NUTS: [logk]\n",
      "Sampling 2 chains: 100%|██████████| 8000/8000 [00:04<00:00, 1651.18draws/s]\n",
      "The acceptance probability does not match the target. It is 0.9924826441822496, but should be close to 0.95. Try to increase the number of tuning steps.\n",
      "The gelman-rubin statistic is larger than 1.05 for some parameters. This indicates slight problems during sampling.\n",
      "The estimated number of effective samples is smaller than 200 for some parameters.\n",
      "Auto-assigning NUTS sampler...\n",
      "Initializing NUTS using jitter+adapt_diag...\n",
      "Multiprocess sampling (2 chains in 2 jobs)\n",
      "NUTS: [logk]\n",
      "Sampling 2 chains: 100%|██████████| 8000/8000 [00:04<00:00, 1692.98draws/s]\n",
      "The estimated number of effective samples is smaller than 200 for some parameters.\n",
      "Auto-assigning NUTS sampler...\n",
      "Initializing NUTS using jitter+adapt_diag...\n",
      "Multiprocess sampling (2 chains in 2 jobs)\n",
      "NUTS: [logk]\n",
      "Sampling 2 chains: 100%|██████████| 8000/8000 [00:04<00:00, 1863.33draws/s]\n",
      "Auto-assigning NUTS sampler...\n",
      "Initializing NUTS using jitter+adapt_diag...\n",
      "Multiprocess sampling (2 chains in 2 jobs)\n",
      "NUTS: [logk]\n",
      "Sampling 2 chains: 100%|██████████| 8000/8000 [00:03<00:00, 2154.29draws/s]\n",
      "Auto-assigning NUTS sampler...\n",
      "Initializing NUTS using jitter+adapt_diag...\n",
      "Multiprocess sampling (2 chains in 2 jobs)\n",
      "NUTS: [logk]\n",
      "Sampling 2 chains: 100%|██████████| 8000/8000 [00:05<00:00, 1333.36draws/s]\n",
      "The number of effective samples is smaller than 25% for some parameters.\n",
      "Auto-assigning NUTS sampler...\n",
      "Initializing NUTS using jitter+adapt_diag...\n",
      "Multiprocess sampling (2 chains in 2 jobs)\n",
      "NUTS: [logk]\n",
      "Sampling 2 chains: 100%|██████████| 8000/8000 [00:04<00:00, 1884.73draws/s]\n",
      "Auto-assigning NUTS sampler...\n",
      "Initializing NUTS using jitter+adapt_diag...\n",
      "Multiprocess sampling (2 chains in 2 jobs)\n",
      "NUTS: [logk]\n",
      "Sampling 2 chains: 100%|██████████| 8000/8000 [00:04<00:00, 1905.14draws/s]\n",
      "Auto-assigning NUTS sampler...\n",
      "Initializing NUTS using jitter+adapt_diag...\n",
      "Multiprocess sampling (2 chains in 2 jobs)\n",
      "NUTS: [logk]\n",
      "Sampling 2 chains: 100%|██████████| 8000/8000 [00:03<00:00, 2049.60draws/s]\n",
      "Auto-assigning NUTS sampler...\n",
      "Initializing NUTS using jitter+adapt_diag...\n",
      "Multiprocess sampling (2 chains in 2 jobs)\n",
      "NUTS: [logk]\n",
      "Sampling 2 chains: 100%|██████████| 8000/8000 [00:06<00:00, 1243.90draws/s]\n",
      "The number of effective samples is smaller than 25% for some parameters.\n",
      "Auto-assigning NUTS sampler...\n",
      "Initializing NUTS using jitter+adapt_diag...\n",
      "Multiprocess sampling (2 chains in 2 jobs)\n",
      "NUTS: [logk]\n",
      "Sampling 2 chains: 100%|██████████| 8000/8000 [00:03<00:00, 2040.22draws/s]\n",
      "Auto-assigning NUTS sampler...\n",
      "Initializing NUTS using jitter+adapt_diag...\n",
      "Multiprocess sampling (2 chains in 2 jobs)\n",
      "NUTS: [logk]\n",
      "Sampling 2 chains: 100%|██████████| 8000/8000 [00:04<00:00, 1938.51draws/s]\n",
      "Auto-assigning NUTS sampler...\n",
      "Initializing NUTS using jitter+adapt_diag...\n",
      "Multiprocess sampling (2 chains in 2 jobs)\n",
      "NUTS: [logk]\n",
      "Sampling 2 chains: 100%|██████████| 8000/8000 [00:05<00:00, 1350.47draws/s]\n",
      "The number of effective samples is smaller than 25% for some parameters.\n",
      "Auto-assigning NUTS sampler...\n",
      "Initializing NUTS using jitter+adapt_diag...\n",
      "Multiprocess sampling (2 chains in 2 jobs)\n",
      "NUTS: [logk]\n",
      "Sampling 2 chains: 100%|██████████| 8000/8000 [00:03<00:00, 2132.43draws/s]\n",
      "Auto-assigning NUTS sampler...\n",
      "Initializing NUTS using jitter+adapt_diag...\n",
      "Multiprocess sampling (2 chains in 2 jobs)\n",
      "NUTS: [logk]\n",
      "Sampling 2 chains: 100%|██████████| 8000/8000 [00:04<00:00, 1962.25draws/s]\n",
      "Auto-assigning NUTS sampler...\n",
      "Initializing NUTS using jitter+adapt_diag...\n",
      "Multiprocess sampling (2 chains in 2 jobs)\n",
      "NUTS: [logk]\n",
      "Sampling 2 chains: 100%|██████████| 8000/8000 [00:03<00:00, 2293.00draws/s]\n",
      "The estimated number of effective samples is smaller than 200 for some parameters.\n",
      "Auto-assigning NUTS sampler...\n",
      "Initializing NUTS using jitter+adapt_diag...\n",
      "Multiprocess sampling (2 chains in 2 jobs)\n",
      "NUTS: [logk]\n",
      "Sampling 2 chains: 100%|██████████| 8000/8000 [00:03<00:00, 2421.53draws/s]\n",
      "The number of effective samples is smaller than 25% for some parameters.\n",
      "Auto-assigning NUTS sampler...\n",
      "Initializing NUTS using jitter+adapt_diag...\n",
      "Multiprocess sampling (2 chains in 2 jobs)\n",
      "NUTS: [logk]\n",
      "Sampling 2 chains: 100%|██████████| 8000/8000 [00:03<00:00, 2395.53draws/s]\n",
      "The number of effective samples is smaller than 25% for some parameters.\n",
      "Auto-assigning NUTS sampler...\n",
      "Initializing NUTS using jitter+adapt_diag...\n",
      "Multiprocess sampling (2 chains in 2 jobs)\n",
      "NUTS: [logk]\n",
      "Sampling 2 chains: 100%|██████████| 8000/8000 [00:04<00:00, 1700.03draws/s]\n",
      "The number of effective samples is smaller than 25% for some parameters.\n",
      "Auto-assigning NUTS sampler...\n",
      "Initializing NUTS using jitter+adapt_diag...\n",
      "Multiprocess sampling (2 chains in 2 jobs)\n",
      "NUTS: [logk]\n",
      "Sampling 2 chains: 100%|██████████| 8000/8000 [00:03<00:00, 2251.33draws/s]\n",
      "Auto-assigning NUTS sampler...\n",
      "Initializing NUTS using jitter+adapt_diag...\n",
      "Multiprocess sampling (2 chains in 2 jobs)\n",
      "NUTS: [logk]\n",
      "Sampling 2 chains: 100%|██████████| 8000/8000 [00:06<00:00, 1302.82draws/s]\n",
      "The number of effective samples is smaller than 25% for some parameters.\n",
      "Auto-assigning NUTS sampler...\n",
      "Initializing NUTS using jitter+adapt_diag...\n",
      "Multiprocess sampling (2 chains in 2 jobs)\n",
      "NUTS: [logk]\n",
      "Sampling 2 chains: 100%|██████████| 8000/8000 [00:03<00:00, 2550.90draws/s]\n",
      "Auto-assigning NUTS sampler...\n",
      "Initializing NUTS using jitter+adapt_diag...\n",
      "Multiprocess sampling (2 chains in 2 jobs)\n",
      "NUTS: [logk]\n",
      "Sampling 2 chains: 100%|██████████| 8000/8000 [00:03<00:00, 2599.60draws/s]\n",
      "Auto-assigning NUTS sampler...\n",
      "Initializing NUTS using jitter+adapt_diag...\n",
      "Multiprocess sampling (2 chains in 2 jobs)\n",
      "NUTS: [logk]\n",
      "Sampling 2 chains: 100%|██████████| 8000/8000 [00:02<00:00, 2723.05draws/s]\n",
      "Auto-assigning NUTS sampler...\n",
      "Initializing NUTS using jitter+adapt_diag...\n",
      "Multiprocess sampling (2 chains in 2 jobs)\n",
      "NUTS: [logk]\n",
      "Sampling 2 chains: 100%|██████████| 8000/8000 [00:03<00:00, 2121.85draws/s]\n",
      "The estimated number of effective samples is smaller than 200 for some parameters.\n",
      "Auto-assigning NUTS sampler...\n",
      "Initializing NUTS using jitter+adapt_diag...\n",
      "Multiprocess sampling (2 chains in 2 jobs)\n",
      "NUTS: [logk]\n",
      "Sampling 2 chains: 100%|██████████| 8000/8000 [00:03<00:00, 2600.53draws/s]\n",
      "Auto-assigning NUTS sampler...\n",
      "Initializing NUTS using jitter+adapt_diag...\n",
      "Multiprocess sampling (2 chains in 2 jobs)\n",
      "NUTS: [logk]\n",
      "Sampling 2 chains: 100%|██████████| 8000/8000 [00:03<00:00, 2204.32draws/s]\n",
      "The estimated number of effective samples is smaller than 200 for some parameters.\n",
      "Auto-assigning NUTS sampler...\n",
      "Initializing NUTS using jitter+adapt_diag...\n",
      "Multiprocess sampling (2 chains in 2 jobs)\n",
      "NUTS: [logk]\n",
      "Sampling 2 chains: 100%|██████████| 8000/8000 [00:03<00:00, 2257.34draws/s]\n",
      "The number of effective samples is smaller than 25% for some parameters.\n",
      "Auto-assigning NUTS sampler...\n",
      "Initializing NUTS using jitter+adapt_diag...\n",
      "Multiprocess sampling (2 chains in 2 jobs)\n",
      "NUTS: [logk]\n",
      "Sampling 2 chains: 100%|██████████| 8000/8000 [00:04<00:00, 1706.59draws/s]\n",
      "The number of effective samples is smaller than 25% for some parameters.\n",
      "Auto-assigning NUTS sampler...\n",
      "Initializing NUTS using jitter+adapt_diag...\n",
      "Multiprocess sampling (2 chains in 2 jobs)\n",
      "NUTS: [logk]\n",
      "Sampling 2 chains: 100%|██████████| 8000/8000 [00:03<00:00, 2403.32draws/s]\n",
      "Auto-assigning NUTS sampler...\n",
      "Initializing NUTS using jitter+adapt_diag...\n",
      "Multiprocess sampling (2 chains in 2 jobs)\n",
      "NUTS: [logk]\n",
      "Sampling 2 chains: 100%|██████████| 8000/8000 [00:03<00:00, 2406.98draws/s]\n",
      "Auto-assigning NUTS sampler...\n",
      "Initializing NUTS using jitter+adapt_diag...\n",
      "Multiprocess sampling (2 chains in 2 jobs)\n",
      "NUTS: [logk]\n",
      "Sampling 2 chains: 100%|██████████| 8000/8000 [00:03<00:00, 2572.33draws/s]\n",
      "Auto-assigning NUTS sampler...\n",
      "Initializing NUTS using jitter+adapt_diag...\n",
      "Multiprocess sampling (2 chains in 2 jobs)\n",
      "NUTS: [logk]\n",
      "Sampling 2 chains: 100%|██████████| 8000/8000 [00:04<00:00, 1936.67draws/s]\n",
      "The number of effective samples is smaller than 10% for some parameters.\n",
      "Auto-assigning NUTS sampler...\n",
      "Initializing NUTS using jitter+adapt_diag...\n",
      "Multiprocess sampling (2 chains in 2 jobs)\n",
      "NUTS: [logk]\n",
      "Sampling 2 chains: 100%|██████████| 8000/8000 [00:03<00:00, 2442.81draws/s]\n",
      "Auto-assigning NUTS sampler...\n",
      "Initializing NUTS using jitter+adapt_diag...\n",
      "Multiprocess sampling (2 chains in 2 jobs)\n",
      "NUTS: [logk]\n",
      "Sampling 2 chains: 100%|██████████| 8000/8000 [00:03<00:00, 2362.29draws/s]\n",
      "The number of effective samples is smaller than 25% for some parameters.\n",
      "Auto-assigning NUTS sampler...\n",
      "Initializing NUTS using jitter+adapt_diag...\n",
      "Multiprocess sampling (2 chains in 2 jobs)\n",
      "NUTS: [logk]\n",
      "Sampling 2 chains: 100%|██████████| 8000/8000 [00:03<00:00, 2327.02draws/s]\n",
      "Auto-assigning NUTS sampler...\n",
      "Initializing NUTS using jitter+adapt_diag...\n",
      "Multiprocess sampling (2 chains in 2 jobs)\n",
      "NUTS: [logk]\n",
      "Sampling 2 chains: 100%|██████████| 8000/8000 [00:03<00:00, 2569.33draws/s]\n",
      "Auto-assigning NUTS sampler...\n",
      "Initializing NUTS using jitter+adapt_diag...\n",
      "Multiprocess sampling (2 chains in 2 jobs)\n",
      "NUTS: [logk]\n",
      "Sampling 2 chains: 100%|██████████| 8000/8000 [00:03<00:00, 2148.62draws/s]\n",
      "The acceptance probability does not match the target. It is 0.9923558288056669, but should be close to 0.95. Try to increase the number of tuning steps.\n",
      "The acceptance probability does not match the target. It is 0.8395033387853051, but should be close to 0.95. Try to increase the number of tuning steps.\n",
      "The estimated number of effective samples is smaller than 200 for some parameters.\n",
      "Auto-assigning NUTS sampler...\n",
      "Initializing NUTS using jitter+adapt_diag...\n",
      "Multiprocess sampling (2 chains in 2 jobs)\n",
      "NUTS: [logk]\n",
      "Sampling 2 chains: 100%|██████████| 8000/8000 [00:02<00:00, 2779.45draws/s]\n",
      "Auto-assigning NUTS sampler...\n",
      "Initializing NUTS using jitter+adapt_diag...\n",
      "Multiprocess sampling (2 chains in 2 jobs)\n",
      "NUTS: [logk]\n",
      "Sampling 2 chains: 100%|██████████| 8000/8000 [00:03<00:00, 2544.70draws/s]\n",
      "Auto-assigning NUTS sampler...\n",
      "Initializing NUTS using jitter+adapt_diag...\n",
      "Multiprocess sampling (2 chains in 2 jobs)\n",
      "NUTS: [logk]\n",
      "Sampling 2 chains: 100%|██████████| 8000/8000 [00:03<00:00, 2606.41draws/s]\n",
      "The acceptance probability does not match the target. It is 0.905634345672723, but should be close to 0.95. Try to increase the number of tuning steps.\n",
      "Auto-assigning NUTS sampler...\n",
      "Initializing NUTS using jitter+adapt_diag...\n",
      "Multiprocess sampling (2 chains in 2 jobs)\n",
      "NUTS: [logk]\n",
      "Sampling 2 chains: 100%|██████████| 8000/8000 [00:03<00:00, 2466.93draws/s]\n",
      "Auto-assigning NUTS sampler...\n",
      "Initializing NUTS using jitter+adapt_diag...\n",
      "Multiprocess sampling (2 chains in 2 jobs)\n",
      "NUTS: [logk]\n",
      "Sampling 2 chains: 100%|██████████| 8000/8000 [00:03<00:00, 2459.42draws/s]\n",
      "Auto-assigning NUTS sampler...\n",
      "Initializing NUTS using jitter+adapt_diag...\n",
      "Multiprocess sampling (2 chains in 2 jobs)\n",
      "NUTS: [logk]\n",
      "Sampling 2 chains: 100%|██████████| 8000/8000 [00:03<00:00, 2651.08draws/s]\n",
      "Auto-assigning NUTS sampler...\n",
      "Initializing NUTS using jitter+adapt_diag...\n",
      "Multiprocess sampling (2 chains in 2 jobs)\n",
      "NUTS: [logk]\n",
      "Sampling 2 chains: 100%|██████████| 8000/8000 [00:03<00:00, 2603.42draws/s]\n",
      "Auto-assigning NUTS sampler...\n",
      "Initializing NUTS using jitter+adapt_diag...\n",
      "Multiprocess sampling (2 chains in 2 jobs)\n",
      "NUTS: [logk]\n",
      "Sampling 2 chains: 100%|██████████| 8000/8000 [00:03<00:00, 2405.26draws/s]\n",
      "Auto-assigning NUTS sampler...\n",
      "Initializing NUTS using jitter+adapt_diag...\n",
      "Multiprocess sampling (2 chains in 2 jobs)\n",
      "NUTS: [logk]\n",
      "Sampling 2 chains: 100%|██████████| 8000/8000 [00:03<00:00, 2436.33draws/s]\n",
      "Auto-assigning NUTS sampler...\n",
      "Initializing NUTS using jitter+adapt_diag...\n",
      "Multiprocess sampling (2 chains in 2 jobs)\n",
      "NUTS: [logk]\n",
      "Sampling 2 chains: 100%|██████████| 8000/8000 [00:03<00:00, 2487.94draws/s]\n",
      "Auto-assigning NUTS sampler...\n",
      "Initializing NUTS using jitter+adapt_diag...\n",
      "Multiprocess sampling (2 chains in 2 jobs)\n",
      "NUTS: [logk]\n",
      "Sampling 2 chains: 100%|██████████| 8000/8000 [00:03<00:00, 2572.54draws/s]\n",
      "Auto-assigning NUTS sampler...\n",
      "Initializing NUTS using jitter+adapt_diag...\n",
      "Multiprocess sampling (2 chains in 2 jobs)\n",
      "NUTS: [logk]\n",
      "Sampling 2 chains: 100%|██████████| 8000/8000 [00:05<00:00, 1556.34draws/s]\n",
      "The number of effective samples is smaller than 25% for some parameters.\n",
      "Auto-assigning NUTS sampler...\n",
      "Initializing NUTS using jitter+adapt_diag...\n",
      "Multiprocess sampling (2 chains in 2 jobs)\n",
      "NUTS: [logk]\n",
      "Sampling 2 chains: 100%|██████████| 8000/8000 [00:03<00:00, 2644.99draws/s]\n",
      "Auto-assigning NUTS sampler...\n",
      "Initializing NUTS using jitter+adapt_diag...\n",
      "Multiprocess sampling (2 chains in 2 jobs)\n",
      "NUTS: [logk]\n",
      "Sampling 2 chains: 100%|██████████| 8000/8000 [00:03<00:00, 2234.25draws/s]\n",
      "The estimated number of effective samples is smaller than 200 for some parameters.\n",
      "Auto-assigning NUTS sampler...\n",
      "Initializing NUTS using jitter+adapt_diag...\n",
      "Multiprocess sampling (2 chains in 2 jobs)\n",
      "NUTS: [logk]\n",
      "Sampling 2 chains: 100%|██████████| 8000/8000 [00:03<00:00, 2512.55draws/s]\n",
      "Auto-assigning NUTS sampler...\n",
      "Initializing NUTS using jitter+adapt_diag...\n",
      "Multiprocess sampling (2 chains in 2 jobs)\n",
      "NUTS: [logk]\n",
      "Sampling 2 chains: 100%|██████████| 8000/8000 [00:04<00:00, 1909.90draws/s]\n",
      "The acceptance probability does not match the target. It is 0.8931949511987473, but should be close to 0.95. Try to increase the number of tuning steps.\n",
      "The number of effective samples is smaller than 10% for some parameters.\n",
      "Auto-assigning NUTS sampler...\n",
      "Initializing NUTS using jitter+adapt_diag...\n",
      "Multiprocess sampling (2 chains in 2 jobs)\n",
      "NUTS: [logk]\n",
      "Sampling 2 chains: 100%|██████████| 8000/8000 [00:04<00:00, 1717.16draws/s]\n",
      "The number of effective samples is smaller than 25% for some parameters.\n",
      "Auto-assigning NUTS sampler...\n",
      "Initializing NUTS using jitter+adapt_diag...\n",
      "Multiprocess sampling (2 chains in 2 jobs)\n",
      "NUTS: [logk]\n",
      "Sampling 2 chains: 100%|██████████| 8000/8000 [00:04<00:00, 1952.13draws/s]\n",
      "The number of effective samples is smaller than 25% for some parameters.\n",
      "Auto-assigning NUTS sampler...\n",
      "Initializing NUTS using jitter+adapt_diag...\n",
      "Multiprocess sampling (2 chains in 2 jobs)\n",
      "NUTS: [logk]\n",
      "Sampling 2 chains: 100%|██████████| 8000/8000 [00:04<00:00, 1639.32draws/s]\n",
      "The acceptance probability does not match the target. It is 0.631736455659746, but should be close to 0.95. Try to increase the number of tuning steps.\n",
      "The acceptance probability does not match the target. It is 0.9934011966044426, but should be close to 0.95. Try to increase the number of tuning steps.\n",
      "The estimated number of effective samples is smaller than 200 for some parameters.\n",
      "Auto-assigning NUTS sampler...\n",
      "Initializing NUTS using jitter+adapt_diag...\n",
      "Multiprocess sampling (2 chains in 2 jobs)\n",
      "NUTS: [logk]\n",
      "Sampling 2 chains: 100%|██████████| 8000/8000 [00:03<00:00, 2199.48draws/s]\n",
      "Auto-assigning NUTS sampler...\n",
      "Initializing NUTS using jitter+adapt_diag...\n",
      "Multiprocess sampling (2 chains in 2 jobs)\n",
      "NUTS: [logk]\n",
      "Sampling 2 chains: 100%|██████████| 8000/8000 [00:05<00:00, 1397.78draws/s]\n",
      "The number of effective samples is smaller than 25% for some parameters.\n",
      "Auto-assigning NUTS sampler...\n",
      "Initializing NUTS using jitter+adapt_diag...\n",
      "Multiprocess sampling (2 chains in 2 jobs)\n",
      "NUTS: [logk]\n",
      "Sampling 2 chains: 100%|██████████| 8000/8000 [00:03<00:00, 2367.23draws/s]\n",
      "Auto-assigning NUTS sampler...\n",
      "Initializing NUTS using jitter+adapt_diag...\n",
      "Multiprocess sampling (2 chains in 2 jobs)\n",
      "NUTS: [logk]\n",
      "Sampling 2 chains: 100%|██████████| 8000/8000 [00:04<00:00, 1662.32draws/s]\n",
      "The acceptance probability does not match the target. It is 0.631736455659746, but should be close to 0.95. Try to increase the number of tuning steps.\n",
      "The acceptance probability does not match the target. It is 0.9934011966044426, but should be close to 0.95. Try to increase the number of tuning steps.\n",
      "The estimated number of effective samples is smaller than 200 for some parameters.\n",
      "Auto-assigning NUTS sampler...\n",
      "Initializing NUTS using jitter+adapt_diag...\n",
      "Multiprocess sampling (2 chains in 2 jobs)\n",
      "NUTS: [logk]\n",
      "Sampling 2 chains: 100%|██████████| 8000/8000 [00:02<00:00, 2729.71draws/s]\n",
      "Auto-assigning NUTS sampler...\n",
      "Initializing NUTS using jitter+adapt_diag...\n",
      "Multiprocess sampling (2 chains in 2 jobs)\n",
      "NUTS: [logk]\n",
      "Sampling 2 chains: 100%|██████████| 8000/8000 [00:04<00:00, 1649.74draws/s]\n",
      "The number of effective samples is smaller than 10% for some parameters.\n",
      "Auto-assigning NUTS sampler...\n",
      "Initializing NUTS using jitter+adapt_diag...\n",
      "Multiprocess sampling (2 chains in 2 jobs)\n",
      "NUTS: [logk]\n",
      "Sampling 2 chains: 100%|██████████| 8000/8000 [00:04<00:00, 1652.55draws/s]\n",
      "The number of effective samples is smaller than 25% for some parameters.\n",
      "Auto-assigning NUTS sampler...\n",
      "Initializing NUTS using jitter+adapt_diag...\n",
      "Multiprocess sampling (2 chains in 2 jobs)\n",
      "NUTS: [logk]\n",
      "Sampling 2 chains: 100%|██████████| 8000/8000 [00:04<00:00, 1672.57draws/s]\n",
      "The number of effective samples is smaller than 25% for some parameters.\n",
      "Auto-assigning NUTS sampler...\n",
      "Initializing NUTS using jitter+adapt_diag...\n",
      "Multiprocess sampling (2 chains in 2 jobs)\n",
      "NUTS: [logk]\n",
      "Sampling 2 chains: 100%|██████████| 8000/8000 [00:05<00:00, 1464.79draws/s]\n",
      "The number of effective samples is smaller than 25% for some parameters.\n",
      "Auto-assigning NUTS sampler...\n",
      "Initializing NUTS using jitter+adapt_diag...\n",
      "Multiprocess sampling (2 chains in 2 jobs)\n",
      "NUTS: [logk]\n",
      "Sampling 2 chains: 100%|██████████| 8000/8000 [00:04<00:00, 1795.01draws/s]\n",
      "The number of effective samples is smaller than 25% for some parameters.\n",
      "Auto-assigning NUTS sampler...\n",
      "Initializing NUTS using jitter+adapt_diag...\n",
      "Multiprocess sampling (2 chains in 2 jobs)\n",
      "NUTS: [logk]\n",
      "Sampling 2 chains: 100%|██████████| 8000/8000 [00:03<00:00, 2037.78draws/s]\n",
      "The acceptance probability does not match the target. It is 0.9930315337289578, but should be close to 0.95. Try to increase the number of tuning steps.\n",
      "The acceptance probability does not match the target. It is 0.9050763800132784, but should be close to 0.95. Try to increase the number of tuning steps.\n",
      "The estimated number of effective samples is smaller than 200 for some parameters.\n",
      "Auto-assigning NUTS sampler...\n",
      "Initializing NUTS using jitter+adapt_diag...\n",
      "Multiprocess sampling (2 chains in 2 jobs)\n",
      "NUTS: [logk]\n",
      "Sampling 2 chains: 100%|██████████| 8000/8000 [00:03<00:00, 2506.87draws/s]\n",
      "Auto-assigning NUTS sampler...\n",
      "Initializing NUTS using jitter+adapt_diag...\n",
      "Multiprocess sampling (2 chains in 2 jobs)\n",
      "NUTS: [logk]\n",
      "Sampling 2 chains: 100%|██████████| 8000/8000 [00:03<00:00, 2555.24draws/s]\n",
      "Auto-assigning NUTS sampler...\n",
      "Initializing NUTS using jitter+adapt_diag...\n",
      "Multiprocess sampling (2 chains in 2 jobs)\n",
      "NUTS: [logk]\n",
      "Sampling 2 chains: 100%|██████████| 8000/8000 [00:03<00:00, 2470.23draws/s]\n",
      "The number of effective samples is smaller than 25% for some parameters.\n",
      "Auto-assigning NUTS sampler...\n",
      "Initializing NUTS using jitter+adapt_diag...\n",
      "Multiprocess sampling (2 chains in 2 jobs)\n",
      "NUTS: [logk]\n",
      "Sampling 2 chains: 100%|██████████| 8000/8000 [00:04<00:00, 1735.33draws/s]\n",
      "The acceptance probability does not match the target. It is 0.8921442311471679, but should be close to 0.95. Try to increase the number of tuning steps.\n",
      "The estimated number of effective samples is smaller than 200 for some parameters.\n",
      "Auto-assigning NUTS sampler...\n",
      "Initializing NUTS using jitter+adapt_diag...\n",
      "Multiprocess sampling (2 chains in 2 jobs)\n",
      "NUTS: [logk]\n",
      "Sampling 2 chains: 100%|██████████| 8000/8000 [00:04<00:00, 1805.16draws/s]\n",
      "The number of effective samples is smaller than 25% for some parameters.\n",
      "Auto-assigning NUTS sampler...\n",
      "Initializing NUTS using jitter+adapt_diag...\n",
      "Multiprocess sampling (2 chains in 2 jobs)\n",
      "NUTS: [logk]\n",
      "Sampling 2 chains: 100%|██████████| 8000/8000 [00:04<00:00, 1632.07draws/s]\n",
      "The number of effective samples is smaller than 25% for some parameters.\n",
      "Auto-assigning NUTS sampler...\n",
      "Initializing NUTS using jitter+adapt_diag...\n",
      "Multiprocess sampling (2 chains in 2 jobs)\n",
      "NUTS: [logk]\n",
      "Sampling 2 chains: 100%|██████████| 8000/8000 [00:05<00:00, 1519.45draws/s]\n",
      "The number of effective samples is smaller than 25% for some parameters.\n",
      "Auto-assigning NUTS sampler...\n",
      "Initializing NUTS using jitter+adapt_diag...\n",
      "Multiprocess sampling (2 chains in 2 jobs)\n",
      "NUTS: [logk]\n",
      "Sampling 2 chains: 100%|██████████| 8000/8000 [00:04<00:00, 1725.28draws/s]\n",
      "The number of effective samples is smaller than 25% for some parameters.\n",
      "Auto-assigning NUTS sampler...\n",
      "Initializing NUTS using jitter+adapt_diag...\n",
      "Multiprocess sampling (2 chains in 2 jobs)\n",
      "NUTS: [logk]\n",
      "Sampling 2 chains: 100%|██████████| 8000/8000 [00:03<00:00, 2365.94draws/s]\n",
      "Auto-assigning NUTS sampler...\n",
      "Initializing NUTS using jitter+adapt_diag...\n",
      "Multiprocess sampling (2 chains in 2 jobs)\n",
      "NUTS: [logk]\n",
      "Sampling 2 chains: 100%|██████████| 8000/8000 [00:03<00:00, 2498.95draws/s]\n",
      "Auto-assigning NUTS sampler...\n",
      "Initializing NUTS using jitter+adapt_diag...\n",
      "Multiprocess sampling (2 chains in 2 jobs)\n",
      "NUTS: [logk]\n",
      "Sampling 2 chains: 100%|██████████| 8000/8000 [00:05<00:00, 1521.26draws/s]\n",
      "The number of effective samples is smaller than 25% for some parameters.\n",
      "Auto-assigning NUTS sampler...\n",
      "Initializing NUTS using jitter+adapt_diag...\n",
      "Multiprocess sampling (2 chains in 2 jobs)\n",
      "NUTS: [logk]\n",
      "Sampling 2 chains: 100%|██████████| 8000/8000 [00:04<00:00, 1628.00draws/s]\n",
      "The number of effective samples is smaller than 25% for some parameters.\n",
      "Auto-assigning NUTS sampler...\n",
      "Initializing NUTS using jitter+adapt_diag...\n",
      "Multiprocess sampling (2 chains in 2 jobs)\n",
      "NUTS: [logk]\n",
      "Sampling 2 chains: 100%|██████████| 8000/8000 [00:05<00:00, 1341.46draws/s]\n",
      "The number of effective samples is smaller than 25% for some parameters.\n",
      "Auto-assigning NUTS sampler...\n",
      "Initializing NUTS using jitter+adapt_diag...\n",
      "Multiprocess sampling (2 chains in 2 jobs)\n",
      "NUTS: [logk]\n",
      "Sampling 2 chains: 100%|██████████| 8000/8000 [00:03<00:00, 2255.02draws/s]\n",
      "Auto-assigning NUTS sampler...\n",
      "Initializing NUTS using jitter+adapt_diag...\n",
      "Multiprocess sampling (2 chains in 2 jobs)\n",
      "NUTS: [logk]\n",
      "Sampling 2 chains: 100%|██████████| 8000/8000 [00:03<00:00, 2182.67draws/s]\n",
      "The number of effective samples is smaller than 25% for some parameters.\n",
      "Auto-assigning NUTS sampler...\n",
      "Initializing NUTS using jitter+adapt_diag...\n",
      "Multiprocess sampling (2 chains in 2 jobs)\n",
      "NUTS: [logk]\n",
      "Sampling 2 chains: 100%|██████████| 8000/8000 [00:04<00:00, 1663.05draws/s]\n",
      "The number of effective samples is smaller than 25% for some parameters.\n",
      "Auto-assigning NUTS sampler...\n",
      "Initializing NUTS using jitter+adapt_diag...\n",
      "Multiprocess sampling (2 chains in 2 jobs)\n",
      "NUTS: [logk]\n",
      "Sampling 2 chains: 100%|██████████| 8000/8000 [00:03<00:00, 2533.48draws/s]\n",
      "Auto-assigning NUTS sampler...\n",
      "Initializing NUTS using jitter+adapt_diag...\n",
      "Multiprocess sampling (2 chains in 2 jobs)\n",
      "NUTS: [logk]\n",
      "Sampling 2 chains: 100%|██████████| 8000/8000 [00:03<00:00, 2425.26draws/s]\n",
      "Auto-assigning NUTS sampler...\n",
      "Initializing NUTS using jitter+adapt_diag...\n",
      "Multiprocess sampling (2 chains in 2 jobs)\n",
      "NUTS: [logk]\n",
      "Sampling 2 chains: 100%|██████████| 8000/8000 [00:03<00:00, 2340.02draws/s]\n",
      "Auto-assigning NUTS sampler...\n",
      "Initializing NUTS using jitter+adapt_diag...\n",
      "Multiprocess sampling (2 chains in 2 jobs)\n",
      "NUTS: [logk]\n",
      "Sampling 2 chains: 100%|██████████| 8000/8000 [00:03<00:00, 2522.27draws/s]\n",
      "The number of effective samples is smaller than 25% for some parameters.\n",
      "Auto-assigning NUTS sampler...\n",
      "Initializing NUTS using jitter+adapt_diag...\n",
      "Multiprocess sampling (2 chains in 2 jobs)\n",
      "NUTS: [logk]\n",
      "Sampling 2 chains: 100%|██████████| 8000/8000 [00:03<00:00, 2578.09draws/s]\n",
      "Auto-assigning NUTS sampler...\n",
      "Initializing NUTS using jitter+adapt_diag...\n",
      "Multiprocess sampling (2 chains in 2 jobs)\n",
      "NUTS: [logk]\n",
      "Sampling 2 chains: 100%|██████████| 8000/8000 [00:05<00:00, 1559.24draws/s]\n",
      "The number of effective samples is smaller than 25% for some parameters.\n",
      "Auto-assigning NUTS sampler...\n",
      "Initializing NUTS using jitter+adapt_diag...\n",
      "Multiprocess sampling (2 chains in 2 jobs)\n",
      "NUTS: [logk]\n",
      "Sampling 2 chains: 100%|██████████| 8000/8000 [00:05<00:00, 1445.26draws/s]\n",
      "The number of effective samples is smaller than 25% for some parameters.\n",
      "Auto-assigning NUTS sampler...\n",
      "Initializing NUTS using jitter+adapt_diag...\n",
      "Multiprocess sampling (2 chains in 2 jobs)\n",
      "NUTS: [logk]\n",
      "Sampling 2 chains: 100%|██████████| 8000/8000 [00:03<00:00, 2141.53draws/s]\n",
      "The number of effective samples is smaller than 10% for some parameters.\n",
      "Auto-assigning NUTS sampler...\n",
      "Initializing NUTS using jitter+adapt_diag...\n",
      "Multiprocess sampling (2 chains in 2 jobs)\n",
      "NUTS: [logk]\n",
      "Sampling 2 chains: 100%|██████████| 8000/8000 [00:04<00:00, 1999.80draws/s]\n",
      "The acceptance probability does not match the target. It is 0.8052787454809619, but should be close to 0.95. Try to increase the number of tuning steps.\n",
      "The number of effective samples is smaller than 10% for some parameters.\n",
      "Auto-assigning NUTS sampler...\n",
      "Initializing NUTS using jitter+adapt_diag...\n",
      "Multiprocess sampling (2 chains in 2 jobs)\n",
      "NUTS: [logk]\n",
      "Sampling 2 chains: 100%|██████████| 8000/8000 [00:04<00:00, 1602.88draws/s]\n",
      "The acceptance probability does not match the target. It is 0.8982832572850281, but should be close to 0.95. Try to increase the number of tuning steps.\n",
      "The gelman-rubin statistic is larger than 1.4 for some parameters. The sampler did not converge.\n",
      "The estimated number of effective samples is smaller than 200 for some parameters.\n",
      "Auto-assigning NUTS sampler...\n",
      "Initializing NUTS using jitter+adapt_diag...\n",
      "Multiprocess sampling (2 chains in 2 jobs)\n",
      "NUTS: [logk]\n",
      "Sampling 2 chains: 100%|██████████| 8000/8000 [00:03<00:00, 2397.77draws/s]\n",
      "The number of effective samples is smaller than 25% for some parameters.\n",
      "Auto-assigning NUTS sampler...\n",
      "Initializing NUTS using jitter+adapt_diag...\n",
      "Multiprocess sampling (2 chains in 2 jobs)\n",
      "NUTS: [logk]\n",
      "Sampling 2 chains: 100%|██████████| 8000/8000 [00:03<00:00, 2498.95draws/s]\n",
      "Auto-assigning NUTS sampler...\n",
      "Initializing NUTS using jitter+adapt_diag...\n",
      "Multiprocess sampling (2 chains in 2 jobs)\n",
      "NUTS: [logk]\n",
      "Sampling 2 chains: 100%|██████████| 8000/8000 [00:03<00:00, 2478.65draws/s]\n",
      "Auto-assigning NUTS sampler...\n",
      "Initializing NUTS using jitter+adapt_diag...\n",
      "Multiprocess sampling (2 chains in 2 jobs)\n",
      "NUTS: [logk]\n",
      "Sampling 2 chains: 100%|██████████| 8000/8000 [00:03<00:00, 2461.95draws/s]\n",
      "Auto-assigning NUTS sampler...\n",
      "Initializing NUTS using jitter+adapt_diag...\n",
      "Multiprocess sampling (2 chains in 2 jobs)\n",
      "NUTS: [logk]\n",
      "Sampling 2 chains: 100%|██████████| 8000/8000 [00:03<00:00, 2459.19draws/s]\n",
      "Auto-assigning NUTS sampler...\n",
      "Initializing NUTS using jitter+adapt_diag...\n",
      "Multiprocess sampling (2 chains in 2 jobs)\n",
      "NUTS: [logk]\n",
      "Sampling 2 chains: 100%|██████████| 8000/8000 [00:03<00:00, 2245.56draws/s]\n",
      "The acceptance probability does not match the target. It is 0.7182407155404419, but should be close to 0.95. Try to increase the number of tuning steps.\n",
      "The estimated number of effective samples is smaller than 200 for some parameters.\n",
      "Auto-assigning NUTS sampler...\n",
      "Initializing NUTS using jitter+adapt_diag...\n",
      "Multiprocess sampling (2 chains in 2 jobs)\n",
      "NUTS: [logk]\n",
      "Sampling 2 chains: 100%|██████████| 8000/8000 [00:05<00:00, 1492.00draws/s]\n",
      "The number of effective samples is smaller than 25% for some parameters.\n",
      "Auto-assigning NUTS sampler...\n",
      "Initializing NUTS using jitter+adapt_diag...\n",
      "Multiprocess sampling (2 chains in 2 jobs)\n",
      "NUTS: [logk]\n",
      "Sampling 2 chains: 100%|██████████| 8000/8000 [00:03<00:00, 2534.30draws/s]\n",
      "Auto-assigning NUTS sampler...\n",
      "Initializing NUTS using jitter+adapt_diag...\n",
      "Multiprocess sampling (2 chains in 2 jobs)\n",
      "NUTS: [logk]\n",
      "Sampling 2 chains: 100%|██████████| 8000/8000 [00:03<00:00, 2169.84draws/s]\n",
      "The acceptance probability does not match the target. It is 0.9058974805152967, but should be close to 0.95. Try to increase the number of tuning steps.\n",
      "The estimated number of effective samples is smaller than 200 for some parameters.\n",
      "Auto-assigning NUTS sampler...\n",
      "Initializing NUTS using jitter+adapt_diag...\n",
      "Multiprocess sampling (2 chains in 2 jobs)\n",
      "NUTS: [logk]\n",
      "Sampling 2 chains: 100%|██████████| 8000/8000 [00:03<00:00, 2162.90draws/s]\n",
      "The number of effective samples is smaller than 25% for some parameters.\n",
      "Auto-assigning NUTS sampler...\n",
      "Initializing NUTS using jitter+adapt_diag...\n",
      "Multiprocess sampling (2 chains in 2 jobs)\n",
      "NUTS: [logk]\n",
      "Sampling 2 chains: 100%|██████████| 8000/8000 [00:02<00:00, 2687.69draws/s]\n",
      "Auto-assigning NUTS sampler...\n",
      "Initializing NUTS using jitter+adapt_diag...\n",
      "Multiprocess sampling (2 chains in 2 jobs)\n",
      "NUTS: [logk]\n",
      "Sampling 2 chains: 100%|██████████| 8000/8000 [00:03<00:00, 2462.20draws/s]\n",
      "The acceptance probability does not match the target. It is 0.8992852399242054, but should be close to 0.95. Try to increase the number of tuning steps.\n",
      "Auto-assigning NUTS sampler...\n",
      "Initializing NUTS using jitter+adapt_diag...\n",
      "Multiprocess sampling (2 chains in 2 jobs)\n",
      "NUTS: [logk]\n",
      "Sampling 2 chains: 100%|██████████| 8000/8000 [00:03<00:00, 2390.31draws/s]\n",
      "The number of effective samples is smaller than 10% for some parameters.\n",
      "Auto-assigning NUTS sampler...\n",
      "Initializing NUTS using jitter+adapt_diag...\n",
      "Multiprocess sampling (2 chains in 2 jobs)\n",
      "NUTS: [logk]\n",
      "Sampling 2 chains: 100%|██████████| 8000/8000 [00:05<00:00, 1350.87draws/s]\n",
      "The number of effective samples is smaller than 25% for some parameters.\n",
      "Auto-assigning NUTS sampler...\n",
      "Initializing NUTS using jitter+adapt_diag...\n",
      "Multiprocess sampling (2 chains in 2 jobs)\n",
      "NUTS: [logk]\n",
      "Sampling 2 chains: 100%|██████████| 8000/8000 [00:03<00:00, 2041.25draws/s]\n",
      "The number of effective samples is smaller than 25% for some parameters.\n",
      "Auto-assigning NUTS sampler...\n",
      "Initializing NUTS using jitter+adapt_diag...\n",
      "Multiprocess sampling (2 chains in 2 jobs)\n",
      "NUTS: [logk]\n",
      "Sampling 2 chains: 100%|██████████| 8000/8000 [00:05<00:00, 1433.28draws/s]\n",
      "The acceptance probability does not match the target. It is 0.631736455659746, but should be close to 0.95. Try to increase the number of tuning steps.\n",
      "The acceptance probability does not match the target. It is 0.9934011966044426, but should be close to 0.95. Try to increase the number of tuning steps.\n",
      "The estimated number of effective samples is smaller than 200 for some parameters.\n",
      "Auto-assigning NUTS sampler...\n",
      "Initializing NUTS using jitter+adapt_diag...\n",
      "Multiprocess sampling (2 chains in 2 jobs)\n",
      "NUTS: [logk]\n",
      "Sampling 2 chains: 100%|██████████| 8000/8000 [00:03<00:00, 2408.06draws/s]\n",
      "The number of effective samples is smaller than 25% for some parameters.\n",
      "Auto-assigning NUTS sampler...\n",
      "Initializing NUTS using jitter+adapt_diag...\n",
      "Multiprocess sampling (2 chains in 2 jobs)\n",
      "NUTS: [logk]\n",
      "Sampling 2 chains: 100%|██████████| 8000/8000 [00:03<00:00, 2657.15draws/s]\n",
      "Auto-assigning NUTS sampler...\n",
      "Initializing NUTS using jitter+adapt_diag...\n",
      "Multiprocess sampling (2 chains in 2 jobs)\n",
      "NUTS: [logk]\n",
      "Sampling 2 chains: 100%|██████████| 8000/8000 [00:03<00:00, 2510.39draws/s]\n",
      "Auto-assigning NUTS sampler...\n",
      "Initializing NUTS using jitter+adapt_diag...\n",
      "Multiprocess sampling (2 chains in 2 jobs)\n",
      "NUTS: [logk]\n",
      "Sampling 2 chains: 100%|██████████| 8000/8000 [00:03<00:00, 2317.58draws/s]\n",
      "Auto-assigning NUTS sampler...\n",
      "Initializing NUTS using jitter+adapt_diag...\n",
      "Multiprocess sampling (2 chains in 2 jobs)\n",
      "NUTS: [logk]\n",
      "Sampling 2 chains: 100%|██████████| 8000/8000 [00:03<00:00, 2397.04draws/s]\n"
     ]
    }
   ],
   "source": [
    "n_participants = data.shape[0]\n",
    "\n",
    "should_plot = False\n",
    "\n",
    "pid = []\n",
    "logk_fcq = []\n",
    "\n",
    "for i in range(n_participants):\n",
    "    id_num, fcq_trial_data = extract_FCQ_data(data, i)\n",
    "    logk_fcq_value = score_participant(fcq_trial_data, plot=should_plot)\n",
    "    logk_fcq.append(logk_fcq_value)\n",
    "    pid.append(id_num)\n",
    "\n",
    "results = pd.DataFrame({\"URN\": pid, \"logk_fcq\": logk_fcq})"
   ]
  },
  {
   "cell_type": "code",
   "execution_count": 19,
   "metadata": {},
   "outputs": [],
   "source": [
    "# results = pd.DataFrame({\"URN\": pid, \"logk_fcq\": logk_fcq})\n",
    "# results = pd.DataFrame({\"ID\": pid, \"logk_wcq\": logk_wcq})\n",
    "# results = pd.DataFrame({\"ID\": pid, \"logk_wcq\": logk_wcq, \"logk_fcq\": logk_fcq})"
   ]
  },
  {
   "cell_type": "code",
   "execution_count": 20,
   "metadata": {},
   "outputs": [],
   "source": [
    "# merge with original data file\n",
    "data = pd.merge(data, results, on=\"URN\")"
   ]
  },
  {
   "cell_type": "markdown",
   "metadata": {},
   "source": [
    "# Score WCQ"
   ]
  },
  {
   "cell_type": "code",
   "execution_count": 21,
   "metadata": {},
   "outputs": [],
   "source": [
    "# in order to build the model we need some example data\n",
    "participant = 0\n",
    "temp_trial_data = extract_WCQ_data(data, participant)[1]\n",
    "temp_trial_data\n",
    "\n",
    "# Now build the model at last\n",
    "model = build_model(temp_trial_data)"
   ]
  },
  {
   "cell_type": "code",
   "execution_count": 22,
   "metadata": {},
   "outputs": [
    {
     "data": {
      "image/svg+xml": [
       "<?xml version=\"1.0\" encoding=\"UTF-8\" standalone=\"no\"?>\n",
       "<!DOCTYPE svg PUBLIC \"-//W3C//DTD SVG 1.1//EN\"\n",
       " \"http://www.w3.org/Graphics/SVG/1.1/DTD/svg11.dtd\">\n",
       "<!-- Generated by graphviz version 2.40.1 (20161225.0304)\n",
       " -->\n",
       "<!-- Title: %3 Pages: 1 -->\n",
       "<svg width=\"587pt\" height=\"243pt\"\n",
       " viewBox=\"0.00 0.00 587.34 243.00\" xmlns=\"http://www.w3.org/2000/svg\" xmlns:xlink=\"http://www.w3.org/1999/xlink\">\n",
       "<g id=\"graph0\" class=\"graph\" transform=\"scale(1 1) rotate(0) translate(4 239)\">\n",
       "<title>%3</title>\n",
       "<polygon fill=\"#ffffff\" stroke=\"transparent\" points=\"-4,4 -4,-239 583.3443,-239 583.3443,4 -4,4\"/>\n",
       "<g id=\"clust1\" class=\"cluster\">\n",
       "<title>cluster23</title>\n",
       "<path fill=\"none\" stroke=\"#000000\" d=\"M20,-8C20,-8 429,-8 429,-8 435,-8 441,-14 441,-20 441,-20 441,-215 441,-215 441,-221 435,-227 429,-227 429,-227 20,-227 20,-227 14,-227 8,-221 8,-215 8,-215 8,-20 8,-20 8,-14 14,-8 20,-8\"/>\n",
       "<text text-anchor=\"middle\" x=\"425.5\" y=\"-15.8\" font-family=\"Times,serif\" font-size=\"14.00\" fill=\"#000000\">23</text>\n",
       "</g>\n",
       "<!-- R -->\n",
       "<g id=\"node1\" class=\"node\">\n",
       "<title>R</title>\n",
       "<polygon fill=\"#d3d3d3\" stroke=\"#000000\" points=\"424.5,-147 307.5,-147 307.5,-111 424.5,-111 424.5,-147\"/>\n",
       "<text text-anchor=\"middle\" x=\"366\" y=\"-125.3\" font-family=\"Times,serif\" font-size=\"14.00\" fill=\"#000000\">R ~ Deterministic</text>\n",
       "</g>\n",
       "<!-- response -->\n",
       "<g id=\"node4\" class=\"node\">\n",
       "<title>response</title>\n",
       "<ellipse fill=\"#d3d3d3\" stroke=\"#000000\" cx=\"289\" cy=\"-57\" rx=\"86.3847\" ry=\"18\"/>\n",
       "<text text-anchor=\"middle\" x=\"289\" y=\"-53.3\" font-family=\"Times,serif\" font-size=\"14.00\" fill=\"#000000\">response ~ Bernoulli</text>\n",
       "</g>\n",
       "<!-- R&#45;&gt;response -->\n",
       "<g id=\"edge5\" class=\"edge\">\n",
       "<title>R&#45;&gt;response</title>\n",
       "<path fill=\"none\" stroke=\"#000000\" d=\"M346.5696,-110.8314C337.126,-102.001 325.6345,-91.2556 315.4093,-81.6944\"/>\n",
       "<polygon fill=\"#000000\" stroke=\"#000000\" points=\"317.5865,-78.9385 307.8918,-74.665 312.8056,-84.0515 317.5865,-78.9385\"/>\n",
       "</g>\n",
       "<!-- RB -->\n",
       "<g id=\"node2\" class=\"node\">\n",
       "<title>RB</title>\n",
       "<polygon fill=\"#d3d3d3\" stroke=\"#000000\" points=\"433,-219 307,-219 307,-183 433,-183 433,-219\"/>\n",
       "<text text-anchor=\"middle\" x=\"370\" y=\"-197.3\" font-family=\"Times,serif\" font-size=\"14.00\" fill=\"#000000\">RB ~ Deterministic</text>\n",
       "</g>\n",
       "<!-- P -->\n",
       "<g id=\"node6\" class=\"node\">\n",
       "<title>P</title>\n",
       "<polygon fill=\"none\" stroke=\"#000000\" points=\"289.5,-147 174.5,-147 174.5,-111 289.5,-111 289.5,-147\"/>\n",
       "<text text-anchor=\"middle\" x=\"232\" y=\"-125.3\" font-family=\"Times,serif\" font-size=\"14.00\" fill=\"#000000\">P ~ Deterministic</text>\n",
       "</g>\n",
       "<!-- RB&#45;&gt;P -->\n",
       "<g id=\"edge1\" class=\"edge\">\n",
       "<title>RB&#45;&gt;P</title>\n",
       "<path fill=\"none\" stroke=\"#000000\" d=\"M335.1768,-182.8314C317.1989,-173.4516 295.0797,-161.9112 275.9384,-151.9244\"/>\n",
       "<polygon fill=\"#000000\" stroke=\"#000000\" points=\"277.2969,-148.6855 266.8121,-147.1628 274.0589,-154.8916 277.2969,-148.6855\"/>\n",
       "</g>\n",
       "<!-- RA -->\n",
       "<g id=\"node3\" class=\"node\">\n",
       "<title>RA</title>\n",
       "<polygon fill=\"#d3d3d3\" stroke=\"#000000\" points=\"288.5,-219 161.5,-219 161.5,-183 288.5,-183 288.5,-219\"/>\n",
       "<text text-anchor=\"middle\" x=\"225\" y=\"-197.3\" font-family=\"Times,serif\" font-size=\"14.00\" fill=\"#000000\">RA ~ Deterministic</text>\n",
       "</g>\n",
       "<!-- RA&#45;&gt;P -->\n",
       "<g id=\"edge2\" class=\"edge\">\n",
       "<title>RA&#45;&gt;P</title>\n",
       "<path fill=\"none\" stroke=\"#000000\" d=\"M226.7664,-182.8314C227.515,-175.131 228.4053,-165.9743 229.2373,-157.4166\"/>\n",
       "<polygon fill=\"#000000\" stroke=\"#000000\" points=\"232.7256,-157.7051 230.2098,-147.4133 225.7585,-157.0276 232.7256,-157.7051\"/>\n",
       "</g>\n",
       "<!-- DB -->\n",
       "<g id=\"node5\" class=\"node\">\n",
       "<title>DB</title>\n",
       "<polygon fill=\"#d3d3d3\" stroke=\"#000000\" points=\"143.5,-219 16.5,-219 16.5,-183 143.5,-183 143.5,-219\"/>\n",
       "<text text-anchor=\"middle\" x=\"80\" y=\"-197.3\" font-family=\"Times,serif\" font-size=\"14.00\" fill=\"#000000\">DB ~ Deterministic</text>\n",
       "</g>\n",
       "<!-- DB&#45;&gt;P -->\n",
       "<g id=\"edge3\" class=\"edge\">\n",
       "<title>DB&#45;&gt;P</title>\n",
       "<path fill=\"none\" stroke=\"#000000\" d=\"M118.356,-182.8314C138.5044,-173.2874 163.3752,-161.5065 184.7083,-151.4013\"/>\n",
       "<polygon fill=\"#000000\" stroke=\"#000000\" points=\"186.3807,-154.482 193.9198,-147.038 183.3841,-148.1558 186.3807,-154.482\"/>\n",
       "</g>\n",
       "<!-- P&#45;&gt;response -->\n",
       "<g id=\"edge6\" class=\"edge\">\n",
       "<title>P&#45;&gt;response</title>\n",
       "<path fill=\"none\" stroke=\"#000000\" d=\"M246.3835,-110.8314C253.0496,-102.411 261.0941,-92.2495 268.3899,-83.0338\"/>\n",
       "<polygon fill=\"#000000\" stroke=\"#000000\" points=\"271.3557,-84.9264 274.8185,-74.9134 265.8673,-80.5814 271.3557,-84.9264\"/>\n",
       "</g>\n",
       "<!-- logk -->\n",
       "<g id=\"node7\" class=\"node\">\n",
       "<title>logk</title>\n",
       "<ellipse fill=\"none\" stroke=\"#000000\" cx=\"515\" cy=\"-201\" rx=\"64.189\" ry=\"18\"/>\n",
       "<text text-anchor=\"middle\" x=\"515\" y=\"-197.3\" font-family=\"Times,serif\" font-size=\"14.00\" fill=\"#000000\">logk ~ Normal</text>\n",
       "</g>\n",
       "<!-- logk&#45;&gt;P -->\n",
       "<g id=\"edge4\" class=\"edge\">\n",
       "<title>logk&#45;&gt;P</title>\n",
       "<path fill=\"none\" stroke=\"#000000\" d=\"M467.5721,-188.7363C460.0247,-186.8044 452.3009,-184.8387 445,-183 383.2293,-167.4429 365.3702,-163.9821 299.761,-147.1696\"/>\n",
       "<polygon fill=\"#000000\" stroke=\"#000000\" points=\"300.2801,-143.6893 289.7235,-144.5891 298.5371,-150.4688 300.2801,-143.6893\"/>\n",
       "</g>\n",
       "</g>\n",
       "</svg>\n"
      ],
      "text/plain": [
       "<graphviz.dot.Digraph at 0x1c4af89f50>"
      ]
     },
     "execution_count": 22,
     "metadata": {},
     "output_type": "execute_result"
    }
   ],
   "source": [
    "pm.model_to_graphviz(model)"
   ]
  },
  {
   "cell_type": "code",
   "execution_count": 23,
   "metadata": {},
   "outputs": [
    {
     "name": "stderr",
     "output_type": "stream",
     "text": [
      "Auto-assigning NUTS sampler...\n",
      "Initializing NUTS using jitter+adapt_diag...\n"
     ]
    },
    {
     "name": "stdout",
     "output_type": "stream",
     "text": [
      "542031-542022-53955464\n"
     ]
    },
    {
     "name": "stderr",
     "output_type": "stream",
     "text": [
      "Multiprocess sampling (2 chains in 2 jobs)\n",
      "NUTS: [logk]\n",
      "Sampling 2 chains: 100%|██████████| 8000/8000 [00:02<00:00, 2751.43draws/s]\n",
      "Auto-assigning NUTS sampler...\n",
      "Initializing NUTS using jitter+adapt_diag...\n"
     ]
    },
    {
     "name": "stdout",
     "output_type": "stream",
     "text": [
      "542031-542022-53955477\n"
     ]
    },
    {
     "name": "stderr",
     "output_type": "stream",
     "text": [
      "Multiprocess sampling (2 chains in 2 jobs)\n",
      "NUTS: [logk]\n",
      "Sampling 2 chains: 100%|██████████| 8000/8000 [00:02<00:00, 2721.77draws/s]\n",
      "The number of effective samples is smaller than 25% for some parameters.\n",
      "Auto-assigning NUTS sampler...\n",
      "Initializing NUTS using jitter+adapt_diag...\n"
     ]
    },
    {
     "name": "stdout",
     "output_type": "stream",
     "text": [
      "542031-542022-53955913\n"
     ]
    },
    {
     "name": "stderr",
     "output_type": "stream",
     "text": [
      "Multiprocess sampling (2 chains in 2 jobs)\n",
      "NUTS: [logk]\n",
      "Sampling 2 chains: 100%|██████████| 8000/8000 [00:03<00:00, 2477.29draws/s]\n",
      "The number of effective samples is smaller than 25% for some parameters.\n",
      "Auto-assigning NUTS sampler...\n",
      "Initializing NUTS using jitter+adapt_diag...\n"
     ]
    },
    {
     "name": "stdout",
     "output_type": "stream",
     "text": [
      "542031-542022-53955858\n"
     ]
    },
    {
     "name": "stderr",
     "output_type": "stream",
     "text": [
      "Multiprocess sampling (2 chains in 2 jobs)\n",
      "NUTS: [logk]\n",
      "Sampling 2 chains: 100%|██████████| 8000/8000 [00:03<00:00, 2544.64draws/s]\n",
      "The number of effective samples is smaller than 25% for some parameters.\n",
      "Auto-assigning NUTS sampler...\n",
      "Initializing NUTS using jitter+adapt_diag...\n"
     ]
    },
    {
     "name": "stdout",
     "output_type": "stream",
     "text": [
      "542031-542022-53956174\n"
     ]
    },
    {
     "name": "stderr",
     "output_type": "stream",
     "text": [
      "Multiprocess sampling (2 chains in 2 jobs)\n",
      "NUTS: [logk]\n",
      "Sampling 2 chains: 100%|██████████| 8000/8000 [00:03<00:00, 2441.73draws/s]\n",
      "Auto-assigning NUTS sampler...\n",
      "Initializing NUTS using jitter+adapt_diag...\n"
     ]
    },
    {
     "name": "stdout",
     "output_type": "stream",
     "text": [
      "542031-542022-53956273\n"
     ]
    },
    {
     "name": "stderr",
     "output_type": "stream",
     "text": [
      "Multiprocess sampling (2 chains in 2 jobs)\n",
      "NUTS: [logk]\n",
      "Sampling 2 chains: 100%|██████████| 8000/8000 [00:03<00:00, 2424.02draws/s]\n",
      "The number of effective samples is smaller than 25% for some parameters.\n",
      "Auto-assigning NUTS sampler...\n",
      "Initializing NUTS using jitter+adapt_diag...\n"
     ]
    },
    {
     "name": "stdout",
     "output_type": "stream",
     "text": [
      "542031-542022-53956268\n"
     ]
    },
    {
     "name": "stderr",
     "output_type": "stream",
     "text": [
      "Multiprocess sampling (2 chains in 2 jobs)\n",
      "NUTS: [logk]\n",
      "Sampling 2 chains: 100%|██████████| 8000/8000 [00:03<00:00, 2566.88draws/s]\n",
      "Auto-assigning NUTS sampler...\n",
      "Initializing NUTS using jitter+adapt_diag...\n"
     ]
    },
    {
     "name": "stdout",
     "output_type": "stream",
     "text": [
      "542031-542022-53956465\n"
     ]
    },
    {
     "name": "stderr",
     "output_type": "stream",
     "text": [
      "Multiprocess sampling (2 chains in 2 jobs)\n",
      "NUTS: [logk]\n",
      "Sampling 2 chains: 100%|██████████| 8000/8000 [00:03<00:00, 2297.44draws/s]\n",
      "The number of effective samples is smaller than 25% for some parameters.\n",
      "Auto-assigning NUTS sampler...\n",
      "Initializing NUTS using jitter+adapt_diag...\n"
     ]
    },
    {
     "name": "stdout",
     "output_type": "stream",
     "text": [
      "542031-542022-53956193\n"
     ]
    },
    {
     "name": "stderr",
     "output_type": "stream",
     "text": [
      "Multiprocess sampling (2 chains in 2 jobs)\n",
      "NUTS: [logk]\n",
      "Sampling 2 chains: 100%|██████████| 8000/8000 [00:03<00:00, 2245.73draws/s]\n",
      "The number of effective samples is smaller than 25% for some parameters.\n",
      "Auto-assigning NUTS sampler...\n",
      "Initializing NUTS using jitter+adapt_diag...\n"
     ]
    },
    {
     "name": "stdout",
     "output_type": "stream",
     "text": [
      "542031-542022-53956276\n"
     ]
    },
    {
     "name": "stderr",
     "output_type": "stream",
     "text": [
      "Multiprocess sampling (2 chains in 2 jobs)\n",
      "NUTS: [logk]\n",
      "Sampling 2 chains: 100%|██████████| 8000/8000 [00:03<00:00, 2318.02draws/s]\n",
      "The number of effective samples is smaller than 25% for some parameters.\n",
      "Auto-assigning NUTS sampler...\n",
      "Initializing NUTS using jitter+adapt_diag...\n"
     ]
    },
    {
     "name": "stdout",
     "output_type": "stream",
     "text": [
      "542031-542022-53956911\n"
     ]
    },
    {
     "name": "stderr",
     "output_type": "stream",
     "text": [
      "Multiprocess sampling (2 chains in 2 jobs)\n",
      "NUTS: [logk]\n",
      "Sampling 2 chains: 100%|██████████| 8000/8000 [00:02<00:00, 2824.62draws/s]\n",
      "Auto-assigning NUTS sampler...\n",
      "Initializing NUTS using jitter+adapt_diag...\n"
     ]
    },
    {
     "name": "stdout",
     "output_type": "stream",
     "text": [
      "542031-542022-53956963\n"
     ]
    },
    {
     "name": "stderr",
     "output_type": "stream",
     "text": [
      "Multiprocess sampling (2 chains in 2 jobs)\n",
      "NUTS: [logk]\n",
      "Sampling 2 chains: 100%|██████████| 8000/8000 [00:02<00:00, 2799.45draws/s]\n",
      "Auto-assigning NUTS sampler...\n",
      "Initializing NUTS using jitter+adapt_diag...\n"
     ]
    },
    {
     "name": "stdout",
     "output_type": "stream",
     "text": [
      "542031-542022-53956904\n"
     ]
    },
    {
     "name": "stderr",
     "output_type": "stream",
     "text": [
      "Multiprocess sampling (2 chains in 2 jobs)\n",
      "NUTS: [logk]\n",
      "Sampling 2 chains: 100%|██████████| 8000/8000 [00:03<00:00, 2225.37draws/s]\n",
      "The number of effective samples is smaller than 25% for some parameters.\n",
      "Auto-assigning NUTS sampler...\n",
      "Initializing NUTS using jitter+adapt_diag...\n"
     ]
    },
    {
     "name": "stdout",
     "output_type": "stream",
     "text": [
      "542031-542022-53957882\n"
     ]
    },
    {
     "name": "stderr",
     "output_type": "stream",
     "text": [
      "Multiprocess sampling (2 chains in 2 jobs)\n",
      "NUTS: [logk]\n",
      "Sampling 2 chains: 100%|██████████| 8000/8000 [00:03<00:00, 2632.95draws/s]\n",
      "Auto-assigning NUTS sampler...\n",
      "Initializing NUTS using jitter+adapt_diag...\n"
     ]
    },
    {
     "name": "stdout",
     "output_type": "stream",
     "text": [
      "542031-542022-53957686\n"
     ]
    },
    {
     "name": "stderr",
     "output_type": "stream",
     "text": [
      "Multiprocess sampling (2 chains in 2 jobs)\n",
      "NUTS: [logk]\n",
      "Sampling 2 chains: 100%|██████████| 8000/8000 [00:03<00:00, 2504.64draws/s]\n",
      "Auto-assigning NUTS sampler...\n",
      "Initializing NUTS using jitter+adapt_diag...\n"
     ]
    },
    {
     "name": "stdout",
     "output_type": "stream",
     "text": [
      "542031-542022-53957975\n"
     ]
    },
    {
     "name": "stderr",
     "output_type": "stream",
     "text": [
      "Multiprocess sampling (2 chains in 2 jobs)\n",
      "NUTS: [logk]\n",
      "Sampling 2 chains: 100%|██████████| 8000/8000 [00:03<00:00, 2461.19draws/s]\n",
      "The number of effective samples is smaller than 25% for some parameters.\n",
      "Auto-assigning NUTS sampler...\n",
      "Initializing NUTS using jitter+adapt_diag...\n"
     ]
    },
    {
     "name": "stdout",
     "output_type": "stream",
     "text": [
      "542031-542022-53958393\n"
     ]
    },
    {
     "name": "stderr",
     "output_type": "stream",
     "text": [
      "Multiprocess sampling (2 chains in 2 jobs)\n",
      "NUTS: [logk]\n",
      "Sampling 2 chains: 100%|██████████| 8000/8000 [00:03<00:00, 2573.71draws/s]\n",
      "Auto-assigning NUTS sampler...\n",
      "Initializing NUTS using jitter+adapt_diag...\n"
     ]
    },
    {
     "name": "stdout",
     "output_type": "stream",
     "text": [
      "542031-542022-53959490\n"
     ]
    },
    {
     "name": "stderr",
     "output_type": "stream",
     "text": [
      "Multiprocess sampling (2 chains in 2 jobs)\n",
      "NUTS: [logk]\n",
      "Sampling 2 chains: 100%|██████████| 8000/8000 [00:03<00:00, 2630.46draws/s]\n",
      "The number of effective samples is smaller than 25% for some parameters.\n",
      "Auto-assigning NUTS sampler...\n",
      "Initializing NUTS using jitter+adapt_diag...\n"
     ]
    },
    {
     "name": "stdout",
     "output_type": "stream",
     "text": [
      "542031-542022-53959621\n"
     ]
    },
    {
     "name": "stderr",
     "output_type": "stream",
     "text": [
      "Multiprocess sampling (2 chains in 2 jobs)\n",
      "NUTS: [logk]\n",
      "Sampling 2 chains: 100%|██████████| 8000/8000 [00:03<00:00, 2433.35draws/s]\n",
      "The number of effective samples is smaller than 25% for some parameters.\n",
      "Auto-assigning NUTS sampler...\n",
      "Initializing NUTS using jitter+adapt_diag...\n"
     ]
    },
    {
     "name": "stdout",
     "output_type": "stream",
     "text": [
      "542031-542022-53959498\n"
     ]
    },
    {
     "name": "stderr",
     "output_type": "stream",
     "text": [
      "Multiprocess sampling (2 chains in 2 jobs)\n",
      "NUTS: [logk]\n",
      "Sampling 2 chains: 100%|██████████| 8000/8000 [00:03<00:00, 2428.33draws/s]\n",
      "The number of effective samples is smaller than 25% for some parameters.\n",
      "Auto-assigning NUTS sampler...\n",
      "Initializing NUTS using jitter+adapt_diag...\n"
     ]
    },
    {
     "name": "stdout",
     "output_type": "stream",
     "text": [
      "542031-542022-53959406\n"
     ]
    },
    {
     "name": "stderr",
     "output_type": "stream",
     "text": [
      "Multiprocess sampling (2 chains in 2 jobs)\n",
      "NUTS: [logk]\n",
      "Sampling 2 chains: 100%|██████████| 8000/8000 [00:03<00:00, 2230.55draws/s]\n",
      "The number of effective samples is smaller than 25% for some parameters.\n",
      "Auto-assigning NUTS sampler...\n",
      "Initializing NUTS using jitter+adapt_diag...\n"
     ]
    },
    {
     "name": "stdout",
     "output_type": "stream",
     "text": [
      "542031-542022-53959729\n"
     ]
    },
    {
     "name": "stderr",
     "output_type": "stream",
     "text": [
      "Multiprocess sampling (2 chains in 2 jobs)\n",
      "NUTS: [logk]\n",
      "Sampling 2 chains: 100%|██████████| 8000/8000 [00:03<00:00, 2359.15draws/s]\n",
      "The number of effective samples is smaller than 25% for some parameters.\n",
      "Auto-assigning NUTS sampler...\n",
      "Initializing NUTS using jitter+adapt_diag...\n"
     ]
    },
    {
     "name": "stdout",
     "output_type": "stream",
     "text": [
      "542031-542022-53959819\n"
     ]
    },
    {
     "name": "stderr",
     "output_type": "stream",
     "text": [
      "Multiprocess sampling (2 chains in 2 jobs)\n",
      "NUTS: [logk]\n",
      "Sampling 2 chains: 100%|██████████| 8000/8000 [00:03<00:00, 2480.38draws/s]\n",
      "The number of effective samples is smaller than 25% for some parameters.\n",
      "Auto-assigning NUTS sampler...\n",
      "Initializing NUTS using jitter+adapt_diag...\n"
     ]
    },
    {
     "name": "stdout",
     "output_type": "stream",
     "text": [
      "542031-542022-53960194\n"
     ]
    },
    {
     "name": "stderr",
     "output_type": "stream",
     "text": [
      "Multiprocess sampling (2 chains in 2 jobs)\n",
      "NUTS: [logk]\n",
      "Sampling 2 chains: 100%|██████████| 8000/8000 [00:03<00:00, 2320.68draws/s]\n",
      "The number of effective samples is smaller than 25% for some parameters.\n",
      "Auto-assigning NUTS sampler...\n",
      "Initializing NUTS using jitter+adapt_diag...\n"
     ]
    },
    {
     "name": "stdout",
     "output_type": "stream",
     "text": [
      "542031-542022-53960242\n"
     ]
    },
    {
     "name": "stderr",
     "output_type": "stream",
     "text": [
      "Multiprocess sampling (2 chains in 2 jobs)\n",
      "NUTS: [logk]\n",
      "Sampling 2 chains: 100%|██████████| 8000/8000 [00:03<00:00, 2438.79draws/s]\n",
      "The number of effective samples is smaller than 25% for some parameters.\n",
      "Auto-assigning NUTS sampler...\n",
      "Initializing NUTS using jitter+adapt_diag...\n"
     ]
    },
    {
     "name": "stdout",
     "output_type": "stream",
     "text": [
      "542031-542022-53959680\n"
     ]
    },
    {
     "name": "stderr",
     "output_type": "stream",
     "text": [
      "Multiprocess sampling (2 chains in 2 jobs)\n",
      "NUTS: [logk]\n",
      "Sampling 2 chains: 100%|██████████| 8000/8000 [00:03<00:00, 2568.79draws/s]\n",
      "Auto-assigning NUTS sampler...\n",
      "Initializing NUTS using jitter+adapt_diag...\n"
     ]
    },
    {
     "name": "stdout",
     "output_type": "stream",
     "text": [
      "542031-542022-53960328\n"
     ]
    },
    {
     "name": "stderr",
     "output_type": "stream",
     "text": [
      "Multiprocess sampling (2 chains in 2 jobs)\n",
      "NUTS: [logk]\n",
      "Sampling 2 chains: 100%|██████████| 8000/8000 [00:03<00:00, 2391.69draws/s]\n",
      "The number of effective samples is smaller than 25% for some parameters.\n",
      "Auto-assigning NUTS sampler...\n",
      "Initializing NUTS using jitter+adapt_diag...\n"
     ]
    },
    {
     "name": "stdout",
     "output_type": "stream",
     "text": [
      "542031-542022-53960004\n"
     ]
    },
    {
     "name": "stderr",
     "output_type": "stream",
     "text": [
      "Multiprocess sampling (2 chains in 2 jobs)\n",
      "NUTS: [logk]\n",
      "Sampling 2 chains: 100%|██████████| 8000/8000 [00:02<00:00, 2753.90draws/s]\n",
      "Auto-assigning NUTS sampler...\n",
      "Initializing NUTS using jitter+adapt_diag...\n"
     ]
    },
    {
     "name": "stdout",
     "output_type": "stream",
     "text": [
      "542031-542022-53960355\n"
     ]
    },
    {
     "name": "stderr",
     "output_type": "stream",
     "text": [
      "Multiprocess sampling (2 chains in 2 jobs)\n",
      "NUTS: [logk]\n",
      "Sampling 2 chains: 100%|██████████| 8000/8000 [00:02<00:00, 2832.45draws/s]\n",
      "The acceptance probability does not match the target. It is 0.7410190735535208, but should be close to 0.95. Try to increase the number of tuning steps.\n",
      "The acceptance probability does not match the target. It is 0.8949528491570652, but should be close to 0.95. Try to increase the number of tuning steps.\n",
      "The number of effective samples is smaller than 25% for some parameters.\n",
      "Auto-assigning NUTS sampler...\n",
      "Initializing NUTS using jitter+adapt_diag...\n"
     ]
    },
    {
     "name": "stdout",
     "output_type": "stream",
     "text": [
      "542031-542022-53960380\n"
     ]
    },
    {
     "name": "stderr",
     "output_type": "stream",
     "text": [
      "Multiprocess sampling (2 chains in 2 jobs)\n",
      "NUTS: [logk]\n",
      "Sampling 2 chains: 100%|██████████| 8000/8000 [00:03<00:00, 2210.79draws/s]\n",
      "The number of effective samples is smaller than 25% for some parameters.\n",
      "Auto-assigning NUTS sampler...\n",
      "Initializing NUTS using jitter+adapt_diag...\n"
     ]
    },
    {
     "name": "stdout",
     "output_type": "stream",
     "text": [
      "542031-542022-53960622\n"
     ]
    },
    {
     "name": "stderr",
     "output_type": "stream",
     "text": [
      "Multiprocess sampling (2 chains in 2 jobs)\n",
      "NUTS: [logk]\n",
      "Sampling 2 chains: 100%|██████████| 8000/8000 [00:03<00:00, 2467.46draws/s]\n",
      "Auto-assigning NUTS sampler...\n",
      "Initializing NUTS using jitter+adapt_diag...\n"
     ]
    },
    {
     "name": "stdout",
     "output_type": "stream",
     "text": [
      "542031-542022-53960828\n"
     ]
    },
    {
     "name": "stderr",
     "output_type": "stream",
     "text": [
      "Multiprocess sampling (2 chains in 2 jobs)\n",
      "NUTS: [logk]\n",
      "Sampling 2 chains: 100%|██████████| 8000/8000 [00:03<00:00, 2553.02draws/s]\n",
      "The number of effective samples is smaller than 25% for some parameters.\n",
      "Auto-assigning NUTS sampler...\n",
      "Initializing NUTS using jitter+adapt_diag...\n"
     ]
    },
    {
     "name": "stdout",
     "output_type": "stream",
     "text": [
      "542031-542022-53960827\n"
     ]
    },
    {
     "name": "stderr",
     "output_type": "stream",
     "text": [
      "Multiprocess sampling (2 chains in 2 jobs)\n",
      "NUTS: [logk]\n",
      "Sampling 2 chains: 100%|██████████| 8000/8000 [00:02<00:00, 2672.36draws/s]\n",
      "Auto-assigning NUTS sampler...\n",
      "Initializing NUTS using jitter+adapt_diag...\n"
     ]
    },
    {
     "name": "stdout",
     "output_type": "stream",
     "text": [
      "542031-542022-53960778\n"
     ]
    },
    {
     "name": "stderr",
     "output_type": "stream",
     "text": [
      "Multiprocess sampling (2 chains in 2 jobs)\n",
      "NUTS: [logk]\n",
      "Sampling 2 chains: 100%|██████████| 8000/8000 [00:03<00:00, 2627.24draws/s]\n",
      "Auto-assigning NUTS sampler...\n",
      "Initializing NUTS using jitter+adapt_diag...\n"
     ]
    },
    {
     "name": "stdout",
     "output_type": "stream",
     "text": [
      "542031-542022-53961126\n"
     ]
    },
    {
     "name": "stderr",
     "output_type": "stream",
     "text": [
      "Multiprocess sampling (2 chains in 2 jobs)\n",
      "NUTS: [logk]\n",
      "Sampling 2 chains: 100%|██████████| 8000/8000 [00:03<00:00, 2595.46draws/s]\n",
      "Auto-assigning NUTS sampler...\n",
      "Initializing NUTS using jitter+adapt_diag...\n"
     ]
    },
    {
     "name": "stdout",
     "output_type": "stream",
     "text": [
      "542031-542022-53961143\n"
     ]
    },
    {
     "name": "stderr",
     "output_type": "stream",
     "text": [
      "Multiprocess sampling (2 chains in 2 jobs)\n",
      "NUTS: [logk]\n",
      "Sampling 2 chains: 100%|██████████| 8000/8000 [00:03<00:00, 2597.55draws/s]\n",
      "The number of effective samples is smaller than 25% for some parameters.\n",
      "Auto-assigning NUTS sampler...\n",
      "Initializing NUTS using jitter+adapt_diag...\n"
     ]
    },
    {
     "name": "stdout",
     "output_type": "stream",
     "text": [
      "542031-542022-53961071\n"
     ]
    },
    {
     "name": "stderr",
     "output_type": "stream",
     "text": [
      "Multiprocess sampling (2 chains in 2 jobs)\n",
      "NUTS: [logk]\n",
      "Sampling 2 chains: 100%|██████████| 8000/8000 [00:03<00:00, 2481.13draws/s]\n",
      "Auto-assigning NUTS sampler...\n",
      "Initializing NUTS using jitter+adapt_diag...\n"
     ]
    },
    {
     "name": "stdout",
     "output_type": "stream",
     "text": [
      "542031-542022-53961315\n"
     ]
    },
    {
     "name": "stderr",
     "output_type": "stream",
     "text": [
      "Multiprocess sampling (2 chains in 2 jobs)\n",
      "NUTS: [logk]\n",
      "Sampling 2 chains: 100%|██████████| 8000/8000 [00:02<00:00, 2814.96draws/s]\n",
      "Auto-assigning NUTS sampler...\n",
      "Initializing NUTS using jitter+adapt_diag...\n"
     ]
    },
    {
     "name": "stdout",
     "output_type": "stream",
     "text": [
      "542031-542022-53961855\n"
     ]
    },
    {
     "name": "stderr",
     "output_type": "stream",
     "text": [
      "Multiprocess sampling (2 chains in 2 jobs)\n",
      "NUTS: [logk]\n",
      "Sampling 2 chains: 100%|██████████| 8000/8000 [00:02<00:00, 2688.06draws/s]\n",
      "Auto-assigning NUTS sampler...\n",
      "Initializing NUTS using jitter+adapt_diag...\n"
     ]
    },
    {
     "name": "stdout",
     "output_type": "stream",
     "text": [
      "542031-542022-53961980\n"
     ]
    },
    {
     "name": "stderr",
     "output_type": "stream",
     "text": [
      "Multiprocess sampling (2 chains in 2 jobs)\n",
      "NUTS: [logk]\n",
      "Sampling 2 chains: 100%|██████████| 8000/8000 [00:03<00:00, 2555.26draws/s]\n",
      "The number of effective samples is smaller than 25% for some parameters.\n",
      "Auto-assigning NUTS sampler...\n",
      "Initializing NUTS using jitter+adapt_diag...\n"
     ]
    },
    {
     "name": "stdout",
     "output_type": "stream",
     "text": [
      "542031-542022-53962076\n"
     ]
    },
    {
     "name": "stderr",
     "output_type": "stream",
     "text": [
      "Multiprocess sampling (2 chains in 2 jobs)\n",
      "NUTS: [logk]\n",
      "Sampling 2 chains: 100%|██████████| 8000/8000 [00:03<00:00, 2525.23draws/s]\n",
      "The number of effective samples is smaller than 25% for some parameters.\n",
      "Auto-assigning NUTS sampler...\n",
      "Initializing NUTS using jitter+adapt_diag...\n"
     ]
    },
    {
     "name": "stdout",
     "output_type": "stream",
     "text": [
      "542031-542022-53962132\n"
     ]
    },
    {
     "name": "stderr",
     "output_type": "stream",
     "text": [
      "Multiprocess sampling (2 chains in 2 jobs)\n",
      "NUTS: [logk]\n",
      "Sampling 2 chains: 100%|██████████| 8000/8000 [00:02<00:00, 2685.30draws/s]\n",
      "The number of effective samples is smaller than 25% for some parameters.\n",
      "Auto-assigning NUTS sampler...\n",
      "Initializing NUTS using jitter+adapt_diag...\n"
     ]
    },
    {
     "name": "stdout",
     "output_type": "stream",
     "text": [
      "542031-542022-53962087\n"
     ]
    },
    {
     "name": "stderr",
     "output_type": "stream",
     "text": [
      "Multiprocess sampling (2 chains in 2 jobs)\n",
      "NUTS: [logk]\n",
      "Sampling 2 chains: 100%|██████████| 8000/8000 [00:03<00:00, 2403.55draws/s]\n",
      "The number of effective samples is smaller than 25% for some parameters.\n",
      "Auto-assigning NUTS sampler...\n",
      "Initializing NUTS using jitter+adapt_diag...\n"
     ]
    },
    {
     "name": "stdout",
     "output_type": "stream",
     "text": [
      "542031-542022-53962047\n"
     ]
    },
    {
     "name": "stderr",
     "output_type": "stream",
     "text": [
      "Multiprocess sampling (2 chains in 2 jobs)\n",
      "NUTS: [logk]\n",
      "Sampling 2 chains: 100%|██████████| 8000/8000 [00:03<00:00, 2622.15draws/s]\n",
      "The number of effective samples is smaller than 25% for some parameters.\n",
      "Auto-assigning NUTS sampler...\n",
      "Initializing NUTS using jitter+adapt_diag...\n"
     ]
    },
    {
     "name": "stdout",
     "output_type": "stream",
     "text": [
      "542031-542022-53962544\n"
     ]
    },
    {
     "name": "stderr",
     "output_type": "stream",
     "text": [
      "Multiprocess sampling (2 chains in 2 jobs)\n",
      "NUTS: [logk]\n",
      "Sampling 2 chains: 100%|██████████| 8000/8000 [00:02<00:00, 2723.25draws/s]\n",
      "Auto-assigning NUTS sampler...\n",
      "Initializing NUTS using jitter+adapt_diag...\n"
     ]
    },
    {
     "name": "stdout",
     "output_type": "stream",
     "text": [
      "542031-542022-53962545\n"
     ]
    },
    {
     "name": "stderr",
     "output_type": "stream",
     "text": [
      "Multiprocess sampling (2 chains in 2 jobs)\n",
      "NUTS: [logk]\n",
      "Sampling 2 chains: 100%|██████████| 8000/8000 [00:03<00:00, 2600.05draws/s]\n",
      "The number of effective samples is smaller than 25% for some parameters.\n",
      "Auto-assigning NUTS sampler...\n",
      "Initializing NUTS using jitter+adapt_diag...\n"
     ]
    },
    {
     "name": "stdout",
     "output_type": "stream",
     "text": [
      "542031-542022-53962693\n"
     ]
    },
    {
     "name": "stderr",
     "output_type": "stream",
     "text": [
      "Multiprocess sampling (2 chains in 2 jobs)\n",
      "NUTS: [logk]\n",
      "Sampling 2 chains: 100%|██████████| 8000/8000 [00:03<00:00, 2409.63draws/s]\n",
      "The number of effective samples is smaller than 25% for some parameters.\n",
      "Auto-assigning NUTS sampler...\n",
      "Initializing NUTS using jitter+adapt_diag...\n"
     ]
    },
    {
     "name": "stdout",
     "output_type": "stream",
     "text": [
      "542031-542022-53962568\n"
     ]
    },
    {
     "name": "stderr",
     "output_type": "stream",
     "text": [
      "Multiprocess sampling (2 chains in 2 jobs)\n",
      "NUTS: [logk]\n",
      "Sampling 2 chains: 100%|██████████| 8000/8000 [00:03<00:00, 2335.38draws/s]\n",
      "The acceptance probability does not match the target. It is 0.8983565733881893, but should be close to 0.95. Try to increase the number of tuning steps.\n",
      "The number of effective samples is smaller than 25% for some parameters.\n",
      "Auto-assigning NUTS sampler...\n",
      "Initializing NUTS using jitter+adapt_diag...\n"
     ]
    },
    {
     "name": "stdout",
     "output_type": "stream",
     "text": [
      "542031-542022-53962537\n"
     ]
    },
    {
     "name": "stderr",
     "output_type": "stream",
     "text": [
      "Multiprocess sampling (2 chains in 2 jobs)\n",
      "NUTS: [logk]\n",
      "Sampling 2 chains: 100%|██████████| 8000/8000 [00:03<00:00, 2500.58draws/s]\n",
      "The number of effective samples is smaller than 25% for some parameters.\n",
      "Auto-assigning NUTS sampler...\n",
      "Initializing NUTS using jitter+adapt_diag...\n"
     ]
    },
    {
     "name": "stdout",
     "output_type": "stream",
     "text": [
      "542031-542022-53962791\n"
     ]
    },
    {
     "name": "stderr",
     "output_type": "stream",
     "text": [
      "Multiprocess sampling (2 chains in 2 jobs)\n",
      "NUTS: [logk]\n",
      "Sampling 2 chains: 100%|██████████| 8000/8000 [00:03<00:00, 2364.54draws/s]\n",
      "The number of effective samples is smaller than 25% for some parameters.\n",
      "Auto-assigning NUTS sampler...\n",
      "Initializing NUTS using jitter+adapt_diag...\n"
     ]
    },
    {
     "name": "stdout",
     "output_type": "stream",
     "text": [
      "542031-542022-53963082\n"
     ]
    },
    {
     "name": "stderr",
     "output_type": "stream",
     "text": [
      "Multiprocess sampling (2 chains in 2 jobs)\n",
      "NUTS: [logk]\n",
      "Sampling 2 chains: 100%|██████████| 8000/8000 [00:03<00:00, 2253.03draws/s]\n",
      "The number of effective samples is smaller than 25% for some parameters.\n",
      "Auto-assigning NUTS sampler...\n",
      "Initializing NUTS using jitter+adapt_diag...\n"
     ]
    },
    {
     "name": "stdout",
     "output_type": "stream",
     "text": [
      "542031-542022-53962751\n"
     ]
    },
    {
     "name": "stderr",
     "output_type": "stream",
     "text": [
      "Multiprocess sampling (2 chains in 2 jobs)\n",
      "NUTS: [logk]\n",
      "Sampling 2 chains: 100%|██████████| 8000/8000 [00:03<00:00, 2107.64draws/s]\n",
      "The number of effective samples is smaller than 25% for some parameters.\n",
      "Auto-assigning NUTS sampler...\n",
      "Initializing NUTS using jitter+adapt_diag...\n"
     ]
    },
    {
     "name": "stdout",
     "output_type": "stream",
     "text": [
      "542031-542022-53962934\n"
     ]
    },
    {
     "name": "stderr",
     "output_type": "stream",
     "text": [
      "Multiprocess sampling (2 chains in 2 jobs)\n",
      "NUTS: [logk]\n",
      "Sampling 2 chains: 100%|██████████| 8000/8000 [00:03<00:00, 2598.64draws/s]\n",
      "The number of effective samples is smaller than 25% for some parameters.\n",
      "Auto-assigning NUTS sampler...\n",
      "Initializing NUTS using jitter+adapt_diag...\n"
     ]
    },
    {
     "name": "stdout",
     "output_type": "stream",
     "text": [
      "542031-542022-53963229\n"
     ]
    },
    {
     "name": "stderr",
     "output_type": "stream",
     "text": [
      "Multiprocess sampling (2 chains in 2 jobs)\n",
      "NUTS: [logk]\n",
      "Sampling 2 chains: 100%|██████████| 8000/8000 [00:02<00:00, 2720.83draws/s]\n",
      "Auto-assigning NUTS sampler...\n",
      "Initializing NUTS using jitter+adapt_diag...\n"
     ]
    },
    {
     "name": "stdout",
     "output_type": "stream",
     "text": [
      "542031-542022-53963762\n"
     ]
    },
    {
     "name": "stderr",
     "output_type": "stream",
     "text": [
      "Multiprocess sampling (2 chains in 2 jobs)\n",
      "NUTS: [logk]\n",
      "Sampling 2 chains: 100%|██████████| 8000/8000 [00:03<00:00, 2542.70draws/s]\n",
      "Auto-assigning NUTS sampler...\n",
      "Initializing NUTS using jitter+adapt_diag...\n"
     ]
    },
    {
     "name": "stdout",
     "output_type": "stream",
     "text": [
      "542031-542022-53964171\n"
     ]
    },
    {
     "name": "stderr",
     "output_type": "stream",
     "text": [
      "Multiprocess sampling (2 chains in 2 jobs)\n",
      "NUTS: [logk]\n",
      "Sampling 2 chains: 100%|██████████| 8000/8000 [00:02<00:00, 2742.44draws/s]\n",
      "The acceptance probability does not match the target. It is 0.9028841787901858, but should be close to 0.95. Try to increase the number of tuning steps.\n",
      "The number of effective samples is smaller than 25% for some parameters.\n",
      "Auto-assigning NUTS sampler...\n",
      "Initializing NUTS using jitter+adapt_diag...\n"
     ]
    },
    {
     "name": "stdout",
     "output_type": "stream",
     "text": [
      "542031-542022-53964081\n"
     ]
    },
    {
     "name": "stderr",
     "output_type": "stream",
     "text": [
      "Multiprocess sampling (2 chains in 2 jobs)\n",
      "NUTS: [logk]\n",
      "Sampling 2 chains: 100%|██████████| 8000/8000 [00:03<00:00, 2479.72draws/s]\n",
      "The number of effective samples is smaller than 25% for some parameters.\n",
      "Auto-assigning NUTS sampler...\n",
      "Initializing NUTS using jitter+adapt_diag...\n"
     ]
    },
    {
     "name": "stdout",
     "output_type": "stream",
     "text": [
      "542031-542022-53964202\n"
     ]
    },
    {
     "name": "stderr",
     "output_type": "stream",
     "text": [
      "Multiprocess sampling (2 chains in 2 jobs)\n",
      "NUTS: [logk]\n",
      "Sampling 2 chains: 100%|██████████| 8000/8000 [00:03<00:00, 2512.89draws/s]\n",
      "The acceptance probability does not match the target. It is 0.8994965559869363, but should be close to 0.95. Try to increase the number of tuning steps.\n",
      "The number of effective samples is smaller than 25% for some parameters.\n",
      "Auto-assigning NUTS sampler...\n",
      "Initializing NUTS using jitter+adapt_diag...\n"
     ]
    },
    {
     "name": "stdout",
     "output_type": "stream",
     "text": [
      "542031-542022-53964550\n"
     ]
    },
    {
     "name": "stderr",
     "output_type": "stream",
     "text": [
      "Multiprocess sampling (2 chains in 2 jobs)\n",
      "NUTS: [logk]\n",
      "Sampling 2 chains: 100%|██████████| 8000/8000 [00:03<00:00, 2558.23draws/s]\n",
      "The number of effective samples is smaller than 25% for some parameters.\n",
      "Auto-assigning NUTS sampler...\n",
      "Initializing NUTS using jitter+adapt_diag...\n"
     ]
    },
    {
     "name": "stdout",
     "output_type": "stream",
     "text": [
      "542031-542022-53965172\n"
     ]
    },
    {
     "name": "stderr",
     "output_type": "stream",
     "text": [
      "Multiprocess sampling (2 chains in 2 jobs)\n",
      "NUTS: [logk]\n",
      "Sampling 2 chains: 100%|██████████| 8000/8000 [00:02<00:00, 2672.49draws/s]\n",
      "Auto-assigning NUTS sampler...\n",
      "Initializing NUTS using jitter+adapt_diag...\n"
     ]
    },
    {
     "name": "stdout",
     "output_type": "stream",
     "text": [
      "542031-542022-53965326\n"
     ]
    },
    {
     "name": "stderr",
     "output_type": "stream",
     "text": [
      "Multiprocess sampling (2 chains in 2 jobs)\n",
      "NUTS: [logk]\n",
      "Sampling 2 chains: 100%|██████████| 8000/8000 [00:03<00:00, 2452.99draws/s]\n",
      "The number of effective samples is smaller than 25% for some parameters.\n",
      "Auto-assigning NUTS sampler...\n",
      "Initializing NUTS using jitter+adapt_diag...\n"
     ]
    },
    {
     "name": "stdout",
     "output_type": "stream",
     "text": [
      "542031-542022-53965341\n"
     ]
    },
    {
     "name": "stderr",
     "output_type": "stream",
     "text": [
      "Multiprocess sampling (2 chains in 2 jobs)\n",
      "NUTS: [logk]\n",
      "Sampling 2 chains: 100%|██████████| 8000/8000 [00:03<00:00, 2333.23draws/s]\n",
      "The number of effective samples is smaller than 10% for some parameters.\n",
      "Auto-assigning NUTS sampler...\n",
      "Initializing NUTS using jitter+adapt_diag...\n"
     ]
    },
    {
     "name": "stdout",
     "output_type": "stream",
     "text": [
      "542031-542022-53965249\n"
     ]
    },
    {
     "name": "stderr",
     "output_type": "stream",
     "text": [
      "Multiprocess sampling (2 chains in 2 jobs)\n",
      "NUTS: [logk]\n",
      "Sampling 2 chains: 100%|██████████| 8000/8000 [00:03<00:00, 2559.19draws/s]\n",
      "Auto-assigning NUTS sampler...\n",
      "Initializing NUTS using jitter+adapt_diag...\n"
     ]
    },
    {
     "name": "stdout",
     "output_type": "stream",
     "text": [
      "542031-542022-53965323\n"
     ]
    },
    {
     "name": "stderr",
     "output_type": "stream",
     "text": [
      "Multiprocess sampling (2 chains in 2 jobs)\n",
      "NUTS: [logk]\n",
      "Sampling 2 chains: 100%|██████████| 8000/8000 [00:02<00:00, 2695.21draws/s]\n",
      "The acceptance probability does not match the target. It is 0.8808360797462217, but should be close to 0.95. Try to increase the number of tuning steps.\n",
      "Auto-assigning NUTS sampler...\n",
      "Initializing NUTS using jitter+adapt_diag...\n"
     ]
    },
    {
     "name": "stdout",
     "output_type": "stream",
     "text": [
      "542031-542022-53965667\n"
     ]
    },
    {
     "name": "stderr",
     "output_type": "stream",
     "text": [
      "Multiprocess sampling (2 chains in 2 jobs)\n",
      "NUTS: [logk]\n",
      "Sampling 2 chains: 100%|██████████| 8000/8000 [00:02<00:00, 2730.51draws/s]\n",
      "Auto-assigning NUTS sampler...\n",
      "Initializing NUTS using jitter+adapt_diag...\n"
     ]
    },
    {
     "name": "stdout",
     "output_type": "stream",
     "text": [
      "542031-542022-53965782\n"
     ]
    },
    {
     "name": "stderr",
     "output_type": "stream",
     "text": [
      "Multiprocess sampling (2 chains in 2 jobs)\n",
      "NUTS: [logk]\n",
      "Sampling 2 chains: 100%|██████████| 8000/8000 [00:03<00:00, 2420.90draws/s]\n",
      "The number of effective samples is smaller than 25% for some parameters.\n",
      "Auto-assigning NUTS sampler...\n",
      "Initializing NUTS using jitter+adapt_diag...\n"
     ]
    },
    {
     "name": "stdout",
     "output_type": "stream",
     "text": [
      "542031-542022-53965671\n"
     ]
    },
    {
     "name": "stderr",
     "output_type": "stream",
     "text": [
      "Multiprocess sampling (2 chains in 2 jobs)\n",
      "NUTS: [logk]\n",
      "Sampling 2 chains: 100%|██████████| 8000/8000 [00:03<00:00, 2617.80draws/s]\n",
      "Auto-assigning NUTS sampler...\n",
      "Initializing NUTS using jitter+adapt_diag...\n"
     ]
    },
    {
     "name": "stdout",
     "output_type": "stream",
     "text": [
      "542031-542022-53965780\n"
     ]
    },
    {
     "name": "stderr",
     "output_type": "stream",
     "text": [
      "Multiprocess sampling (2 chains in 2 jobs)\n",
      "NUTS: [logk]\n",
      "Sampling 2 chains: 100%|██████████| 8000/8000 [00:03<00:00, 2565.54draws/s]\n",
      "Auto-assigning NUTS sampler...\n",
      "Initializing NUTS using jitter+adapt_diag...\n"
     ]
    },
    {
     "name": "stdout",
     "output_type": "stream",
     "text": [
      "542031-542022-53965851\n"
     ]
    },
    {
     "name": "stderr",
     "output_type": "stream",
     "text": [
      "Multiprocess sampling (2 chains in 2 jobs)\n",
      "NUTS: [logk]\n",
      "Sampling 2 chains: 100%|██████████| 8000/8000 [00:03<00:00, 2633.13draws/s]\n",
      "Auto-assigning NUTS sampler...\n",
      "Initializing NUTS using jitter+adapt_diag...\n"
     ]
    },
    {
     "name": "stdout",
     "output_type": "stream",
     "text": [
      "542031-542022-53965915\n"
     ]
    },
    {
     "name": "stderr",
     "output_type": "stream",
     "text": [
      "Multiprocess sampling (2 chains in 2 jobs)\n",
      "NUTS: [logk]\n",
      "Sampling 2 chains: 100%|██████████| 8000/8000 [00:02<00:00, 2784.54draws/s]\n",
      "Auto-assigning NUTS sampler...\n",
      "Initializing NUTS using jitter+adapt_diag...\n"
     ]
    },
    {
     "name": "stdout",
     "output_type": "stream",
     "text": [
      "542031-542022-53966678\n"
     ]
    },
    {
     "name": "stderr",
     "output_type": "stream",
     "text": [
      "Multiprocess sampling (2 chains in 2 jobs)\n",
      "NUTS: [logk]\n",
      "Sampling 2 chains: 100%|██████████| 8000/8000 [00:03<00:00, 2454.84draws/s]\n",
      "The number of effective samples is smaller than 25% for some parameters.\n",
      "Auto-assigning NUTS sampler...\n",
      "Initializing NUTS using jitter+adapt_diag...\n"
     ]
    },
    {
     "name": "stdout",
     "output_type": "stream",
     "text": [
      "542031-542022-53966955\n"
     ]
    },
    {
     "name": "stderr",
     "output_type": "stream",
     "text": [
      "Multiprocess sampling (2 chains in 2 jobs)\n",
      "NUTS: [logk]\n",
      "Sampling 2 chains: 100%|██████████| 8000/8000 [00:03<00:00, 2665.50draws/s]\n",
      "Auto-assigning NUTS sampler...\n",
      "Initializing NUTS using jitter+adapt_diag...\n"
     ]
    },
    {
     "name": "stdout",
     "output_type": "stream",
     "text": [
      "542031-542022-53966928\n"
     ]
    },
    {
     "name": "stderr",
     "output_type": "stream",
     "text": [
      "Multiprocess sampling (2 chains in 2 jobs)\n",
      "NUTS: [logk]\n",
      "Sampling 2 chains: 100%|██████████| 8000/8000 [00:03<00:00, 2607.45draws/s]\n",
      "Auto-assigning NUTS sampler...\n",
      "Initializing NUTS using jitter+adapt_diag...\n"
     ]
    },
    {
     "name": "stdout",
     "output_type": "stream",
     "text": [
      "542031-542022-53967155\n"
     ]
    },
    {
     "name": "stderr",
     "output_type": "stream",
     "text": [
      "Multiprocess sampling (2 chains in 2 jobs)\n",
      "NUTS: [logk]\n",
      "Sampling 2 chains: 100%|██████████| 8000/8000 [00:03<00:00, 2604.52draws/s]\n",
      "The number of effective samples is smaller than 25% for some parameters.\n",
      "Auto-assigning NUTS sampler...\n",
      "Initializing NUTS using jitter+adapt_diag...\n"
     ]
    },
    {
     "name": "stdout",
     "output_type": "stream",
     "text": [
      "542031-542022-53967370\n"
     ]
    },
    {
     "name": "stderr",
     "output_type": "stream",
     "text": [
      "Multiprocess sampling (2 chains in 2 jobs)\n",
      "NUTS: [logk]\n",
      "Sampling 2 chains: 100%|██████████| 8000/8000 [00:02<00:00, 2706.10draws/s]\n",
      "Auto-assigning NUTS sampler...\n",
      "Initializing NUTS using jitter+adapt_diag...\n"
     ]
    },
    {
     "name": "stdout",
     "output_type": "stream",
     "text": [
      "542031-542022-53967321\n"
     ]
    },
    {
     "name": "stderr",
     "output_type": "stream",
     "text": [
      "Multiprocess sampling (2 chains in 2 jobs)\n",
      "NUTS: [logk]\n",
      "Sampling 2 chains: 100%|██████████| 8000/8000 [00:03<00:00, 2610.29draws/s]\n",
      "Auto-assigning NUTS sampler...\n",
      "Initializing NUTS using jitter+adapt_diag...\n"
     ]
    },
    {
     "name": "stdout",
     "output_type": "stream",
     "text": [
      "542031-542022-53968166\n"
     ]
    },
    {
     "name": "stderr",
     "output_type": "stream",
     "text": [
      "Multiprocess sampling (2 chains in 2 jobs)\n",
      "NUTS: [logk]\n",
      "Sampling 2 chains: 100%|██████████| 8000/8000 [00:02<00:00, 2717.90draws/s]\n",
      "Auto-assigning NUTS sampler...\n",
      "Initializing NUTS using jitter+adapt_diag...\n"
     ]
    },
    {
     "name": "stdout",
     "output_type": "stream",
     "text": [
      "542031-542022-53968229\n"
     ]
    },
    {
     "name": "stderr",
     "output_type": "stream",
     "text": [
      "Multiprocess sampling (2 chains in 2 jobs)\n",
      "NUTS: [logk]\n",
      "Sampling 2 chains: 100%|██████████| 8000/8000 [00:02<00:00, 2726.22draws/s]\n",
      "Auto-assigning NUTS sampler...\n",
      "Initializing NUTS using jitter+adapt_diag...\n"
     ]
    },
    {
     "name": "stdout",
     "output_type": "stream",
     "text": [
      "542031-542022-53969882\n"
     ]
    },
    {
     "name": "stderr",
     "output_type": "stream",
     "text": [
      "Multiprocess sampling (2 chains in 2 jobs)\n",
      "NUTS: [logk]\n",
      "Sampling 2 chains: 100%|██████████| 8000/8000 [00:03<00:00, 2368.37draws/s]\n",
      "The number of effective samples is smaller than 25% for some parameters.\n",
      "Auto-assigning NUTS sampler...\n",
      "Initializing NUTS using jitter+adapt_diag...\n"
     ]
    },
    {
     "name": "stdout",
     "output_type": "stream",
     "text": [
      "542031-542022-53970167\n"
     ]
    },
    {
     "name": "stderr",
     "output_type": "stream",
     "text": [
      "Multiprocess sampling (2 chains in 2 jobs)\n",
      "NUTS: [logk]\n",
      "Sampling 2 chains: 100%|██████████| 8000/8000 [00:03<00:00, 2430.90draws/s]\n",
      "The number of effective samples is smaller than 25% for some parameters.\n",
      "Auto-assigning NUTS sampler...\n",
      "Initializing NUTS using jitter+adapt_diag...\n"
     ]
    },
    {
     "name": "stdout",
     "output_type": "stream",
     "text": [
      "542031-542022-53971387\n"
     ]
    },
    {
     "name": "stderr",
     "output_type": "stream",
     "text": [
      "Multiprocess sampling (2 chains in 2 jobs)\n",
      "NUTS: [logk]\n",
      "Sampling 2 chains: 100%|██████████| 8000/8000 [00:03<00:00, 2388.10draws/s]\n",
      "Auto-assigning NUTS sampler...\n",
      "Initializing NUTS using jitter+adapt_diag...\n"
     ]
    },
    {
     "name": "stdout",
     "output_type": "stream",
     "text": [
      "542031-542022-53971583\n"
     ]
    },
    {
     "name": "stderr",
     "output_type": "stream",
     "text": [
      "Multiprocess sampling (2 chains in 2 jobs)\n",
      "NUTS: [logk]\n",
      "Sampling 2 chains: 100%|██████████| 8000/8000 [00:03<00:00, 2303.26draws/s]\n",
      "Auto-assigning NUTS sampler...\n",
      "Initializing NUTS using jitter+adapt_diag...\n"
     ]
    },
    {
     "name": "stdout",
     "output_type": "stream",
     "text": [
      "542031-542022-53972179\n"
     ]
    },
    {
     "name": "stderr",
     "output_type": "stream",
     "text": [
      "Multiprocess sampling (2 chains in 2 jobs)\n",
      "NUTS: [logk]\n",
      "Sampling 2 chains: 100%|██████████| 8000/8000 [00:03<00:00, 2344.86draws/s]\n",
      "Auto-assigning NUTS sampler...\n",
      "Initializing NUTS using jitter+adapt_diag...\n"
     ]
    },
    {
     "name": "stdout",
     "output_type": "stream",
     "text": [
      "542031-542022-53973160\n"
     ]
    },
    {
     "name": "stderr",
     "output_type": "stream",
     "text": [
      "Multiprocess sampling (2 chains in 2 jobs)\n",
      "NUTS: [logk]\n",
      "Sampling 2 chains: 100%|██████████| 8000/8000 [00:03<00:00, 2440.95draws/s]\n",
      "The number of effective samples is smaller than 25% for some parameters.\n",
      "Auto-assigning NUTS sampler...\n",
      "Initializing NUTS using jitter+adapt_diag...\n"
     ]
    },
    {
     "name": "stdout",
     "output_type": "stream",
     "text": [
      "542031-542022-53977127\n"
     ]
    },
    {
     "name": "stderr",
     "output_type": "stream",
     "text": [
      "Multiprocess sampling (2 chains in 2 jobs)\n",
      "NUTS: [logk]\n",
      "Sampling 2 chains: 100%|██████████| 8000/8000 [00:03<00:00, 2637.62draws/s]\n",
      "Auto-assigning NUTS sampler...\n",
      "Initializing NUTS using jitter+adapt_diag...\n"
     ]
    },
    {
     "name": "stdout",
     "output_type": "stream",
     "text": [
      "542031-542022-53978418\n"
     ]
    },
    {
     "name": "stderr",
     "output_type": "stream",
     "text": [
      "Multiprocess sampling (2 chains in 2 jobs)\n",
      "NUTS: [logk]\n",
      "Sampling 2 chains: 100%|██████████| 8000/8000 [00:03<00:00, 2422.55draws/s]\n",
      "The number of effective samples is smaller than 25% for some parameters.\n",
      "Auto-assigning NUTS sampler...\n",
      "Initializing NUTS using jitter+adapt_diag...\n"
     ]
    },
    {
     "name": "stdout",
     "output_type": "stream",
     "text": [
      "542031-542022-53978983\n"
     ]
    },
    {
     "name": "stderr",
     "output_type": "stream",
     "text": [
      "Multiprocess sampling (2 chains in 2 jobs)\n",
      "NUTS: [logk]\n",
      "Sampling 2 chains: 100%|██████████| 8000/8000 [00:02<00:00, 2671.71draws/s]\n",
      "The number of effective samples is smaller than 25% for some parameters.\n",
      "Auto-assigning NUTS sampler...\n",
      "Initializing NUTS using jitter+adapt_diag...\n"
     ]
    },
    {
     "name": "stdout",
     "output_type": "stream",
     "text": [
      "542031-542022-53982792\n"
     ]
    },
    {
     "name": "stderr",
     "output_type": "stream",
     "text": [
      "Multiprocess sampling (2 chains in 2 jobs)\n",
      "NUTS: [logk]\n",
      "Sampling 2 chains: 100%|██████████| 8000/8000 [00:03<00:00, 2631.26draws/s]\n",
      "Auto-assigning NUTS sampler...\n",
      "Initializing NUTS using jitter+adapt_diag...\n"
     ]
    },
    {
     "name": "stdout",
     "output_type": "stream",
     "text": [
      "542031-542022-53983991\n"
     ]
    },
    {
     "name": "stderr",
     "output_type": "stream",
     "text": [
      "Multiprocess sampling (2 chains in 2 jobs)\n",
      "NUTS: [logk]\n",
      "Sampling 2 chains: 100%|██████████| 8000/8000 [00:03<00:00, 2625.81draws/s]\n",
      "The number of effective samples is smaller than 25% for some parameters.\n",
      "Auto-assigning NUTS sampler...\n",
      "Initializing NUTS using jitter+adapt_diag...\n"
     ]
    },
    {
     "name": "stdout",
     "output_type": "stream",
     "text": [
      "542031-542022-53986582\n"
     ]
    },
    {
     "name": "stderr",
     "output_type": "stream",
     "text": [
      "Multiprocess sampling (2 chains in 2 jobs)\n",
      "NUTS: [logk]\n",
      "Sampling 2 chains: 100%|██████████| 8000/8000 [00:02<00:00, 2790.67draws/s]\n",
      "Auto-assigning NUTS sampler...\n",
      "Initializing NUTS using jitter+adapt_diag...\n"
     ]
    },
    {
     "name": "stdout",
     "output_type": "stream",
     "text": [
      "542031-542022-53986912\n"
     ]
    },
    {
     "name": "stderr",
     "output_type": "stream",
     "text": [
      "Multiprocess sampling (2 chains in 2 jobs)\n",
      "NUTS: [logk]\n",
      "Sampling 2 chains: 100%|██████████| 8000/8000 [00:03<00:00, 2606.45draws/s]\n",
      "Auto-assigning NUTS sampler...\n",
      "Initializing NUTS using jitter+adapt_diag...\n"
     ]
    },
    {
     "name": "stdout",
     "output_type": "stream",
     "text": [
      "542031-542022-53990616\n"
     ]
    },
    {
     "name": "stderr",
     "output_type": "stream",
     "text": [
      "Multiprocess sampling (2 chains in 2 jobs)\n",
      "NUTS: [logk]\n",
      "Sampling 2 chains: 100%|██████████| 8000/8000 [00:02<00:00, 2723.27draws/s]\n",
      "Auto-assigning NUTS sampler...\n",
      "Initializing NUTS using jitter+adapt_diag...\n"
     ]
    },
    {
     "name": "stdout",
     "output_type": "stream",
     "text": [
      "542031-542022-53997980\n"
     ]
    },
    {
     "name": "stderr",
     "output_type": "stream",
     "text": [
      "Multiprocess sampling (2 chains in 2 jobs)\n",
      "NUTS: [logk]\n",
      "Sampling 2 chains: 100%|██████████| 8000/8000 [00:02<00:00, 2672.16draws/s]\n",
      "Auto-assigning NUTS sampler...\n",
      "Initializing NUTS using jitter+adapt_diag...\n"
     ]
    },
    {
     "name": "stdout",
     "output_type": "stream",
     "text": [
      "542031-542022-53999754\n"
     ]
    },
    {
     "name": "stderr",
     "output_type": "stream",
     "text": [
      "Multiprocess sampling (2 chains in 2 jobs)\n",
      "NUTS: [logk]\n",
      "Sampling 2 chains: 100%|██████████| 8000/8000 [00:03<00:00, 2355.34draws/s]\n",
      "The number of effective samples is smaller than 25% for some parameters.\n",
      "Auto-assigning NUTS sampler...\n",
      "Initializing NUTS using jitter+adapt_diag...\n"
     ]
    },
    {
     "name": "stdout",
     "output_type": "stream",
     "text": [
      "542031-542022-54007985\n"
     ]
    },
    {
     "name": "stderr",
     "output_type": "stream",
     "text": [
      "Multiprocess sampling (2 chains in 2 jobs)\n",
      "NUTS: [logk]\n",
      "Sampling 2 chains: 100%|██████████| 8000/8000 [00:02<00:00, 2733.63draws/s]\n",
      "Auto-assigning NUTS sampler...\n",
      "Initializing NUTS using jitter+adapt_diag...\n"
     ]
    },
    {
     "name": "stdout",
     "output_type": "stream",
     "text": [
      "542031-542022-54011032\n"
     ]
    },
    {
     "name": "stderr",
     "output_type": "stream",
     "text": [
      "Multiprocess sampling (2 chains in 2 jobs)\n",
      "NUTS: [logk]\n",
      "Sampling 2 chains: 100%|██████████| 8000/8000 [00:03<00:00, 2621.53draws/s]\n",
      "Auto-assigning NUTS sampler...\n",
      "Initializing NUTS using jitter+adapt_diag...\n"
     ]
    },
    {
     "name": "stdout",
     "output_type": "stream",
     "text": [
      "542031-542022-54012079\n"
     ]
    },
    {
     "name": "stderr",
     "output_type": "stream",
     "text": [
      "Multiprocess sampling (2 chains in 2 jobs)\n",
      "NUTS: [logk]\n",
      "Sampling 2 chains: 100%|██████████| 8000/8000 [00:03<00:00, 2525.12draws/s]\n",
      "Auto-assigning NUTS sampler...\n",
      "Initializing NUTS using jitter+adapt_diag...\n"
     ]
    },
    {
     "name": "stdout",
     "output_type": "stream",
     "text": [
      "542031-542022-54013031\n"
     ]
    },
    {
     "name": "stderr",
     "output_type": "stream",
     "text": [
      "Multiprocess sampling (2 chains in 2 jobs)\n",
      "NUTS: [logk]\n",
      "Sampling 2 chains: 100%|██████████| 8000/8000 [00:03<00:00, 2515.95draws/s]\n",
      "Auto-assigning NUTS sampler...\n",
      "Initializing NUTS using jitter+adapt_diag...\n"
     ]
    },
    {
     "name": "stdout",
     "output_type": "stream",
     "text": [
      "542031-542022-54013548\n"
     ]
    },
    {
     "name": "stderr",
     "output_type": "stream",
     "text": [
      "Multiprocess sampling (2 chains in 2 jobs)\n",
      "NUTS: [logk]\n",
      "Sampling 2 chains: 100%|██████████| 8000/8000 [00:03<00:00, 2364.23draws/s]\n",
      "Auto-assigning NUTS sampler...\n",
      "Initializing NUTS using jitter+adapt_diag...\n"
     ]
    },
    {
     "name": "stdout",
     "output_type": "stream",
     "text": [
      "542031-542022-54015565\n"
     ]
    },
    {
     "name": "stderr",
     "output_type": "stream",
     "text": [
      "Multiprocess sampling (2 chains in 2 jobs)\n",
      "NUTS: [logk]\n",
      "Sampling 2 chains: 100%|██████████| 8000/8000 [00:03<00:00, 2275.39draws/s]\n",
      "The gelman-rubin statistic is larger than 1.4 for some parameters. The sampler did not converge.\n",
      "The estimated number of effective samples is smaller than 200 for some parameters.\n",
      "Auto-assigning NUTS sampler...\n",
      "Initializing NUTS using jitter+adapt_diag...\n"
     ]
    },
    {
     "name": "stdout",
     "output_type": "stream",
     "text": [
      "542031-542022-54015611\n"
     ]
    },
    {
     "name": "stderr",
     "output_type": "stream",
     "text": [
      "Multiprocess sampling (2 chains in 2 jobs)\n",
      "NUTS: [logk]\n",
      "Sampling 2 chains: 100%|██████████| 8000/8000 [00:03<00:00, 2640.12draws/s]\n",
      "Auto-assigning NUTS sampler...\n",
      "Initializing NUTS using jitter+adapt_diag...\n"
     ]
    },
    {
     "name": "stdout",
     "output_type": "stream",
     "text": [
      "542031-542022-54015589\n"
     ]
    },
    {
     "name": "stderr",
     "output_type": "stream",
     "text": [
      "Multiprocess sampling (2 chains in 2 jobs)\n",
      "NUTS: [logk]\n",
      "Sampling 2 chains: 100%|██████████| 8000/8000 [00:02<00:00, 2849.77draws/s]\n",
      "Auto-assigning NUTS sampler...\n",
      "Initializing NUTS using jitter+adapt_diag...\n"
     ]
    },
    {
     "name": "stdout",
     "output_type": "stream",
     "text": [
      "542031-542022-54018414\n"
     ]
    },
    {
     "name": "stderr",
     "output_type": "stream",
     "text": [
      "Multiprocess sampling (2 chains in 2 jobs)\n",
      "NUTS: [logk]\n",
      "Sampling 2 chains: 100%|██████████| 8000/8000 [00:03<00:00, 2413.23draws/s]\n",
      "The number of effective samples is smaller than 25% for some parameters.\n",
      "Auto-assigning NUTS sampler...\n",
      "Initializing NUTS using jitter+adapt_diag...\n"
     ]
    },
    {
     "name": "stdout",
     "output_type": "stream",
     "text": [
      "542031-542022-54019322\n"
     ]
    },
    {
     "name": "stderr",
     "output_type": "stream",
     "text": [
      "Multiprocess sampling (2 chains in 2 jobs)\n",
      "NUTS: [logk]\n",
      "Sampling 2 chains: 100%|██████████| 8000/8000 [00:02<00:00, 2798.44draws/s]\n",
      "Auto-assigning NUTS sampler...\n",
      "Initializing NUTS using jitter+adapt_diag...\n"
     ]
    },
    {
     "name": "stdout",
     "output_type": "stream",
     "text": [
      "542031-542022-54019636\n"
     ]
    },
    {
     "name": "stderr",
     "output_type": "stream",
     "text": [
      "Multiprocess sampling (2 chains in 2 jobs)\n",
      "NUTS: [logk]\n",
      "Sampling 2 chains: 100%|██████████| 8000/8000 [00:03<00:00, 2433.42draws/s]\n",
      "The number of effective samples is smaller than 25% for some parameters.\n",
      "Auto-assigning NUTS sampler...\n",
      "Initializing NUTS using jitter+adapt_diag...\n"
     ]
    },
    {
     "name": "stdout",
     "output_type": "stream",
     "text": [
      "542031-542022-54020357\n"
     ]
    },
    {
     "name": "stderr",
     "output_type": "stream",
     "text": [
      "Multiprocess sampling (2 chains in 2 jobs)\n",
      "NUTS: [logk]\n",
      "Sampling 2 chains: 100%|██████████| 8000/8000 [00:03<00:00, 2459.59draws/s]\n",
      "The number of effective samples is smaller than 25% for some parameters.\n",
      "Auto-assigning NUTS sampler...\n",
      "Initializing NUTS using jitter+adapt_diag...\n"
     ]
    },
    {
     "name": "stdout",
     "output_type": "stream",
     "text": [
      "542031-542022-54046681\n"
     ]
    },
    {
     "name": "stderr",
     "output_type": "stream",
     "text": [
      "Multiprocess sampling (2 chains in 2 jobs)\n",
      "NUTS: [logk]\n",
      "Sampling 2 chains: 100%|██████████| 8000/8000 [00:03<00:00, 2658.17draws/s]\n",
      "Auto-assigning NUTS sampler...\n",
      "Initializing NUTS using jitter+adapt_diag...\n"
     ]
    },
    {
     "name": "stdout",
     "output_type": "stream",
     "text": [
      "542031-542022-54048199\n"
     ]
    },
    {
     "name": "stderr",
     "output_type": "stream",
     "text": [
      "Multiprocess sampling (2 chains in 2 jobs)\n",
      "NUTS: [logk]\n",
      "Sampling 2 chains: 100%|██████████| 8000/8000 [00:03<00:00, 2411.86draws/s]\n",
      "The number of effective samples is smaller than 25% for some parameters.\n",
      "Auto-assigning NUTS sampler...\n",
      "Initializing NUTS using jitter+adapt_diag...\n"
     ]
    },
    {
     "name": "stdout",
     "output_type": "stream",
     "text": [
      "542031-542022-54048499\n"
     ]
    },
    {
     "name": "stderr",
     "output_type": "stream",
     "text": [
      "Multiprocess sampling (2 chains in 2 jobs)\n",
      "NUTS: [logk]\n",
      "Sampling 2 chains: 100%|██████████| 8000/8000 [00:03<00:00, 2117.81draws/s]\n",
      "The number of effective samples is smaller than 25% for some parameters.\n",
      "Auto-assigning NUTS sampler...\n",
      "Initializing NUTS using jitter+adapt_diag...\n"
     ]
    },
    {
     "name": "stdout",
     "output_type": "stream",
     "text": [
      "542031-542022-54086892\n"
     ]
    },
    {
     "name": "stderr",
     "output_type": "stream",
     "text": [
      "Multiprocess sampling (2 chains in 2 jobs)\n",
      "NUTS: [logk]\n",
      "Sampling 2 chains: 100%|██████████| 8000/8000 [00:03<00:00, 2157.46draws/s]\n",
      "The number of effective samples is smaller than 25% for some parameters.\n",
      "Auto-assigning NUTS sampler...\n",
      "Initializing NUTS using jitter+adapt_diag...\n"
     ]
    },
    {
     "name": "stdout",
     "output_type": "stream",
     "text": [
      "542031-542022-54090450\n"
     ]
    },
    {
     "name": "stderr",
     "output_type": "stream",
     "text": [
      "Multiprocess sampling (2 chains in 2 jobs)\n",
      "NUTS: [logk]\n",
      "Sampling 2 chains: 100%|██████████| 8000/8000 [00:03<00:00, 2359.56draws/s]\n",
      "Auto-assigning NUTS sampler...\n",
      "Initializing NUTS using jitter+adapt_diag...\n"
     ]
    },
    {
     "name": "stdout",
     "output_type": "stream",
     "text": [
      "542031-542022-54090635\n"
     ]
    },
    {
     "name": "stderr",
     "output_type": "stream",
     "text": [
      "Multiprocess sampling (2 chains in 2 jobs)\n",
      "NUTS: [logk]\n",
      "Sampling 2 chains: 100%|██████████| 8000/8000 [00:04<00:00, 1710.03draws/s]\n",
      "The acceptance probability does not match the target. It is 0.8996293043692389, but should be close to 0.95. Try to increase the number of tuning steps.\n",
      "Auto-assigning NUTS sampler...\n",
      "Initializing NUTS using jitter+adapt_diag...\n"
     ]
    },
    {
     "name": "stdout",
     "output_type": "stream",
     "text": [
      "542031-542022-54090906\n"
     ]
    },
    {
     "name": "stderr",
     "output_type": "stream",
     "text": [
      "Multiprocess sampling (2 chains in 2 jobs)\n",
      "NUTS: [logk]\n",
      "Sampling 2 chains: 100%|██████████| 8000/8000 [00:03<00:00, 2163.07draws/s]\n",
      "Auto-assigning NUTS sampler...\n",
      "Initializing NUTS using jitter+adapt_diag...\n"
     ]
    },
    {
     "name": "stdout",
     "output_type": "stream",
     "text": [
      "542031-542022-54091062\n"
     ]
    },
    {
     "name": "stderr",
     "output_type": "stream",
     "text": [
      "Multiprocess sampling (2 chains in 2 jobs)\n",
      "NUTS: [logk]\n",
      "Sampling 2 chains: 100%|██████████| 8000/8000 [00:05<00:00, 1438.91draws/s]\n",
      "Auto-assigning NUTS sampler...\n",
      "Initializing NUTS using jitter+adapt_diag...\n"
     ]
    },
    {
     "name": "stdout",
     "output_type": "stream",
     "text": [
      "542031-542022-54091707\n"
     ]
    },
    {
     "name": "stderr",
     "output_type": "stream",
     "text": [
      "Multiprocess sampling (2 chains in 2 jobs)\n",
      "NUTS: [logk]\n",
      "Sampling 2 chains: 100%|██████████| 8000/8000 [00:04<00:00, 1727.93draws/s]\n",
      "The number of effective samples is smaller than 25% for some parameters.\n",
      "Auto-assigning NUTS sampler...\n",
      "Initializing NUTS using jitter+adapt_diag...\n"
     ]
    },
    {
     "name": "stdout",
     "output_type": "stream",
     "text": [
      "542031-542022-54091735\n"
     ]
    },
    {
     "name": "stderr",
     "output_type": "stream",
     "text": [
      "Multiprocess sampling (2 chains in 2 jobs)\n",
      "NUTS: [logk]\n",
      "Sampling 2 chains: 100%|██████████| 8000/8000 [00:03<00:00, 2259.73draws/s]\n",
      "The number of effective samples is smaller than 25% for some parameters.\n",
      "Auto-assigning NUTS sampler...\n",
      "Initializing NUTS using jitter+adapt_diag...\n"
     ]
    },
    {
     "name": "stdout",
     "output_type": "stream",
     "text": [
      "542031-542022-54091983\n"
     ]
    },
    {
     "name": "stderr",
     "output_type": "stream",
     "text": [
      "Multiprocess sampling (2 chains in 2 jobs)\n",
      "NUTS: [logk]\n",
      "Sampling 2 chains: 100%|██████████| 8000/8000 [00:03<00:00, 2490.54draws/s]\n",
      "Auto-assigning NUTS sampler...\n",
      "Initializing NUTS using jitter+adapt_diag...\n"
     ]
    },
    {
     "name": "stdout",
     "output_type": "stream",
     "text": [
      "542031-542022-54094645\n"
     ]
    },
    {
     "name": "stderr",
     "output_type": "stream",
     "text": [
      "Multiprocess sampling (2 chains in 2 jobs)\n",
      "NUTS: [logk]\n",
      "Sampling 2 chains: 100%|██████████| 8000/8000 [00:03<00:00, 2476.12draws/s]\n",
      "The number of effective samples is smaller than 25% for some parameters.\n",
      "Auto-assigning NUTS sampler...\n",
      "Initializing NUTS using jitter+adapt_diag...\n"
     ]
    },
    {
     "name": "stdout",
     "output_type": "stream",
     "text": [
      "542031-542022-54094596\n"
     ]
    },
    {
     "name": "stderr",
     "output_type": "stream",
     "text": [
      "Multiprocess sampling (2 chains in 2 jobs)\n",
      "NUTS: [logk]\n",
      "Sampling 2 chains: 100%|██████████| 8000/8000 [00:03<00:00, 2253.89draws/s]\n",
      "The number of effective samples is smaller than 25% for some parameters.\n",
      "Auto-assigning NUTS sampler...\n",
      "Initializing NUTS using jitter+adapt_diag...\n"
     ]
    },
    {
     "name": "stdout",
     "output_type": "stream",
     "text": [
      "542031-542022-54095263\n"
     ]
    },
    {
     "name": "stderr",
     "output_type": "stream",
     "text": [
      "Multiprocess sampling (2 chains in 2 jobs)\n",
      "NUTS: [logk]\n",
      "Sampling 2 chains: 100%|██████████| 8000/8000 [00:03<00:00, 2247.41draws/s]\n",
      "Auto-assigning NUTS sampler...\n",
      "Initializing NUTS using jitter+adapt_diag...\n"
     ]
    },
    {
     "name": "stdout",
     "output_type": "stream",
     "text": [
      "542031-542022-54099539\n"
     ]
    },
    {
     "name": "stderr",
     "output_type": "stream",
     "text": [
      "Multiprocess sampling (2 chains in 2 jobs)\n",
      "NUTS: [logk]\n",
      "Sampling 2 chains: 100%|██████████| 8000/8000 [00:05<00:00, 1583.13draws/s]\n",
      "The number of effective samples is smaller than 25% for some parameters.\n",
      "Auto-assigning NUTS sampler...\n",
      "Initializing NUTS using jitter+adapt_diag...\n"
     ]
    },
    {
     "name": "stdout",
     "output_type": "stream",
     "text": [
      "542031-542022-54103859\n"
     ]
    },
    {
     "name": "stderr",
     "output_type": "stream",
     "text": [
      "Multiprocess sampling (2 chains in 2 jobs)\n",
      "NUTS: [logk]\n",
      "Sampling 2 chains: 100%|██████████| 8000/8000 [00:05<00:00, 1596.06draws/s]\n",
      "The number of effective samples is smaller than 25% for some parameters.\n",
      "Auto-assigning NUTS sampler...\n",
      "Initializing NUTS using jitter+adapt_diag...\n"
     ]
    },
    {
     "name": "stdout",
     "output_type": "stream",
     "text": [
      "542031-542022-54105655\n"
     ]
    },
    {
     "name": "stderr",
     "output_type": "stream",
     "text": [
      "Multiprocess sampling (2 chains in 2 jobs)\n",
      "NUTS: [logk]\n",
      "Sampling 2 chains: 100%|██████████| 8000/8000 [00:03<00:00, 2043.05draws/s]\n",
      "Auto-assigning NUTS sampler...\n",
      "Initializing NUTS using jitter+adapt_diag...\n"
     ]
    },
    {
     "name": "stdout",
     "output_type": "stream",
     "text": [
      "542031-542022-54108057\n"
     ]
    },
    {
     "name": "stderr",
     "output_type": "stream",
     "text": [
      "Multiprocess sampling (2 chains in 2 jobs)\n",
      "NUTS: [logk]\n",
      "Sampling 2 chains: 100%|██████████| 8000/8000 [00:03<00:00, 2114.17draws/s]\n",
      "Auto-assigning NUTS sampler...\n",
      "Initializing NUTS using jitter+adapt_diag...\n"
     ]
    },
    {
     "name": "stdout",
     "output_type": "stream",
     "text": [
      "542031-542022-54113450\n"
     ]
    },
    {
     "name": "stderr",
     "output_type": "stream",
     "text": [
      "Multiprocess sampling (2 chains in 2 jobs)\n",
      "NUTS: [logk]\n",
      "Sampling 2 chains: 100%|██████████| 8000/8000 [00:03<00:00, 2280.50draws/s]\n",
      "Auto-assigning NUTS sampler...\n",
      "Initializing NUTS using jitter+adapt_diag...\n"
     ]
    },
    {
     "name": "stdout",
     "output_type": "stream",
     "text": [
      "542031-542022-54114024\n"
     ]
    },
    {
     "name": "stderr",
     "output_type": "stream",
     "text": [
      "Multiprocess sampling (2 chains in 2 jobs)\n",
      "NUTS: [logk]\n",
      "Sampling 2 chains: 100%|██████████| 8000/8000 [00:04<00:00, 1794.06draws/s]\n",
      "The number of effective samples is smaller than 25% for some parameters.\n",
      "Auto-assigning NUTS sampler...\n",
      "Initializing NUTS using jitter+adapt_diag...\n"
     ]
    },
    {
     "name": "stdout",
     "output_type": "stream",
     "text": [
      "542031-542022-54114008\n"
     ]
    },
    {
     "name": "stderr",
     "output_type": "stream",
     "text": [
      "Multiprocess sampling (2 chains in 2 jobs)\n",
      "NUTS: [logk]\n",
      "Sampling 2 chains: 100%|██████████| 8000/8000 [00:04<00:00, 1687.39draws/s]\n",
      "The number of effective samples is smaller than 25% for some parameters.\n",
      "Auto-assigning NUTS sampler...\n",
      "Initializing NUTS using jitter+adapt_diag...\n"
     ]
    },
    {
     "name": "stdout",
     "output_type": "stream",
     "text": [
      "542031-542022-54131290\n"
     ]
    },
    {
     "name": "stderr",
     "output_type": "stream",
     "text": [
      "Multiprocess sampling (2 chains in 2 jobs)\n",
      "NUTS: [logk]\n",
      "Sampling 2 chains: 100%|██████████| 8000/8000 [00:04<00:00, 1871.59draws/s]\n",
      "The number of effective samples is smaller than 25% for some parameters.\n",
      "Auto-assigning NUTS sampler...\n",
      "Initializing NUTS using jitter+adapt_diag...\n"
     ]
    },
    {
     "name": "stdout",
     "output_type": "stream",
     "text": [
      "542031-542022-54132713\n"
     ]
    },
    {
     "name": "stderr",
     "output_type": "stream",
     "text": [
      "Multiprocess sampling (2 chains in 2 jobs)\n",
      "NUTS: [logk]\n",
      "Sampling 2 chains: 100%|██████████| 8000/8000 [00:04<00:00, 1977.98draws/s]\n",
      "Auto-assigning NUTS sampler...\n",
      "Initializing NUTS using jitter+adapt_diag...\n"
     ]
    },
    {
     "name": "stdout",
     "output_type": "stream",
     "text": [
      "542031-542022-54134784\n"
     ]
    },
    {
     "name": "stderr",
     "output_type": "stream",
     "text": [
      "Multiprocess sampling (2 chains in 2 jobs)\n",
      "NUTS: [logk]\n",
      "Sampling 2 chains: 100%|██████████| 8000/8000 [00:03<00:00, 2350.53draws/s]\n",
      "Auto-assigning NUTS sampler...\n",
      "Initializing NUTS using jitter+adapt_diag...\n"
     ]
    },
    {
     "name": "stdout",
     "output_type": "stream",
     "text": [
      "542031-542022-54137101\n"
     ]
    },
    {
     "name": "stderr",
     "output_type": "stream",
     "text": [
      "Multiprocess sampling (2 chains in 2 jobs)\n",
      "NUTS: [logk]\n",
      "Sampling 2 chains: 100%|██████████| 8000/8000 [00:03<00:00, 2084.41draws/s]\n",
      "The number of effective samples is smaller than 25% for some parameters.\n",
      "Auto-assigning NUTS sampler...\n",
      "Initializing NUTS using jitter+adapt_diag...\n"
     ]
    },
    {
     "name": "stdout",
     "output_type": "stream",
     "text": [
      "542031-542022-54137907\n"
     ]
    },
    {
     "name": "stderr",
     "output_type": "stream",
     "text": [
      "Multiprocess sampling (2 chains in 2 jobs)\n",
      "NUTS: [logk]\n",
      "Sampling 2 chains: 100%|██████████| 8000/8000 [00:04<00:00, 1883.76draws/s]\n",
      "The number of effective samples is smaller than 25% for some parameters.\n",
      "Auto-assigning NUTS sampler...\n",
      "Initializing NUTS using jitter+adapt_diag...\n"
     ]
    },
    {
     "name": "stdout",
     "output_type": "stream",
     "text": [
      "542031-542022-54139064\n"
     ]
    },
    {
     "name": "stderr",
     "output_type": "stream",
     "text": [
      "Multiprocess sampling (2 chains in 2 jobs)\n",
      "NUTS: [logk]\n",
      "Sampling 2 chains: 100%|██████████| 8000/8000 [00:04<00:00, 1955.86draws/s]\n",
      "Auto-assigning NUTS sampler...\n",
      "Initializing NUTS using jitter+adapt_diag...\n"
     ]
    },
    {
     "name": "stdout",
     "output_type": "stream",
     "text": [
      "542031-542022-54140902\n"
     ]
    },
    {
     "name": "stderr",
     "output_type": "stream",
     "text": [
      "Multiprocess sampling (2 chains in 2 jobs)\n",
      "NUTS: [logk]\n",
      "Sampling 2 chains: 100%|██████████| 8000/8000 [00:03<00:00, 2014.38draws/s]\n",
      "Auto-assigning NUTS sampler...\n",
      "Initializing NUTS using jitter+adapt_diag...\n"
     ]
    },
    {
     "name": "stdout",
     "output_type": "stream",
     "text": [
      "542031-542022-54144037\n"
     ]
    },
    {
     "name": "stderr",
     "output_type": "stream",
     "text": [
      "Multiprocess sampling (2 chains in 2 jobs)\n",
      "NUTS: [logk]\n",
      "Sampling 2 chains: 100%|██████████| 8000/8000 [00:03<00:00, 2540.38draws/s]\n",
      "The acceptance probability does not match the target. It is 0.8808360797462217, but should be close to 0.95. Try to increase the number of tuning steps.\n",
      "Auto-assigning NUTS sampler...\n",
      "Initializing NUTS using jitter+adapt_diag...\n"
     ]
    },
    {
     "name": "stdout",
     "output_type": "stream",
     "text": [
      "542031-542022-54144166\n"
     ]
    },
    {
     "name": "stderr",
     "output_type": "stream",
     "text": [
      "Multiprocess sampling (2 chains in 2 jobs)\n",
      "NUTS: [logk]\n",
      "Sampling 2 chains: 100%|██████████| 8000/8000 [00:04<00:00, 1790.56draws/s]\n",
      "Auto-assigning NUTS sampler...\n",
      "Initializing NUTS using jitter+adapt_diag...\n"
     ]
    },
    {
     "name": "stdout",
     "output_type": "stream",
     "text": [
      "542031-542022-54144316\n"
     ]
    },
    {
     "name": "stderr",
     "output_type": "stream",
     "text": [
      "Multiprocess sampling (2 chains in 2 jobs)\n",
      "NUTS: [logk]\n",
      "Sampling 2 chains: 100%|██████████| 8000/8000 [00:03<00:00, 2244.73draws/s]\n",
      "Auto-assigning NUTS sampler...\n",
      "Initializing NUTS using jitter+adapt_diag...\n"
     ]
    },
    {
     "name": "stdout",
     "output_type": "stream",
     "text": [
      "542031-542022-54145306\n"
     ]
    },
    {
     "name": "stderr",
     "output_type": "stream",
     "text": [
      "Multiprocess sampling (2 chains in 2 jobs)\n",
      "NUTS: [logk]\n",
      "Sampling 2 chains: 100%|██████████| 8000/8000 [00:03<00:00, 2559.58draws/s]\n",
      "Auto-assigning NUTS sampler...\n",
      "Initializing NUTS using jitter+adapt_diag...\n"
     ]
    },
    {
     "name": "stdout",
     "output_type": "stream",
     "text": [
      "542031-542022-54149061\n"
     ]
    },
    {
     "name": "stderr",
     "output_type": "stream",
     "text": [
      "Multiprocess sampling (2 chains in 2 jobs)\n",
      "NUTS: [logk]\n",
      "Sampling 2 chains: 100%|██████████| 8000/8000 [00:04<00:00, 1989.98draws/s]\n",
      "The number of effective samples is smaller than 25% for some parameters.\n",
      "Auto-assigning NUTS sampler...\n",
      "Initializing NUTS using jitter+adapt_diag...\n"
     ]
    },
    {
     "name": "stdout",
     "output_type": "stream",
     "text": [
      "542031-542022-54151886\n"
     ]
    },
    {
     "name": "stderr",
     "output_type": "stream",
     "text": [
      "Multiprocess sampling (2 chains in 2 jobs)\n",
      "NUTS: [logk]\n",
      "Sampling 2 chains: 100%|██████████| 8000/8000 [00:03<00:00, 2077.69draws/s]\n",
      "Auto-assigning NUTS sampler...\n",
      "Initializing NUTS using jitter+adapt_diag...\n"
     ]
    },
    {
     "name": "stdout",
     "output_type": "stream",
     "text": [
      "542031-542022-54159308\n"
     ]
    },
    {
     "name": "stderr",
     "output_type": "stream",
     "text": [
      "Multiprocess sampling (2 chains in 2 jobs)\n",
      "NUTS: [logk]\n",
      "Sampling 2 chains: 100%|██████████| 8000/8000 [00:03<00:00, 2408.51draws/s]\n",
      "The acceptance probability does not match the target. It is 0.8808360797462217, but should be close to 0.95. Try to increase the number of tuning steps.\n",
      "Auto-assigning NUTS sampler...\n",
      "Initializing NUTS using jitter+adapt_diag...\n"
     ]
    },
    {
     "name": "stdout",
     "output_type": "stream",
     "text": [
      "542031-542022-54183472\n"
     ]
    },
    {
     "name": "stderr",
     "output_type": "stream",
     "text": [
      "Multiprocess sampling (2 chains in 2 jobs)\n",
      "NUTS: [logk]\n",
      "Sampling 2 chains: 100%|██████████| 8000/8000 [00:03<00:00, 2137.90draws/s]\n",
      "The number of effective samples is smaller than 25% for some parameters.\n",
      "Auto-assigning NUTS sampler...\n",
      "Initializing NUTS using jitter+adapt_diag...\n"
     ]
    },
    {
     "name": "stdout",
     "output_type": "stream",
     "text": [
      "542031-542022-54185861\n"
     ]
    },
    {
     "name": "stderr",
     "output_type": "stream",
     "text": [
      "Multiprocess sampling (2 chains in 2 jobs)\n",
      "NUTS: [logk]\n",
      "Sampling 2 chains: 100%|██████████| 8000/8000 [00:03<00:00, 2202.27draws/s]\n",
      "Auto-assigning NUTS sampler...\n",
      "Initializing NUTS using jitter+adapt_diag...\n"
     ]
    },
    {
     "name": "stdout",
     "output_type": "stream",
     "text": [
      "542031-542022-54189298\n"
     ]
    },
    {
     "name": "stderr",
     "output_type": "stream",
     "text": [
      "Multiprocess sampling (2 chains in 2 jobs)\n",
      "NUTS: [logk]\n",
      "Sampling 2 chains: 100%|██████████| 8000/8000 [00:02<00:00, 2681.93draws/s]\n",
      "Auto-assigning NUTS sampler...\n",
      "Initializing NUTS using jitter+adapt_diag...\n"
     ]
    },
    {
     "name": "stdout",
     "output_type": "stream",
     "text": [
      "542031-542022-54190238\n"
     ]
    },
    {
     "name": "stderr",
     "output_type": "stream",
     "text": [
      "Multiprocess sampling (2 chains in 2 jobs)\n",
      "NUTS: [logk]\n",
      "Sampling 2 chains: 100%|██████████| 8000/8000 [00:03<00:00, 2158.50draws/s]\n",
      "The number of effective samples is smaller than 25% for some parameters.\n",
      "Auto-assigning NUTS sampler...\n",
      "Initializing NUTS using jitter+adapt_diag...\n"
     ]
    },
    {
     "name": "stdout",
     "output_type": "stream",
     "text": [
      "542031-542022-54190803\n"
     ]
    },
    {
     "name": "stderr",
     "output_type": "stream",
     "text": [
      "Multiprocess sampling (2 chains in 2 jobs)\n",
      "NUTS: [logk]\n",
      "Sampling 2 chains: 100%|██████████| 8000/8000 [00:03<00:00, 2220.03draws/s]\n",
      "Auto-assigning NUTS sampler...\n",
      "Initializing NUTS using jitter+adapt_diag...\n"
     ]
    },
    {
     "name": "stdout",
     "output_type": "stream",
     "text": [
      "542031-542022-54191089\n"
     ]
    },
    {
     "name": "stderr",
     "output_type": "stream",
     "text": [
      "Multiprocess sampling (2 chains in 2 jobs)\n",
      "NUTS: [logk]\n",
      "Sampling 2 chains: 100%|██████████| 8000/8000 [00:03<00:00, 2127.89draws/s]\n",
      "The number of effective samples is smaller than 25% for some parameters.\n",
      "Auto-assigning NUTS sampler...\n",
      "Initializing NUTS using jitter+adapt_diag...\n"
     ]
    },
    {
     "name": "stdout",
     "output_type": "stream",
     "text": [
      "542031-542022-54191088\n"
     ]
    },
    {
     "name": "stderr",
     "output_type": "stream",
     "text": [
      "Multiprocess sampling (2 chains in 2 jobs)\n",
      "NUTS: [logk]\n",
      "Sampling 2 chains: 100%|██████████| 8000/8000 [00:03<00:00, 2456.87draws/s]\n",
      "Auto-assigning NUTS sampler...\n",
      "Initializing NUTS using jitter+adapt_diag...\n"
     ]
    },
    {
     "name": "stdout",
     "output_type": "stream",
     "text": [
      "542031-542022-54191648\n"
     ]
    },
    {
     "name": "stderr",
     "output_type": "stream",
     "text": [
      "Multiprocess sampling (2 chains in 2 jobs)\n",
      "NUTS: [logk]\n",
      "Sampling 2 chains: 100%|██████████| 8000/8000 [00:03<00:00, 2014.60draws/s]\n",
      "Auto-assigning NUTS sampler...\n",
      "Initializing NUTS using jitter+adapt_diag...\n"
     ]
    },
    {
     "name": "stdout",
     "output_type": "stream",
     "text": [
      "542031-542022-54192387\n"
     ]
    },
    {
     "name": "stderr",
     "output_type": "stream",
     "text": [
      "Multiprocess sampling (2 chains in 2 jobs)\n",
      "NUTS: [logk]\n",
      "Sampling 2 chains: 100%|██████████| 8000/8000 [00:03<00:00, 2073.02draws/s]\n",
      "The number of effective samples is smaller than 25% for some parameters.\n",
      "Auto-assigning NUTS sampler...\n",
      "Initializing NUTS using jitter+adapt_diag...\n"
     ]
    },
    {
     "name": "stdout",
     "output_type": "stream",
     "text": [
      "542031-542022-54192643\n"
     ]
    },
    {
     "name": "stderr",
     "output_type": "stream",
     "text": [
      "Multiprocess sampling (2 chains in 2 jobs)\n",
      "NUTS: [logk]\n",
      "Sampling 2 chains: 100%|██████████| 8000/8000 [00:03<00:00, 2441.55draws/s]\n",
      "Auto-assigning NUTS sampler...\n",
      "Initializing NUTS using jitter+adapt_diag...\n"
     ]
    },
    {
     "name": "stdout",
     "output_type": "stream",
     "text": [
      "542031-542022-54192746\n"
     ]
    },
    {
     "name": "stderr",
     "output_type": "stream",
     "text": [
      "Multiprocess sampling (2 chains in 2 jobs)\n",
      "NUTS: [logk]\n",
      "Sampling 2 chains: 100%|██████████| 8000/8000 [00:03<00:00, 2083.66draws/s]\n",
      "The number of effective samples is smaller than 25% for some parameters.\n",
      "Auto-assigning NUTS sampler...\n",
      "Initializing NUTS using jitter+adapt_diag...\n"
     ]
    },
    {
     "name": "stdout",
     "output_type": "stream",
     "text": [
      "542031-542022-54193053\n"
     ]
    },
    {
     "name": "stderr",
     "output_type": "stream",
     "text": [
      "Multiprocess sampling (2 chains in 2 jobs)\n",
      "NUTS: [logk]\n",
      "Sampling 2 chains: 100%|██████████| 8000/8000 [00:03<00:00, 2043.12draws/s]\n",
      "Auto-assigning NUTS sampler...\n",
      "Initializing NUTS using jitter+adapt_diag...\n"
     ]
    },
    {
     "name": "stdout",
     "output_type": "stream",
     "text": [
      "542031-542022-54193422\n"
     ]
    },
    {
     "name": "stderr",
     "output_type": "stream",
     "text": [
      "Multiprocess sampling (2 chains in 2 jobs)\n",
      "NUTS: [logk]\n",
      "Sampling 2 chains: 100%|██████████| 8000/8000 [00:03<00:00, 2104.46draws/s]\n",
      "The number of effective samples is smaller than 25% for some parameters.\n",
      "Auto-assigning NUTS sampler...\n",
      "Initializing NUTS using jitter+adapt_diag...\n"
     ]
    },
    {
     "name": "stdout",
     "output_type": "stream",
     "text": [
      "542031-542022-54194845\n"
     ]
    },
    {
     "name": "stderr",
     "output_type": "stream",
     "text": [
      "Multiprocess sampling (2 chains in 2 jobs)\n",
      "NUTS: [logk]\n",
      "Sampling 2 chains: 100%|██████████| 8000/8000 [00:03<00:00, 2242.22draws/s]\n",
      "Auto-assigning NUTS sampler...\n",
      "Initializing NUTS using jitter+adapt_diag...\n"
     ]
    },
    {
     "name": "stdout",
     "output_type": "stream",
     "text": [
      "542031-542022-54195752\n"
     ]
    },
    {
     "name": "stderr",
     "output_type": "stream",
     "text": [
      "Multiprocess sampling (2 chains in 2 jobs)\n",
      "NUTS: [logk]\n",
      "Sampling 2 chains: 100%|██████████| 8000/8000 [00:03<00:00, 2223.06draws/s]\n",
      "The number of effective samples is smaller than 25% for some parameters.\n",
      "Auto-assigning NUTS sampler...\n",
      "Initializing NUTS using jitter+adapt_diag...\n"
     ]
    },
    {
     "name": "stdout",
     "output_type": "stream",
     "text": [
      "542031-542022-54198824\n"
     ]
    },
    {
     "name": "stderr",
     "output_type": "stream",
     "text": [
      "Multiprocess sampling (2 chains in 2 jobs)\n",
      "NUTS: [logk]\n",
      "Sampling 2 chains: 100%|██████████| 8000/8000 [00:03<00:00, 2302.47draws/s]\n",
      "Auto-assigning NUTS sampler...\n",
      "Initializing NUTS using jitter+adapt_diag...\n"
     ]
    },
    {
     "name": "stdout",
     "output_type": "stream",
     "text": [
      "542031-542022-54203986\n"
     ]
    },
    {
     "name": "stderr",
     "output_type": "stream",
     "text": [
      "Multiprocess sampling (2 chains in 2 jobs)\n",
      "NUTS: [logk]\n",
      "Sampling 2 chains: 100%|██████████| 8000/8000 [00:03<00:00, 2251.21draws/s]\n",
      "Auto-assigning NUTS sampler...\n",
      "Initializing NUTS using jitter+adapt_diag...\n"
     ]
    },
    {
     "name": "stdout",
     "output_type": "stream",
     "text": [
      "542031-542022-54204835\n"
     ]
    },
    {
     "name": "stderr",
     "output_type": "stream",
     "text": [
      "Multiprocess sampling (2 chains in 2 jobs)\n",
      "NUTS: [logk]\n",
      "Sampling 2 chains: 100%|██████████| 8000/8000 [00:03<00:00, 2029.02draws/s]\n",
      "The number of effective samples is smaller than 25% for some parameters.\n",
      "Auto-assigning NUTS sampler...\n",
      "Initializing NUTS using jitter+adapt_diag...\n"
     ]
    },
    {
     "name": "stdout",
     "output_type": "stream",
     "text": [
      "542031-542022-54211395\n"
     ]
    },
    {
     "name": "stderr",
     "output_type": "stream",
     "text": [
      "Multiprocess sampling (2 chains in 2 jobs)\n",
      "NUTS: [logk]\n",
      "Sampling 2 chains: 100%|██████████| 8000/8000 [00:04<00:00, 1989.72draws/s]\n",
      "The number of effective samples is smaller than 25% for some parameters.\n",
      "Auto-assigning NUTS sampler...\n",
      "Initializing NUTS using jitter+adapt_diag...\n"
     ]
    },
    {
     "name": "stdout",
     "output_type": "stream",
     "text": [
      "542031-542022-54242163\n"
     ]
    },
    {
     "name": "stderr",
     "output_type": "stream",
     "text": [
      "Multiprocess sampling (2 chains in 2 jobs)\n",
      "NUTS: [logk]\n",
      "Sampling 2 chains: 100%|██████████| 8000/8000 [00:03<00:00, 2277.14draws/s]\n",
      "The number of effective samples is smaller than 25% for some parameters.\n",
      "Auto-assigning NUTS sampler...\n",
      "Initializing NUTS using jitter+adapt_diag...\n"
     ]
    },
    {
     "name": "stdout",
     "output_type": "stream",
     "text": [
      "542031-542022-54243369\n"
     ]
    },
    {
     "name": "stderr",
     "output_type": "stream",
     "text": [
      "Multiprocess sampling (2 chains in 2 jobs)\n",
      "NUTS: [logk]\n",
      "Sampling 2 chains: 100%|██████████| 8000/8000 [00:03<00:00, 2090.15draws/s]\n",
      "Auto-assigning NUTS sampler...\n",
      "Initializing NUTS using jitter+adapt_diag...\n"
     ]
    },
    {
     "name": "stdout",
     "output_type": "stream",
     "text": [
      "542031-542022-54253943\n"
     ]
    },
    {
     "name": "stderr",
     "output_type": "stream",
     "text": [
      "Multiprocess sampling (2 chains in 2 jobs)\n",
      "NUTS: [logk]\n",
      "Sampling 2 chains: 100%|██████████| 8000/8000 [00:03<00:00, 2098.79draws/s]\n",
      "The number of effective samples is smaller than 25% for some parameters.\n",
      "Auto-assigning NUTS sampler...\n",
      "Initializing NUTS using jitter+adapt_diag...\n"
     ]
    },
    {
     "name": "stdout",
     "output_type": "stream",
     "text": [
      "542031-542022-54281145\n"
     ]
    },
    {
     "name": "stderr",
     "output_type": "stream",
     "text": [
      "Multiprocess sampling (2 chains in 2 jobs)\n",
      "NUTS: [logk]\n",
      "Sampling 2 chains: 100%|██████████| 8000/8000 [00:03<00:00, 2156.99draws/s]\n",
      "The number of effective samples is smaller than 25% for some parameters.\n",
      "Auto-assigning NUTS sampler...\n",
      "Initializing NUTS using jitter+adapt_diag...\n"
     ]
    },
    {
     "name": "stdout",
     "output_type": "stream",
     "text": [
      "542031-542022-54281359\n"
     ]
    },
    {
     "name": "stderr",
     "output_type": "stream",
     "text": [
      "Multiprocess sampling (2 chains in 2 jobs)\n",
      "NUTS: [logk]\n",
      "Sampling 2 chains: 100%|██████████| 8000/8000 [00:03<00:00, 2234.62draws/s]\n",
      "Auto-assigning NUTS sampler...\n",
      "Initializing NUTS using jitter+adapt_diag...\n"
     ]
    },
    {
     "name": "stdout",
     "output_type": "stream",
     "text": [
      "542031-542022-54281662\n"
     ]
    },
    {
     "name": "stderr",
     "output_type": "stream",
     "text": [
      "Multiprocess sampling (2 chains in 2 jobs)\n",
      "NUTS: [logk]\n",
      "Sampling 2 chains: 100%|██████████| 8000/8000 [00:03<00:00, 2183.25draws/s]\n",
      "The number of effective samples is smaller than 25% for some parameters.\n",
      "Auto-assigning NUTS sampler...\n",
      "Initializing NUTS using jitter+adapt_diag...\n"
     ]
    },
    {
     "name": "stdout",
     "output_type": "stream",
     "text": [
      "542031-542022-54281653\n"
     ]
    },
    {
     "name": "stderr",
     "output_type": "stream",
     "text": [
      "Multiprocess sampling (2 chains in 2 jobs)\n",
      "NUTS: [logk]\n",
      "Sampling 2 chains: 100%|██████████| 8000/8000 [00:03<00:00, 2187.22draws/s]\n",
      "The number of effective samples is smaller than 25% for some parameters.\n",
      "Auto-assigning NUTS sampler...\n",
      "Initializing NUTS using jitter+adapt_diag...\n"
     ]
    },
    {
     "name": "stdout",
     "output_type": "stream",
     "text": [
      "542031-542022-54282423\n"
     ]
    },
    {
     "name": "stderr",
     "output_type": "stream",
     "text": [
      "Multiprocess sampling (2 chains in 2 jobs)\n",
      "NUTS: [logk]\n",
      "Sampling 2 chains: 100%|██████████| 8000/8000 [00:03<00:00, 2565.99draws/s]\n",
      "Auto-assigning NUTS sampler...\n",
      "Initializing NUTS using jitter+adapt_diag...\n"
     ]
    },
    {
     "name": "stdout",
     "output_type": "stream",
     "text": [
      "542031-542022-54282975\n"
     ]
    },
    {
     "name": "stderr",
     "output_type": "stream",
     "text": [
      "Multiprocess sampling (2 chains in 2 jobs)\n",
      "NUTS: [logk]\n",
      "Sampling 2 chains: 100%|██████████| 8000/8000 [00:03<00:00, 2144.58draws/s]\n",
      "The number of effective samples is smaller than 25% for some parameters.\n",
      "Auto-assigning NUTS sampler...\n",
      "Initializing NUTS using jitter+adapt_diag...\n"
     ]
    },
    {
     "name": "stdout",
     "output_type": "stream",
     "text": [
      "542031-542022-54283094\n"
     ]
    },
    {
     "name": "stderr",
     "output_type": "stream",
     "text": [
      "Multiprocess sampling (2 chains in 2 jobs)\n",
      "NUTS: [logk]\n",
      "Sampling 2 chains: 100%|██████████| 8000/8000 [00:03<00:00, 2072.79draws/s]\n",
      "The number of effective samples is smaller than 25% for some parameters.\n",
      "Auto-assigning NUTS sampler...\n",
      "Initializing NUTS using jitter+adapt_diag...\n"
     ]
    },
    {
     "name": "stdout",
     "output_type": "stream",
     "text": [
      "542031-542022-54283799\n"
     ]
    },
    {
     "name": "stderr",
     "output_type": "stream",
     "text": [
      "Multiprocess sampling (2 chains in 2 jobs)\n",
      "NUTS: [logk]\n",
      "Sampling 2 chains: 100%|██████████| 8000/8000 [00:03<00:00, 2176.39draws/s]\n",
      "The number of effective samples is smaller than 25% for some parameters.\n",
      "Auto-assigning NUTS sampler...\n",
      "Initializing NUTS using jitter+adapt_diag...\n"
     ]
    },
    {
     "name": "stdout",
     "output_type": "stream",
     "text": [
      "542031-542022-54283956\n"
     ]
    },
    {
     "name": "stderr",
     "output_type": "stream",
     "text": [
      "Multiprocess sampling (2 chains in 2 jobs)\n",
      "NUTS: [logk]\n",
      "Sampling 2 chains: 100%|██████████| 8000/8000 [00:03<00:00, 2268.16draws/s]\n",
      "The acceptance probability does not match the target. It is 0.8808360797462217, but should be close to 0.95. Try to increase the number of tuning steps.\n",
      "Auto-assigning NUTS sampler...\n",
      "Initializing NUTS using jitter+adapt_diag...\n"
     ]
    },
    {
     "name": "stdout",
     "output_type": "stream",
     "text": [
      "542031-542022-54285099\n"
     ]
    },
    {
     "name": "stderr",
     "output_type": "stream",
     "text": [
      "Multiprocess sampling (2 chains in 2 jobs)\n",
      "NUTS: [logk]\n",
      "Sampling 2 chains: 100%|██████████| 8000/8000 [00:03<00:00, 2186.28draws/s]\n",
      "Auto-assigning NUTS sampler...\n",
      "Initializing NUTS using jitter+adapt_diag...\n"
     ]
    },
    {
     "name": "stdout",
     "output_type": "stream",
     "text": [
      "542031-542022-54288974\n"
     ]
    },
    {
     "name": "stderr",
     "output_type": "stream",
     "text": [
      "Multiprocess sampling (2 chains in 2 jobs)\n",
      "NUTS: [logk]\n",
      "Sampling 2 chains: 100%|██████████| 8000/8000 [00:03<00:00, 2244.09draws/s]\n",
      "The number of effective samples is smaller than 25% for some parameters.\n",
      "Auto-assigning NUTS sampler...\n",
      "Initializing NUTS using jitter+adapt_diag...\n"
     ]
    },
    {
     "name": "stdout",
     "output_type": "stream",
     "text": [
      "542031-542022-54290490\n"
     ]
    },
    {
     "name": "stderr",
     "output_type": "stream",
     "text": [
      "Multiprocess sampling (2 chains in 2 jobs)\n",
      "NUTS: [logk]\n",
      "Sampling 2 chains: 100%|██████████| 8000/8000 [00:03<00:00, 2414.33draws/s]\n",
      "Auto-assigning NUTS sampler...\n",
      "Initializing NUTS using jitter+adapt_diag...\n"
     ]
    },
    {
     "name": "stdout",
     "output_type": "stream",
     "text": [
      "542031-542022-54290904\n"
     ]
    },
    {
     "name": "stderr",
     "output_type": "stream",
     "text": [
      "Multiprocess sampling (2 chains in 2 jobs)\n",
      "NUTS: [logk]\n",
      "Sampling 2 chains: 100%|██████████| 8000/8000 [00:03<00:00, 2004.33draws/s]\n",
      "The number of effective samples is smaller than 25% for some parameters.\n",
      "Auto-assigning NUTS sampler...\n",
      "Initializing NUTS using jitter+adapt_diag...\n"
     ]
    },
    {
     "name": "stdout",
     "output_type": "stream",
     "text": [
      "542031-542022-54292255\n"
     ]
    },
    {
     "name": "stderr",
     "output_type": "stream",
     "text": [
      "Multiprocess sampling (2 chains in 2 jobs)\n",
      "NUTS: [logk]\n",
      "Sampling 2 chains: 100%|██████████| 8000/8000 [00:03<00:00, 2232.34draws/s]\n",
      "The number of effective samples is smaller than 25% for some parameters.\n",
      "Auto-assigning NUTS sampler...\n",
      "Initializing NUTS using jitter+adapt_diag...\n"
     ]
    },
    {
     "name": "stdout",
     "output_type": "stream",
     "text": [
      "542031-542022-54294213\n"
     ]
    },
    {
     "name": "stderr",
     "output_type": "stream",
     "text": [
      "Multiprocess sampling (2 chains in 2 jobs)\n",
      "NUTS: [logk]\n",
      "Sampling 2 chains: 100%|██████████| 8000/8000 [00:03<00:00, 2198.94draws/s]\n",
      "The number of effective samples is smaller than 25% for some parameters.\n",
      "Auto-assigning NUTS sampler...\n",
      "Initializing NUTS using jitter+adapt_diag...\n"
     ]
    },
    {
     "name": "stdout",
     "output_type": "stream",
     "text": [
      "542031-542022-54300184\n"
     ]
    },
    {
     "name": "stderr",
     "output_type": "stream",
     "text": [
      "Multiprocess sampling (2 chains in 2 jobs)\n",
      "NUTS: [logk]\n",
      "Sampling 2 chains: 100%|██████████| 8000/8000 [00:03<00:00, 2225.24draws/s]\n",
      "Auto-assigning NUTS sampler...\n",
      "Initializing NUTS using jitter+adapt_diag...\n"
     ]
    },
    {
     "name": "stdout",
     "output_type": "stream",
     "text": [
      "542031-542022-54304443\n"
     ]
    },
    {
     "name": "stderr",
     "output_type": "stream",
     "text": [
      "Multiprocess sampling (2 chains in 2 jobs)\n",
      "NUTS: [logk]\n",
      "Sampling 2 chains: 100%|██████████| 8000/8000 [00:03<00:00, 2199.86draws/s]\n",
      "Auto-assigning NUTS sampler...\n",
      "Initializing NUTS using jitter+adapt_diag...\n"
     ]
    },
    {
     "name": "stdout",
     "output_type": "stream",
     "text": [
      "542031-542022-54308050\n"
     ]
    },
    {
     "name": "stderr",
     "output_type": "stream",
     "text": [
      "Multiprocess sampling (2 chains in 2 jobs)\n",
      "NUTS: [logk]\n",
      "Sampling 2 chains: 100%|██████████| 8000/8000 [00:03<00:00, 2135.01draws/s]\n",
      "The number of effective samples is smaller than 25% for some parameters.\n",
      "Auto-assigning NUTS sampler...\n",
      "Initializing NUTS using jitter+adapt_diag...\n"
     ]
    },
    {
     "name": "stdout",
     "output_type": "stream",
     "text": [
      "542031-542022-54308976\n"
     ]
    },
    {
     "name": "stderr",
     "output_type": "stream",
     "text": [
      "Multiprocess sampling (2 chains in 2 jobs)\n",
      "NUTS: [logk]\n",
      "Sampling 2 chains: 100%|██████████| 8000/8000 [00:03<00:00, 2115.51draws/s]\n",
      "The number of effective samples is smaller than 25% for some parameters.\n",
      "Auto-assigning NUTS sampler...\n",
      "Initializing NUTS using jitter+adapt_diag...\n"
     ]
    },
    {
     "name": "stdout",
     "output_type": "stream",
     "text": [
      "542031-542022-54313912\n"
     ]
    },
    {
     "name": "stderr",
     "output_type": "stream",
     "text": [
      "Multiprocess sampling (2 chains in 2 jobs)\n",
      "NUTS: [logk]\n",
      "Sampling 2 chains: 100%|██████████| 8000/8000 [00:03<00:00, 2270.24draws/s]\n",
      "The number of effective samples is smaller than 25% for some parameters.\n",
      "Auto-assigning NUTS sampler...\n",
      "Initializing NUTS using jitter+adapt_diag...\n"
     ]
    },
    {
     "name": "stdout",
     "output_type": "stream",
     "text": [
      "542031-542022-54318300\n"
     ]
    },
    {
     "name": "stderr",
     "output_type": "stream",
     "text": [
      "Multiprocess sampling (2 chains in 2 jobs)\n",
      "NUTS: [logk]\n",
      "Sampling 2 chains: 100%|██████████| 8000/8000 [00:03<00:00, 2316.73draws/s]\n",
      "The number of effective samples is smaller than 25% for some parameters.\n",
      "Auto-assigning NUTS sampler...\n",
      "Initializing NUTS using jitter+adapt_diag...\n"
     ]
    },
    {
     "name": "stdout",
     "output_type": "stream",
     "text": [
      "542031-542022-54324154\n"
     ]
    },
    {
     "name": "stderr",
     "output_type": "stream",
     "text": [
      "Multiprocess sampling (2 chains in 2 jobs)\n",
      "NUTS: [logk]\n",
      "Sampling 2 chains: 100%|██████████| 8000/8000 [00:02<00:00, 2708.95draws/s]\n",
      "The acceptance probability does not match the target. It is 0.8909123669537763, but should be close to 0.95. Try to increase the number of tuning steps.\n",
      "Auto-assigning NUTS sampler...\n",
      "Initializing NUTS using jitter+adapt_diag...\n"
     ]
    },
    {
     "name": "stdout",
     "output_type": "stream",
     "text": [
      "542031-542022-54349524\n"
     ]
    },
    {
     "name": "stderr",
     "output_type": "stream",
     "text": [
      "Multiprocess sampling (2 chains in 2 jobs)\n",
      "NUTS: [logk]\n",
      "Sampling 2 chains: 100%|██████████| 8000/8000 [00:03<00:00, 2372.28draws/s]\n",
      "Auto-assigning NUTS sampler...\n",
      "Initializing NUTS using jitter+adapt_diag...\n"
     ]
    },
    {
     "name": "stdout",
     "output_type": "stream",
     "text": [
      "542031-542022-54350677\n"
     ]
    },
    {
     "name": "stderr",
     "output_type": "stream",
     "text": [
      "Multiprocess sampling (2 chains in 2 jobs)\n",
      "NUTS: [logk]\n",
      "Sampling 2 chains: 100%|██████████| 8000/8000 [00:03<00:00, 2217.05draws/s]\n",
      "The number of effective samples is smaller than 25% for some parameters.\n",
      "Auto-assigning NUTS sampler...\n",
      "Initializing NUTS using jitter+adapt_diag...\n"
     ]
    },
    {
     "name": "stdout",
     "output_type": "stream",
     "text": [
      "542031-542022-54357193\n"
     ]
    },
    {
     "name": "stderr",
     "output_type": "stream",
     "text": [
      "Multiprocess sampling (2 chains in 2 jobs)\n",
      "NUTS: [logk]\n",
      "Sampling 2 chains: 100%|██████████| 8000/8000 [00:03<00:00, 2338.08draws/s]\n",
      "Auto-assigning NUTS sampler...\n",
      "Initializing NUTS using jitter+adapt_diag...\n"
     ]
    },
    {
     "name": "stdout",
     "output_type": "stream",
     "text": [
      "542031-542022-54357745\n"
     ]
    },
    {
     "name": "stderr",
     "output_type": "stream",
     "text": [
      "Multiprocess sampling (2 chains in 2 jobs)\n",
      "NUTS: [logk]\n",
      "Sampling 2 chains: 100%|██████████| 8000/8000 [00:04<00:00, 1833.57draws/s]\n",
      "The number of effective samples is smaller than 25% for some parameters.\n",
      "Auto-assigning NUTS sampler...\n",
      "Initializing NUTS using jitter+adapt_diag...\n"
     ]
    },
    {
     "name": "stdout",
     "output_type": "stream",
     "text": [
      "542031-542022-54357871\n"
     ]
    },
    {
     "name": "stderr",
     "output_type": "stream",
     "text": [
      "Multiprocess sampling (2 chains in 2 jobs)\n",
      "NUTS: [logk]\n",
      "Sampling 2 chains: 100%|██████████| 8000/8000 [00:03<00:00, 2026.97draws/s]\n",
      "The number of effective samples is smaller than 25% for some parameters.\n",
      "Auto-assigning NUTS sampler...\n",
      "Initializing NUTS using jitter+adapt_diag...\n"
     ]
    },
    {
     "name": "stdout",
     "output_type": "stream",
     "text": [
      "542031-542022-54363817\n"
     ]
    },
    {
     "name": "stderr",
     "output_type": "stream",
     "text": [
      "Multiprocess sampling (2 chains in 2 jobs)\n",
      "NUTS: [logk]\n",
      "Sampling 2 chains: 100%|██████████| 8000/8000 [00:03<00:00, 2350.33draws/s]\n",
      "The number of effective samples is smaller than 25% for some parameters.\n",
      "Auto-assigning NUTS sampler...\n",
      "Initializing NUTS using jitter+adapt_diag...\n"
     ]
    },
    {
     "name": "stdout",
     "output_type": "stream",
     "text": [
      "542031-542022-54365257\n"
     ]
    },
    {
     "name": "stderr",
     "output_type": "stream",
     "text": [
      "Multiprocess sampling (2 chains in 2 jobs)\n",
      "NUTS: [logk]\n",
      "Sampling 2 chains: 100%|██████████| 8000/8000 [00:03<00:00, 2655.46draws/s]\n",
      "The number of effective samples is smaller than 25% for some parameters.\n",
      "Auto-assigning NUTS sampler...\n",
      "Initializing NUTS using jitter+adapt_diag...\n"
     ]
    },
    {
     "name": "stdout",
     "output_type": "stream",
     "text": [
      "542031-542022-54365594\n"
     ]
    },
    {
     "name": "stderr",
     "output_type": "stream",
     "text": [
      "Multiprocess sampling (2 chains in 2 jobs)\n",
      "NUTS: [logk]\n",
      "Sampling 2 chains: 100%|██████████| 8000/8000 [00:03<00:00, 2372.00draws/s]\n",
      "The number of effective samples is smaller than 25% for some parameters.\n",
      "Auto-assigning NUTS sampler...\n",
      "Initializing NUTS using jitter+adapt_diag...\n"
     ]
    },
    {
     "name": "stdout",
     "output_type": "stream",
     "text": [
      "542031-542022-54365529\n"
     ]
    },
    {
     "name": "stderr",
     "output_type": "stream",
     "text": [
      "Multiprocess sampling (2 chains in 2 jobs)\n",
      "NUTS: [logk]\n",
      "Sampling 2 chains: 100%|██████████| 8000/8000 [00:03<00:00, 2169.71draws/s]\n",
      "The number of effective samples is smaller than 25% for some parameters.\n",
      "Auto-assigning NUTS sampler...\n",
      "Initializing NUTS using jitter+adapt_diag...\n"
     ]
    },
    {
     "name": "stdout",
     "output_type": "stream",
     "text": [
      "542031-542022-54365444\n"
     ]
    },
    {
     "name": "stderr",
     "output_type": "stream",
     "text": [
      "Multiprocess sampling (2 chains in 2 jobs)\n",
      "NUTS: [logk]\n",
      "Sampling 2 chains: 100%|██████████| 8000/8000 [00:03<00:00, 2516.05draws/s]\n",
      "The acceptance probability does not match the target. It is 0.7974311632925938, but should be close to 0.95. Try to increase the number of tuning steps.\n",
      "Auto-assigning NUTS sampler...\n",
      "Initializing NUTS using jitter+adapt_diag...\n"
     ]
    },
    {
     "name": "stdout",
     "output_type": "stream",
     "text": [
      "542031-542022-54366369\n"
     ]
    },
    {
     "name": "stderr",
     "output_type": "stream",
     "text": [
      "Multiprocess sampling (2 chains in 2 jobs)\n",
      "NUTS: [logk]\n",
      "Sampling 2 chains: 100%|██████████| 8000/8000 [00:03<00:00, 2622.12draws/s]\n",
      "Auto-assigning NUTS sampler...\n",
      "Initializing NUTS using jitter+adapt_diag...\n"
     ]
    },
    {
     "name": "stdout",
     "output_type": "stream",
     "text": [
      "542031-542022-54367865\n"
     ]
    },
    {
     "name": "stderr",
     "output_type": "stream",
     "text": [
      "Multiprocess sampling (2 chains in 2 jobs)\n",
      "NUTS: [logk]\n",
      "Sampling 2 chains: 100%|██████████| 8000/8000 [00:03<00:00, 2306.38draws/s]\n",
      "The number of effective samples is smaller than 25% for some parameters.\n",
      "Auto-assigning NUTS sampler...\n",
      "Initializing NUTS using jitter+adapt_diag...\n"
     ]
    },
    {
     "name": "stdout",
     "output_type": "stream",
     "text": [
      "542031-542022-54379511\n"
     ]
    },
    {
     "name": "stderr",
     "output_type": "stream",
     "text": [
      "Multiprocess sampling (2 chains in 2 jobs)\n",
      "NUTS: [logk]\n",
      "Sampling 2 chains: 100%|██████████| 8000/8000 [00:03<00:00, 2443.84draws/s]\n",
      "Auto-assigning NUTS sampler...\n",
      "Initializing NUTS using jitter+adapt_diag...\n"
     ]
    },
    {
     "name": "stdout",
     "output_type": "stream",
     "text": [
      "542031-542022-54422720\n"
     ]
    },
    {
     "name": "stderr",
     "output_type": "stream",
     "text": [
      "Multiprocess sampling (2 chains in 2 jobs)\n",
      "NUTS: [logk]\n",
      "Sampling 2 chains: 100%|██████████| 8000/8000 [00:04<00:00, 1964.44draws/s]\n",
      "The number of effective samples is smaller than 25% for some parameters.\n",
      "Auto-assigning NUTS sampler...\n",
      "Initializing NUTS using jitter+adapt_diag...\n"
     ]
    },
    {
     "name": "stdout",
     "output_type": "stream",
     "text": [
      "542031-542022-54423176\n"
     ]
    },
    {
     "name": "stderr",
     "output_type": "stream",
     "text": [
      "Multiprocess sampling (2 chains in 2 jobs)\n",
      "NUTS: [logk]\n",
      "Sampling 2 chains: 100%|██████████| 8000/8000 [00:02<00:00, 2688.28draws/s]\n",
      "Auto-assigning NUTS sampler...\n",
      "Initializing NUTS using jitter+adapt_diag...\n"
     ]
    },
    {
     "name": "stdout",
     "output_type": "stream",
     "text": [
      "542031-542022-54423479\n"
     ]
    },
    {
     "name": "stderr",
     "output_type": "stream",
     "text": [
      "Multiprocess sampling (2 chains in 2 jobs)\n",
      "NUTS: [logk]\n",
      "Sampling 2 chains: 100%|██████████| 8000/8000 [00:03<00:00, 2214.47draws/s]\n",
      "The number of effective samples is smaller than 25% for some parameters.\n",
      "Auto-assigning NUTS sampler...\n",
      "Initializing NUTS using jitter+adapt_diag...\n"
     ]
    },
    {
     "name": "stdout",
     "output_type": "stream",
     "text": [
      "542031-542022-54423878\n"
     ]
    },
    {
     "name": "stderr",
     "output_type": "stream",
     "text": [
      "Multiprocess sampling (2 chains in 2 jobs)\n",
      "NUTS: [logk]\n",
      "Sampling 2 chains: 100%|██████████| 8000/8000 [00:02<00:00, 2691.71draws/s]\n",
      "Auto-assigning NUTS sampler...\n",
      "Initializing NUTS using jitter+adapt_diag...\n"
     ]
    },
    {
     "name": "stdout",
     "output_type": "stream",
     "text": [
      "542031-542022-54423765\n"
     ]
    },
    {
     "name": "stderr",
     "output_type": "stream",
     "text": [
      "Multiprocess sampling (2 chains in 2 jobs)\n",
      "NUTS: [logk]\n",
      "Sampling 2 chains: 100%|██████████| 8000/8000 [00:03<00:00, 2186.18draws/s]\n",
      "The number of effective samples is smaller than 25% for some parameters.\n",
      "Auto-assigning NUTS sampler...\n",
      "Initializing NUTS using jitter+adapt_diag...\n"
     ]
    },
    {
     "name": "stdout",
     "output_type": "stream",
     "text": [
      "542031-542022-54424032\n"
     ]
    },
    {
     "name": "stderr",
     "output_type": "stream",
     "text": [
      "Multiprocess sampling (2 chains in 2 jobs)\n",
      "NUTS: [logk]\n",
      "Sampling 2 chains: 100%|██████████| 8000/8000 [00:03<00:00, 2436.88draws/s]\n",
      "The number of effective samples is smaller than 25% for some parameters.\n",
      "Auto-assigning NUTS sampler...\n",
      "Initializing NUTS using jitter+adapt_diag...\n"
     ]
    },
    {
     "name": "stdout",
     "output_type": "stream",
     "text": [
      "542031-542022-54424160\n"
     ]
    },
    {
     "name": "stderr",
     "output_type": "stream",
     "text": [
      "Multiprocess sampling (2 chains in 2 jobs)\n",
      "NUTS: [logk]\n",
      "Sampling 2 chains: 100%|██████████| 8000/8000 [00:03<00:00, 2299.76draws/s]\n",
      "The number of effective samples is smaller than 25% for some parameters.\n",
      "Auto-assigning NUTS sampler...\n",
      "Initializing NUTS using jitter+adapt_diag...\n"
     ]
    },
    {
     "name": "stdout",
     "output_type": "stream",
     "text": [
      "542031-542022-54424674\n"
     ]
    },
    {
     "name": "stderr",
     "output_type": "stream",
     "text": [
      "Multiprocess sampling (2 chains in 2 jobs)\n",
      "NUTS: [logk]\n",
      "Sampling 2 chains: 100%|██████████| 8000/8000 [00:03<00:00, 2254.59draws/s]\n",
      "Auto-assigning NUTS sampler...\n",
      "Initializing NUTS using jitter+adapt_diag...\n"
     ]
    },
    {
     "name": "stdout",
     "output_type": "stream",
     "text": [
      "542031-542022-54424581\n"
     ]
    },
    {
     "name": "stderr",
     "output_type": "stream",
     "text": [
      "Multiprocess sampling (2 chains in 2 jobs)\n",
      "NUTS: [logk]\n",
      "Sampling 2 chains: 100%|██████████| 8000/8000 [00:03<00:00, 2534.48draws/s]\n",
      "The acceptance probability does not match the target. It is 0.8890408186049427, but should be close to 0.95. Try to increase the number of tuning steps.\n",
      "Auto-assigning NUTS sampler...\n",
      "Initializing NUTS using jitter+adapt_diag...\n"
     ]
    },
    {
     "name": "stdout",
     "output_type": "stream",
     "text": [
      "542031-542022-54424591\n"
     ]
    },
    {
     "name": "stderr",
     "output_type": "stream",
     "text": [
      "Multiprocess sampling (2 chains in 2 jobs)\n",
      "NUTS: [logk]\n",
      "Sampling 2 chains: 100%|██████████| 8000/8000 [00:03<00:00, 2456.97draws/s]\n",
      "Auto-assigning NUTS sampler...\n",
      "Initializing NUTS using jitter+adapt_diag...\n"
     ]
    },
    {
     "name": "stdout",
     "output_type": "stream",
     "text": [
      "542031-542022-54424882\n"
     ]
    },
    {
     "name": "stderr",
     "output_type": "stream",
     "text": [
      "Multiprocess sampling (2 chains in 2 jobs)\n",
      "NUTS: [logk]\n",
      "Sampling 2 chains: 100%|██████████| 8000/8000 [00:03<00:00, 2634.83draws/s]\n",
      "Auto-assigning NUTS sampler...\n",
      "Initializing NUTS using jitter+adapt_diag...\n"
     ]
    },
    {
     "name": "stdout",
     "output_type": "stream",
     "text": [
      "542031-542022-54424517\n"
     ]
    },
    {
     "name": "stderr",
     "output_type": "stream",
     "text": [
      "Multiprocess sampling (2 chains in 2 jobs)\n",
      "NUTS: [logk]\n",
      "Sampling 2 chains: 100%|██████████| 8000/8000 [00:03<00:00, 2263.68draws/s]\n",
      "The number of effective samples is smaller than 25% for some parameters.\n",
      "Auto-assigning NUTS sampler...\n",
      "Initializing NUTS using jitter+adapt_diag...\n"
     ]
    },
    {
     "name": "stdout",
     "output_type": "stream",
     "text": [
      "542031-542022-54425056\n"
     ]
    },
    {
     "name": "stderr",
     "output_type": "stream",
     "text": [
      "Multiprocess sampling (2 chains in 2 jobs)\n",
      "NUTS: [logk]\n",
      "Sampling 2 chains: 100%|██████████| 8000/8000 [00:03<00:00, 2229.29draws/s]\n",
      "The number of effective samples is smaller than 25% for some parameters.\n",
      "Auto-assigning NUTS sampler...\n",
      "Initializing NUTS using jitter+adapt_diag...\n"
     ]
    },
    {
     "name": "stdout",
     "output_type": "stream",
     "text": [
      "542031-542022-54424992\n"
     ]
    },
    {
     "name": "stderr",
     "output_type": "stream",
     "text": [
      "Multiprocess sampling (2 chains in 2 jobs)\n",
      "NUTS: [logk]\n",
      "Sampling 2 chains: 100%|██████████| 8000/8000 [00:03<00:00, 2538.03draws/s]\n",
      "Auto-assigning NUTS sampler...\n",
      "Initializing NUTS using jitter+adapt_diag...\n"
     ]
    },
    {
     "name": "stdout",
     "output_type": "stream",
     "text": [
      "542031-542022-54425332\n"
     ]
    },
    {
     "name": "stderr",
     "output_type": "stream",
     "text": [
      "Multiprocess sampling (2 chains in 2 jobs)\n",
      "NUTS: [logk]\n",
      "Sampling 2 chains: 100%|██████████| 8000/8000 [00:03<00:00, 2364.70draws/s]\n",
      "The number of effective samples is smaller than 25% for some parameters.\n",
      "Auto-assigning NUTS sampler...\n",
      "Initializing NUTS using jitter+adapt_diag...\n"
     ]
    },
    {
     "name": "stdout",
     "output_type": "stream",
     "text": [
      "542031-542022-54425463\n"
     ]
    },
    {
     "name": "stderr",
     "output_type": "stream",
     "text": [
      "Multiprocess sampling (2 chains in 2 jobs)\n",
      "NUTS: [logk]\n",
      "Sampling 2 chains: 100%|██████████| 8000/8000 [00:03<00:00, 2492.93draws/s]\n",
      "Auto-assigning NUTS sampler...\n",
      "Initializing NUTS using jitter+adapt_diag...\n"
     ]
    },
    {
     "name": "stdout",
     "output_type": "stream",
     "text": [
      "542031-542022-54425545\n"
     ]
    },
    {
     "name": "stderr",
     "output_type": "stream",
     "text": [
      "Multiprocess sampling (2 chains in 2 jobs)\n",
      "NUTS: [logk]\n",
      "Sampling 2 chains: 100%|██████████| 8000/8000 [00:03<00:00, 2467.82draws/s]\n",
      "Auto-assigning NUTS sampler...\n",
      "Initializing NUTS using jitter+adapt_diag...\n"
     ]
    },
    {
     "name": "stdout",
     "output_type": "stream",
     "text": [
      "542031-542022-54425873\n"
     ]
    },
    {
     "name": "stderr",
     "output_type": "stream",
     "text": [
      "Multiprocess sampling (2 chains in 2 jobs)\n",
      "NUTS: [logk]\n",
      "Sampling 2 chains: 100%|██████████| 8000/8000 [00:03<00:00, 2478.49draws/s]\n",
      "Auto-assigning NUTS sampler...\n",
      "Initializing NUTS using jitter+adapt_diag...\n"
     ]
    },
    {
     "name": "stdout",
     "output_type": "stream",
     "text": [
      "542031-542022-54425648\n"
     ]
    },
    {
     "name": "stderr",
     "output_type": "stream",
     "text": [
      "Multiprocess sampling (2 chains in 2 jobs)\n",
      "NUTS: [logk]\n",
      "Sampling 2 chains: 100%|██████████| 8000/8000 [00:03<00:00, 2245.87draws/s]\n",
      "Auto-assigning NUTS sampler...\n",
      "Initializing NUTS using jitter+adapt_diag...\n"
     ]
    },
    {
     "name": "stdout",
     "output_type": "stream",
     "text": [
      "542031-542022-54426072\n"
     ]
    },
    {
     "name": "stderr",
     "output_type": "stream",
     "text": [
      "Multiprocess sampling (2 chains in 2 jobs)\n",
      "NUTS: [logk]\n",
      "Sampling 2 chains: 100%|██████████| 8000/8000 [00:04<00:00, 1991.40draws/s]\n",
      "Auto-assigning NUTS sampler...\n",
      "Initializing NUTS using jitter+adapt_diag...\n"
     ]
    },
    {
     "name": "stdout",
     "output_type": "stream",
     "text": [
      "542031-542022-54425883\n"
     ]
    },
    {
     "name": "stderr",
     "output_type": "stream",
     "text": [
      "Multiprocess sampling (2 chains in 2 jobs)\n",
      "NUTS: [logk]\n",
      "Sampling 2 chains: 100%|██████████| 8000/8000 [00:04<00:00, 1993.90draws/s]\n",
      "The number of effective samples is smaller than 25% for some parameters.\n",
      "Auto-assigning NUTS sampler...\n",
      "Initializing NUTS using jitter+adapt_diag...\n"
     ]
    },
    {
     "name": "stdout",
     "output_type": "stream",
     "text": [
      "542031-542022-54425982\n"
     ]
    },
    {
     "name": "stderr",
     "output_type": "stream",
     "text": [
      "Multiprocess sampling (2 chains in 2 jobs)\n",
      "NUTS: [logk]\n",
      "Sampling 2 chains: 100%|██████████| 8000/8000 [00:03<00:00, 2213.04draws/s]\n",
      "Auto-assigning NUTS sampler...\n",
      "Initializing NUTS using jitter+adapt_diag...\n"
     ]
    },
    {
     "name": "stdout",
     "output_type": "stream",
     "text": [
      "542031-542022-54426173\n"
     ]
    },
    {
     "name": "stderr",
     "output_type": "stream",
     "text": [
      "Multiprocess sampling (2 chains in 2 jobs)\n",
      "NUTS: [logk]\n",
      "Sampling 2 chains: 100%|██████████| 8000/8000 [00:03<00:00, 2518.86draws/s]\n",
      "Auto-assigning NUTS sampler...\n",
      "Initializing NUTS using jitter+adapt_diag...\n"
     ]
    },
    {
     "name": "stdout",
     "output_type": "stream",
     "text": [
      "542031-542022-54423913\n"
     ]
    },
    {
     "name": "stderr",
     "output_type": "stream",
     "text": [
      "Multiprocess sampling (2 chains in 2 jobs)\n",
      "NUTS: [logk]\n",
      "Sampling 2 chains: 100%|██████████| 8000/8000 [00:03<00:00, 2522.44draws/s]\n",
      "Auto-assigning NUTS sampler...\n",
      "Initializing NUTS using jitter+adapt_diag...\n"
     ]
    },
    {
     "name": "stdout",
     "output_type": "stream",
     "text": [
      "542031-542022-54426523\n"
     ]
    },
    {
     "name": "stderr",
     "output_type": "stream",
     "text": [
      "Multiprocess sampling (2 chains in 2 jobs)\n",
      "NUTS: [logk]\n",
      "Sampling 2 chains: 100%|██████████| 8000/8000 [00:03<00:00, 2306.53draws/s]\n",
      "Auto-assigning NUTS sampler...\n",
      "Initializing NUTS using jitter+adapt_diag...\n"
     ]
    },
    {
     "name": "stdout",
     "output_type": "stream",
     "text": [
      "542031-542022-54426531\n"
     ]
    },
    {
     "name": "stderr",
     "output_type": "stream",
     "text": [
      "Multiprocess sampling (2 chains in 2 jobs)\n",
      "NUTS: [logk]\n",
      "Sampling 2 chains: 100%|██████████| 8000/8000 [00:03<00:00, 2474.83draws/s]\n",
      "Auto-assigning NUTS sampler...\n",
      "Initializing NUTS using jitter+adapt_diag...\n"
     ]
    },
    {
     "name": "stdout",
     "output_type": "stream",
     "text": [
      "542031-542022-54426572\n"
     ]
    },
    {
     "name": "stderr",
     "output_type": "stream",
     "text": [
      "Multiprocess sampling (2 chains in 2 jobs)\n",
      "NUTS: [logk]\n",
      "Sampling 2 chains: 100%|██████████| 8000/8000 [00:03<00:00, 2491.11draws/s]\n",
      "Auto-assigning NUTS sampler...\n",
      "Initializing NUTS using jitter+adapt_diag...\n"
     ]
    },
    {
     "name": "stdout",
     "output_type": "stream",
     "text": [
      "542031-542022-54426989\n"
     ]
    },
    {
     "name": "stderr",
     "output_type": "stream",
     "text": [
      "Multiprocess sampling (2 chains in 2 jobs)\n",
      "NUTS: [logk]\n",
      "Sampling 2 chains: 100%|██████████| 8000/8000 [00:03<00:00, 2548.59draws/s]\n",
      "Auto-assigning NUTS sampler...\n",
      "Initializing NUTS using jitter+adapt_diag...\n"
     ]
    },
    {
     "name": "stdout",
     "output_type": "stream",
     "text": [
      "542031-542022-54427235\n"
     ]
    },
    {
     "name": "stderr",
     "output_type": "stream",
     "text": [
      "Multiprocess sampling (2 chains in 2 jobs)\n",
      "NUTS: [logk]\n",
      "Sampling 2 chains: 100%|██████████| 8000/8000 [00:03<00:00, 2354.58draws/s]\n",
      "The number of effective samples is smaller than 25% for some parameters.\n",
      "Auto-assigning NUTS sampler...\n",
      "Initializing NUTS using jitter+adapt_diag...\n"
     ]
    },
    {
     "name": "stdout",
     "output_type": "stream",
     "text": [
      "542031-542022-54427166\n"
     ]
    },
    {
     "name": "stderr",
     "output_type": "stream",
     "text": [
      "Multiprocess sampling (2 chains in 2 jobs)\n",
      "NUTS: [logk]\n",
      "Sampling 2 chains: 100%|██████████| 8000/8000 [00:03<00:00, 2306.69draws/s]\n",
      "The number of effective samples is smaller than 25% for some parameters.\n",
      "Auto-assigning NUTS sampler...\n",
      "Initializing NUTS using jitter+adapt_diag...\n"
     ]
    },
    {
     "name": "stdout",
     "output_type": "stream",
     "text": [
      "542031-542022-54427391\n"
     ]
    },
    {
     "name": "stderr",
     "output_type": "stream",
     "text": [
      "Multiprocess sampling (2 chains in 2 jobs)\n",
      "NUTS: [logk]\n",
      "Sampling 2 chains: 100%|██████████| 8000/8000 [00:03<00:00, 2452.96draws/s]\n",
      "Auto-assigning NUTS sampler...\n",
      "Initializing NUTS using jitter+adapt_diag...\n"
     ]
    },
    {
     "name": "stdout",
     "output_type": "stream",
     "text": [
      "542031-542022-54427134\n"
     ]
    },
    {
     "name": "stderr",
     "output_type": "stream",
     "text": [
      "Multiprocess sampling (2 chains in 2 jobs)\n",
      "NUTS: [logk]\n",
      "Sampling 2 chains: 100%|██████████| 8000/8000 [00:03<00:00, 2464.74draws/s]\n",
      "Auto-assigning NUTS sampler...\n",
      "Initializing NUTS using jitter+adapt_diag...\n"
     ]
    },
    {
     "name": "stdout",
     "output_type": "stream",
     "text": [
      "542031-542022-54427686\n"
     ]
    },
    {
     "name": "stderr",
     "output_type": "stream",
     "text": [
      "Multiprocess sampling (2 chains in 2 jobs)\n",
      "NUTS: [logk]\n",
      "Sampling 2 chains: 100%|██████████| 8000/8000 [00:03<00:00, 2441.77draws/s]\n",
      "Auto-assigning NUTS sampler...\n",
      "Initializing NUTS using jitter+adapt_diag...\n"
     ]
    },
    {
     "name": "stdout",
     "output_type": "stream",
     "text": [
      "542031-542022-54427512\n"
     ]
    },
    {
     "name": "stderr",
     "output_type": "stream",
     "text": [
      "Multiprocess sampling (2 chains in 2 jobs)\n",
      "NUTS: [logk]\n",
      "Sampling 2 chains: 100%|██████████| 8000/8000 [00:03<00:00, 2400.63draws/s]\n",
      "The number of effective samples is smaller than 25% for some parameters.\n",
      "Auto-assigning NUTS sampler...\n",
      "Initializing NUTS using jitter+adapt_diag...\n"
     ]
    },
    {
     "name": "stdout",
     "output_type": "stream",
     "text": [
      "542031-542022-54427526\n"
     ]
    },
    {
     "name": "stderr",
     "output_type": "stream",
     "text": [
      "Multiprocess sampling (2 chains in 2 jobs)\n",
      "NUTS: [logk]\n",
      "Sampling 2 chains: 100%|██████████| 8000/8000 [00:03<00:00, 2288.95draws/s]\n",
      "The number of effective samples is smaller than 25% for some parameters.\n",
      "Auto-assigning NUTS sampler...\n",
      "Initializing NUTS using jitter+adapt_diag...\n"
     ]
    },
    {
     "name": "stdout",
     "output_type": "stream",
     "text": [
      "542031-542022-54428455\n"
     ]
    },
    {
     "name": "stderr",
     "output_type": "stream",
     "text": [
      "Multiprocess sampling (2 chains in 2 jobs)\n",
      "NUTS: [logk]\n",
      "Sampling 2 chains: 100%|██████████| 8000/8000 [00:03<00:00, 2276.45draws/s]\n",
      "The number of effective samples is smaller than 25% for some parameters.\n",
      "Auto-assigning NUTS sampler...\n",
      "Initializing NUTS using jitter+adapt_diag...\n"
     ]
    },
    {
     "name": "stdout",
     "output_type": "stream",
     "text": [
      "542031-542022-54428199\n"
     ]
    },
    {
     "name": "stderr",
     "output_type": "stream",
     "text": [
      "Multiprocess sampling (2 chains in 2 jobs)\n",
      "NUTS: [logk]\n",
      "Sampling 2 chains: 100%|██████████| 8000/8000 [00:03<00:00, 2302.58draws/s]\n",
      "The number of effective samples is smaller than 25% for some parameters.\n",
      "Auto-assigning NUTS sampler...\n",
      "Initializing NUTS using jitter+adapt_diag...\n"
     ]
    },
    {
     "name": "stdout",
     "output_type": "stream",
     "text": [
      "542031-542022-54427244\n"
     ]
    },
    {
     "name": "stderr",
     "output_type": "stream",
     "text": [
      "Multiprocess sampling (2 chains in 2 jobs)\n",
      "NUTS: [logk]\n",
      "Sampling 2 chains: 100%|██████████| 8000/8000 [00:03<00:00, 2304.79draws/s]\n",
      "The number of effective samples is smaller than 25% for some parameters.\n",
      "Auto-assigning NUTS sampler...\n",
      "Initializing NUTS using jitter+adapt_diag...\n"
     ]
    },
    {
     "name": "stdout",
     "output_type": "stream",
     "text": [
      "542031-542022-54428897\n"
     ]
    },
    {
     "name": "stderr",
     "output_type": "stream",
     "text": [
      "Multiprocess sampling (2 chains in 2 jobs)\n",
      "NUTS: [logk]\n",
      "Sampling 2 chains: 100%|██████████| 8000/8000 [00:03<00:00, 2313.79draws/s]\n",
      "The number of effective samples is smaller than 25% for some parameters.\n",
      "Auto-assigning NUTS sampler...\n",
      "Initializing NUTS using jitter+adapt_diag...\n"
     ]
    },
    {
     "name": "stdout",
     "output_type": "stream",
     "text": [
      "542031-542022-54428864\n"
     ]
    },
    {
     "name": "stderr",
     "output_type": "stream",
     "text": [
      "Multiprocess sampling (2 chains in 2 jobs)\n",
      "NUTS: [logk]\n",
      "Sampling 2 chains: 100%|██████████| 8000/8000 [00:03<00:00, 2320.48draws/s]\n",
      "The number of effective samples is smaller than 25% for some parameters.\n",
      "Auto-assigning NUTS sampler...\n",
      "Initializing NUTS using jitter+adapt_diag...\n"
     ]
    },
    {
     "name": "stdout",
     "output_type": "stream",
     "text": [
      "542031-542022-54429712\n"
     ]
    },
    {
     "name": "stderr",
     "output_type": "stream",
     "text": [
      "Multiprocess sampling (2 chains in 2 jobs)\n",
      "NUTS: [logk]\n",
      "Sampling 2 chains: 100%|██████████| 8000/8000 [00:03<00:00, 2574.40draws/s]\n",
      "Auto-assigning NUTS sampler...\n",
      "Initializing NUTS using jitter+adapt_diag...\n"
     ]
    },
    {
     "name": "stdout",
     "output_type": "stream",
     "text": [
      "542031-542022-54429343\n"
     ]
    },
    {
     "name": "stderr",
     "output_type": "stream",
     "text": [
      "Multiprocess sampling (2 chains in 2 jobs)\n",
      "NUTS: [logk]\n",
      "Sampling 2 chains: 100%|██████████| 8000/8000 [00:03<00:00, 2231.69draws/s]\n",
      "Auto-assigning NUTS sampler...\n",
      "Initializing NUTS using jitter+adapt_diag...\n"
     ]
    },
    {
     "name": "stdout",
     "output_type": "stream",
     "text": [
      "542031-542022-54429752\n"
     ]
    },
    {
     "name": "stderr",
     "output_type": "stream",
     "text": [
      "Multiprocess sampling (2 chains in 2 jobs)\n",
      "NUTS: [logk]\n",
      "Sampling 2 chains: 100%|██████████| 8000/8000 [00:03<00:00, 2428.10draws/s]\n",
      "The acceptance probability does not match the target. It is 0.8915249067583969, but should be close to 0.95. Try to increase the number of tuning steps.\n",
      "The number of effective samples is smaller than 25% for some parameters.\n",
      "Auto-assigning NUTS sampler...\n",
      "Initializing NUTS using jitter+adapt_diag...\n"
     ]
    },
    {
     "name": "stdout",
     "output_type": "stream",
     "text": [
      "542031-542022-54429256\n"
     ]
    },
    {
     "name": "stderr",
     "output_type": "stream",
     "text": [
      "Multiprocess sampling (2 chains in 2 jobs)\n",
      "NUTS: [logk]\n",
      "Sampling 2 chains: 100%|██████████| 8000/8000 [00:02<00:00, 2678.69draws/s]\n",
      "Auto-assigning NUTS sampler...\n",
      "Initializing NUTS using jitter+adapt_diag...\n"
     ]
    },
    {
     "name": "stdout",
     "output_type": "stream",
     "text": [
      "542031-542022-54430357\n"
     ]
    },
    {
     "name": "stderr",
     "output_type": "stream",
     "text": [
      "Multiprocess sampling (2 chains in 2 jobs)\n",
      "NUTS: [logk]\n",
      "Sampling 2 chains: 100%|██████████| 8000/8000 [00:03<00:00, 2477.05draws/s]\n",
      "Auto-assigning NUTS sampler...\n",
      "Initializing NUTS using jitter+adapt_diag...\n"
     ]
    },
    {
     "name": "stdout",
     "output_type": "stream",
     "text": [
      "542031-542022-54430479\n"
     ]
    },
    {
     "name": "stderr",
     "output_type": "stream",
     "text": [
      "Multiprocess sampling (2 chains in 2 jobs)\n",
      "NUTS: [logk]\n",
      "Sampling 2 chains: 100%|██████████| 8000/8000 [00:03<00:00, 2389.02draws/s]\n",
      "The number of effective samples is smaller than 25% for some parameters.\n",
      "Auto-assigning NUTS sampler...\n",
      "Initializing NUTS using jitter+adapt_diag...\n"
     ]
    },
    {
     "name": "stdout",
     "output_type": "stream",
     "text": [
      "542031-542022-54430308\n"
     ]
    },
    {
     "name": "stderr",
     "output_type": "stream",
     "text": [
      "Multiprocess sampling (2 chains in 2 jobs)\n",
      "NUTS: [logk]\n",
      "Sampling 2 chains: 100%|██████████| 8000/8000 [00:04<00:00, 1947.57draws/s]\n",
      "The gelman-rubin statistic is larger than 1.4 for some parameters. The sampler did not converge.\n",
      "The estimated number of effective samples is smaller than 200 for some parameters.\n",
      "Auto-assigning NUTS sampler...\n",
      "Initializing NUTS using jitter+adapt_diag...\n"
     ]
    },
    {
     "name": "stdout",
     "output_type": "stream",
     "text": [
      "542031-542022-54430865\n"
     ]
    },
    {
     "name": "stderr",
     "output_type": "stream",
     "text": [
      "Multiprocess sampling (2 chains in 2 jobs)\n",
      "NUTS: [logk]\n",
      "Sampling 2 chains: 100%|██████████| 8000/8000 [00:03<00:00, 2093.72draws/s]\n",
      "The number of effective samples is smaller than 25% for some parameters.\n",
      "Auto-assigning NUTS sampler...\n",
      "Initializing NUTS using jitter+adapt_diag...\n"
     ]
    },
    {
     "name": "stdout",
     "output_type": "stream",
     "text": [
      "542031-542022-54430652\n"
     ]
    },
    {
     "name": "stderr",
     "output_type": "stream",
     "text": [
      "Multiprocess sampling (2 chains in 2 jobs)\n",
      "NUTS: [logk]\n",
      "Sampling 2 chains: 100%|██████████| 8000/8000 [00:04<00:00, 1969.68draws/s]\n",
      "The number of effective samples is smaller than 25% for some parameters.\n",
      "Auto-assigning NUTS sampler...\n",
      "Initializing NUTS using jitter+adapt_diag...\n"
     ]
    },
    {
     "name": "stdout",
     "output_type": "stream",
     "text": [
      "542031-542022-54430992\n"
     ]
    },
    {
     "name": "stderr",
     "output_type": "stream",
     "text": [
      "Multiprocess sampling (2 chains in 2 jobs)\n",
      "NUTS: [logk]\n",
      "Sampling 2 chains: 100%|██████████| 8000/8000 [00:03<00:00, 2292.29draws/s]\n",
      "The number of effective samples is smaller than 25% for some parameters.\n",
      "Auto-assigning NUTS sampler...\n",
      "Initializing NUTS using jitter+adapt_diag...\n"
     ]
    },
    {
     "name": "stdout",
     "output_type": "stream",
     "text": [
      "542031-542022-54431151\n"
     ]
    },
    {
     "name": "stderr",
     "output_type": "stream",
     "text": [
      "Multiprocess sampling (2 chains in 2 jobs)\n",
      "NUTS: [logk]\n",
      "Sampling 2 chains: 100%|██████████| 8000/8000 [00:03<00:00, 2113.33draws/s]\n",
      "The number of effective samples is smaller than 25% for some parameters.\n",
      "Auto-assigning NUTS sampler...\n",
      "Initializing NUTS using jitter+adapt_diag...\n"
     ]
    },
    {
     "name": "stdout",
     "output_type": "stream",
     "text": [
      "542031-542022-54431383\n"
     ]
    },
    {
     "name": "stderr",
     "output_type": "stream",
     "text": [
      "Multiprocess sampling (2 chains in 2 jobs)\n",
      "NUTS: [logk]\n",
      "Sampling 2 chains: 100%|██████████| 8000/8000 [00:03<00:00, 2059.20draws/s]\n",
      "The number of effective samples is smaller than 25% for some parameters.\n",
      "Auto-assigning NUTS sampler...\n",
      "Initializing NUTS using jitter+adapt_diag...\n"
     ]
    },
    {
     "name": "stdout",
     "output_type": "stream",
     "text": [
      "542031-542022-54432130\n"
     ]
    },
    {
     "name": "stderr",
     "output_type": "stream",
     "text": [
      "Multiprocess sampling (2 chains in 2 jobs)\n",
      "NUTS: [logk]\n",
      "Sampling 2 chains: 100%|██████████| 8000/8000 [00:03<00:00, 2166.62draws/s]\n",
      "The number of effective samples is smaller than 25% for some parameters.\n",
      "Auto-assigning NUTS sampler...\n",
      "Initializing NUTS using jitter+adapt_diag...\n"
     ]
    },
    {
     "name": "stdout",
     "output_type": "stream",
     "text": [
      "542031-542022-54432272\n"
     ]
    },
    {
     "name": "stderr",
     "output_type": "stream",
     "text": [
      "Multiprocess sampling (2 chains in 2 jobs)\n",
      "NUTS: [logk]\n",
      "Sampling 2 chains: 100%|██████████| 8000/8000 [00:03<00:00, 2234.36draws/s]\n",
      "Auto-assigning NUTS sampler...\n",
      "Initializing NUTS using jitter+adapt_diag...\n"
     ]
    },
    {
     "name": "stdout",
     "output_type": "stream",
     "text": [
      "542031-542022-54432924\n"
     ]
    },
    {
     "name": "stderr",
     "output_type": "stream",
     "text": [
      "Multiprocess sampling (2 chains in 2 jobs)\n",
      "NUTS: [logk]\n",
      "Sampling 2 chains: 100%|██████████| 8000/8000 [00:03<00:00, 2444.68draws/s]\n",
      "Auto-assigning NUTS sampler...\n",
      "Initializing NUTS using jitter+adapt_diag...\n"
     ]
    },
    {
     "name": "stdout",
     "output_type": "stream",
     "text": [
      "542031-542022-54432851\n"
     ]
    },
    {
     "name": "stderr",
     "output_type": "stream",
     "text": [
      "Multiprocess sampling (2 chains in 2 jobs)\n",
      "NUTS: [logk]\n",
      "Sampling 2 chains: 100%|██████████| 8000/8000 [00:03<00:00, 2171.10draws/s]\n",
      "Auto-assigning NUTS sampler...\n",
      "Initializing NUTS using jitter+adapt_diag...\n"
     ]
    },
    {
     "name": "stdout",
     "output_type": "stream",
     "text": [
      "542031-542022-54433155\n"
     ]
    },
    {
     "name": "stderr",
     "output_type": "stream",
     "text": [
      "Multiprocess sampling (2 chains in 2 jobs)\n",
      "NUTS: [logk]\n",
      "Sampling 2 chains: 100%|██████████| 8000/8000 [00:03<00:00, 2521.05draws/s]\n",
      "The acceptance probability does not match the target. It is 0.8808360797462217, but should be close to 0.95. Try to increase the number of tuning steps.\n",
      "Auto-assigning NUTS sampler...\n",
      "Initializing NUTS using jitter+adapt_diag...\n"
     ]
    },
    {
     "name": "stdout",
     "output_type": "stream",
     "text": [
      "542031-542022-54433773\n"
     ]
    },
    {
     "name": "stderr",
     "output_type": "stream",
     "text": [
      "Multiprocess sampling (2 chains in 2 jobs)\n",
      "NUTS: [logk]\n",
      "Sampling 2 chains: 100%|██████████| 8000/8000 [00:03<00:00, 2342.70draws/s]\n",
      "The number of effective samples is smaller than 25% for some parameters.\n",
      "Auto-assigning NUTS sampler...\n",
      "Initializing NUTS using jitter+adapt_diag...\n"
     ]
    },
    {
     "name": "stdout",
     "output_type": "stream",
     "text": [
      "542031-542022-54434126\n"
     ]
    },
    {
     "name": "stderr",
     "output_type": "stream",
     "text": [
      "Multiprocess sampling (2 chains in 2 jobs)\n",
      "NUTS: [logk]\n",
      "Sampling 2 chains: 100%|██████████| 8000/8000 [00:03<00:00, 2244.78draws/s]\n",
      "The number of effective samples is smaller than 25% for some parameters.\n",
      "Auto-assigning NUTS sampler...\n",
      "Initializing NUTS using jitter+adapt_diag...\n"
     ]
    },
    {
     "name": "stdout",
     "output_type": "stream",
     "text": [
      "542031-542022-54434603\n"
     ]
    },
    {
     "name": "stderr",
     "output_type": "stream",
     "text": [
      "Multiprocess sampling (2 chains in 2 jobs)\n",
      "NUTS: [logk]\n",
      "Sampling 2 chains: 100%|██████████| 8000/8000 [00:03<00:00, 2398.16draws/s]\n",
      "The number of effective samples is smaller than 25% for some parameters.\n",
      "Auto-assigning NUTS sampler...\n",
      "Initializing NUTS using jitter+adapt_diag...\n"
     ]
    },
    {
     "name": "stdout",
     "output_type": "stream",
     "text": [
      "542031-542022-54435428\n"
     ]
    },
    {
     "name": "stderr",
     "output_type": "stream",
     "text": [
      "Multiprocess sampling (2 chains in 2 jobs)\n",
      "NUTS: [logk]\n",
      "Sampling 2 chains: 100%|██████████| 8000/8000 [00:03<00:00, 2186.40draws/s]\n",
      "The number of effective samples is smaller than 25% for some parameters.\n",
      "Auto-assigning NUTS sampler...\n",
      "Initializing NUTS using jitter+adapt_diag...\n"
     ]
    },
    {
     "name": "stdout",
     "output_type": "stream",
     "text": [
      "542031-542022-54435596\n"
     ]
    },
    {
     "name": "stderr",
     "output_type": "stream",
     "text": [
      "Multiprocess sampling (2 chains in 2 jobs)\n",
      "NUTS: [logk]\n",
      "Sampling 2 chains: 100%|██████████| 8000/8000 [00:03<00:00, 2162.76draws/s]\n",
      "The number of effective samples is smaller than 25% for some parameters.\n",
      "Auto-assigning NUTS sampler...\n",
      "Initializing NUTS using jitter+adapt_diag...\n"
     ]
    },
    {
     "name": "stdout",
     "output_type": "stream",
     "text": [
      "542031-542022-54435479\n"
     ]
    },
    {
     "name": "stderr",
     "output_type": "stream",
     "text": [
      "Multiprocess sampling (2 chains in 2 jobs)\n",
      "NUTS: [logk]\n",
      "Sampling 2 chains: 100%|██████████| 8000/8000 [00:03<00:00, 2017.99draws/s]\n",
      "The number of effective samples is smaller than 25% for some parameters.\n",
      "Auto-assigning NUTS sampler...\n",
      "Initializing NUTS using jitter+adapt_diag...\n"
     ]
    },
    {
     "name": "stdout",
     "output_type": "stream",
     "text": [
      "542031-542022-54435725\n"
     ]
    },
    {
     "name": "stderr",
     "output_type": "stream",
     "text": [
      "Multiprocess sampling (2 chains in 2 jobs)\n",
      "NUTS: [logk]\n",
      "Sampling 2 chains: 100%|██████████| 8000/8000 [00:03<00:00, 2310.78draws/s]\n",
      "Auto-assigning NUTS sampler...\n",
      "Initializing NUTS using jitter+adapt_diag...\n"
     ]
    },
    {
     "name": "stdout",
     "output_type": "stream",
     "text": [
      "542031-542022-54436548\n"
     ]
    },
    {
     "name": "stderr",
     "output_type": "stream",
     "text": [
      "Multiprocess sampling (2 chains in 2 jobs)\n",
      "NUTS: [logk]\n",
      "Sampling 2 chains: 100%|██████████| 8000/8000 [00:03<00:00, 2194.41draws/s]\n",
      "The number of effective samples is smaller than 25% for some parameters.\n",
      "Auto-assigning NUTS sampler...\n",
      "Initializing NUTS using jitter+adapt_diag...\n"
     ]
    },
    {
     "name": "stdout",
     "output_type": "stream",
     "text": [
      "542031-542022-54436926\n"
     ]
    },
    {
     "name": "stderr",
     "output_type": "stream",
     "text": [
      "Multiprocess sampling (2 chains in 2 jobs)\n",
      "NUTS: [logk]\n",
      "Sampling 2 chains: 100%|██████████| 8000/8000 [00:03<00:00, 2241.75draws/s]\n",
      "Auto-assigning NUTS sampler...\n",
      "Initializing NUTS using jitter+adapt_diag...\n"
     ]
    },
    {
     "name": "stdout",
     "output_type": "stream",
     "text": [
      "542031-542022-54436511\n"
     ]
    },
    {
     "name": "stderr",
     "output_type": "stream",
     "text": [
      "Multiprocess sampling (2 chains in 2 jobs)\n",
      "NUTS: [logk]\n",
      "Sampling 2 chains: 100%|██████████| 8000/8000 [00:04<00:00, 1751.67draws/s]\n",
      "Auto-assigning NUTS sampler...\n",
      "Initializing NUTS using jitter+adapt_diag...\n"
     ]
    },
    {
     "name": "stdout",
     "output_type": "stream",
     "text": [
      "542031-542022-54437414\n"
     ]
    },
    {
     "name": "stderr",
     "output_type": "stream",
     "text": [
      "Multiprocess sampling (2 chains in 2 jobs)\n",
      "NUTS: [logk]\n",
      "Sampling 2 chains: 100%|██████████| 8000/8000 [00:03<00:00, 2303.00draws/s]\n",
      "Auto-assigning NUTS sampler...\n",
      "Initializing NUTS using jitter+adapt_diag...\n"
     ]
    },
    {
     "name": "stdout",
     "output_type": "stream",
     "text": [
      "542031-542022-54437619\n"
     ]
    },
    {
     "name": "stderr",
     "output_type": "stream",
     "text": [
      "Multiprocess sampling (2 chains in 2 jobs)\n",
      "NUTS: [logk]\n",
      "Sampling 2 chains: 100%|██████████| 8000/8000 [00:04<00:00, 1806.09draws/s]\n",
      "The number of effective samples is smaller than 25% for some parameters.\n",
      "Auto-assigning NUTS sampler...\n",
      "Initializing NUTS using jitter+adapt_diag...\n"
     ]
    },
    {
     "name": "stdout",
     "output_type": "stream",
     "text": [
      "542031-542022-54438262\n"
     ]
    },
    {
     "name": "stderr",
     "output_type": "stream",
     "text": [
      "Multiprocess sampling (2 chains in 2 jobs)\n",
      "NUTS: [logk]\n",
      "Sampling 2 chains: 100%|██████████| 8000/8000 [00:03<00:00, 2444.30draws/s]\n",
      "Auto-assigning NUTS sampler...\n",
      "Initializing NUTS using jitter+adapt_diag...\n"
     ]
    },
    {
     "name": "stdout",
     "output_type": "stream",
     "text": [
      "542031-542022-54438392\n"
     ]
    },
    {
     "name": "stderr",
     "output_type": "stream",
     "text": [
      "Multiprocess sampling (2 chains in 2 jobs)\n",
      "NUTS: [logk]\n",
      "Sampling 2 chains: 100%|██████████| 8000/8000 [00:03<00:00, 2415.49draws/s]\n",
      "The number of effective samples is smaller than 25% for some parameters.\n",
      "Auto-assigning NUTS sampler...\n",
      "Initializing NUTS using jitter+adapt_diag...\n"
     ]
    },
    {
     "name": "stdout",
     "output_type": "stream",
     "text": [
      "542031-542022-54437629\n"
     ]
    },
    {
     "name": "stderr",
     "output_type": "stream",
     "text": [
      "Multiprocess sampling (2 chains in 2 jobs)\n",
      "NUTS: [logk]\n",
      "Sampling 2 chains: 100%|██████████| 8000/8000 [00:03<00:00, 2336.59draws/s]\n",
      "The number of effective samples is smaller than 25% for some parameters.\n",
      "Auto-assigning NUTS sampler...\n",
      "Initializing NUTS using jitter+adapt_diag...\n"
     ]
    },
    {
     "name": "stdout",
     "output_type": "stream",
     "text": [
      "542031-542022-54438961\n"
     ]
    },
    {
     "name": "stderr",
     "output_type": "stream",
     "text": [
      "Multiprocess sampling (2 chains in 2 jobs)\n",
      "NUTS: [logk]\n",
      "Sampling 2 chains: 100%|██████████| 8000/8000 [00:03<00:00, 2096.69draws/s]\n",
      "The number of effective samples is smaller than 25% for some parameters.\n",
      "Auto-assigning NUTS sampler...\n",
      "Initializing NUTS using jitter+adapt_diag...\n"
     ]
    },
    {
     "name": "stdout",
     "output_type": "stream",
     "text": [
      "542031-542022-54439085\n"
     ]
    },
    {
     "name": "stderr",
     "output_type": "stream",
     "text": [
      "Multiprocess sampling (2 chains in 2 jobs)\n",
      "NUTS: [logk]\n",
      "Sampling 2 chains: 100%|██████████| 8000/8000 [00:04<00:00, 1879.49draws/s]\n",
      "The number of effective samples is smaller than 25% for some parameters.\n",
      "Auto-assigning NUTS sampler...\n",
      "Initializing NUTS using jitter+adapt_diag...\n"
     ]
    },
    {
     "name": "stdout",
     "output_type": "stream",
     "text": [
      "542031-542022-54439540\n"
     ]
    },
    {
     "name": "stderr",
     "output_type": "stream",
     "text": [
      "Multiprocess sampling (2 chains in 2 jobs)\n",
      "NUTS: [logk]\n",
      "Sampling 2 chains: 100%|██████████| 8000/8000 [00:03<00:00, 2335.95draws/s]\n",
      "Auto-assigning NUTS sampler...\n",
      "Initializing NUTS using jitter+adapt_diag...\n"
     ]
    },
    {
     "name": "stdout",
     "output_type": "stream",
     "text": [
      "542031-542022-54439630\n"
     ]
    },
    {
     "name": "stderr",
     "output_type": "stream",
     "text": [
      "Multiprocess sampling (2 chains in 2 jobs)\n",
      "NUTS: [logk]\n",
      "Sampling 2 chains: 100%|██████████| 8000/8000 [00:03<00:00, 2265.48draws/s]\n",
      "Auto-assigning NUTS sampler...\n",
      "Initializing NUTS using jitter+adapt_diag...\n"
     ]
    },
    {
     "name": "stdout",
     "output_type": "stream",
     "text": [
      "542031-542022-54439638\n"
     ]
    },
    {
     "name": "stderr",
     "output_type": "stream",
     "text": [
      "Multiprocess sampling (2 chains in 2 jobs)\n",
      "NUTS: [logk]\n",
      "Sampling 2 chains: 100%|██████████| 8000/8000 [00:03<00:00, 2234.93draws/s]\n",
      "The number of effective samples is smaller than 25% for some parameters.\n",
      "Auto-assigning NUTS sampler...\n",
      "Initializing NUTS using jitter+adapt_diag...\n"
     ]
    },
    {
     "name": "stdout",
     "output_type": "stream",
     "text": [
      "542031-542022-54440009\n"
     ]
    },
    {
     "name": "stderr",
     "output_type": "stream",
     "text": [
      "Multiprocess sampling (2 chains in 2 jobs)\n",
      "NUTS: [logk]\n",
      "Sampling 2 chains: 100%|██████████| 8000/8000 [00:03<00:00, 2379.25draws/s]\n",
      "The number of effective samples is smaller than 25% for some parameters.\n",
      "Auto-assigning NUTS sampler...\n",
      "Initializing NUTS using jitter+adapt_diag...\n"
     ]
    },
    {
     "name": "stdout",
     "output_type": "stream",
     "text": [
      "542031-542022-54440344\n"
     ]
    },
    {
     "name": "stderr",
     "output_type": "stream",
     "text": [
      "Multiprocess sampling (2 chains in 2 jobs)\n",
      "NUTS: [logk]\n",
      "Sampling 2 chains: 100%|██████████| 8000/8000 [00:03<00:00, 2054.92draws/s]\n",
      "The number of effective samples is smaller than 25% for some parameters.\n",
      "Auto-assigning NUTS sampler...\n",
      "Initializing NUTS using jitter+adapt_diag...\n"
     ]
    },
    {
     "name": "stdout",
     "output_type": "stream",
     "text": [
      "542031-542022-54440436\n"
     ]
    },
    {
     "name": "stderr",
     "output_type": "stream",
     "text": [
      "Multiprocess sampling (2 chains in 2 jobs)\n",
      "NUTS: [logk]\n",
      "Sampling 2 chains: 100%|██████████| 8000/8000 [00:03<00:00, 2426.88draws/s]\n",
      "Auto-assigning NUTS sampler...\n",
      "Initializing NUTS using jitter+adapt_diag...\n"
     ]
    },
    {
     "name": "stdout",
     "output_type": "stream",
     "text": [
      "542031-542022-54440828\n"
     ]
    },
    {
     "name": "stderr",
     "output_type": "stream",
     "text": [
      "Multiprocess sampling (2 chains in 2 jobs)\n",
      "NUTS: [logk]\n",
      "Sampling 2 chains: 100%|██████████| 8000/8000 [00:03<00:00, 2414.91draws/s]\n",
      "Auto-assigning NUTS sampler...\n",
      "Initializing NUTS using jitter+adapt_diag...\n"
     ]
    },
    {
     "name": "stdout",
     "output_type": "stream",
     "text": [
      "542031-542022-54440919\n"
     ]
    },
    {
     "name": "stderr",
     "output_type": "stream",
     "text": [
      "Multiprocess sampling (2 chains in 2 jobs)\n",
      "NUTS: [logk]\n",
      "Sampling 2 chains: 100%|██████████| 8000/8000 [00:03<00:00, 2070.66draws/s]\n",
      "The number of effective samples is smaller than 25% for some parameters.\n",
      "Auto-assigning NUTS sampler...\n",
      "Initializing NUTS using jitter+adapt_diag...\n"
     ]
    },
    {
     "name": "stdout",
     "output_type": "stream",
     "text": [
      "542031-542022-54441623\n"
     ]
    },
    {
     "name": "stderr",
     "output_type": "stream",
     "text": [
      "Multiprocess sampling (2 chains in 2 jobs)\n",
      "NUTS: [logk]\n",
      "Sampling 2 chains: 100%|██████████| 8000/8000 [00:03<00:00, 2202.63draws/s]\n",
      "The number of effective samples is smaller than 25% for some parameters.\n",
      "Auto-assigning NUTS sampler...\n",
      "Initializing NUTS using jitter+adapt_diag...\n"
     ]
    },
    {
     "name": "stdout",
     "output_type": "stream",
     "text": [
      "542031-542022-54441655\n"
     ]
    },
    {
     "name": "stderr",
     "output_type": "stream",
     "text": [
      "Multiprocess sampling (2 chains in 2 jobs)\n",
      "NUTS: [logk]\n",
      "Sampling 2 chains: 100%|██████████| 8000/8000 [00:03<00:00, 2235.42draws/s]\n",
      "Auto-assigning NUTS sampler...\n",
      "Initializing NUTS using jitter+adapt_diag...\n"
     ]
    },
    {
     "name": "stdout",
     "output_type": "stream",
     "text": [
      "542031-542022-54441905\n"
     ]
    },
    {
     "name": "stderr",
     "output_type": "stream",
     "text": [
      "Multiprocess sampling (2 chains in 2 jobs)\n",
      "NUTS: [logk]\n",
      "Sampling 2 chains: 100%|██████████| 8000/8000 [00:03<00:00, 2100.15draws/s]\n",
      "Auto-assigning NUTS sampler...\n",
      "Initializing NUTS using jitter+adapt_diag...\n"
     ]
    },
    {
     "name": "stdout",
     "output_type": "stream",
     "text": [
      "542031-542022-54441991\n"
     ]
    },
    {
     "name": "stderr",
     "output_type": "stream",
     "text": [
      "Multiprocess sampling (2 chains in 2 jobs)\n",
      "NUTS: [logk]\n",
      "Sampling 2 chains: 100%|██████████| 8000/8000 [00:03<00:00, 2217.28draws/s]\n",
      "The acceptance probability does not match the target. It is 0.7599141849786788, but should be close to 0.95. Try to increase the number of tuning steps.\n",
      "The number of effective samples is smaller than 25% for some parameters.\n",
      "Auto-assigning NUTS sampler...\n",
      "Initializing NUTS using jitter+adapt_diag...\n"
     ]
    },
    {
     "name": "stdout",
     "output_type": "stream",
     "text": [
      "542031-542022-54442032\n"
     ]
    },
    {
     "name": "stderr",
     "output_type": "stream",
     "text": [
      "Multiprocess sampling (2 chains in 2 jobs)\n",
      "NUTS: [logk]\n",
      "Sampling 2 chains: 100%|██████████| 8000/8000 [00:03<00:00, 2167.22draws/s]\n",
      "The number of effective samples is smaller than 25% for some parameters.\n",
      "Auto-assigning NUTS sampler...\n",
      "Initializing NUTS using jitter+adapt_diag...\n"
     ]
    },
    {
     "name": "stdout",
     "output_type": "stream",
     "text": [
      "542031-542022-54442795\n"
     ]
    },
    {
     "name": "stderr",
     "output_type": "stream",
     "text": [
      "Multiprocess sampling (2 chains in 2 jobs)\n",
      "NUTS: [logk]\n",
      "Sampling 2 chains: 100%|██████████| 8000/8000 [00:03<00:00, 2233.59draws/s]\n",
      "The number of effective samples is smaller than 25% for some parameters.\n",
      "Auto-assigning NUTS sampler...\n",
      "Initializing NUTS using jitter+adapt_diag...\n"
     ]
    },
    {
     "name": "stdout",
     "output_type": "stream",
     "text": [
      "542031-542022-54442940\n"
     ]
    },
    {
     "name": "stderr",
     "output_type": "stream",
     "text": [
      "Multiprocess sampling (2 chains in 2 jobs)\n",
      "NUTS: [logk]\n",
      "Sampling 2 chains: 100%|██████████| 8000/8000 [00:03<00:00, 2251.70draws/s]\n",
      "The number of effective samples is smaller than 25% for some parameters.\n",
      "Auto-assigning NUTS sampler...\n",
      "Initializing NUTS using jitter+adapt_diag...\n"
     ]
    },
    {
     "name": "stdout",
     "output_type": "stream",
     "text": [
      "542031-542022-54443072\n"
     ]
    },
    {
     "name": "stderr",
     "output_type": "stream",
     "text": [
      "Multiprocess sampling (2 chains in 2 jobs)\n",
      "NUTS: [logk]\n",
      "Sampling 2 chains: 100%|██████████| 8000/8000 [00:03<00:00, 2468.96draws/s]\n",
      "Auto-assigning NUTS sampler...\n",
      "Initializing NUTS using jitter+adapt_diag...\n"
     ]
    },
    {
     "name": "stdout",
     "output_type": "stream",
     "text": [
      "542031-542022-54443531\n"
     ]
    },
    {
     "name": "stderr",
     "output_type": "stream",
     "text": [
      "Multiprocess sampling (2 chains in 2 jobs)\n",
      "NUTS: [logk]\n",
      "Sampling 2 chains: 100%|██████████| 8000/8000 [00:03<00:00, 2261.56draws/s]\n",
      "The number of effective samples is smaller than 25% for some parameters.\n",
      "Auto-assigning NUTS sampler...\n",
      "Initializing NUTS using jitter+adapt_diag...\n"
     ]
    },
    {
     "name": "stdout",
     "output_type": "stream",
     "text": [
      "542031-542022-54444660\n"
     ]
    },
    {
     "name": "stderr",
     "output_type": "stream",
     "text": [
      "Multiprocess sampling (2 chains in 2 jobs)\n",
      "NUTS: [logk]\n",
      "Sampling 2 chains: 100%|██████████| 8000/8000 [00:03<00:00, 2444.84draws/s]\n",
      "Auto-assigning NUTS sampler...\n",
      "Initializing NUTS using jitter+adapt_diag...\n"
     ]
    },
    {
     "name": "stdout",
     "output_type": "stream",
     "text": [
      "542031-542022-54444589\n"
     ]
    },
    {
     "name": "stderr",
     "output_type": "stream",
     "text": [
      "Multiprocess sampling (2 chains in 2 jobs)\n",
      "NUTS: [logk]\n",
      "Sampling 2 chains: 100%|██████████| 8000/8000 [00:03<00:00, 2643.09draws/s]\n",
      "Auto-assigning NUTS sampler...\n",
      "Initializing NUTS using jitter+adapt_diag...\n"
     ]
    },
    {
     "name": "stdout",
     "output_type": "stream",
     "text": [
      "542031-542022-54446224\n"
     ]
    },
    {
     "name": "stderr",
     "output_type": "stream",
     "text": [
      "Multiprocess sampling (2 chains in 2 jobs)\n",
      "NUTS: [logk]\n",
      "Sampling 2 chains: 100%|██████████| 8000/8000 [00:03<00:00, 2168.09draws/s]\n",
      "The number of effective samples is smaller than 25% for some parameters.\n",
      "Auto-assigning NUTS sampler...\n",
      "Initializing NUTS using jitter+adapt_diag...\n"
     ]
    },
    {
     "name": "stdout",
     "output_type": "stream",
     "text": [
      "542031-542022-54451721\n"
     ]
    },
    {
     "name": "stderr",
     "output_type": "stream",
     "text": [
      "Multiprocess sampling (2 chains in 2 jobs)\n",
      "NUTS: [logk]\n",
      "Sampling 2 chains: 100%|██████████| 8000/8000 [00:03<00:00, 2247.16draws/s]\n",
      "The number of effective samples is smaller than 25% for some parameters.\n",
      "Auto-assigning NUTS sampler...\n",
      "Initializing NUTS using jitter+adapt_diag...\n"
     ]
    },
    {
     "name": "stdout",
     "output_type": "stream",
     "text": [
      "542031-542022-54454279\n"
     ]
    },
    {
     "name": "stderr",
     "output_type": "stream",
     "text": [
      "Multiprocess sampling (2 chains in 2 jobs)\n",
      "NUTS: [logk]\n",
      "Sampling 2 chains: 100%|██████████| 8000/8000 [00:03<00:00, 2455.32draws/s]\n",
      "Auto-assigning NUTS sampler...\n",
      "Initializing NUTS using jitter+adapt_diag...\n"
     ]
    },
    {
     "name": "stdout",
     "output_type": "stream",
     "text": [
      "542031-542022-54454476\n"
     ]
    },
    {
     "name": "stderr",
     "output_type": "stream",
     "text": [
      "Multiprocess sampling (2 chains in 2 jobs)\n",
      "NUTS: [logk]\n",
      "Sampling 2 chains: 100%|██████████| 8000/8000 [00:03<00:00, 2474.03draws/s]\n",
      "Auto-assigning NUTS sampler...\n",
      "Initializing NUTS using jitter+adapt_diag...\n"
     ]
    },
    {
     "name": "stdout",
     "output_type": "stream",
     "text": [
      "542031-542022-54455274\n"
     ]
    },
    {
     "name": "stderr",
     "output_type": "stream",
     "text": [
      "Multiprocess sampling (2 chains in 2 jobs)\n",
      "NUTS: [logk]\n",
      "Sampling 2 chains: 100%|██████████| 8000/8000 [00:03<00:00, 2509.45draws/s]\n",
      "Auto-assigning NUTS sampler...\n",
      "Initializing NUTS using jitter+adapt_diag...\n"
     ]
    },
    {
     "name": "stdout",
     "output_type": "stream",
     "text": [
      "542031-542022-54456734\n"
     ]
    },
    {
     "name": "stderr",
     "output_type": "stream",
     "text": [
      "Multiprocess sampling (2 chains in 2 jobs)\n",
      "NUTS: [logk]\n",
      "Sampling 2 chains: 100%|██████████| 8000/8000 [00:03<00:00, 2224.68draws/s]\n",
      "The number of effective samples is smaller than 25% for some parameters.\n",
      "Auto-assigning NUTS sampler...\n",
      "Initializing NUTS using jitter+adapt_diag...\n"
     ]
    },
    {
     "name": "stdout",
     "output_type": "stream",
     "text": [
      "542031-542022-54459306\n"
     ]
    },
    {
     "name": "stderr",
     "output_type": "stream",
     "text": [
      "Multiprocess sampling (2 chains in 2 jobs)\n",
      "NUTS: [logk]\n",
      "Sampling 2 chains: 100%|██████████| 8000/8000 [00:03<00:00, 2466.00draws/s]\n",
      "Auto-assigning NUTS sampler...\n",
      "Initializing NUTS using jitter+adapt_diag...\n"
     ]
    },
    {
     "name": "stdout",
     "output_type": "stream",
     "text": [
      "542031-542022-54460298\n"
     ]
    },
    {
     "name": "stderr",
     "output_type": "stream",
     "text": [
      "Multiprocess sampling (2 chains in 2 jobs)\n",
      "NUTS: [logk]\n",
      "Sampling 2 chains: 100%|██████████| 8000/8000 [00:04<00:00, 1914.41draws/s]\n",
      "The number of effective samples is smaller than 25% for some parameters.\n",
      "Auto-assigning NUTS sampler...\n",
      "Initializing NUTS using jitter+adapt_diag...\n"
     ]
    },
    {
     "name": "stdout",
     "output_type": "stream",
     "text": [
      "542031-542022-54460321\n"
     ]
    },
    {
     "name": "stderr",
     "output_type": "stream",
     "text": [
      "Multiprocess sampling (2 chains in 2 jobs)\n",
      "NUTS: [logk]\n",
      "Sampling 2 chains: 100%|██████████| 8000/8000 [00:03<00:00, 2169.98draws/s]\n",
      "Auto-assigning NUTS sampler...\n",
      "Initializing NUTS using jitter+adapt_diag...\n"
     ]
    },
    {
     "name": "stdout",
     "output_type": "stream",
     "text": [
      "542031-542022-54461176\n"
     ]
    },
    {
     "name": "stderr",
     "output_type": "stream",
     "text": [
      "Multiprocess sampling (2 chains in 2 jobs)\n",
      "NUTS: [logk]\n",
      "Sampling 2 chains: 100%|██████████| 8000/8000 [00:03<00:00, 2372.19draws/s]\n",
      "Auto-assigning NUTS sampler...\n",
      "Initializing NUTS using jitter+adapt_diag...\n"
     ]
    },
    {
     "name": "stdout",
     "output_type": "stream",
     "text": [
      "542031-542022-54461775\n"
     ]
    },
    {
     "name": "stderr",
     "output_type": "stream",
     "text": [
      "Multiprocess sampling (2 chains in 2 jobs)\n",
      "NUTS: [logk]\n",
      "Sampling 2 chains: 100%|██████████| 8000/8000 [00:03<00:00, 2198.50draws/s]\n",
      "The number of effective samples is smaller than 25% for some parameters.\n",
      "Auto-assigning NUTS sampler...\n",
      "Initializing NUTS using jitter+adapt_diag...\n"
     ]
    },
    {
     "name": "stdout",
     "output_type": "stream",
     "text": [
      "542031-542022-54461024\n"
     ]
    },
    {
     "name": "stderr",
     "output_type": "stream",
     "text": [
      "Multiprocess sampling (2 chains in 2 jobs)\n",
      "NUTS: [logk]\n",
      "Sampling 2 chains: 100%|██████████| 8000/8000 [00:03<00:00, 2289.36draws/s]\n",
      "The number of effective samples is smaller than 25% for some parameters.\n",
      "Auto-assigning NUTS sampler...\n",
      "Initializing NUTS using jitter+adapt_diag...\n"
     ]
    },
    {
     "name": "stdout",
     "output_type": "stream",
     "text": [
      "542031-542022-54468558\n"
     ]
    },
    {
     "name": "stderr",
     "output_type": "stream",
     "text": [
      "Multiprocess sampling (2 chains in 2 jobs)\n",
      "NUTS: [logk]\n",
      "Sampling 2 chains: 100%|██████████| 8000/8000 [00:03<00:00, 2173.29draws/s]\n",
      "The number of effective samples is smaller than 25% for some parameters.\n",
      "Auto-assigning NUTS sampler...\n",
      "Initializing NUTS using jitter+adapt_diag...\n"
     ]
    },
    {
     "name": "stdout",
     "output_type": "stream",
     "text": [
      "542031-542022-54468555\n"
     ]
    },
    {
     "name": "stderr",
     "output_type": "stream",
     "text": [
      "Multiprocess sampling (2 chains in 2 jobs)\n",
      "NUTS: [logk]\n",
      "Sampling 2 chains: 100%|██████████| 8000/8000 [00:03<00:00, 2403.06draws/s]\n",
      "Auto-assigning NUTS sampler...\n",
      "Initializing NUTS using jitter+adapt_diag...\n"
     ]
    },
    {
     "name": "stdout",
     "output_type": "stream",
     "text": [
      "542031-542022-54471479\n"
     ]
    },
    {
     "name": "stderr",
     "output_type": "stream",
     "text": [
      "Multiprocess sampling (2 chains in 2 jobs)\n",
      "NUTS: [logk]\n",
      "Sampling 2 chains: 100%|██████████| 8000/8000 [00:03<00:00, 2607.28draws/s]\n",
      "Auto-assigning NUTS sampler...\n",
      "Initializing NUTS using jitter+adapt_diag...\n"
     ]
    },
    {
     "name": "stdout",
     "output_type": "stream",
     "text": [
      "542031-542022-54472515\n"
     ]
    },
    {
     "name": "stderr",
     "output_type": "stream",
     "text": [
      "Multiprocess sampling (2 chains in 2 jobs)\n",
      "NUTS: [logk]\n",
      "Sampling 2 chains: 100%|██████████| 8000/8000 [00:03<00:00, 2522.01draws/s]\n",
      "The number of effective samples is smaller than 25% for some parameters.\n",
      "Auto-assigning NUTS sampler...\n",
      "Initializing NUTS using jitter+adapt_diag...\n"
     ]
    },
    {
     "name": "stdout",
     "output_type": "stream",
     "text": [
      "542031-542022-54473481\n"
     ]
    },
    {
     "name": "stderr",
     "output_type": "stream",
     "text": [
      "Multiprocess sampling (2 chains in 2 jobs)\n",
      "NUTS: [logk]\n",
      "Sampling 2 chains: 100%|██████████| 8000/8000 [00:03<00:00, 2217.54draws/s]\n",
      "The number of effective samples is smaller than 25% for some parameters.\n",
      "Auto-assigning NUTS sampler...\n",
      "Initializing NUTS using jitter+adapt_diag...\n"
     ]
    },
    {
     "name": "stdout",
     "output_type": "stream",
     "text": [
      "542031-542022-54473260\n"
     ]
    },
    {
     "name": "stderr",
     "output_type": "stream",
     "text": [
      "Multiprocess sampling (2 chains in 2 jobs)\n",
      "NUTS: [logk]\n",
      "Sampling 2 chains: 100%|██████████| 8000/8000 [00:03<00:00, 2447.55draws/s]\n",
      "Auto-assigning NUTS sampler...\n",
      "Initializing NUTS using jitter+adapt_diag...\n"
     ]
    },
    {
     "name": "stdout",
     "output_type": "stream",
     "text": [
      "542031-542022-54473928\n"
     ]
    },
    {
     "name": "stderr",
     "output_type": "stream",
     "text": [
      "Multiprocess sampling (2 chains in 2 jobs)\n",
      "NUTS: [logk]\n",
      "Sampling 2 chains: 100%|██████████| 8000/8000 [00:03<00:00, 2502.47draws/s]\n",
      "Auto-assigning NUTS sampler...\n",
      "Initializing NUTS using jitter+adapt_diag...\n"
     ]
    },
    {
     "name": "stdout",
     "output_type": "stream",
     "text": [
      "542031-542022-54474310\n"
     ]
    },
    {
     "name": "stderr",
     "output_type": "stream",
     "text": [
      "Multiprocess sampling (2 chains in 2 jobs)\n",
      "NUTS: [logk]\n",
      "Sampling 2 chains: 100%|██████████| 8000/8000 [00:03<00:00, 2425.85draws/s]\n",
      "The number of effective samples is smaller than 25% for some parameters.\n",
      "Auto-assigning NUTS sampler...\n",
      "Initializing NUTS using jitter+adapt_diag...\n"
     ]
    },
    {
     "name": "stdout",
     "output_type": "stream",
     "text": [
      "542031-542022-54474125\n"
     ]
    },
    {
     "name": "stderr",
     "output_type": "stream",
     "text": [
      "Multiprocess sampling (2 chains in 2 jobs)\n",
      "NUTS: [logk]\n",
      "Sampling 2 chains: 100%|██████████| 8000/8000 [00:03<00:00, 2482.94draws/s]\n",
      "Auto-assigning NUTS sampler...\n",
      "Initializing NUTS using jitter+adapt_diag...\n"
     ]
    },
    {
     "name": "stdout",
     "output_type": "stream",
     "text": [
      "542031-542022-54475073\n"
     ]
    },
    {
     "name": "stderr",
     "output_type": "stream",
     "text": [
      "Multiprocess sampling (2 chains in 2 jobs)\n",
      "NUTS: [logk]\n",
      "Sampling 2 chains: 100%|██████████| 8000/8000 [00:03<00:00, 2554.21draws/s]\n",
      "Auto-assigning NUTS sampler...\n",
      "Initializing NUTS using jitter+adapt_diag...\n"
     ]
    },
    {
     "name": "stdout",
     "output_type": "stream",
     "text": [
      "542031-542022-54476058\n"
     ]
    },
    {
     "name": "stderr",
     "output_type": "stream",
     "text": [
      "Multiprocess sampling (2 chains in 2 jobs)\n",
      "NUTS: [logk]\n",
      "Sampling 2 chains: 100%|██████████| 8000/8000 [00:03<00:00, 2157.17draws/s]\n",
      "The number of effective samples is smaller than 25% for some parameters.\n",
      "Auto-assigning NUTS sampler...\n",
      "Initializing NUTS using jitter+adapt_diag...\n"
     ]
    },
    {
     "name": "stdout",
     "output_type": "stream",
     "text": [
      "542031-542022-54475882\n"
     ]
    },
    {
     "name": "stderr",
     "output_type": "stream",
     "text": [
      "Multiprocess sampling (2 chains in 2 jobs)\n",
      "NUTS: [logk]\n",
      "Sampling 2 chains: 100%|██████████| 8000/8000 [00:03<00:00, 2061.16draws/s]\n",
      "The number of effective samples is smaller than 25% for some parameters.\n",
      "Auto-assigning NUTS sampler...\n",
      "Initializing NUTS using jitter+adapt_diag...\n"
     ]
    },
    {
     "name": "stdout",
     "output_type": "stream",
     "text": [
      "542031-542022-54472377\n"
     ]
    },
    {
     "name": "stderr",
     "output_type": "stream",
     "text": [
      "Multiprocess sampling (2 chains in 2 jobs)\n",
      "NUTS: [logk]\n",
      "Sampling 2 chains: 100%|██████████| 8000/8000 [00:03<00:00, 2374.08draws/s]\n",
      "Auto-assigning NUTS sampler...\n",
      "Initializing NUTS using jitter+adapt_diag...\n"
     ]
    },
    {
     "name": "stdout",
     "output_type": "stream",
     "text": [
      "542031-542022-54477523\n"
     ]
    },
    {
     "name": "stderr",
     "output_type": "stream",
     "text": [
      "Multiprocess sampling (2 chains in 2 jobs)\n",
      "NUTS: [logk]\n",
      "Sampling 2 chains: 100%|██████████| 8000/8000 [00:03<00:00, 2197.80draws/s]\n",
      "Auto-assigning NUTS sampler...\n",
      "Initializing NUTS using jitter+adapt_diag...\n"
     ]
    },
    {
     "name": "stdout",
     "output_type": "stream",
     "text": [
      "542031-542022-54477625\n"
     ]
    },
    {
     "name": "stderr",
     "output_type": "stream",
     "text": [
      "Multiprocess sampling (2 chains in 2 jobs)\n",
      "NUTS: [logk]\n",
      "Sampling 2 chains: 100%|██████████| 8000/8000 [00:03<00:00, 2372.76draws/s]\n",
      "Auto-assigning NUTS sampler...\n",
      "Initializing NUTS using jitter+adapt_diag...\n"
     ]
    },
    {
     "name": "stdout",
     "output_type": "stream",
     "text": [
      "542031-542022-54478004\n"
     ]
    },
    {
     "name": "stderr",
     "output_type": "stream",
     "text": [
      "Multiprocess sampling (2 chains in 2 jobs)\n",
      "NUTS: [logk]\n",
      "Sampling 2 chains: 100%|██████████| 8000/8000 [00:03<00:00, 2448.40draws/s]\n",
      "Auto-assigning NUTS sampler...\n",
      "Initializing NUTS using jitter+adapt_diag...\n"
     ]
    },
    {
     "name": "stdout",
     "output_type": "stream",
     "text": [
      "542031-542022-54477034\n"
     ]
    },
    {
     "name": "stderr",
     "output_type": "stream",
     "text": [
      "Multiprocess sampling (2 chains in 2 jobs)\n",
      "NUTS: [logk]\n",
      "Sampling 2 chains: 100%|██████████| 8000/8000 [00:03<00:00, 2423.63draws/s]\n",
      "Auto-assigning NUTS sampler...\n",
      "Initializing NUTS using jitter+adapt_diag...\n"
     ]
    },
    {
     "name": "stdout",
     "output_type": "stream",
     "text": [
      "542031-542022-54478376\n"
     ]
    },
    {
     "name": "stderr",
     "output_type": "stream",
     "text": [
      "Multiprocess sampling (2 chains in 2 jobs)\n",
      "NUTS: [logk]\n",
      "Sampling 2 chains: 100%|██████████| 8000/8000 [00:03<00:00, 2186.99draws/s]\n",
      "The number of effective samples is smaller than 25% for some parameters.\n",
      "Auto-assigning NUTS sampler...\n",
      "Initializing NUTS using jitter+adapt_diag...\n"
     ]
    },
    {
     "name": "stdout",
     "output_type": "stream",
     "text": [
      "542031-542022-54478877\n"
     ]
    },
    {
     "name": "stderr",
     "output_type": "stream",
     "text": [
      "Multiprocess sampling (2 chains in 2 jobs)\n",
      "NUTS: [logk]\n",
      "Sampling 2 chains: 100%|██████████| 8000/8000 [00:03<00:00, 2555.89draws/s]\n",
      "Auto-assigning NUTS sampler...\n",
      "Initializing NUTS using jitter+adapt_diag...\n"
     ]
    },
    {
     "name": "stdout",
     "output_type": "stream",
     "text": [
      "542031-542022-54479514\n"
     ]
    },
    {
     "name": "stderr",
     "output_type": "stream",
     "text": [
      "Multiprocess sampling (2 chains in 2 jobs)\n",
      "NUTS: [logk]\n",
      "Sampling 2 chains: 100%|██████████| 8000/8000 [00:03<00:00, 2421.29draws/s]\n",
      "Auto-assigning NUTS sampler...\n",
      "Initializing NUTS using jitter+adapt_diag...\n"
     ]
    },
    {
     "name": "stdout",
     "output_type": "stream",
     "text": [
      "542031-542022-54479422\n"
     ]
    },
    {
     "name": "stderr",
     "output_type": "stream",
     "text": [
      "Multiprocess sampling (2 chains in 2 jobs)\n",
      "NUTS: [logk]\n",
      "Sampling 2 chains: 100%|██████████| 8000/8000 [00:03<00:00, 2465.21draws/s]\n",
      "Auto-assigning NUTS sampler...\n",
      "Initializing NUTS using jitter+adapt_diag...\n"
     ]
    },
    {
     "name": "stdout",
     "output_type": "stream",
     "text": [
      "542031-542022-54477335\n"
     ]
    },
    {
     "name": "stderr",
     "output_type": "stream",
     "text": [
      "Multiprocess sampling (2 chains in 2 jobs)\n",
      "NUTS: [logk]\n",
      "Sampling 2 chains: 100%|██████████| 8000/8000 [00:03<00:00, 2234.79draws/s]\n",
      "The acceptance probability does not match the target. It is 0.90421444385982, but should be close to 0.95. Try to increase the number of tuning steps.\n",
      "The number of effective samples is smaller than 25% for some parameters.\n",
      "Auto-assigning NUTS sampler...\n",
      "Initializing NUTS using jitter+adapt_diag...\n"
     ]
    },
    {
     "name": "stdout",
     "output_type": "stream",
     "text": [
      "542031-542022-54480565\n"
     ]
    },
    {
     "name": "stderr",
     "output_type": "stream",
     "text": [
      "Multiprocess sampling (2 chains in 2 jobs)\n",
      "NUTS: [logk]\n",
      "Sampling 2 chains: 100%|██████████| 8000/8000 [00:03<00:00, 2226.68draws/s]\n",
      "The number of effective samples is smaller than 25% for some parameters.\n",
      "Auto-assigning NUTS sampler...\n",
      "Initializing NUTS using jitter+adapt_diag...\n"
     ]
    },
    {
     "name": "stdout",
     "output_type": "stream",
     "text": [
      "542031-542022-54479476\n"
     ]
    },
    {
     "name": "stderr",
     "output_type": "stream",
     "text": [
      "Multiprocess sampling (2 chains in 2 jobs)\n",
      "NUTS: [logk]\n",
      "Sampling 2 chains: 100%|██████████| 8000/8000 [00:03<00:00, 2430.26draws/s]\n",
      "Auto-assigning NUTS sampler...\n",
      "Initializing NUTS using jitter+adapt_diag...\n"
     ]
    },
    {
     "name": "stdout",
     "output_type": "stream",
     "text": [
      "542031-542022-54480533\n"
     ]
    },
    {
     "name": "stderr",
     "output_type": "stream",
     "text": [
      "Multiprocess sampling (2 chains in 2 jobs)\n",
      "NUTS: [logk]\n",
      "Sampling 2 chains: 100%|██████████| 8000/8000 [00:03<00:00, 2108.12draws/s]\n",
      "Auto-assigning NUTS sampler...\n",
      "Initializing NUTS using jitter+adapt_diag...\n"
     ]
    },
    {
     "name": "stdout",
     "output_type": "stream",
     "text": [
      "542031-542022-54481574\n"
     ]
    },
    {
     "name": "stderr",
     "output_type": "stream",
     "text": [
      "Multiprocess sampling (2 chains in 2 jobs)\n",
      "NUTS: [logk]\n",
      "Sampling 2 chains: 100%|██████████| 8000/8000 [00:03<00:00, 2350.38draws/s]\n",
      "Auto-assigning NUTS sampler...\n",
      "Initializing NUTS using jitter+adapt_diag...\n"
     ]
    },
    {
     "name": "stdout",
     "output_type": "stream",
     "text": [
      "542031-542022-54482269\n"
     ]
    },
    {
     "name": "stderr",
     "output_type": "stream",
     "text": [
      "Multiprocess sampling (2 chains in 2 jobs)\n",
      "NUTS: [logk]\n",
      "Sampling 2 chains: 100%|██████████| 8000/8000 [00:03<00:00, 2458.22draws/s]\n",
      "Auto-assigning NUTS sampler...\n",
      "Initializing NUTS using jitter+adapt_diag...\n"
     ]
    },
    {
     "name": "stdout",
     "output_type": "stream",
     "text": [
      "542031-542022-54478339\n"
     ]
    },
    {
     "name": "stderr",
     "output_type": "stream",
     "text": [
      "Multiprocess sampling (2 chains in 2 jobs)\n",
      "NUTS: [logk]\n",
      "Sampling 2 chains: 100%|██████████| 8000/8000 [00:03<00:00, 2416.89draws/s]\n",
      "Auto-assigning NUTS sampler...\n",
      "Initializing NUTS using jitter+adapt_diag...\n"
     ]
    },
    {
     "name": "stdout",
     "output_type": "stream",
     "text": [
      "542031-542022-54482523\n"
     ]
    },
    {
     "name": "stderr",
     "output_type": "stream",
     "text": [
      "Multiprocess sampling (2 chains in 2 jobs)\n",
      "NUTS: [logk]\n",
      "Sampling 2 chains: 100%|██████████| 8000/8000 [00:03<00:00, 2088.91draws/s]\n",
      "The number of effective samples is smaller than 25% for some parameters.\n",
      "Auto-assigning NUTS sampler...\n",
      "Initializing NUTS using jitter+adapt_diag...\n"
     ]
    },
    {
     "name": "stdout",
     "output_type": "stream",
     "text": [
      "542031-542022-54483213\n"
     ]
    },
    {
     "name": "stderr",
     "output_type": "stream",
     "text": [
      "Multiprocess sampling (2 chains in 2 jobs)\n",
      "NUTS: [logk]\n",
      "Sampling 2 chains: 100%|██████████| 8000/8000 [00:03<00:00, 2289.59draws/s]\n",
      "Auto-assigning NUTS sampler...\n",
      "Initializing NUTS using jitter+adapt_diag...\n"
     ]
    },
    {
     "name": "stdout",
     "output_type": "stream",
     "text": [
      "542031-542022-54483135\n"
     ]
    },
    {
     "name": "stderr",
     "output_type": "stream",
     "text": [
      "Multiprocess sampling (2 chains in 2 jobs)\n",
      "NUTS: [logk]\n",
      "Sampling 2 chains: 100%|██████████| 8000/8000 [00:03<00:00, 2310.28draws/s]\n",
      "Auto-assigning NUTS sampler...\n",
      "Initializing NUTS using jitter+adapt_diag...\n"
     ]
    },
    {
     "name": "stdout",
     "output_type": "stream",
     "text": [
      "542031-542022-54483992\n"
     ]
    },
    {
     "name": "stderr",
     "output_type": "stream",
     "text": [
      "Multiprocess sampling (2 chains in 2 jobs)\n",
      "NUTS: [logk]\n",
      "Sampling 2 chains: 100%|██████████| 8000/8000 [00:03<00:00, 2415.29draws/s]\n",
      "Auto-assigning NUTS sampler...\n",
      "Initializing NUTS using jitter+adapt_diag...\n"
     ]
    },
    {
     "name": "stdout",
     "output_type": "stream",
     "text": [
      "542031-542022-54485527\n"
     ]
    },
    {
     "name": "stderr",
     "output_type": "stream",
     "text": [
      "Multiprocess sampling (2 chains in 2 jobs)\n",
      "NUTS: [logk]\n",
      "Sampling 2 chains: 100%|██████████| 8000/8000 [00:04<00:00, 1956.60draws/s]\n",
      "The number of effective samples is smaller than 25% for some parameters.\n",
      "Auto-assigning NUTS sampler...\n",
      "Initializing NUTS using jitter+adapt_diag...\n"
     ]
    },
    {
     "name": "stdout",
     "output_type": "stream",
     "text": [
      "542031-542022-54486575\n"
     ]
    },
    {
     "name": "stderr",
     "output_type": "stream",
     "text": [
      "Multiprocess sampling (2 chains in 2 jobs)\n",
      "NUTS: [logk]\n",
      "Sampling 2 chains: 100%|██████████| 8000/8000 [00:03<00:00, 2225.74draws/s]\n",
      "The number of effective samples is smaller than 25% for some parameters.\n",
      "Auto-assigning NUTS sampler...\n",
      "Initializing NUTS using jitter+adapt_diag...\n"
     ]
    },
    {
     "name": "stdout",
     "output_type": "stream",
     "text": [
      "542031-542022-54486883\n"
     ]
    },
    {
     "name": "stderr",
     "output_type": "stream",
     "text": [
      "Multiprocess sampling (2 chains in 2 jobs)\n",
      "NUTS: [logk]\n",
      "Sampling 2 chains: 100%|██████████| 8000/8000 [00:03<00:00, 2435.92draws/s]\n",
      "Auto-assigning NUTS sampler...\n",
      "Initializing NUTS using jitter+adapt_diag...\n"
     ]
    },
    {
     "name": "stdout",
     "output_type": "stream",
     "text": [
      "542031-542022-54487601\n"
     ]
    },
    {
     "name": "stderr",
     "output_type": "stream",
     "text": [
      "Multiprocess sampling (2 chains in 2 jobs)\n",
      "NUTS: [logk]\n",
      "Sampling 2 chains: 100%|██████████| 8000/8000 [00:03<00:00, 2409.59draws/s]\n",
      "Auto-assigning NUTS sampler...\n",
      "Initializing NUTS using jitter+adapt_diag...\n"
     ]
    },
    {
     "name": "stdout",
     "output_type": "stream",
     "text": [
      "542031-542022-54489550\n"
     ]
    },
    {
     "name": "stderr",
     "output_type": "stream",
     "text": [
      "Multiprocess sampling (2 chains in 2 jobs)\n",
      "NUTS: [logk]\n",
      "Sampling 2 chains: 100%|██████████| 8000/8000 [00:03<00:00, 2430.18draws/s]\n",
      "The number of effective samples is smaller than 25% for some parameters.\n",
      "Auto-assigning NUTS sampler...\n",
      "Initializing NUTS using jitter+adapt_diag...\n"
     ]
    },
    {
     "name": "stdout",
     "output_type": "stream",
     "text": [
      "542031-542022-54493695\n"
     ]
    },
    {
     "name": "stderr",
     "output_type": "stream",
     "text": [
      "Multiprocess sampling (2 chains in 2 jobs)\n",
      "NUTS: [logk]\n",
      "Sampling 2 chains: 100%|██████████| 8000/8000 [00:03<00:00, 2057.41draws/s]\n",
      "The number of effective samples is smaller than 25% for some parameters.\n",
      "Auto-assigning NUTS sampler...\n",
      "Initializing NUTS using jitter+adapt_diag...\n"
     ]
    },
    {
     "name": "stdout",
     "output_type": "stream",
     "text": [
      "542031-542022-54494211\n"
     ]
    },
    {
     "name": "stderr",
     "output_type": "stream",
     "text": [
      "Multiprocess sampling (2 chains in 2 jobs)\n",
      "NUTS: [logk]\n",
      "Sampling 2 chains: 100%|██████████| 8000/8000 [00:03<00:00, 2329.84draws/s]\n",
      "Auto-assigning NUTS sampler...\n",
      "Initializing NUTS using jitter+adapt_diag...\n"
     ]
    },
    {
     "name": "stdout",
     "output_type": "stream",
     "text": [
      "542031-542022-54498704\n"
     ]
    },
    {
     "name": "stderr",
     "output_type": "stream",
     "text": [
      "Multiprocess sampling (2 chains in 2 jobs)\n",
      "NUTS: [logk]\n",
      "Sampling 2 chains: 100%|██████████| 8000/8000 [00:03<00:00, 2535.04draws/s]\n",
      "Auto-assigning NUTS sampler...\n",
      "Initializing NUTS using jitter+adapt_diag...\n"
     ]
    },
    {
     "name": "stdout",
     "output_type": "stream",
     "text": [
      "542031-542022-54506075\n"
     ]
    },
    {
     "name": "stderr",
     "output_type": "stream",
     "text": [
      "Multiprocess sampling (2 chains in 2 jobs)\n",
      "NUTS: [logk]\n",
      "Sampling 2 chains: 100%|██████████| 8000/8000 [00:03<00:00, 2365.37draws/s]\n",
      "The number of effective samples is smaller than 25% for some parameters.\n",
      "Auto-assigning NUTS sampler...\n",
      "Initializing NUTS using jitter+adapt_diag...\n"
     ]
    },
    {
     "name": "stdout",
     "output_type": "stream",
     "text": [
      "542031-542022-54508695\n"
     ]
    },
    {
     "name": "stderr",
     "output_type": "stream",
     "text": [
      "Multiprocess sampling (2 chains in 2 jobs)\n",
      "NUTS: [logk]\n",
      "Sampling 2 chains: 100%|██████████| 8000/8000 [00:03<00:00, 2413.94draws/s]\n",
      "Auto-assigning NUTS sampler...\n",
      "Initializing NUTS using jitter+adapt_diag...\n"
     ]
    },
    {
     "name": "stdout",
     "output_type": "stream",
     "text": [
      "542031-542022-54527609\n"
     ]
    },
    {
     "name": "stderr",
     "output_type": "stream",
     "text": [
      "Multiprocess sampling (2 chains in 2 jobs)\n",
      "NUTS: [logk]\n",
      "Sampling 2 chains: 100%|██████████| 8000/8000 [00:03<00:00, 2246.34draws/s]\n",
      "The number of effective samples is smaller than 25% for some parameters.\n",
      "Auto-assigning NUTS sampler...\n",
      "Initializing NUTS using jitter+adapt_diag...\n"
     ]
    },
    {
     "name": "stdout",
     "output_type": "stream",
     "text": [
      "542031-542022-54557646\n"
     ]
    },
    {
     "name": "stderr",
     "output_type": "stream",
     "text": [
      "Multiprocess sampling (2 chains in 2 jobs)\n",
      "NUTS: [logk]\n",
      "Sampling 2 chains: 100%|██████████| 8000/8000 [00:03<00:00, 2464.11draws/s]\n",
      "Auto-assigning NUTS sampler...\n",
      "Initializing NUTS using jitter+adapt_diag...\n"
     ]
    },
    {
     "name": "stdout",
     "output_type": "stream",
     "text": [
      "542031-542022-54591794\n"
     ]
    },
    {
     "name": "stderr",
     "output_type": "stream",
     "text": [
      "Multiprocess sampling (2 chains in 2 jobs)\n",
      "NUTS: [logk]\n",
      "Sampling 2 chains: 100%|██████████| 8000/8000 [00:03<00:00, 2416.52draws/s]\n",
      "Auto-assigning NUTS sampler...\n",
      "Initializing NUTS using jitter+adapt_diag...\n"
     ]
    },
    {
     "name": "stdout",
     "output_type": "stream",
     "text": [
      "542031-542022-54593386\n"
     ]
    },
    {
     "name": "stderr",
     "output_type": "stream",
     "text": [
      "Multiprocess sampling (2 chains in 2 jobs)\n",
      "NUTS: [logk]\n",
      "Sampling 2 chains: 100%|██████████| 8000/8000 [00:03<00:00, 2313.49draws/s]\n",
      "Auto-assigning NUTS sampler...\n",
      "Initializing NUTS using jitter+adapt_diag...\n"
     ]
    },
    {
     "name": "stdout",
     "output_type": "stream",
     "text": [
      "542031-542022-54593579\n"
     ]
    },
    {
     "name": "stderr",
     "output_type": "stream",
     "text": [
      "Multiprocess sampling (2 chains in 2 jobs)\n",
      "NUTS: [logk]\n",
      "Sampling 2 chains: 100%|██████████| 8000/8000 [00:03<00:00, 2215.92draws/s]\n",
      "Auto-assigning NUTS sampler...\n",
      "Initializing NUTS using jitter+adapt_diag...\n"
     ]
    },
    {
     "name": "stdout",
     "output_type": "stream",
     "text": [
      "542031-542022-54595505\n"
     ]
    },
    {
     "name": "stderr",
     "output_type": "stream",
     "text": [
      "Multiprocess sampling (2 chains in 2 jobs)\n",
      "NUTS: [logk]\n",
      "Sampling 2 chains: 100%|██████████| 8000/8000 [00:03<00:00, 2240.68draws/s]\n",
      "Auto-assigning NUTS sampler...\n",
      "Initializing NUTS using jitter+adapt_diag...\n"
     ]
    },
    {
     "name": "stdout",
     "output_type": "stream",
     "text": [
      "542031-542022-54599793\n"
     ]
    },
    {
     "name": "stderr",
     "output_type": "stream",
     "text": [
      "Multiprocess sampling (2 chains in 2 jobs)\n",
      "NUTS: [logk]\n",
      "Sampling 2 chains: 100%|██████████| 8000/8000 [00:03<00:00, 2181.71draws/s]\n",
      "The number of effective samples is smaller than 25% for some parameters.\n",
      "Auto-assigning NUTS sampler...\n",
      "Initializing NUTS using jitter+adapt_diag...\n"
     ]
    },
    {
     "name": "stdout",
     "output_type": "stream",
     "text": [
      "542031-542022-54602960\n"
     ]
    },
    {
     "name": "stderr",
     "output_type": "stream",
     "text": [
      "Multiprocess sampling (2 chains in 2 jobs)\n",
      "NUTS: [logk]\n",
      "Sampling 2 chains: 100%|██████████| 8000/8000 [00:03<00:00, 2384.13draws/s]\n",
      "Auto-assigning NUTS sampler...\n",
      "Initializing NUTS using jitter+adapt_diag...\n"
     ]
    },
    {
     "name": "stdout",
     "output_type": "stream",
     "text": [
      "542031-542022-54603983\n"
     ]
    },
    {
     "name": "stderr",
     "output_type": "stream",
     "text": [
      "Multiprocess sampling (2 chains in 2 jobs)\n",
      "NUTS: [logk]\n",
      "Sampling 2 chains: 100%|██████████| 8000/8000 [00:03<00:00, 2392.90draws/s]\n",
      "Auto-assigning NUTS sampler...\n",
      "Initializing NUTS using jitter+adapt_diag...\n"
     ]
    },
    {
     "name": "stdout",
     "output_type": "stream",
     "text": [
      "542031-542022-54606826\n"
     ]
    },
    {
     "name": "stderr",
     "output_type": "stream",
     "text": [
      "Multiprocess sampling (2 chains in 2 jobs)\n",
      "NUTS: [logk]\n",
      "Sampling 2 chains: 100%|██████████| 8000/8000 [00:03<00:00, 2065.15draws/s]\n",
      "Auto-assigning NUTS sampler...\n",
      "Initializing NUTS using jitter+adapt_diag...\n"
     ]
    },
    {
     "name": "stdout",
     "output_type": "stream",
     "text": [
      "542031-542022-54609586\n"
     ]
    },
    {
     "name": "stderr",
     "output_type": "stream",
     "text": [
      "Multiprocess sampling (2 chains in 2 jobs)\n",
      "NUTS: [logk]\n",
      "Sampling 2 chains: 100%|██████████| 8000/8000 [00:03<00:00, 2214.02draws/s]\n",
      "Auto-assigning NUTS sampler...\n",
      "Initializing NUTS using jitter+adapt_diag...\n"
     ]
    },
    {
     "name": "stdout",
     "output_type": "stream",
     "text": [
      "542031-542022-54614153\n"
     ]
    },
    {
     "name": "stderr",
     "output_type": "stream",
     "text": [
      "Multiprocess sampling (2 chains in 2 jobs)\n",
      "NUTS: [logk]\n",
      "Sampling 2 chains: 100%|██████████| 8000/8000 [00:03<00:00, 2168.21draws/s]\n",
      "The number of effective samples is smaller than 25% for some parameters.\n",
      "Auto-assigning NUTS sampler...\n",
      "Initializing NUTS using jitter+adapt_diag...\n"
     ]
    },
    {
     "name": "stdout",
     "output_type": "stream",
     "text": [
      "542031-542022-54616716\n"
     ]
    },
    {
     "name": "stderr",
     "output_type": "stream",
     "text": [
      "Multiprocess sampling (2 chains in 2 jobs)\n",
      "NUTS: [logk]\n",
      "Sampling 2 chains: 100%|██████████| 8000/8000 [00:03<00:00, 2230.64draws/s]\n",
      "The acceptance probability does not match the target. It is 0.7599141849786788, but should be close to 0.95. Try to increase the number of tuning steps.\n",
      "The number of effective samples is smaller than 25% for some parameters.\n",
      "Auto-assigning NUTS sampler...\n",
      "Initializing NUTS using jitter+adapt_diag...\n"
     ]
    },
    {
     "name": "stdout",
     "output_type": "stream",
     "text": [
      "542031-542022-54625326\n"
     ]
    },
    {
     "name": "stderr",
     "output_type": "stream",
     "text": [
      "Multiprocess sampling (2 chains in 2 jobs)\n",
      "NUTS: [logk]\n",
      "Sampling 2 chains: 100%|██████████| 8000/8000 [00:03<00:00, 2221.18draws/s]\n",
      "The number of effective samples is smaller than 25% for some parameters.\n",
      "Auto-assigning NUTS sampler...\n",
      "Initializing NUTS using jitter+adapt_diag...\n"
     ]
    },
    {
     "name": "stdout",
     "output_type": "stream",
     "text": [
      "542031-542022-54630874\n"
     ]
    },
    {
     "name": "stderr",
     "output_type": "stream",
     "text": [
      "Multiprocess sampling (2 chains in 2 jobs)\n",
      "NUTS: [logk]\n",
      "Sampling 2 chains: 100%|██████████| 8000/8000 [00:03<00:00, 2231.08draws/s]\n",
      "The number of effective samples is smaller than 25% for some parameters.\n",
      "Auto-assigning NUTS sampler...\n",
      "Initializing NUTS using jitter+adapt_diag...\n"
     ]
    },
    {
     "name": "stdout",
     "output_type": "stream",
     "text": [
      "542031-542022-54635144\n"
     ]
    },
    {
     "name": "stderr",
     "output_type": "stream",
     "text": [
      "Multiprocess sampling (2 chains in 2 jobs)\n",
      "NUTS: [logk]\n",
      "Sampling 2 chains: 100%|██████████| 8000/8000 [00:03<00:00, 2295.88draws/s]\n",
      "Auto-assigning NUTS sampler...\n",
      "Initializing NUTS using jitter+adapt_diag...\n"
     ]
    },
    {
     "name": "stdout",
     "output_type": "stream",
     "text": [
      "542031-542022-54643679\n"
     ]
    },
    {
     "name": "stderr",
     "output_type": "stream",
     "text": [
      "Multiprocess sampling (2 chains in 2 jobs)\n",
      "NUTS: [logk]\n",
      "Sampling 2 chains: 100%|██████████| 8000/8000 [00:03<00:00, 2285.99draws/s]\n",
      "Auto-assigning NUTS sampler...\n",
      "Initializing NUTS using jitter+adapt_diag...\n"
     ]
    },
    {
     "name": "stdout",
     "output_type": "stream",
     "text": [
      "542031-542022-54732886\n"
     ]
    },
    {
     "name": "stderr",
     "output_type": "stream",
     "text": [
      "Multiprocess sampling (2 chains in 2 jobs)\n",
      "NUTS: [logk]\n",
      "Sampling 2 chains: 100%|██████████| 8000/8000 [00:03<00:00, 2292.08draws/s]\n",
      "Auto-assigning NUTS sampler...\n",
      "Initializing NUTS using jitter+adapt_diag...\n"
     ]
    },
    {
     "name": "stdout",
     "output_type": "stream",
     "text": [
      "542031-542022-54733113\n"
     ]
    },
    {
     "name": "stderr",
     "output_type": "stream",
     "text": [
      "Multiprocess sampling (2 chains in 2 jobs)\n",
      "NUTS: [logk]\n",
      "Sampling 2 chains: 100%|██████████| 8000/8000 [00:03<00:00, 2453.41draws/s]\n",
      "Auto-assigning NUTS sampler...\n",
      "Initializing NUTS using jitter+adapt_diag...\n"
     ]
    },
    {
     "name": "stdout",
     "output_type": "stream",
     "text": [
      "542031-542022-54733703\n"
     ]
    },
    {
     "name": "stderr",
     "output_type": "stream",
     "text": [
      "Multiprocess sampling (2 chains in 2 jobs)\n",
      "NUTS: [logk]\n",
      "Sampling 2 chains: 100%|██████████| 8000/8000 [00:03<00:00, 2274.30draws/s]\n",
      "The number of effective samples is smaller than 25% for some parameters.\n",
      "Auto-assigning NUTS sampler...\n",
      "Initializing NUTS using jitter+adapt_diag...\n"
     ]
    },
    {
     "name": "stdout",
     "output_type": "stream",
     "text": [
      "542031-542022-54733606\n"
     ]
    },
    {
     "name": "stderr",
     "output_type": "stream",
     "text": [
      "Multiprocess sampling (2 chains in 2 jobs)\n",
      "NUTS: [logk]\n",
      "Sampling 2 chains: 100%|██████████| 8000/8000 [00:03<00:00, 2352.16draws/s]\n",
      "The acceptance probability does not match the target. It is 0.8543010984323275, but should be close to 0.95. Try to increase the number of tuning steps.\n",
      "Auto-assigning NUTS sampler...\n",
      "Initializing NUTS using jitter+adapt_diag...\n"
     ]
    },
    {
     "name": "stdout",
     "output_type": "stream",
     "text": [
      "542031-542022-54734143\n"
     ]
    },
    {
     "name": "stderr",
     "output_type": "stream",
     "text": [
      "Multiprocess sampling (2 chains in 2 jobs)\n",
      "NUTS: [logk]\n",
      "Sampling 2 chains: 100%|██████████| 8000/8000 [00:03<00:00, 2428.84draws/s]\n",
      "Auto-assigning NUTS sampler...\n",
      "Initializing NUTS using jitter+adapt_diag...\n"
     ]
    },
    {
     "name": "stdout",
     "output_type": "stream",
     "text": [
      "542031-542022-54733652\n"
     ]
    },
    {
     "name": "stderr",
     "output_type": "stream",
     "text": [
      "Multiprocess sampling (2 chains in 2 jobs)\n",
      "NUTS: [logk]\n",
      "Sampling 2 chains: 100%|██████████| 8000/8000 [00:03<00:00, 2315.02draws/s]\n",
      "The number of effective samples is smaller than 25% for some parameters.\n",
      "Auto-assigning NUTS sampler...\n",
      "Initializing NUTS using jitter+adapt_diag...\n"
     ]
    },
    {
     "name": "stdout",
     "output_type": "stream",
     "text": [
      "542031-542022-54734330\n"
     ]
    },
    {
     "name": "stderr",
     "output_type": "stream",
     "text": [
      "Multiprocess sampling (2 chains in 2 jobs)\n",
      "NUTS: [logk]\n",
      "Sampling 2 chains: 100%|██████████| 8000/8000 [00:03<00:00, 2406.35draws/s]\n",
      "Auto-assigning NUTS sampler...\n",
      "Initializing NUTS using jitter+adapt_diag...\n"
     ]
    },
    {
     "name": "stdout",
     "output_type": "stream",
     "text": [
      "542031-542022-54734487\n"
     ]
    },
    {
     "name": "stderr",
     "output_type": "stream",
     "text": [
      "Multiprocess sampling (2 chains in 2 jobs)\n",
      "NUTS: [logk]\n",
      "Sampling 2 chains: 100%|██████████| 8000/8000 [00:03<00:00, 2435.07draws/s]\n",
      "Auto-assigning NUTS sampler...\n",
      "Initializing NUTS using jitter+adapt_diag...\n"
     ]
    },
    {
     "name": "stdout",
     "output_type": "stream",
     "text": [
      "542031-542022-54734664\n"
     ]
    },
    {
     "name": "stderr",
     "output_type": "stream",
     "text": [
      "Multiprocess sampling (2 chains in 2 jobs)\n",
      "NUTS: [logk]\n",
      "Sampling 2 chains: 100%|██████████| 8000/8000 [00:03<00:00, 2434.72draws/s]\n",
      "Auto-assigning NUTS sampler...\n",
      "Initializing NUTS using jitter+adapt_diag...\n"
     ]
    },
    {
     "name": "stdout",
     "output_type": "stream",
     "text": [
      "542031-542022-54735446\n"
     ]
    },
    {
     "name": "stderr",
     "output_type": "stream",
     "text": [
      "Multiprocess sampling (2 chains in 2 jobs)\n",
      "NUTS: [logk]\n",
      "Sampling 2 chains: 100%|██████████| 8000/8000 [00:03<00:00, 2478.37draws/s]\n",
      "Auto-assigning NUTS sampler...\n",
      "Initializing NUTS using jitter+adapt_diag...\n"
     ]
    },
    {
     "name": "stdout",
     "output_type": "stream",
     "text": [
      "542031-542022-54735391\n"
     ]
    },
    {
     "name": "stderr",
     "output_type": "stream",
     "text": [
      "Multiprocess sampling (2 chains in 2 jobs)\n",
      "NUTS: [logk]\n",
      "Sampling 2 chains: 100%|██████████| 8000/8000 [00:03<00:00, 2408.46draws/s]\n",
      "Auto-assigning NUTS sampler...\n",
      "Initializing NUTS using jitter+adapt_diag...\n"
     ]
    },
    {
     "name": "stdout",
     "output_type": "stream",
     "text": [
      "542031-542022-54735743\n"
     ]
    },
    {
     "name": "stderr",
     "output_type": "stream",
     "text": [
      "Multiprocess sampling (2 chains in 2 jobs)\n",
      "NUTS: [logk]\n",
      "Sampling 2 chains: 100%|██████████| 8000/8000 [00:03<00:00, 2389.21draws/s]\n",
      "Auto-assigning NUTS sampler...\n",
      "Initializing NUTS using jitter+adapt_diag...\n"
     ]
    },
    {
     "name": "stdout",
     "output_type": "stream",
     "text": [
      "542031-542022-54736649\n"
     ]
    },
    {
     "name": "stderr",
     "output_type": "stream",
     "text": [
      "Multiprocess sampling (2 chains in 2 jobs)\n",
      "NUTS: [logk]\n",
      "Sampling 2 chains: 100%|██████████| 8000/8000 [00:03<00:00, 2156.25draws/s]\n",
      "The number of effective samples is smaller than 25% for some parameters.\n",
      "Auto-assigning NUTS sampler...\n",
      "Initializing NUTS using jitter+adapt_diag...\n"
     ]
    },
    {
     "name": "stdout",
     "output_type": "stream",
     "text": [
      "542031-542022-54737358\n"
     ]
    },
    {
     "name": "stderr",
     "output_type": "stream",
     "text": [
      "Multiprocess sampling (2 chains in 2 jobs)\n",
      "NUTS: [logk]\n",
      "Sampling 2 chains: 100%|██████████| 8000/8000 [00:03<00:00, 2226.92draws/s]\n",
      "The number of effective samples is smaller than 25% for some parameters.\n",
      "Auto-assigning NUTS sampler...\n",
      "Initializing NUTS using jitter+adapt_diag...\n"
     ]
    },
    {
     "name": "stdout",
     "output_type": "stream",
     "text": [
      "542031-542022-54738310\n"
     ]
    },
    {
     "name": "stderr",
     "output_type": "stream",
     "text": [
      "Multiprocess sampling (2 chains in 2 jobs)\n",
      "NUTS: [logk]\n",
      "Sampling 2 chains: 100%|██████████| 8000/8000 [00:03<00:00, 2228.33draws/s]\n",
      "The acceptance probability does not match the target. It is 0.8918986299891415, but should be close to 0.95. Try to increase the number of tuning steps.\n",
      "The number of effective samples is smaller than 25% for some parameters.\n",
      "Auto-assigning NUTS sampler...\n",
      "Initializing NUTS using jitter+adapt_diag...\n"
     ]
    },
    {
     "name": "stdout",
     "output_type": "stream",
     "text": [
      "542031-542022-54738844\n"
     ]
    },
    {
     "name": "stderr",
     "output_type": "stream",
     "text": [
      "Multiprocess sampling (2 chains in 2 jobs)\n",
      "NUTS: [logk]\n",
      "Sampling 2 chains: 100%|██████████| 8000/8000 [00:03<00:00, 2496.38draws/s]\n",
      "The acceptance probability does not match the target. It is 0.8996293043692389, but should be close to 0.95. Try to increase the number of tuning steps.\n",
      "Auto-assigning NUTS sampler...\n",
      "Initializing NUTS using jitter+adapt_diag...\n"
     ]
    },
    {
     "name": "stdout",
     "output_type": "stream",
     "text": [
      "542031-542022-54739135\n"
     ]
    },
    {
     "name": "stderr",
     "output_type": "stream",
     "text": [
      "Multiprocess sampling (2 chains in 2 jobs)\n",
      "NUTS: [logk]\n",
      "Sampling 2 chains: 100%|██████████| 8000/8000 [00:03<00:00, 2258.77draws/s]\n",
      "The number of effective samples is smaller than 25% for some parameters.\n",
      "Auto-assigning NUTS sampler...\n",
      "Initializing NUTS using jitter+adapt_diag...\n"
     ]
    },
    {
     "name": "stdout",
     "output_type": "stream",
     "text": [
      "542031-542022-54738991\n"
     ]
    },
    {
     "name": "stderr",
     "output_type": "stream",
     "text": [
      "Multiprocess sampling (2 chains in 2 jobs)\n",
      "NUTS: [logk]\n",
      "Sampling 2 chains: 100%|██████████| 8000/8000 [00:03<00:00, 2395.83draws/s]\n",
      "Auto-assigning NUTS sampler...\n",
      "Initializing NUTS using jitter+adapt_diag...\n"
     ]
    },
    {
     "name": "stdout",
     "output_type": "stream",
     "text": [
      "542031-542022-54739268\n"
     ]
    },
    {
     "name": "stderr",
     "output_type": "stream",
     "text": [
      "Multiprocess sampling (2 chains in 2 jobs)\n",
      "NUTS: [logk]\n",
      "Sampling 2 chains: 100%|██████████| 8000/8000 [00:03<00:00, 2161.68draws/s]\n",
      "The number of effective samples is smaller than 25% for some parameters.\n",
      "Auto-assigning NUTS sampler...\n",
      "Initializing NUTS using jitter+adapt_diag...\n"
     ]
    },
    {
     "name": "stdout",
     "output_type": "stream",
     "text": [
      "542031-542022-54739698\n"
     ]
    },
    {
     "name": "stderr",
     "output_type": "stream",
     "text": [
      "Multiprocess sampling (2 chains in 2 jobs)\n",
      "NUTS: [logk]\n",
      "Sampling 2 chains: 100%|██████████| 8000/8000 [00:03<00:00, 2242.17draws/s]\n",
      "The number of effective samples is smaller than 25% for some parameters.\n",
      "Auto-assigning NUTS sampler...\n",
      "Initializing NUTS using jitter+adapt_diag...\n"
     ]
    },
    {
     "name": "stdout",
     "output_type": "stream",
     "text": [
      "542031-542022-54742020\n"
     ]
    },
    {
     "name": "stderr",
     "output_type": "stream",
     "text": [
      "Multiprocess sampling (2 chains in 2 jobs)\n",
      "NUTS: [logk]\n",
      "Sampling 2 chains: 100%|██████████| 8000/8000 [00:04<00:00, 1642.02draws/s]\n",
      "The acceptance probability does not match the target. It is 0.7599141849786788, but should be close to 0.95. Try to increase the number of tuning steps.\n",
      "The number of effective samples is smaller than 25% for some parameters.\n",
      "Auto-assigning NUTS sampler...\n",
      "Initializing NUTS using jitter+adapt_diag...\n"
     ]
    },
    {
     "name": "stdout",
     "output_type": "stream",
     "text": [
      "542031-542022-54744091\n"
     ]
    },
    {
     "name": "stderr",
     "output_type": "stream",
     "text": [
      "Multiprocess sampling (2 chains in 2 jobs)\n",
      "NUTS: [logk]\n",
      "Sampling 2 chains: 100%|██████████| 8000/8000 [00:03<00:00, 2142.64draws/s]\n",
      "The number of effective samples is smaller than 25% for some parameters.\n",
      "Auto-assigning NUTS sampler...\n",
      "Initializing NUTS using jitter+adapt_diag...\n"
     ]
    },
    {
     "name": "stdout",
     "output_type": "stream",
     "text": [
      "542031-542022-54744763\n"
     ]
    },
    {
     "name": "stderr",
     "output_type": "stream",
     "text": [
      "Multiprocess sampling (2 chains in 2 jobs)\n",
      "NUTS: [logk]\n",
      "Sampling 2 chains: 100%|██████████| 8000/8000 [00:03<00:00, 2368.51draws/s]\n",
      "Auto-assigning NUTS sampler...\n",
      "Initializing NUTS using jitter+adapt_diag...\n"
     ]
    },
    {
     "name": "stdout",
     "output_type": "stream",
     "text": [
      "542031-542022-54745766\n"
     ]
    },
    {
     "name": "stderr",
     "output_type": "stream",
     "text": [
      "Multiprocess sampling (2 chains in 2 jobs)\n",
      "NUTS: [logk]\n",
      "Sampling 2 chains: 100%|██████████| 8000/8000 [00:03<00:00, 2374.53draws/s]\n",
      "The number of effective samples is smaller than 25% for some parameters.\n",
      "Auto-assigning NUTS sampler...\n",
      "Initializing NUTS using jitter+adapt_diag...\n"
     ]
    },
    {
     "name": "stdout",
     "output_type": "stream",
     "text": [
      "542031-542022-54748066\n"
     ]
    },
    {
     "name": "stderr",
     "output_type": "stream",
     "text": [
      "Multiprocess sampling (2 chains in 2 jobs)\n",
      "NUTS: [logk]\n",
      "Sampling 2 chains: 100%|██████████| 8000/8000 [00:03<00:00, 2364.70draws/s]\n",
      "Auto-assigning NUTS sampler...\n",
      "Initializing NUTS using jitter+adapt_diag...\n"
     ]
    },
    {
     "name": "stdout",
     "output_type": "stream",
     "text": [
      "542031-542022-54752708\n"
     ]
    },
    {
     "name": "stderr",
     "output_type": "stream",
     "text": [
      "Multiprocess sampling (2 chains in 2 jobs)\n",
      "NUTS: [logk]\n",
      "Sampling 2 chains: 100%|██████████| 8000/8000 [00:03<00:00, 2095.31draws/s]\n",
      "The number of effective samples is smaller than 25% for some parameters.\n",
      "Auto-assigning NUTS sampler...\n",
      "Initializing NUTS using jitter+adapt_diag...\n"
     ]
    },
    {
     "name": "stdout",
     "output_type": "stream",
     "text": [
      "542031-542022-54755107\n"
     ]
    },
    {
     "name": "stderr",
     "output_type": "stream",
     "text": [
      "Multiprocess sampling (2 chains in 2 jobs)\n",
      "NUTS: [logk]\n",
      "Sampling 2 chains: 100%|██████████| 8000/8000 [00:03<00:00, 2513.07draws/s]\n",
      "The number of effective samples is smaller than 25% for some parameters.\n",
      "Auto-assigning NUTS sampler...\n",
      "Initializing NUTS using jitter+adapt_diag...\n"
     ]
    },
    {
     "name": "stdout",
     "output_type": "stream",
     "text": [
      "542031-542022-54755038\n"
     ]
    },
    {
     "name": "stderr",
     "output_type": "stream",
     "text": [
      "Multiprocess sampling (2 chains in 2 jobs)\n",
      "NUTS: [logk]\n",
      "Sampling 2 chains: 100%|██████████| 8000/8000 [00:03<00:00, 2559.98draws/s]\n",
      "Auto-assigning NUTS sampler...\n",
      "Initializing NUTS using jitter+adapt_diag...\n"
     ]
    },
    {
     "name": "stdout",
     "output_type": "stream",
     "text": [
      "542031-542022-54755743\n"
     ]
    },
    {
     "name": "stderr",
     "output_type": "stream",
     "text": [
      "Multiprocess sampling (2 chains in 2 jobs)\n",
      "NUTS: [logk]\n",
      "Sampling 2 chains: 100%|██████████| 8000/8000 [00:03<00:00, 2375.53draws/s]\n",
      "Auto-assigning NUTS sampler...\n",
      "Initializing NUTS using jitter+adapt_diag...\n"
     ]
    },
    {
     "name": "stdout",
     "output_type": "stream",
     "text": [
      "542031-542022-54755767\n"
     ]
    },
    {
     "name": "stderr",
     "output_type": "stream",
     "text": [
      "Multiprocess sampling (2 chains in 2 jobs)\n",
      "NUTS: [logk]\n",
      "Sampling 2 chains: 100%|██████████| 8000/8000 [00:03<00:00, 2484.99draws/s]\n",
      "Auto-assigning NUTS sampler...\n",
      "Initializing NUTS using jitter+adapt_diag...\n"
     ]
    },
    {
     "name": "stdout",
     "output_type": "stream",
     "text": [
      "542031-542022-54756148\n"
     ]
    },
    {
     "name": "stderr",
     "output_type": "stream",
     "text": [
      "Multiprocess sampling (2 chains in 2 jobs)\n",
      "NUTS: [logk]\n",
      "Sampling 2 chains: 100%|██████████| 8000/8000 [00:04<00:00, 1997.28draws/s]\n",
      "The number of effective samples is smaller than 25% for some parameters.\n",
      "Auto-assigning NUTS sampler...\n",
      "Initializing NUTS using jitter+adapt_diag...\n"
     ]
    },
    {
     "name": "stdout",
     "output_type": "stream",
     "text": [
      "542031-542022-54758797\n"
     ]
    },
    {
     "name": "stderr",
     "output_type": "stream",
     "text": [
      "Multiprocess sampling (2 chains in 2 jobs)\n",
      "NUTS: [logk]\n",
      "Sampling 2 chains: 100%|██████████| 8000/8000 [00:03<00:00, 2358.42draws/s]\n",
      "Auto-assigning NUTS sampler...\n",
      "Initializing NUTS using jitter+adapt_diag...\n"
     ]
    },
    {
     "name": "stdout",
     "output_type": "stream",
     "text": [
      "542031-542022-54761025\n"
     ]
    },
    {
     "name": "stderr",
     "output_type": "stream",
     "text": [
      "Multiprocess sampling (2 chains in 2 jobs)\n",
      "NUTS: [logk]\n",
      "Sampling 2 chains: 100%|██████████| 8000/8000 [00:03<00:00, 2367.47draws/s]\n",
      "Auto-assigning NUTS sampler...\n",
      "Initializing NUTS using jitter+adapt_diag...\n"
     ]
    },
    {
     "name": "stdout",
     "output_type": "stream",
     "text": [
      "542031-542022-54761888\n"
     ]
    },
    {
     "name": "stderr",
     "output_type": "stream",
     "text": [
      "Multiprocess sampling (2 chains in 2 jobs)\n",
      "NUTS: [logk]\n",
      "Sampling 2 chains: 100%|██████████| 8000/8000 [00:03<00:00, 2419.74draws/s]\n",
      "Auto-assigning NUTS sampler...\n",
      "Initializing NUTS using jitter+adapt_diag...\n"
     ]
    },
    {
     "name": "stdout",
     "output_type": "stream",
     "text": [
      "542031-542022-54767697\n"
     ]
    },
    {
     "name": "stderr",
     "output_type": "stream",
     "text": [
      "Multiprocess sampling (2 chains in 2 jobs)\n",
      "NUTS: [logk]\n",
      "Sampling 2 chains: 100%|██████████| 8000/8000 [00:03<00:00, 2303.77draws/s]\n",
      "Auto-assigning NUTS sampler...\n",
      "Initializing NUTS using jitter+adapt_diag...\n"
     ]
    },
    {
     "name": "stdout",
     "output_type": "stream",
     "text": [
      "542031-542022-54767990\n"
     ]
    },
    {
     "name": "stderr",
     "output_type": "stream",
     "text": [
      "Multiprocess sampling (2 chains in 2 jobs)\n",
      "NUTS: [logk]\n",
      "Sampling 2 chains: 100%|██████████| 8000/8000 [00:03<00:00, 2225.64draws/s]\n",
      "The number of effective samples is smaller than 25% for some parameters.\n",
      "Auto-assigning NUTS sampler...\n",
      "Initializing NUTS using jitter+adapt_diag...\n"
     ]
    },
    {
     "name": "stdout",
     "output_type": "stream",
     "text": [
      "542031-542022-54772379\n"
     ]
    },
    {
     "name": "stderr",
     "output_type": "stream",
     "text": [
      "Multiprocess sampling (2 chains in 2 jobs)\n",
      "NUTS: [logk]\n",
      "Sampling 2 chains: 100%|██████████| 8000/8000 [00:03<00:00, 2169.49draws/s]\n",
      "The number of effective samples is smaller than 25% for some parameters.\n",
      "Auto-assigning NUTS sampler...\n",
      "Initializing NUTS using jitter+adapt_diag...\n"
     ]
    },
    {
     "name": "stdout",
     "output_type": "stream",
     "text": [
      "542031-542022-54773817\n"
     ]
    },
    {
     "name": "stderr",
     "output_type": "stream",
     "text": [
      "Multiprocess sampling (2 chains in 2 jobs)\n",
      "NUTS: [logk]\n",
      "Sampling 2 chains: 100%|██████████| 8000/8000 [00:03<00:00, 2195.48draws/s]\n",
      "The number of effective samples is smaller than 25% for some parameters.\n",
      "Auto-assigning NUTS sampler...\n",
      "Initializing NUTS using jitter+adapt_diag...\n"
     ]
    },
    {
     "name": "stdout",
     "output_type": "stream",
     "text": [
      "542031-542022-54774590\n"
     ]
    },
    {
     "name": "stderr",
     "output_type": "stream",
     "text": [
      "Multiprocess sampling (2 chains in 2 jobs)\n",
      "NUTS: [logk]\n",
      "Sampling 2 chains: 100%|██████████| 8000/8000 [00:04<00:00, 1910.78draws/s]\n",
      "The number of effective samples is smaller than 25% for some parameters.\n",
      "Auto-assigning NUTS sampler...\n",
      "Initializing NUTS using jitter+adapt_diag...\n"
     ]
    },
    {
     "name": "stdout",
     "output_type": "stream",
     "text": [
      "542031-542022-54775482\n"
     ]
    },
    {
     "name": "stderr",
     "output_type": "stream",
     "text": [
      "Multiprocess sampling (2 chains in 2 jobs)\n",
      "NUTS: [logk]\n",
      "Sampling 2 chains: 100%|██████████| 8000/8000 [00:03<00:00, 2224.66draws/s]\n",
      "The number of effective samples is smaller than 25% for some parameters.\n",
      "Auto-assigning NUTS sampler...\n",
      "Initializing NUTS using jitter+adapt_diag...\n"
     ]
    },
    {
     "name": "stdout",
     "output_type": "stream",
     "text": [
      "542031-542022-54781090\n"
     ]
    },
    {
     "name": "stderr",
     "output_type": "stream",
     "text": [
      "Multiprocess sampling (2 chains in 2 jobs)\n",
      "NUTS: [logk]\n",
      "Sampling 2 chains: 100%|██████████| 8000/8000 [00:03<00:00, 2367.39draws/s]\n",
      "Auto-assigning NUTS sampler...\n",
      "Initializing NUTS using jitter+adapt_diag...\n"
     ]
    },
    {
     "name": "stdout",
     "output_type": "stream",
     "text": [
      "542031-542022-54782153\n"
     ]
    },
    {
     "name": "stderr",
     "output_type": "stream",
     "text": [
      "Multiprocess sampling (2 chains in 2 jobs)\n",
      "NUTS: [logk]\n",
      "Sampling 2 chains: 100%|██████████| 8000/8000 [00:03<00:00, 2201.23draws/s]\n",
      "The number of effective samples is smaller than 25% for some parameters.\n",
      "Auto-assigning NUTS sampler...\n",
      "Initializing NUTS using jitter+adapt_diag...\n"
     ]
    },
    {
     "name": "stdout",
     "output_type": "stream",
     "text": [
      "542031-542022-54785536\n"
     ]
    },
    {
     "name": "stderr",
     "output_type": "stream",
     "text": [
      "Multiprocess sampling (2 chains in 2 jobs)\n",
      "NUTS: [logk]\n",
      "Sampling 2 chains: 100%|██████████| 8000/8000 [00:03<00:00, 2344.94draws/s]\n",
      "Auto-assigning NUTS sampler...\n",
      "Initializing NUTS using jitter+adapt_diag...\n"
     ]
    },
    {
     "name": "stdout",
     "output_type": "stream",
     "text": [
      "542031-542022-54788489\n"
     ]
    },
    {
     "name": "stderr",
     "output_type": "stream",
     "text": [
      "Multiprocess sampling (2 chains in 2 jobs)\n",
      "NUTS: [logk]\n",
      "Sampling 2 chains: 100%|██████████| 8000/8000 [00:03<00:00, 2185.25draws/s]\n",
      "The number of effective samples is smaller than 25% for some parameters.\n",
      "Auto-assigning NUTS sampler...\n",
      "Initializing NUTS using jitter+adapt_diag...\n"
     ]
    },
    {
     "name": "stdout",
     "output_type": "stream",
     "text": [
      "542031-542022-54788792\n"
     ]
    },
    {
     "name": "stderr",
     "output_type": "stream",
     "text": [
      "Multiprocess sampling (2 chains in 2 jobs)\n",
      "NUTS: [logk]\n",
      "Sampling 2 chains: 100%|██████████| 8000/8000 [00:03<00:00, 2397.47draws/s]\n",
      "Auto-assigning NUTS sampler...\n",
      "Initializing NUTS using jitter+adapt_diag...\n"
     ]
    },
    {
     "name": "stdout",
     "output_type": "stream",
     "text": [
      "542031-542022-54796704\n"
     ]
    },
    {
     "name": "stderr",
     "output_type": "stream",
     "text": [
      "Multiprocess sampling (2 chains in 2 jobs)\n",
      "NUTS: [logk]\n",
      "Sampling 2 chains: 100%|██████████| 8000/8000 [00:03<00:00, 2211.76draws/s]\n",
      "The acceptance probability does not match the target. It is 0.8981035635883693, but should be close to 0.95. Try to increase the number of tuning steps.\n",
      "The number of effective samples is smaller than 25% for some parameters.\n",
      "Auto-assigning NUTS sampler...\n",
      "Initializing NUTS using jitter+adapt_diag...\n"
     ]
    },
    {
     "name": "stdout",
     "output_type": "stream",
     "text": [
      "542031-542022-54797579\n"
     ]
    },
    {
     "name": "stderr",
     "output_type": "stream",
     "text": [
      "Multiprocess sampling (2 chains in 2 jobs)\n",
      "NUTS: [logk]\n",
      "Sampling 2 chains: 100%|██████████| 8000/8000 [00:03<00:00, 2250.88draws/s]\n",
      "Auto-assigning NUTS sampler...\n",
      "Initializing NUTS using jitter+adapt_diag...\n"
     ]
    },
    {
     "name": "stdout",
     "output_type": "stream",
     "text": [
      "542031-542022-54815098\n"
     ]
    },
    {
     "name": "stderr",
     "output_type": "stream",
     "text": [
      "Multiprocess sampling (2 chains in 2 jobs)\n",
      "NUTS: [logk]\n",
      "Sampling 2 chains: 100%|██████████| 8000/8000 [00:03<00:00, 2148.52draws/s]\n",
      "Auto-assigning NUTS sampler...\n",
      "Initializing NUTS using jitter+adapt_diag...\n"
     ]
    },
    {
     "name": "stdout",
     "output_type": "stream",
     "text": [
      "542031-542022-54816313\n"
     ]
    },
    {
     "name": "stderr",
     "output_type": "stream",
     "text": [
      "Multiprocess sampling (2 chains in 2 jobs)\n",
      "NUTS: [logk]\n",
      "Sampling 2 chains: 100%|██████████| 8000/8000 [00:04<00:00, 1953.15draws/s]\n",
      "The number of effective samples is smaller than 25% for some parameters.\n",
      "Auto-assigning NUTS sampler...\n",
      "Initializing NUTS using jitter+adapt_diag...\n"
     ]
    },
    {
     "name": "stdout",
     "output_type": "stream",
     "text": [
      "542031-542022-54817808\n"
     ]
    },
    {
     "name": "stderr",
     "output_type": "stream",
     "text": [
      "Multiprocess sampling (2 chains in 2 jobs)\n",
      "NUTS: [logk]\n",
      "Sampling 2 chains: 100%|██████████| 8000/8000 [00:04<00:00, 1961.05draws/s]\n",
      "The number of effective samples is smaller than 25% for some parameters.\n",
      "Auto-assigning NUTS sampler...\n",
      "Initializing NUTS using jitter+adapt_diag...\n"
     ]
    },
    {
     "name": "stdout",
     "output_type": "stream",
     "text": [
      "542031-542022-54820090\n"
     ]
    },
    {
     "name": "stderr",
     "output_type": "stream",
     "text": [
      "Multiprocess sampling (2 chains in 2 jobs)\n",
      "NUTS: [logk]\n",
      "Sampling 2 chains: 100%|██████████| 8000/8000 [00:03<00:00, 2368.75draws/s]\n",
      "Auto-assigning NUTS sampler...\n",
      "Initializing NUTS using jitter+adapt_diag...\n"
     ]
    },
    {
     "name": "stdout",
     "output_type": "stream",
     "text": [
      "542031-542022-54819809\n"
     ]
    },
    {
     "name": "stderr",
     "output_type": "stream",
     "text": [
      "Multiprocess sampling (2 chains in 2 jobs)\n",
      "NUTS: [logk]\n",
      "Sampling 2 chains: 100%|██████████| 8000/8000 [00:03<00:00, 2287.06draws/s]\n",
      "The number of effective samples is smaller than 25% for some parameters.\n",
      "Auto-assigning NUTS sampler...\n",
      "Initializing NUTS using jitter+adapt_diag...\n"
     ]
    },
    {
     "name": "stdout",
     "output_type": "stream",
     "text": [
      "542031-542022-54820829\n"
     ]
    },
    {
     "name": "stderr",
     "output_type": "stream",
     "text": [
      "Multiprocess sampling (2 chains in 2 jobs)\n",
      "NUTS: [logk]\n",
      "Sampling 2 chains: 100%|██████████| 8000/8000 [00:03<00:00, 2273.62draws/s]\n",
      "Auto-assigning NUTS sampler...\n",
      "Initializing NUTS using jitter+adapt_diag...\n"
     ]
    },
    {
     "name": "stdout",
     "output_type": "stream",
     "text": [
      "542031-542022-54821968\n"
     ]
    },
    {
     "name": "stderr",
     "output_type": "stream",
     "text": [
      "Multiprocess sampling (2 chains in 2 jobs)\n",
      "NUTS: [logk]\n",
      "Sampling 2 chains: 100%|██████████| 8000/8000 [00:03<00:00, 2296.97draws/s]\n",
      "The number of effective samples is smaller than 25% for some parameters.\n",
      "Auto-assigning NUTS sampler...\n",
      "Initializing NUTS using jitter+adapt_diag...\n"
     ]
    },
    {
     "name": "stdout",
     "output_type": "stream",
     "text": [
      "542031-542022-54822091\n"
     ]
    },
    {
     "name": "stderr",
     "output_type": "stream",
     "text": [
      "Multiprocess sampling (2 chains in 2 jobs)\n",
      "NUTS: [logk]\n",
      "Sampling 2 chains: 100%|██████████| 8000/8000 [00:03<00:00, 2480.93draws/s]\n",
      "Auto-assigning NUTS sampler...\n",
      "Initializing NUTS using jitter+adapt_diag...\n"
     ]
    },
    {
     "name": "stdout",
     "output_type": "stream",
     "text": [
      "542031-542022-54822753\n"
     ]
    },
    {
     "name": "stderr",
     "output_type": "stream",
     "text": [
      "Multiprocess sampling (2 chains in 2 jobs)\n",
      "NUTS: [logk]\n",
      "Sampling 2 chains: 100%|██████████| 8000/8000 [00:03<00:00, 2167.20draws/s]\n",
      "The number of effective samples is smaller than 25% for some parameters.\n",
      "Auto-assigning NUTS sampler...\n",
      "Initializing NUTS using jitter+adapt_diag...\n"
     ]
    },
    {
     "name": "stdout",
     "output_type": "stream",
     "text": [
      "542031-542022-54823066\n"
     ]
    },
    {
     "name": "stderr",
     "output_type": "stream",
     "text": [
      "Multiprocess sampling (2 chains in 2 jobs)\n",
      "NUTS: [logk]\n",
      "Sampling 2 chains: 100%|██████████| 8000/8000 [00:03<00:00, 2169.67draws/s]\n",
      "The number of effective samples is smaller than 25% for some parameters.\n",
      "Auto-assigning NUTS sampler...\n",
      "Initializing NUTS using jitter+adapt_diag...\n"
     ]
    },
    {
     "name": "stdout",
     "output_type": "stream",
     "text": [
      "542031-542022-54823528\n"
     ]
    },
    {
     "name": "stderr",
     "output_type": "stream",
     "text": [
      "Multiprocess sampling (2 chains in 2 jobs)\n",
      "NUTS: [logk]\n",
      "Sampling 2 chains: 100%|██████████| 8000/8000 [00:03<00:00, 2412.67draws/s]\n",
      "Auto-assigning NUTS sampler...\n",
      "Initializing NUTS using jitter+adapt_diag...\n"
     ]
    },
    {
     "name": "stdout",
     "output_type": "stream",
     "text": [
      "542031-542022-54823985\n"
     ]
    },
    {
     "name": "stderr",
     "output_type": "stream",
     "text": [
      "Multiprocess sampling (2 chains in 2 jobs)\n",
      "NUTS: [logk]\n",
      "Sampling 2 chains: 100%|██████████| 8000/8000 [00:03<00:00, 2402.64draws/s]\n",
      "Auto-assigning NUTS sampler...\n",
      "Initializing NUTS using jitter+adapt_diag...\n"
     ]
    },
    {
     "name": "stdout",
     "output_type": "stream",
     "text": [
      "542031-542022-54825031\n"
     ]
    },
    {
     "name": "stderr",
     "output_type": "stream",
     "text": [
      "Multiprocess sampling (2 chains in 2 jobs)\n",
      "NUTS: [logk]\n",
      "Sampling 2 chains: 100%|██████████| 8000/8000 [00:03<00:00, 2370.30draws/s]\n",
      "Auto-assigning NUTS sampler...\n",
      "Initializing NUTS using jitter+adapt_diag...\n"
     ]
    },
    {
     "name": "stdout",
     "output_type": "stream",
     "text": [
      "542031-542022-54825474\n"
     ]
    },
    {
     "name": "stderr",
     "output_type": "stream",
     "text": [
      "Multiprocess sampling (2 chains in 2 jobs)\n",
      "NUTS: [logk]\n",
      "Sampling 2 chains: 100%|██████████| 8000/8000 [00:03<00:00, 2201.72draws/s]\n",
      "The acceptance probability does not match the target. It is 0.9067624502867934, but should be close to 0.95. Try to increase the number of tuning steps.\n",
      "Auto-assigning NUTS sampler...\n",
      "Initializing NUTS using jitter+adapt_diag...\n"
     ]
    },
    {
     "name": "stdout",
     "output_type": "stream",
     "text": [
      "542031-542022-54825781\n"
     ]
    },
    {
     "name": "stderr",
     "output_type": "stream",
     "text": [
      "Multiprocess sampling (2 chains in 2 jobs)\n",
      "NUTS: [logk]\n",
      "Sampling 2 chains: 100%|██████████| 8000/8000 [00:03<00:00, 2295.70draws/s]\n",
      "Auto-assigning NUTS sampler...\n",
      "Initializing NUTS using jitter+adapt_diag...\n"
     ]
    },
    {
     "name": "stdout",
     "output_type": "stream",
     "text": [
      "542031-542022-54825884\n"
     ]
    },
    {
     "name": "stderr",
     "output_type": "stream",
     "text": [
      "Multiprocess sampling (2 chains in 2 jobs)\n",
      "NUTS: [logk]\n",
      "Sampling 2 chains: 100%|██████████| 8000/8000 [00:03<00:00, 2362.92draws/s]\n",
      "Auto-assigning NUTS sampler...\n",
      "Initializing NUTS using jitter+adapt_diag...\n"
     ]
    },
    {
     "name": "stdout",
     "output_type": "stream",
     "text": [
      "542031-542022-54826837\n"
     ]
    },
    {
     "name": "stderr",
     "output_type": "stream",
     "text": [
      "Multiprocess sampling (2 chains in 2 jobs)\n",
      "NUTS: [logk]\n",
      "Sampling 2 chains: 100%|██████████| 8000/8000 [00:03<00:00, 2177.01draws/s]\n",
      "The acceptance probability does not match the target. It is 0.8918986299891415, but should be close to 0.95. Try to increase the number of tuning steps.\n",
      "The number of effective samples is smaller than 25% for some parameters.\n",
      "Auto-assigning NUTS sampler...\n",
      "Initializing NUTS using jitter+adapt_diag...\n"
     ]
    },
    {
     "name": "stdout",
     "output_type": "stream",
     "text": [
      "542031-542022-54827825\n"
     ]
    },
    {
     "name": "stderr",
     "output_type": "stream",
     "text": [
      "Multiprocess sampling (2 chains in 2 jobs)\n",
      "NUTS: [logk]\n",
      "Sampling 2 chains: 100%|██████████| 8000/8000 [00:03<00:00, 2237.74draws/s]\n",
      "The number of effective samples is smaller than 25% for some parameters.\n",
      "Auto-assigning NUTS sampler...\n",
      "Initializing NUTS using jitter+adapt_diag...\n"
     ]
    },
    {
     "name": "stdout",
     "output_type": "stream",
     "text": [
      "542031-542022-54829412\n"
     ]
    },
    {
     "name": "stderr",
     "output_type": "stream",
     "text": [
      "Multiprocess sampling (2 chains in 2 jobs)\n",
      "NUTS: [logk]\n",
      "Sampling 2 chains: 100%|██████████| 8000/8000 [00:03<00:00, 2291.66draws/s]\n",
      "Auto-assigning NUTS sampler...\n",
      "Initializing NUTS using jitter+adapt_diag...\n"
     ]
    },
    {
     "name": "stdout",
     "output_type": "stream",
     "text": [
      "542031-542022-54829918\n"
     ]
    },
    {
     "name": "stderr",
     "output_type": "stream",
     "text": [
      "Multiprocess sampling (2 chains in 2 jobs)\n",
      "NUTS: [logk]\n",
      "Sampling 2 chains: 100%|██████████| 8000/8000 [00:03<00:00, 2268.98draws/s]\n",
      "Auto-assigning NUTS sampler...\n",
      "Initializing NUTS using jitter+adapt_diag...\n"
     ]
    },
    {
     "name": "stdout",
     "output_type": "stream",
     "text": [
      "542031-542022-54830626\n"
     ]
    },
    {
     "name": "stderr",
     "output_type": "stream",
     "text": [
      "Multiprocess sampling (2 chains in 2 jobs)\n",
      "NUTS: [logk]\n",
      "Sampling 2 chains: 100%|██████████| 8000/8000 [00:03<00:00, 2250.31draws/s]\n",
      "The number of effective samples is smaller than 25% for some parameters.\n",
      "Auto-assigning NUTS sampler...\n",
      "Initializing NUTS using jitter+adapt_diag...\n"
     ]
    },
    {
     "name": "stdout",
     "output_type": "stream",
     "text": [
      "542031-542022-54831106\n"
     ]
    },
    {
     "name": "stderr",
     "output_type": "stream",
     "text": [
      "Multiprocess sampling (2 chains in 2 jobs)\n",
      "NUTS: [logk]\n",
      "Sampling 2 chains: 100%|██████████| 8000/8000 [00:03<00:00, 2260.62draws/s]\n",
      "The acceptance probability does not match the target. It is 0.8918986299891415, but should be close to 0.95. Try to increase the number of tuning steps.\n",
      "The number of effective samples is smaller than 25% for some parameters.\n",
      "Auto-assigning NUTS sampler...\n",
      "Initializing NUTS using jitter+adapt_diag...\n"
     ]
    },
    {
     "name": "stdout",
     "output_type": "stream",
     "text": [
      "542031-542022-54831756\n"
     ]
    },
    {
     "name": "stderr",
     "output_type": "stream",
     "text": [
      "Multiprocess sampling (2 chains in 2 jobs)\n",
      "NUTS: [logk]\n",
      "Sampling 2 chains: 100%|██████████| 8000/8000 [00:03<00:00, 2429.86draws/s]\n",
      "Auto-assigning NUTS sampler...\n",
      "Initializing NUTS using jitter+adapt_diag...\n"
     ]
    },
    {
     "name": "stdout",
     "output_type": "stream",
     "text": [
      "542031-542022-54838882\n"
     ]
    },
    {
     "name": "stderr",
     "output_type": "stream",
     "text": [
      "Multiprocess sampling (2 chains in 2 jobs)\n",
      "NUTS: [logk]\n",
      "Sampling 2 chains: 100%|██████████| 8000/8000 [00:03<00:00, 2452.19draws/s]\n",
      "The number of effective samples is smaller than 25% for some parameters.\n",
      "Auto-assigning NUTS sampler...\n",
      "Initializing NUTS using jitter+adapt_diag...\n"
     ]
    },
    {
     "name": "stdout",
     "output_type": "stream",
     "text": [
      "542031-542022-54846113\n"
     ]
    },
    {
     "name": "stderr",
     "output_type": "stream",
     "text": [
      "Multiprocess sampling (2 chains in 2 jobs)\n",
      "NUTS: [logk]\n",
      "Sampling 2 chains: 100%|██████████| 8000/8000 [00:03<00:00, 2334.54draws/s]\n",
      "The number of effective samples is smaller than 25% for some parameters.\n",
      "Auto-assigning NUTS sampler...\n",
      "Initializing NUTS using jitter+adapt_diag...\n"
     ]
    },
    {
     "name": "stdout",
     "output_type": "stream",
     "text": [
      "542031-542022-54851374\n"
     ]
    },
    {
     "name": "stderr",
     "output_type": "stream",
     "text": [
      "Multiprocess sampling (2 chains in 2 jobs)\n",
      "NUTS: [logk]\n",
      "Sampling 2 chains: 100%|██████████| 8000/8000 [00:03<00:00, 2193.17draws/s]\n",
      "The number of effective samples is smaller than 25% for some parameters.\n",
      "Auto-assigning NUTS sampler...\n",
      "Initializing NUTS using jitter+adapt_diag...\n"
     ]
    },
    {
     "name": "stdout",
     "output_type": "stream",
     "text": [
      "542031-542022-54940044\n"
     ]
    },
    {
     "name": "stderr",
     "output_type": "stream",
     "text": [
      "Multiprocess sampling (2 chains in 2 jobs)\n",
      "NUTS: [logk]\n",
      "Sampling 2 chains: 100%|██████████| 8000/8000 [00:03<00:00, 2318.55draws/s]\n",
      "Auto-assigning NUTS sampler...\n",
      "Initializing NUTS using jitter+adapt_diag...\n"
     ]
    },
    {
     "name": "stdout",
     "output_type": "stream",
     "text": [
      "542031-542022-54967941\n"
     ]
    },
    {
     "name": "stderr",
     "output_type": "stream",
     "text": [
      "Multiprocess sampling (2 chains in 2 jobs)\n",
      "NUTS: [logk]\n",
      "Sampling 2 chains: 100%|██████████| 8000/8000 [00:03<00:00, 2263.42draws/s]\n",
      "Auto-assigning NUTS sampler...\n",
      "Initializing NUTS using jitter+adapt_diag...\n"
     ]
    },
    {
     "name": "stdout",
     "output_type": "stream",
     "text": [
      "542031-542022-54999442\n"
     ]
    },
    {
     "name": "stderr",
     "output_type": "stream",
     "text": [
      "Multiprocess sampling (2 chains in 2 jobs)\n",
      "NUTS: [logk]\n",
      "Sampling 2 chains: 100%|██████████| 8000/8000 [00:03<00:00, 2176.11draws/s]\n",
      "The number of effective samples is smaller than 25% for some parameters.\n",
      "Auto-assigning NUTS sampler...\n",
      "Initializing NUTS using jitter+adapt_diag...\n"
     ]
    },
    {
     "name": "stdout",
     "output_type": "stream",
     "text": [
      "542031-542022-55218530\n"
     ]
    },
    {
     "name": "stderr",
     "output_type": "stream",
     "text": [
      "Multiprocess sampling (2 chains in 2 jobs)\n",
      "NUTS: [logk]\n",
      "Sampling 2 chains: 100%|██████████| 8000/8000 [00:03<00:00, 2085.41draws/s]\n",
      "The number of effective samples is smaller than 25% for some parameters.\n",
      "Auto-assigning NUTS sampler...\n",
      "Initializing NUTS using jitter+adapt_diag...\n"
     ]
    },
    {
     "name": "stdout",
     "output_type": "stream",
     "text": [
      "542031-542022-55378674\n"
     ]
    },
    {
     "name": "stderr",
     "output_type": "stream",
     "text": [
      "Multiprocess sampling (2 chains in 2 jobs)\n",
      "NUTS: [logk]\n",
      "Sampling 2 chains: 100%|██████████| 8000/8000 [00:04<00:00, 1874.03draws/s]\n"
     ]
    }
   ],
   "source": [
    "n_participants = data.shape[0]\n",
    "\n",
    "should_plot = False\n",
    "\n",
    "pid = []\n",
    "logk_wcq = []\n",
    "\n",
    "for i in range(n_participants):\n",
    "    id_num, wcq_trial_data = extract_WCQ_data(data, i)\n",
    "    print(id_num)\n",
    "    logk_wcq_value = score_participant(wcq_trial_data, plot=should_plot)\n",
    "    logk_wcq.append(logk_wcq_value)\n",
    "    pid.append(id_num)\n",
    "\n",
    "results = pd.DataFrame({\"URN\": pid, \"logk_wcq\": logk_wcq})"
   ]
  },
  {
   "cell_type": "code",
   "execution_count": 24,
   "metadata": {},
   "outputs": [],
   "source": [
    "# merge with original data file\n",
    "data = pd.merge(data, results, on=\"URN\")"
   ]
  },
  {
   "cell_type": "markdown",
   "metadata": {},
   "source": [
    "## Wrap up"
   ]
  },
  {
   "cell_type": "code",
   "execution_count": 25,
   "metadata": {},
   "outputs": [],
   "source": [
    "# remove raw data columns, no longer needed\n",
    "data = data[data.columns.drop(list(data.filter(regex=\"WCQ\")))]\n",
    "data = data[data.columns.drop(list(data.filter(regex=\"FCQ\")))]"
   ]
  },
  {
   "cell_type": "code",
   "execution_count": 26,
   "metadata": {},
   "outputs": [],
   "source": [
    "# export\n",
    "data.to_csv(\"study2_final_data.csv\", index=False)"
   ]
  },
  {
   "cell_type": "code",
   "execution_count": 27,
   "metadata": {},
   "outputs": [
    {
     "data": {
      "image/png": "[encoded data removed]",
      "text/plain": [
       "<Figure size 864x288 with 2 Axes>"
      ]
     },
     "metadata": {
      "image/png": {
       "height": 293,
       "width": 735
      },
      "needs_background": "light"
     },
     "output_type": "display_data"
    }
   ],
   "source": [
    "fig, ax = plt.subplots(1, 2, figsize=(12, 4), sharex=False)\n",
    "\n",
    "bins = 21\n",
    "\n",
    "ax[0].hist(logk_wcq, bins)\n",
    "ax[0].set(\n",
    "    xlabel=\"$\\ln(k)$ [k in units of days$^{-1}$]\", ylabel=\"frequency\", title=\"WCQ\"\n",
    ")\n",
    "\n",
    "ax[1].hist(logk_fcq, bins)\n",
    "ax[1].set(\n",
    "    xlabel=\"$\\ln(k)$ [k in units of hours$^{-1}$]\", ylabel=\"frequency\", title=\"FCQ\"\n",
    ")\n",
    "\n",
    "# increased space between rows\n",
    "plt.subplots_adjust(hspace=0.4)\n",
    "\n",
    "plt.savefig(\"../study2_fit_histograms.pdf\", bbox_inches=\"tight\", dpi=300)"
   ]
  },
  {
   "cell_type": "code",
   "execution_count": null,
   "metadata": {},
   "outputs": [],
   "source": []
  }
 ],
 "metadata": {
  "kernelspec": {
   "display_name": "Python 3",
   "language": "python",
   "name": "python3"
  },
  "language_info": {
   "codemirror_mode": {
    "name": "ipython",
    "version": 3
   },
   "file_extension": ".py",
   "mimetype": "text/x-python",
   "name": "python",
   "nbconvert_exporter": "python",
   "pygments_lexer": "ipython3",
   "version": "3.7.4"
  }
 },
 "nbformat": 4,
 "nbformat_minor": 4
}
